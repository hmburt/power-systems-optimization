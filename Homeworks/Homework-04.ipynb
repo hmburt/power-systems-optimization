{
 "cells": [
  {
   "cell_type": "markdown",
   "metadata": {},
   "source": [
    "# Homework 4"
   ]
  },
  {
   "cell_type": "markdown",
   "metadata": {},
   "source": [
    "This Notebook builds on the DCOPF model introduced in [Notebook 6](https://github.com/east-winds/power-systems-optimization/tree/master/Notebooks) and incorporates some elements of Economic Dispatch introduced in [Notebook 4](https://github.com/east-winds/power-systems-optimization/tree/master/Notebooks).\n",
    "\n",
    "First, load (or install if necessary) a set of packages you'll need for this assignment..."
   ]
  },
  {
   "cell_type": "code",
   "execution_count": 1,
   "metadata": {},
   "outputs": [
    {
     "name": "stderr",
     "output_type": "stream",
     "text": [
      "┌ Warning: For saving to png with the `Plotly` backend `PlotlyBase` and `PlotlyKaleido` need to be installed.\n",
      "│   err = ArgumentError(\"Package PlotlyBase not found in current path.\\n- Run `import Pkg; Pkg.add(\\\"PlotlyBase\\\")` to install the PlotlyBase package.\")\n",
      "└ @ Plots /Users/haydenburt/.julia/packages/Plots/4UTBj/src/backends.jl:425\n"
     ]
    }
   ],
   "source": [
    "using JuMP\n",
    "using GLPK\n",
    "using DataFrames\n",
    "using CSV\n",
    "using Plots; plotly();"
   ]
  },
  {
   "cell_type": "markdown",
   "metadata": {},
   "source": [
    "## Question 1: Modifying IEEE-14\n",
    "\n",
    "**A. Increased generation costs**\n",
    "\n",
    "Copy the IEEE 14 bus system and DCOPF solver function from Notebook 6. In addition, add the following line to the return call of the function:\n",
    "```julia\n",
    "status = termination_status(DCOPF)\n",
    "```\n",
    "This tells you the solver termination status for the problem: e.g. was an optimal solution found, was the solution infeasible, was it unbounded, etc.\n",
    "\n",
    "Make the following change to the system:\n",
    "\n",
    "- Increase the variable cost of Generator 1 to \\$30 / MWh\n",
    "\n",
    "Run the DCOPF and output generation, flows, and prices."
   ]
  },
  {
   "cell_type": "code",
   "execution_count": 21,
   "metadata": {},
   "outputs": [],
   "source": [
    "# IEEE 14 Bus System Copied from Notebook 6\n",
    "\n",
    "datadir = joinpath(\"..\",\"Notebooks\",\"ieee_test_cases\") \n",
    "gens = CSV.read(joinpath(datadir,\"Gen14.csv\"), DataFrame);\n",
    "lines = CSV.read(joinpath(datadir,\"Tran14.csv\"), DataFrame);\n",
    "loads = CSV.read(joinpath(datadir,\"Load14.csv\"), DataFrame);\n",
    "\n",
    "# Rename all columns to lowercase (by convention)\n",
    "for f in [gens, lines, loads]\n",
    "    rename!(f,lowercase.(names(f)))\n",
    "end\n",
    "\n",
    "# create generator ids \n",
    "gens.id = 1:nrow(gens);\n",
    "\n",
    "# create line ids \n",
    "lines.id = 1:nrow(lines);\n",
    "# add set of rows for reverse direction with same parameters\n",
    "lines2 = copy(lines)\n",
    "lines2.f = lines2.fromnode\n",
    "lines2.fromnode = lines.tonode\n",
    "lines2.tonode = lines2.f\n",
    "lines2 = lines2[:,names(lines)]\n",
    "append!(lines,lines2)\n",
    "\n",
    "# calculate simple susceptance, ignoring resistance as earlier \n",
    "lines.b = 1 ./ lines.reactance\n",
    "\n",
    "# keep only a single time period\n",
    "loads = loads[:,[\"connnode\",\"interval-1_load\"]]\n",
    "rename!(loads,\"interval-1_load\" => \"demand\");"
   ]
  },
  {
   "cell_type": "code",
   "execution_count": 22,
   "metadata": {},
   "outputs": [
    {
     "data": {
      "text/plain": [
       "dcopf_ieee (generic function with 1 method)"
      ]
     },
     "execution_count": 22,
     "metadata": {},
     "output_type": "execute_result"
    }
   ],
   "source": [
    "# Solver function from Notebook 6 w/ return call modification to include status\n",
    "\n",
    "#=\n",
    "Function to solve DC OPF problem using IEEE test cases\n",
    "Inputs:\n",
    "    gen_info -- dataframe with generator info\n",
    "    line_info -- dataframe with transmission lines info\n",
    "    loads  -- dataframe with load info\n",
    "=#\n",
    "function dcopf_ieee(gens, lines, loads)\n",
    "    DCOPF = Model(GLPK.Optimizer) # You could use Clp as well, with Clp.Optimizer\n",
    "    \n",
    "    # Define sets based on data\n",
    "      # Set of generator buses\n",
    "    G = gens.connnode\n",
    "    \n",
    "      # Set of all nodes\n",
    "    N = sort(union(unique(lines.fromnode), \n",
    "            unique(lines.tonode)))\n",
    "    \n",
    "      # sets J_i and G_i will be described using dataframe indexing below\n",
    "\n",
    "    # Define per unit base units for the system \n",
    "    # used to convert from per unit values to standard unit\n",
    "    # values (e.g. p.u. power flows to MW/MVA)\n",
    "    baseMVA = 100 # base MVA is 100 MVA for this system\n",
    "    \n",
    "    # Decision variables   \n",
    "    @variables(DCOPF, begin\n",
    "        GEN[N]  >= 0     # generation        \n",
    "        # Note: we assume Pmin = 0 for all resources for simplicty here\n",
    "        THETA[N]         # voltage phase angle of bus\n",
    "        FLOW[N,N]        # flows between all pairs of nodes\n",
    "    end)\n",
    "    \n",
    "    # Create slack bus with reference angle = 0; use bus 1 with generator\n",
    "    fix(THETA[1],0)\n",
    "                \n",
    "    # Objective function\n",
    "    @objective(DCOPF, Min, \n",
    "        sum( gens[g,:c1] * GEN[g] for g in G)\n",
    "    )\n",
    "    \n",
    "    # Supply demand balances\n",
    "    @constraint(DCOPF, cBalance[i in N], \n",
    "        sum(GEN[g] for g in gens[gens.connnode .== i,:connnode]) \n",
    "            + sum(load for load in loads[loads.connnode .== i,:demand]) \n",
    "        == sum(FLOW[i,j] for j in lines[lines.fromnode .== i,:tonode])\n",
    "    )\n",
    "\n",
    "    # Max generation constraint\n",
    "    @constraint(DCOPF, cMaxGen[g in G],\n",
    "                    GEN[g] <= gens[g,:pgmax])\n",
    "\n",
    "    # Flow constraints on each branch; \n",
    "    # In DCOPF, line flow is a function of voltage angles\n",
    "       # Create an array of references to the line constraints, \n",
    "       # which we \"fill\" below in loop\n",
    "    cLineFlows = JuMP.Containers.DenseAxisArray{Any}(undef, 1:nrow(lines)) \n",
    "    for l in 1:nrow(lines)\n",
    "        cLineFlows[l] = @constraint(DCOPF, \n",
    "            FLOW[lines[l,:fromnode],lines[l,:tonode]] == \n",
    "            baseMVA * lines[l,:b] * \n",
    "            (THETA[lines[l,:fromnode]] - THETA[lines[l,:tonode]])\n",
    "        )\n",
    "    end\n",
    "    \n",
    "    # Max line flow limits\n",
    "       # Create an array of references to the line constraints, \n",
    "       # which we \"fill\" below in loop\n",
    "    cLineLimits = JuMP.Containers.DenseAxisArray{Any}(undef, 1:nrow(lines)) \n",
    "    for l in 1:nrow(lines)\n",
    "        cLineLimits[l] = @constraint(DCOPF,\n",
    "            FLOW[lines[l,:fromnode],lines[l,:tonode]] <=\n",
    "            lines[l,:capacity]\n",
    "        ) \n",
    "    end\n",
    "\n",
    "    # Solve statement (! indicates runs in place)\n",
    "    optimize!(DCOPF)\n",
    "\n",
    "    # Output variables\n",
    "    generation = DataFrame(\n",
    "        node = gens.connnode,\n",
    "        gen = value.(GEN).data[gens.connnode]\n",
    "        )\n",
    "    \n",
    "    angles = value.(THETA).data\n",
    "    \n",
    "    flows = DataFrame(\n",
    "        fbus = lines.fromnode,\n",
    "        tbus = lines.tonode,\n",
    "        flow = baseMVA * lines.b .* (angles[lines.fromnode] .- \n",
    "                        angles[lines.tonode]))\n",
    "    test = value.(GEN)\n",
    "    \n",
    "    # We output the marginal values of the demand constraints, \n",
    "    # which will in fact be the prices to deliver power at a given bus.\n",
    "    prices = DataFrame(\n",
    "        node = N,\n",
    "        value = dual.(cBalance).data)\n",
    "    \n",
    "    # Return the solution and objective as named tuple\n",
    "    return (\n",
    "        generation = generation, \n",
    "        angles,\n",
    "        flows,\n",
    "        prices,\n",
    "        cost = objective_value(DCOPF),\n",
    "        status = termination_status(DCOPF)\n",
    "    )\n",
    "end"
   ]
  },
  {
   "cell_type": "code",
   "execution_count": 23,
   "metadata": {},
   "outputs": [
    {
     "data": {
      "text/html": [
       "<div><div style = \"float: left;\"><span>2×10 DataFrame</span></div><div style = \"clear: both;\"></div></div><div class = \"data-frame\" style = \"overflow-x: scroll;\"><table class = \"data-frame\" style = \"margin-bottom: 6px;\"><thead><tr class = \"header\"><th class = \"rowNumber\" style = \"font-weight: bold; text-align: right;\">Row</th><th style = \"text-align: left;\">connnode</th><th style = \"text-align: left;\">c2</th><th style = \"text-align: left;\">c1</th><th style = \"text-align: left;\">c0</th><th style = \"text-align: left;\">pgmax</th><th style = \"text-align: left;\">pgmin</th><th style = \"text-align: left;\">rgmax</th><th style = \"text-align: left;\">rgmin</th><th style = \"text-align: left;\">pgprev</th><th style = \"text-align: left;\">id</th></tr><tr class = \"subheader headerLastRow\"><th class = \"rowNumber\" style = \"font-weight: bold; text-align: right;\"></th><th title = \"Int64\" style = \"text-align: left;\">Int64</th><th title = \"Float64\" style = \"text-align: left;\">Float64</th><th title = \"Int64\" style = \"text-align: left;\">Int64</th><th title = \"Int64\" style = \"text-align: left;\">Int64</th><th title = \"Float64\" style = \"text-align: left;\">Float64</th><th title = \"Int64\" style = \"text-align: left;\">Int64</th><th title = \"Int64\" style = \"text-align: left;\">Int64</th><th title = \"Int64\" style = \"text-align: left;\">Int64</th><th title = \"Float64\" style = \"text-align: left;\">Float64</th><th title = \"Int64\" style = \"text-align: left;\">Int64</th></tr></thead><tbody><tr><td class = \"rowNumber\" style = \"font-weight: bold; text-align: right;\">1</td><td style = \"text-align: right;\">1</td><td style = \"text-align: right;\">0.0430293</td><td style = \"text-align: right;\">30</td><td style = \"text-align: right;\">0</td><td style = \"text-align: right;\">332.4</td><td style = \"text-align: right;\">0</td><td style = \"text-align: right;\">100</td><td style = \"text-align: right;\">-100</td><td style = \"text-align: right;\">161.619</td><td style = \"text-align: right;\">1</td></tr><tr><td class = \"rowNumber\" style = \"font-weight: bold; text-align: right;\">2</td><td style = \"text-align: right;\">2</td><td style = \"text-align: right;\">0.25</td><td style = \"text-align: right;\">20</td><td style = \"text-align: right;\">0</td><td style = \"text-align: right;\">140.0</td><td style = \"text-align: right;\">0</td><td style = \"text-align: right;\">100</td><td style = \"text-align: right;\">-100</td><td style = \"text-align: right;\">97.4704</td><td style = \"text-align: right;\">2</td></tr></tbody></table></div>"
      ],
      "text/latex": [
       "\\begin{tabular}{r|cccccccccc}\n",
       "\t& connnode & c2 & c1 & c0 & pgmax & pgmin & rgmax & rgmin & pgprev & id\\\\\n",
       "\t\\hline\n",
       "\t& Int64 & Float64 & Int64 & Int64 & Float64 & Int64 & Int64 & Int64 & Float64 & Int64\\\\\n",
       "\t\\hline\n",
       "\t1 & 1 & 0.0430293 & 30 & 0 & 332.4 & 0 & 100 & -100 & 161.619 & 1 \\\\\n",
       "\t2 & 2 & 0.25 & 20 & 0 & 140.0 & 0 & 100 & -100 & 97.4704 & 2 \\\\\n",
       "\\end{tabular}\n"
      ],
      "text/plain": [
       "\u001b[1m2×10 DataFrame\u001b[0m\n",
       "\u001b[1m Row \u001b[0m│\u001b[1m connnode \u001b[0m\u001b[1m c2        \u001b[0m\u001b[1m c1    \u001b[0m\u001b[1m c0    \u001b[0m\u001b[1m pgmax   \u001b[0m\u001b[1m pgmin \u001b[0m\u001b[1m rgmax \u001b[0m\u001b[1m rgmin \u001b[0m\u001b[1m pgprev\u001b[0m ⋯\n",
       "     │\u001b[90m Int64    \u001b[0m\u001b[90m Float64   \u001b[0m\u001b[90m Int64 \u001b[0m\u001b[90m Int64 \u001b[0m\u001b[90m Float64 \u001b[0m\u001b[90m Int64 \u001b[0m\u001b[90m Int64 \u001b[0m\u001b[90m Int64 \u001b[0m\u001b[90m Float6\u001b[0m ⋯\n",
       "─────┼──────────────────────────────────────────────────────────────────────────\n",
       "   1 │        1  0.0430293     30      0    332.4      0    100   -100  161.61 ⋯\n",
       "   2 │        2  0.25          20      0    140.0      0    100   -100   97.47\n",
       "\u001b[36m                                                               2 columns omitted\u001b[0m"
      ]
     },
     "execution_count": 23,
     "metadata": {},
     "output_type": "execute_result"
    }
   ],
   "source": [
    "# Modify Generator 1 variable cost to $30/MWh\n",
    "\n",
    "gens_newcost = copy(gens)\n",
    "gens_newcost[1,:c1] = 30\n",
    "gens_newcost"
   ]
  },
  {
   "cell_type": "code",
   "execution_count": 24,
   "metadata": {},
   "outputs": [],
   "source": [
    "solution = dcopf_ieee(gens_newcost, lines, loads);"
   ]
  },
  {
   "cell_type": "code",
   "execution_count": 25,
   "metadata": {},
   "outputs": [
    {
     "data": {
      "text/html": [
       "<div><div style = \"float: left;\"><span>2×2 DataFrame</span></div><div style = \"clear: both;\"></div></div><div class = \"data-frame\" style = \"overflow-x: scroll;\"><table class = \"data-frame\" style = \"margin-bottom: 6px;\"><thead><tr class = \"header\"><th class = \"rowNumber\" style = \"font-weight: bold; text-align: right;\">Row</th><th style = \"text-align: left;\">node</th><th style = \"text-align: left;\">gen</th></tr><tr class = \"subheader headerLastRow\"><th class = \"rowNumber\" style = \"font-weight: bold; text-align: right;\"></th><th title = \"Int64\" style = \"text-align: left;\">Int64</th><th title = \"Float64\" style = \"text-align: left;\">Float64</th></tr></thead><tbody><tr><td class = \"rowNumber\" style = \"font-weight: bold; text-align: right;\">1</td><td style = \"text-align: right;\">1</td><td style = \"text-align: right;\">119.0</td></tr><tr><td class = \"rowNumber\" style = \"font-weight: bold; text-align: right;\">2</td><td style = \"text-align: right;\">2</td><td style = \"text-align: right;\">140.0</td></tr></tbody></table></div>"
      ],
      "text/latex": [
       "\\begin{tabular}{r|cc}\n",
       "\t& node & gen\\\\\n",
       "\t\\hline\n",
       "\t& Int64 & Float64\\\\\n",
       "\t\\hline\n",
       "\t1 & 1 & 119.0 \\\\\n",
       "\t2 & 2 & 140.0 \\\\\n",
       "\\end{tabular}\n"
      ],
      "text/plain": [
       "\u001b[1m2×2 DataFrame\u001b[0m\n",
       "\u001b[1m Row \u001b[0m│\u001b[1m node  \u001b[0m\u001b[1m gen     \u001b[0m\n",
       "     │\u001b[90m Int64 \u001b[0m\u001b[90m Float64 \u001b[0m\n",
       "─────┼────────────────\n",
       "   1 │     1    119.0\n",
       "   2 │     2    140.0"
      ]
     },
     "execution_count": 25,
     "metadata": {},
     "output_type": "execute_result"
    }
   ],
   "source": [
    "solution.generation"
   ]
  },
  {
   "cell_type": "code",
   "execution_count": 26,
   "metadata": {},
   "outputs": [
    {
     "data": {
      "text/html": [
       "<div><div style = \"float: left;\"><span>40×3 DataFrame</span></div><div style = \"float: right;\"><span style = \"font-style: italic;\">15 rows omitted</span></div><div style = \"clear: both;\"></div></div><div class = \"data-frame\" style = \"overflow-x: scroll;\"><table class = \"data-frame\" style = \"margin-bottom: 6px;\"><thead><tr class = \"header\"><th class = \"rowNumber\" style = \"font-weight: bold; text-align: right;\">Row</th><th style = \"text-align: left;\">fbus</th><th style = \"text-align: left;\">tbus</th><th style = \"text-align: left;\">flow</th></tr><tr class = \"subheader headerLastRow\"><th class = \"rowNumber\" style = \"font-weight: bold; text-align: right;\"></th><th title = \"Int64\" style = \"text-align: left;\">Int64</th><th title = \"Int64\" style = \"text-align: left;\">Int64</th><th title = \"Float64\" style = \"text-align: left;\">Float64</th></tr></thead><tbody><tr><td class = \"rowNumber\" style = \"font-weight: bold; text-align: right;\">1</td><td style = \"text-align: right;\">1</td><td style = \"text-align: right;\">2</td><td style = \"text-align: right;\">64.0779</td></tr><tr><td class = \"rowNumber\" style = \"font-weight: bold; text-align: right;\">2</td><td style = \"text-align: right;\">1</td><td style = \"text-align: right;\">5</td><td style = \"text-align: right;\">54.9221</td></tr><tr><td class = \"rowNumber\" style = \"font-weight: bold; text-align: right;\">3</td><td style = \"text-align: right;\">2</td><td style = \"text-align: right;\">3</td><td style = \"text-align: right;\">72.7846</td></tr><tr><td class = \"rowNumber\" style = \"font-weight: bold; text-align: right;\">4</td><td style = \"text-align: right;\">2</td><td style = \"text-align: right;\">4</td><td style = \"text-align: right;\">60.9488</td></tr><tr><td class = \"rowNumber\" style = \"font-weight: bold; text-align: right;\">5</td><td style = \"text-align: right;\">2</td><td style = \"text-align: right;\">5</td><td style = \"text-align: right;\">48.6446</td></tr><tr><td class = \"rowNumber\" style = \"font-weight: bold; text-align: right;\">6</td><td style = \"text-align: right;\">3</td><td style = \"text-align: right;\">4</td><td style = \"text-align: right;\">-21.4154</td></tr><tr><td class = \"rowNumber\" style = \"font-weight: bold; text-align: right;\">7</td><td style = \"text-align: right;\">4</td><td style = \"text-align: right;\">5</td><td style = \"text-align: right;\">-54.3377</td></tr><tr><td class = \"rowNumber\" style = \"font-weight: bold; text-align: right;\">8</td><td style = \"text-align: right;\">4</td><td style = \"text-align: right;\">7</td><td style = \"text-align: right;\">29.274</td></tr><tr><td class = \"rowNumber\" style = \"font-weight: bold; text-align: right;\">9</td><td style = \"text-align: right;\">4</td><td style = \"text-align: right;\">9</td><td style = \"text-align: right;\">16.7971</td></tr><tr><td class = \"rowNumber\" style = \"font-weight: bold; text-align: right;\">10</td><td style = \"text-align: right;\">5</td><td style = \"text-align: right;\">6</td><td style = \"text-align: right;\">41.6289</td></tr><tr><td class = \"rowNumber\" style = \"font-weight: bold; text-align: right;\">11</td><td style = \"text-align: right;\">6</td><td style = \"text-align: right;\">11</td><td style = \"text-align: right;\">6.03097</td></tr><tr><td class = \"rowNumber\" style = \"font-weight: bold; text-align: right;\">12</td><td style = \"text-align: right;\">6</td><td style = \"text-align: right;\">12</td><td style = \"text-align: right;\">7.50493</td></tr><tr><td class = \"rowNumber\" style = \"font-weight: bold; text-align: right;\">13</td><td style = \"text-align: right;\">6</td><td style = \"text-align: right;\">13</td><td style = \"text-align: right;\">16.893</td></tr><tr><td style = \"text-align: right;\">&vellip;</td><td style = \"text-align: right;\">&vellip;</td><td style = \"text-align: right;\">&vellip;</td><td style = \"text-align: right;\">&vellip;</td></tr><tr><td class = \"rowNumber\" style = \"font-weight: bold; text-align: right;\">29</td><td style = \"text-align: right;\">9</td><td style = \"text-align: right;\">4</td><td style = \"text-align: right;\">-16.7971</td></tr><tr><td class = \"rowNumber\" style = \"font-weight: bold; text-align: right;\">30</td><td style = \"text-align: right;\">6</td><td style = \"text-align: right;\">5</td><td style = \"text-align: right;\">-41.6289</td></tr><tr><td class = \"rowNumber\" style = \"font-weight: bold; text-align: right;\">31</td><td style = \"text-align: right;\">11</td><td style = \"text-align: right;\">6</td><td style = \"text-align: right;\">-6.03097</td></tr><tr><td class = \"rowNumber\" style = \"font-weight: bold; text-align: right;\">32</td><td style = \"text-align: right;\">12</td><td style = \"text-align: right;\">6</td><td style = \"text-align: right;\">-7.50493</td></tr><tr><td class = \"rowNumber\" style = \"font-weight: bold; text-align: right;\">33</td><td style = \"text-align: right;\">13</td><td style = \"text-align: right;\">6</td><td style = \"text-align: right;\">-16.893</td></tr><tr><td class = \"rowNumber\" style = \"font-weight: bold; text-align: right;\">34</td><td style = \"text-align: right;\">8</td><td style = \"text-align: right;\">7</td><td style = \"text-align: right;\">0.0</td></tr><tr><td class = \"rowNumber\" style = \"font-weight: bold; text-align: right;\">35</td><td style = \"text-align: right;\">9</td><td style = \"text-align: right;\">7</td><td style = \"text-align: right;\">-29.274</td></tr><tr><td class = \"rowNumber\" style = \"font-weight: bold; text-align: right;\">36</td><td style = \"text-align: right;\">10</td><td style = \"text-align: right;\">9</td><td style = \"text-align: right;\">-6.46903</td></tr><tr><td class = \"rowNumber\" style = \"font-weight: bold; text-align: right;\">37</td><td style = \"text-align: right;\">14</td><td style = \"text-align: right;\">9</td><td style = \"text-align: right;\">-10.102</td></tr><tr><td class = \"rowNumber\" style = \"font-weight: bold; text-align: right;\">38</td><td style = \"text-align: right;\">11</td><td style = \"text-align: right;\">10</td><td style = \"text-align: right;\">2.53097</td></tr><tr><td class = \"rowNumber\" style = \"font-weight: bold; text-align: right;\">39</td><td style = \"text-align: right;\">13</td><td style = \"text-align: right;\">12</td><td style = \"text-align: right;\">-1.40493</td></tr><tr><td class = \"rowNumber\" style = \"font-weight: bold; text-align: right;\">40</td><td style = \"text-align: right;\">14</td><td style = \"text-align: right;\">13</td><td style = \"text-align: right;\">-4.79796</td></tr></tbody></table></div>"
      ],
      "text/latex": [
       "\\begin{tabular}{r|ccc}\n",
       "\t& fbus & tbus & flow\\\\\n",
       "\t\\hline\n",
       "\t& Int64 & Int64 & Float64\\\\\n",
       "\t\\hline\n",
       "\t1 & 1 & 2 & 64.0779 \\\\\n",
       "\t2 & 1 & 5 & 54.9221 \\\\\n",
       "\t3 & 2 & 3 & 72.7846 \\\\\n",
       "\t4 & 2 & 4 & 60.9488 \\\\\n",
       "\t5 & 2 & 5 & 48.6446 \\\\\n",
       "\t6 & 3 & 4 & -21.4154 \\\\\n",
       "\t7 & 4 & 5 & -54.3377 \\\\\n",
       "\t8 & 4 & 7 & 29.274 \\\\\n",
       "\t9 & 4 & 9 & 16.7971 \\\\\n",
       "\t10 & 5 & 6 & 41.6289 \\\\\n",
       "\t11 & 6 & 11 & 6.03097 \\\\\n",
       "\t12 & 6 & 12 & 7.50493 \\\\\n",
       "\t13 & 6 & 13 & 16.893 \\\\\n",
       "\t14 & 7 & 8 & 0.0 \\\\\n",
       "\t15 & 7 & 9 & 29.274 \\\\\n",
       "\t16 & 9 & 10 & 6.46903 \\\\\n",
       "\t17 & 9 & 14 & 10.102 \\\\\n",
       "\t18 & 10 & 11 & -2.53097 \\\\\n",
       "\t19 & 12 & 13 & 1.40493 \\\\\n",
       "\t20 & 13 & 14 & 4.79796 \\\\\n",
       "\t21 & 2 & 1 & -64.0779 \\\\\n",
       "\t22 & 5 & 1 & -54.9221 \\\\\n",
       "\t23 & 3 & 2 & -72.7846 \\\\\n",
       "\t24 & 4 & 2 & -60.9488 \\\\\n",
       "\t25 & 5 & 2 & -48.6446 \\\\\n",
       "\t26 & 4 & 3 & 21.4154 \\\\\n",
       "\t27 & 5 & 4 & 54.3377 \\\\\n",
       "\t28 & 7 & 4 & -29.274 \\\\\n",
       "\t29 & 9 & 4 & -16.7971 \\\\\n",
       "\t30 & 6 & 5 & -41.6289 \\\\\n",
       "\t$\\dots$ & $\\dots$ & $\\dots$ & $\\dots$ \\\\\n",
       "\\end{tabular}\n"
      ],
      "text/plain": [
       "\u001b[1m40×3 DataFrame\u001b[0m\n",
       "\u001b[1m Row \u001b[0m│\u001b[1m fbus  \u001b[0m\u001b[1m tbus  \u001b[0m\u001b[1m flow      \u001b[0m\n",
       "     │\u001b[90m Int64 \u001b[0m\u001b[90m Int64 \u001b[0m\u001b[90m Float64   \u001b[0m\n",
       "─────┼─────────────────────────\n",
       "   1 │     1      2   64.0779\n",
       "   2 │     1      5   54.9221\n",
       "   3 │     2      3   72.7846\n",
       "   4 │     2      4   60.9488\n",
       "   5 │     2      5   48.6446\n",
       "   6 │     3      4  -21.4154\n",
       "   7 │     4      5  -54.3377\n",
       "   8 │     4      7   29.274\n",
       "   9 │     4      9   16.7971\n",
       "  10 │     5      6   41.6289\n",
       "  11 │     6     11    6.03097\n",
       "  ⋮  │   ⋮      ⋮        ⋮\n",
       "  31 │    11      6   -6.03097\n",
       "  32 │    12      6   -7.50493\n",
       "  33 │    13      6  -16.893\n",
       "  34 │     8      7    0.0\n",
       "  35 │     9      7  -29.274\n",
       "  36 │    10      9   -6.46903\n",
       "  37 │    14      9  -10.102\n",
       "  38 │    11     10    2.53097\n",
       "  39 │    13     12   -1.40493\n",
       "  40 │    14     13   -4.79796\n",
       "\u001b[36m                19 rows omitted\u001b[0m"
      ]
     },
     "execution_count": 26,
     "metadata": {},
     "output_type": "execute_result"
    }
   ],
   "source": [
    "solution.flows"
   ]
  },
  {
   "cell_type": "code",
   "execution_count": 27,
   "metadata": {},
   "outputs": [
    {
     "data": {
      "text/html": [
       "<div><div style = \"float: left;\"><span>14×2 DataFrame</span></div><div style = \"clear: both;\"></div></div><div class = \"data-frame\" style = \"overflow-x: scroll;\"><table class = \"data-frame\" style = \"margin-bottom: 6px;\"><thead><tr class = \"header\"><th class = \"rowNumber\" style = \"font-weight: bold; text-align: right;\">Row</th><th style = \"text-align: left;\">node</th><th style = \"text-align: left;\">value</th></tr><tr class = \"subheader headerLastRow\"><th class = \"rowNumber\" style = \"font-weight: bold; text-align: right;\"></th><th title = \"Int64\" style = \"text-align: left;\">Int64</th><th title = \"Float64\" style = \"text-align: left;\">Float64</th></tr></thead><tbody><tr><td class = \"rowNumber\" style = \"font-weight: bold; text-align: right;\">1</td><td style = \"text-align: right;\">1</td><td style = \"text-align: right;\">30.0</td></tr><tr><td class = \"rowNumber\" style = \"font-weight: bold; text-align: right;\">2</td><td style = \"text-align: right;\">2</td><td style = \"text-align: right;\">30.0</td></tr><tr><td class = \"rowNumber\" style = \"font-weight: bold; text-align: right;\">3</td><td style = \"text-align: right;\">3</td><td style = \"text-align: right;\">30.0</td></tr><tr><td class = \"rowNumber\" style = \"font-weight: bold; text-align: right;\">4</td><td style = \"text-align: right;\">4</td><td style = \"text-align: right;\">30.0</td></tr><tr><td class = \"rowNumber\" style = \"font-weight: bold; text-align: right;\">5</td><td style = \"text-align: right;\">5</td><td style = \"text-align: right;\">30.0</td></tr><tr><td class = \"rowNumber\" style = \"font-weight: bold; text-align: right;\">6</td><td style = \"text-align: right;\">6</td><td style = \"text-align: right;\">30.0</td></tr><tr><td class = \"rowNumber\" style = \"font-weight: bold; text-align: right;\">7</td><td style = \"text-align: right;\">7</td><td style = \"text-align: right;\">30.0</td></tr><tr><td class = \"rowNumber\" style = \"font-weight: bold; text-align: right;\">8</td><td style = \"text-align: right;\">8</td><td style = \"text-align: right;\">30.0</td></tr><tr><td class = \"rowNumber\" style = \"font-weight: bold; text-align: right;\">9</td><td style = \"text-align: right;\">9</td><td style = \"text-align: right;\">30.0</td></tr><tr><td class = \"rowNumber\" style = \"font-weight: bold; text-align: right;\">10</td><td style = \"text-align: right;\">10</td><td style = \"text-align: right;\">30.0</td></tr><tr><td class = \"rowNumber\" style = \"font-weight: bold; text-align: right;\">11</td><td style = \"text-align: right;\">11</td><td style = \"text-align: right;\">30.0</td></tr><tr><td class = \"rowNumber\" style = \"font-weight: bold; text-align: right;\">12</td><td style = \"text-align: right;\">12</td><td style = \"text-align: right;\">30.0</td></tr><tr><td class = \"rowNumber\" style = \"font-weight: bold; text-align: right;\">13</td><td style = \"text-align: right;\">13</td><td style = \"text-align: right;\">30.0</td></tr><tr><td class = \"rowNumber\" style = \"font-weight: bold; text-align: right;\">14</td><td style = \"text-align: right;\">14</td><td style = \"text-align: right;\">30.0</td></tr></tbody></table></div>"
      ],
      "text/latex": [
       "\\begin{tabular}{r|cc}\n",
       "\t& node & value\\\\\n",
       "\t\\hline\n",
       "\t& Int64 & Float64\\\\\n",
       "\t\\hline\n",
       "\t1 & 1 & 30.0 \\\\\n",
       "\t2 & 2 & 30.0 \\\\\n",
       "\t3 & 3 & 30.0 \\\\\n",
       "\t4 & 4 & 30.0 \\\\\n",
       "\t5 & 5 & 30.0 \\\\\n",
       "\t6 & 6 & 30.0 \\\\\n",
       "\t7 & 7 & 30.0 \\\\\n",
       "\t8 & 8 & 30.0 \\\\\n",
       "\t9 & 9 & 30.0 \\\\\n",
       "\t10 & 10 & 30.0 \\\\\n",
       "\t11 & 11 & 30.0 \\\\\n",
       "\t12 & 12 & 30.0 \\\\\n",
       "\t13 & 13 & 30.0 \\\\\n",
       "\t14 & 14 & 30.0 \\\\\n",
       "\\end{tabular}\n"
      ],
      "text/plain": [
       "\u001b[1m14×2 DataFrame\u001b[0m\n",
       "\u001b[1m Row \u001b[0m│\u001b[1m node  \u001b[0m\u001b[1m value   \u001b[0m\n",
       "     │\u001b[90m Int64 \u001b[0m\u001b[90m Float64 \u001b[0m\n",
       "─────┼────────────────\n",
       "   1 │     1     30.0\n",
       "   2 │     2     30.0\n",
       "   3 │     3     30.0\n",
       "   4 │     4     30.0\n",
       "   5 │     5     30.0\n",
       "   6 │     6     30.0\n",
       "   7 │     7     30.0\n",
       "   8 │     8     30.0\n",
       "   9 │     9     30.0\n",
       "  10 │    10     30.0\n",
       "  11 │    11     30.0\n",
       "  12 │    12     30.0\n",
       "  13 │    13     30.0\n",
       "  14 │    14     30.0"
      ]
     },
     "execution_count": 27,
     "metadata": {},
     "output_type": "execute_result"
    }
   ],
   "source": [
    "solution.prices"
   ]
  },
  {
   "cell_type": "markdown",
   "metadata": {},
   "source": [
    "Regarding the above results, answer the following:\n",
    "\n",
    "- How has generation changed compared to the default system?\n",
    "- What explains the new prices?\n"
   ]
  },
  {
   "cell_type": "markdown",
   "metadata": {},
   "source": [
    "Generation has not changed - in both cases, Generator 1 generates 119 MW and Generator 2 generates 140 MW. However, in this case, the prices have changed. Previously, the price at every location was \\\\$20/MWh but is now \\\\$30/MWh. This suggests that "
   ]
  },
  {
   "cell_type": "markdown",
   "metadata": {},
   "source": [
    "**B. Constrained line**\n",
    "\n",
    "Make the following changes to the system:\n",
    "\n",
    "- Increase the variable cost of Generator 1 to \\$30 / MWh\n",
    "- Reduce flow limit on the line connecting 2 and 3 ($l_{23}$) to 70 MW\n",
    "\n",
    "Run the DCOPF and output generation, flows, and prices."
   ]
  },
  {
   "cell_type": "code",
   "execution_count": 28,
   "metadata": {},
   "outputs": [
    {
     "data": {
      "text/html": [
       "<div><div style = \"float: left;\"><span>40×8 DataFrame</span></div><div style = \"float: right;\"><span style = \"font-style: italic;\">15 rows omitted</span></div><div style = \"clear: both;\"></div></div><div class = \"data-frame\" style = \"overflow-x: scroll;\"><table class = \"data-frame\" style = \"margin-bottom: 6px;\"><thead><tr class = \"header\"><th class = \"rowNumber\" style = \"font-weight: bold; text-align: right;\">Row</th><th style = \"text-align: left;\">fromnode</th><th style = \"text-align: left;\">tonode</th><th style = \"text-align: left;\">resistance</th><th style = \"text-align: left;\">reactance</th><th style = \"text-align: left;\">contingencymarked</th><th style = \"text-align: left;\">capacity</th><th style = \"text-align: left;\">id</th><th style = \"text-align: left;\">b</th></tr><tr class = \"subheader headerLastRow\"><th class = \"rowNumber\" style = \"font-weight: bold; text-align: right;\"></th><th title = \"Int64\" style = \"text-align: left;\">Int64</th><th title = \"Int64\" style = \"text-align: left;\">Int64</th><th title = \"Float64\" style = \"text-align: left;\">Float64</th><th title = \"Float64\" style = \"text-align: left;\">Float64</th><th title = \"Int64\" style = \"text-align: left;\">Int64</th><th title = \"Int64\" style = \"text-align: left;\">Int64</th><th title = \"Int64\" style = \"text-align: left;\">Int64</th><th title = \"Float64\" style = \"text-align: left;\">Float64</th></tr></thead><tbody><tr><td class = \"rowNumber\" style = \"font-weight: bold; text-align: right;\">1</td><td style = \"text-align: right;\">1</td><td style = \"text-align: right;\">2</td><td style = \"text-align: right;\">0.01938</td><td style = \"text-align: right;\">0.05917</td><td style = \"text-align: right;\">1</td><td style = \"text-align: right;\">10000</td><td style = \"text-align: right;\">1</td><td style = \"text-align: right;\">16.9005</td></tr><tr><td class = \"rowNumber\" style = \"font-weight: bold; text-align: right;\">2</td><td style = \"text-align: right;\">1</td><td style = \"text-align: right;\">5</td><td style = \"text-align: right;\">0.05403</td><td style = \"text-align: right;\">0.22304</td><td style = \"text-align: right;\">1</td><td style = \"text-align: right;\">10000</td><td style = \"text-align: right;\">2</td><td style = \"text-align: right;\">4.4835</td></tr><tr><td class = \"rowNumber\" style = \"font-weight: bold; text-align: right;\">3</td><td style = \"text-align: right;\">2</td><td style = \"text-align: right;\">3</td><td style = \"text-align: right;\">0.04699</td><td style = \"text-align: right;\">0.19797</td><td style = \"text-align: right;\">1</td><td style = \"text-align: right;\">70</td><td style = \"text-align: right;\">3</td><td style = \"text-align: right;\">5.05127</td></tr><tr><td class = \"rowNumber\" style = \"font-weight: bold; text-align: right;\">4</td><td style = \"text-align: right;\">2</td><td style = \"text-align: right;\">4</td><td style = \"text-align: right;\">0.05811</td><td style = \"text-align: right;\">0.17632</td><td style = \"text-align: right;\">1</td><td style = \"text-align: right;\">10000</td><td style = \"text-align: right;\">4</td><td style = \"text-align: right;\">5.67151</td></tr><tr><td class = \"rowNumber\" style = \"font-weight: bold; text-align: right;\">5</td><td style = \"text-align: right;\">2</td><td style = \"text-align: right;\">5</td><td style = \"text-align: right;\">0.05695</td><td style = \"text-align: right;\">0.17388</td><td style = \"text-align: right;\">1</td><td style = \"text-align: right;\">10000</td><td style = \"text-align: right;\">5</td><td style = \"text-align: right;\">5.75109</td></tr><tr><td class = \"rowNumber\" style = \"font-weight: bold; text-align: right;\">6</td><td style = \"text-align: right;\">3</td><td style = \"text-align: right;\">4</td><td style = \"text-align: right;\">0.06701</td><td style = \"text-align: right;\">0.17103</td><td style = \"text-align: right;\">1</td><td style = \"text-align: right;\">10000</td><td style = \"text-align: right;\">6</td><td style = \"text-align: right;\">5.84693</td></tr><tr><td class = \"rowNumber\" style = \"font-weight: bold; text-align: right;\">7</td><td style = \"text-align: right;\">4</td><td style = \"text-align: right;\">5</td><td style = \"text-align: right;\">0.01335</td><td style = \"text-align: right;\">0.04211</td><td style = \"text-align: right;\">1</td><td style = \"text-align: right;\">10000</td><td style = \"text-align: right;\">7</td><td style = \"text-align: right;\">23.7473</td></tr><tr><td class = \"rowNumber\" style = \"font-weight: bold; text-align: right;\">8</td><td style = \"text-align: right;\">4</td><td style = \"text-align: right;\">7</td><td style = \"text-align: right;\">0.0</td><td style = \"text-align: right;\">0.20912</td><td style = \"text-align: right;\">1</td><td style = \"text-align: right;\">10000</td><td style = \"text-align: right;\">8</td><td style = \"text-align: right;\">4.78194</td></tr><tr><td class = \"rowNumber\" style = \"font-weight: bold; text-align: right;\">9</td><td style = \"text-align: right;\">4</td><td style = \"text-align: right;\">9</td><td style = \"text-align: right;\">0.0</td><td style = \"text-align: right;\">0.55618</td><td style = \"text-align: right;\">1</td><td style = \"text-align: right;\">10000</td><td style = \"text-align: right;\">9</td><td style = \"text-align: right;\">1.79798</td></tr><tr><td class = \"rowNumber\" style = \"font-weight: bold; text-align: right;\">10</td><td style = \"text-align: right;\">5</td><td style = \"text-align: right;\">6</td><td style = \"text-align: right;\">0.0</td><td style = \"text-align: right;\">0.25202</td><td style = \"text-align: right;\">1</td><td style = \"text-align: right;\">10000</td><td style = \"text-align: right;\">10</td><td style = \"text-align: right;\">3.96794</td></tr><tr><td class = \"rowNumber\" style = \"font-weight: bold; text-align: right;\">11</td><td style = \"text-align: right;\">6</td><td style = \"text-align: right;\">11</td><td style = \"text-align: right;\">0.09498</td><td style = \"text-align: right;\">0.1989</td><td style = \"text-align: right;\">1</td><td style = \"text-align: right;\">10000</td><td style = \"text-align: right;\">11</td><td style = \"text-align: right;\">5.02765</td></tr><tr><td class = \"rowNumber\" style = \"font-weight: bold; text-align: right;\">12</td><td style = \"text-align: right;\">6</td><td style = \"text-align: right;\">12</td><td style = \"text-align: right;\">0.12291</td><td style = \"text-align: right;\">0.25581</td><td style = \"text-align: right;\">1</td><td style = \"text-align: right;\">10000</td><td style = \"text-align: right;\">12</td><td style = \"text-align: right;\">3.90915</td></tr><tr><td class = \"rowNumber\" style = \"font-weight: bold; text-align: right;\">13</td><td style = \"text-align: right;\">6</td><td style = \"text-align: right;\">13</td><td style = \"text-align: right;\">0.06615</td><td style = \"text-align: right;\">0.13027</td><td style = \"text-align: right;\">1</td><td style = \"text-align: right;\">10000</td><td style = \"text-align: right;\">13</td><td style = \"text-align: right;\">7.67636</td></tr><tr><td style = \"text-align: right;\">&vellip;</td><td style = \"text-align: right;\">&vellip;</td><td style = \"text-align: right;\">&vellip;</td><td style = \"text-align: right;\">&vellip;</td><td style = \"text-align: right;\">&vellip;</td><td style = \"text-align: right;\">&vellip;</td><td style = \"text-align: right;\">&vellip;</td><td style = \"text-align: right;\">&vellip;</td><td style = \"text-align: right;\">&vellip;</td></tr><tr><td class = \"rowNumber\" style = \"font-weight: bold; text-align: right;\">29</td><td style = \"text-align: right;\">9</td><td style = \"text-align: right;\">4</td><td style = \"text-align: right;\">0.0</td><td style = \"text-align: right;\">0.55618</td><td style = \"text-align: right;\">1</td><td style = \"text-align: right;\">10000</td><td style = \"text-align: right;\">9</td><td style = \"text-align: right;\">1.79798</td></tr><tr><td class = \"rowNumber\" style = \"font-weight: bold; text-align: right;\">30</td><td style = \"text-align: right;\">6</td><td style = \"text-align: right;\">5</td><td style = \"text-align: right;\">0.0</td><td style = \"text-align: right;\">0.25202</td><td style = \"text-align: right;\">1</td><td style = \"text-align: right;\">10000</td><td style = \"text-align: right;\">10</td><td style = \"text-align: right;\">3.96794</td></tr><tr><td class = \"rowNumber\" style = \"font-weight: bold; text-align: right;\">31</td><td style = \"text-align: right;\">11</td><td style = \"text-align: right;\">6</td><td style = \"text-align: right;\">0.09498</td><td style = \"text-align: right;\">0.1989</td><td style = \"text-align: right;\">1</td><td style = \"text-align: right;\">10000</td><td style = \"text-align: right;\">11</td><td style = \"text-align: right;\">5.02765</td></tr><tr><td class = \"rowNumber\" style = \"font-weight: bold; text-align: right;\">32</td><td style = \"text-align: right;\">12</td><td style = \"text-align: right;\">6</td><td style = \"text-align: right;\">0.12291</td><td style = \"text-align: right;\">0.25581</td><td style = \"text-align: right;\">1</td><td style = \"text-align: right;\">10000</td><td style = \"text-align: right;\">12</td><td style = \"text-align: right;\">3.90915</td></tr><tr><td class = \"rowNumber\" style = \"font-weight: bold; text-align: right;\">33</td><td style = \"text-align: right;\">13</td><td style = \"text-align: right;\">6</td><td style = \"text-align: right;\">0.06615</td><td style = \"text-align: right;\">0.13027</td><td style = \"text-align: right;\">1</td><td style = \"text-align: right;\">10000</td><td style = \"text-align: right;\">13</td><td style = \"text-align: right;\">7.67636</td></tr><tr><td class = \"rowNumber\" style = \"font-weight: bold; text-align: right;\">34</td><td style = \"text-align: right;\">8</td><td style = \"text-align: right;\">7</td><td style = \"text-align: right;\">0.0</td><td style = \"text-align: right;\">0.17615</td><td style = \"text-align: right;\">1</td><td style = \"text-align: right;\">10000</td><td style = \"text-align: right;\">14</td><td style = \"text-align: right;\">5.67698</td></tr><tr><td class = \"rowNumber\" style = \"font-weight: bold; text-align: right;\">35</td><td style = \"text-align: right;\">9</td><td style = \"text-align: right;\">7</td><td style = \"text-align: right;\">0.0</td><td style = \"text-align: right;\">0.11001</td><td style = \"text-align: right;\">1</td><td style = \"text-align: right;\">10000</td><td style = \"text-align: right;\">15</td><td style = \"text-align: right;\">9.09008</td></tr><tr><td class = \"rowNumber\" style = \"font-weight: bold; text-align: right;\">36</td><td style = \"text-align: right;\">10</td><td style = \"text-align: right;\">9</td><td style = \"text-align: right;\">0.03181</td><td style = \"text-align: right;\">0.0845</td><td style = \"text-align: right;\">1</td><td style = \"text-align: right;\">10000</td><td style = \"text-align: right;\">16</td><td style = \"text-align: right;\">11.8343</td></tr><tr><td class = \"rowNumber\" style = \"font-weight: bold; text-align: right;\">37</td><td style = \"text-align: right;\">14</td><td style = \"text-align: right;\">9</td><td style = \"text-align: right;\">0.12711</td><td style = \"text-align: right;\">0.27038</td><td style = \"text-align: right;\">1</td><td style = \"text-align: right;\">10000</td><td style = \"text-align: right;\">17</td><td style = \"text-align: right;\">3.6985</td></tr><tr><td class = \"rowNumber\" style = \"font-weight: bold; text-align: right;\">38</td><td style = \"text-align: right;\">11</td><td style = \"text-align: right;\">10</td><td style = \"text-align: right;\">0.08205</td><td style = \"text-align: right;\">0.19207</td><td style = \"text-align: right;\">1</td><td style = \"text-align: right;\">10000</td><td style = \"text-align: right;\">18</td><td style = \"text-align: right;\">5.20644</td></tr><tr><td class = \"rowNumber\" style = \"font-weight: bold; text-align: right;\">39</td><td style = \"text-align: right;\">13</td><td style = \"text-align: right;\">12</td><td style = \"text-align: right;\">0.22092</td><td style = \"text-align: right;\">0.19988</td><td style = \"text-align: right;\">1</td><td style = \"text-align: right;\">10000</td><td style = \"text-align: right;\">19</td><td style = \"text-align: right;\">5.003</td></tr><tr><td class = \"rowNumber\" style = \"font-weight: bold; text-align: right;\">40</td><td style = \"text-align: right;\">14</td><td style = \"text-align: right;\">13</td><td style = \"text-align: right;\">0.17093</td><td style = \"text-align: right;\">0.34802</td><td style = \"text-align: right;\">1</td><td style = \"text-align: right;\">10000</td><td style = \"text-align: right;\">20</td><td style = \"text-align: right;\">2.8734</td></tr></tbody></table></div>"
      ],
      "text/latex": [
       "\\begin{tabular}{r|cccccccc}\n",
       "\t& fromnode & tonode & resistance & reactance & contingencymarked & capacity & id & b\\\\\n",
       "\t\\hline\n",
       "\t& Int64 & Int64 & Float64 & Float64 & Int64 & Int64 & Int64 & Float64\\\\\n",
       "\t\\hline\n",
       "\t1 & 1 & 2 & 0.01938 & 0.05917 & 1 & 10000 & 1 & 16.9005 \\\\\n",
       "\t2 & 1 & 5 & 0.05403 & 0.22304 & 1 & 10000 & 2 & 4.4835 \\\\\n",
       "\t3 & 2 & 3 & 0.04699 & 0.19797 & 1 & 70 & 3 & 5.05127 \\\\\n",
       "\t4 & 2 & 4 & 0.05811 & 0.17632 & 1 & 10000 & 4 & 5.67151 \\\\\n",
       "\t5 & 2 & 5 & 0.05695 & 0.17388 & 1 & 10000 & 5 & 5.75109 \\\\\n",
       "\t6 & 3 & 4 & 0.06701 & 0.17103 & 1 & 10000 & 6 & 5.84693 \\\\\n",
       "\t7 & 4 & 5 & 0.01335 & 0.04211 & 1 & 10000 & 7 & 23.7473 \\\\\n",
       "\t8 & 4 & 7 & 0.0 & 0.20912 & 1 & 10000 & 8 & 4.78194 \\\\\n",
       "\t9 & 4 & 9 & 0.0 & 0.55618 & 1 & 10000 & 9 & 1.79798 \\\\\n",
       "\t10 & 5 & 6 & 0.0 & 0.25202 & 1 & 10000 & 10 & 3.96794 \\\\\n",
       "\t11 & 6 & 11 & 0.09498 & 0.1989 & 1 & 10000 & 11 & 5.02765 \\\\\n",
       "\t12 & 6 & 12 & 0.12291 & 0.25581 & 1 & 10000 & 12 & 3.90915 \\\\\n",
       "\t13 & 6 & 13 & 0.06615 & 0.13027 & 1 & 10000 & 13 & 7.67636 \\\\\n",
       "\t14 & 7 & 8 & 0.0 & 0.17615 & 1 & 10000 & 14 & 5.67698 \\\\\n",
       "\t15 & 7 & 9 & 0.0 & 0.11001 & 1 & 10000 & 15 & 9.09008 \\\\\n",
       "\t16 & 9 & 10 & 0.03181 & 0.0845 & 1 & 10000 & 16 & 11.8343 \\\\\n",
       "\t17 & 9 & 14 & 0.12711 & 0.27038 & 1 & 10000 & 17 & 3.6985 \\\\\n",
       "\t18 & 10 & 11 & 0.08205 & 0.19207 & 1 & 10000 & 18 & 5.20644 \\\\\n",
       "\t19 & 12 & 13 & 0.22092 & 0.19988 & 1 & 10000 & 19 & 5.003 \\\\\n",
       "\t20 & 13 & 14 & 0.17093 & 0.34802 & 1 & 10000 & 20 & 2.8734 \\\\\n",
       "\t21 & 2 & 1 & 0.01938 & 0.05917 & 1 & 10000 & 1 & 16.9005 \\\\\n",
       "\t22 & 5 & 1 & 0.05403 & 0.22304 & 1 & 10000 & 2 & 4.4835 \\\\\n",
       "\t23 & 3 & 2 & 0.04699 & 0.19797 & 1 & 10000 & 3 & 5.05127 \\\\\n",
       "\t24 & 4 & 2 & 0.05811 & 0.17632 & 1 & 10000 & 4 & 5.67151 \\\\\n",
       "\t25 & 5 & 2 & 0.05695 & 0.17388 & 1 & 10000 & 5 & 5.75109 \\\\\n",
       "\t26 & 4 & 3 & 0.06701 & 0.17103 & 1 & 10000 & 6 & 5.84693 \\\\\n",
       "\t27 & 5 & 4 & 0.01335 & 0.04211 & 1 & 10000 & 7 & 23.7473 \\\\\n",
       "\t28 & 7 & 4 & 0.0 & 0.20912 & 1 & 10000 & 8 & 4.78194 \\\\\n",
       "\t29 & 9 & 4 & 0.0 & 0.55618 & 1 & 10000 & 9 & 1.79798 \\\\\n",
       "\t30 & 6 & 5 & 0.0 & 0.25202 & 1 & 10000 & 10 & 3.96794 \\\\\n",
       "\t$\\dots$ & $\\dots$ & $\\dots$ & $\\dots$ & $\\dots$ & $\\dots$ & $\\dots$ & $\\dots$ & $\\dots$ \\\\\n",
       "\\end{tabular}\n"
      ],
      "text/plain": [
       "\u001b[1m40×8 DataFrame\u001b[0m\n",
       "\u001b[1m Row \u001b[0m│\u001b[1m fromnode \u001b[0m\u001b[1m tonode \u001b[0m\u001b[1m resistance \u001b[0m\u001b[1m reactance \u001b[0m\u001b[1m contingencymarked \u001b[0m\u001b[1m capacity \u001b[0m\u001b[1m i\u001b[0m ⋯\n",
       "     │\u001b[90m Int64    \u001b[0m\u001b[90m Int64  \u001b[0m\u001b[90m Float64    \u001b[0m\u001b[90m Float64   \u001b[0m\u001b[90m Int64             \u001b[0m\u001b[90m Int64    \u001b[0m\u001b[90m I\u001b[0m ⋯\n",
       "─────┼──────────────────────────────────────────────────────────────────────────\n",
       "   1 │        1       2     0.01938    0.05917                  1     10000    ⋯\n",
       "   2 │        1       5     0.05403    0.22304                  1     10000\n",
       "   3 │        2       3     0.04699    0.19797                  1        70\n",
       "   4 │        2       4     0.05811    0.17632                  1     10000\n",
       "   5 │        2       5     0.05695    0.17388                  1     10000    ⋯\n",
       "   6 │        3       4     0.06701    0.17103                  1     10000\n",
       "   7 │        4       5     0.01335    0.04211                  1     10000\n",
       "   8 │        4       7     0.0        0.20912                  1     10000\n",
       "   9 │        4       9     0.0        0.55618                  1     10000    ⋯\n",
       "  10 │        5       6     0.0        0.25202                  1     10000\n",
       "  11 │        6      11     0.09498    0.1989                   1     10000\n",
       "  ⋮  │    ⋮        ⋮         ⋮           ⋮              ⋮             ⋮        ⋱\n",
       "  31 │       11       6     0.09498    0.1989                   1     10000\n",
       "  32 │       12       6     0.12291    0.25581                  1     10000    ⋯\n",
       "  33 │       13       6     0.06615    0.13027                  1     10000\n",
       "  34 │        8       7     0.0        0.17615                  1     10000\n",
       "  35 │        9       7     0.0        0.11001                  1     10000\n",
       "  36 │       10       9     0.03181    0.0845                   1     10000    ⋯\n",
       "  37 │       14       9     0.12711    0.27038                  1     10000\n",
       "  38 │       11      10     0.08205    0.19207                  1     10000\n",
       "  39 │       13      12     0.22092    0.19988                  1     10000\n",
       "  40 │       14      13     0.17093    0.34802                  1     10000    ⋯\n",
       "\u001b[36m                                                   2 columns and 19 rows omitted\u001b[0m"
      ]
     },
     "execution_count": 28,
     "metadata": {},
     "output_type": "execute_result"
    }
   ],
   "source": [
    "# Reduce the flow limit on l_23 to 70 MW\n",
    "\n",
    "lines_constrained = copy(lines)\n",
    "lines_constrained[3,:capacity] = 70\n",
    "lines_constrained"
   ]
  },
  {
   "cell_type": "code",
   "execution_count": 29,
   "metadata": {},
   "outputs": [],
   "source": [
    "solution_constrained_line = dcopf_ieee(gens_newcost, lines_constrained, loads);"
   ]
  },
  {
   "cell_type": "code",
   "execution_count": 30,
   "metadata": {},
   "outputs": [
    {
     "data": {
      "text/html": [
       "<div><div style = \"float: left;\"><span>2×2 DataFrame</span></div><div style = \"clear: both;\"></div></div><div class = \"data-frame\" style = \"overflow-x: scroll;\"><table class = \"data-frame\" style = \"margin-bottom: 6px;\"><thead><tr class = \"header\"><th class = \"rowNumber\" style = \"font-weight: bold; text-align: right;\">Row</th><th style = \"text-align: left;\">node</th><th style = \"text-align: left;\">gen</th></tr><tr class = \"subheader headerLastRow\"><th class = \"rowNumber\" style = \"font-weight: bold; text-align: right;\"></th><th title = \"Int64\" style = \"text-align: left;\">Int64</th><th title = \"Float64\" style = \"text-align: left;\">Float64</th></tr></thead><tbody><tr><td class = \"rowNumber\" style = \"font-weight: bold; text-align: right;\">1</td><td style = \"text-align: right;\">1</td><td style = \"text-align: right;\">220.837</td></tr><tr><td class = \"rowNumber\" style = \"font-weight: bold; text-align: right;\">2</td><td style = \"text-align: right;\">2</td><td style = \"text-align: right;\">38.1627</td></tr></tbody></table></div>"
      ],
      "text/latex": [
       "\\begin{tabular}{r|cc}\n",
       "\t& node & gen\\\\\n",
       "\t\\hline\n",
       "\t& Int64 & Float64\\\\\n",
       "\t\\hline\n",
       "\t1 & 1 & 220.837 \\\\\n",
       "\t2 & 2 & 38.1627 \\\\\n",
       "\\end{tabular}\n"
      ],
      "text/plain": [
       "\u001b[1m2×2 DataFrame\u001b[0m\n",
       "\u001b[1m Row \u001b[0m│\u001b[1m node  \u001b[0m\u001b[1m gen      \u001b[0m\n",
       "     │\u001b[90m Int64 \u001b[0m\u001b[90m Float64  \u001b[0m\n",
       "─────┼─────────────────\n",
       "   1 │     1  220.837\n",
       "   2 │     2   38.1627"
      ]
     },
     "execution_count": 30,
     "metadata": {},
     "output_type": "execute_result"
    }
   ],
   "source": [
    "solution_constrained_line.generation"
   ]
  },
  {
   "cell_type": "code",
   "execution_count": 31,
   "metadata": {},
   "outputs": [
    {
     "data": {
      "text/html": [
       "<div><div style = \"float: left;\"><span>40×3 DataFrame</span></div><div style = \"float: right;\"><span style = \"font-style: italic;\">15 rows omitted</span></div><div style = \"clear: both;\"></div></div><div class = \"data-frame\" style = \"overflow-x: scroll;\"><table class = \"data-frame\" style = \"margin-bottom: 6px;\"><thead><tr class = \"header\"><th class = \"rowNumber\" style = \"font-weight: bold; text-align: right;\">Row</th><th style = \"text-align: left;\">fbus</th><th style = \"text-align: left;\">tbus</th><th style = \"text-align: left;\">flow</th></tr><tr class = \"subheader headerLastRow\"><th class = \"rowNumber\" style = \"font-weight: bold; text-align: right;\"></th><th title = \"Int64\" style = \"text-align: left;\">Int64</th><th title = \"Int64\" style = \"text-align: left;\">Int64</th><th title = \"Float64\" style = \"text-align: left;\">Float64</th></tr></thead><tbody><tr><td class = \"rowNumber\" style = \"font-weight: bold; text-align: right;\">1</td><td style = \"text-align: right;\">1</td><td style = \"text-align: right;\">2</td><td style = \"text-align: right;\">149.42</td></tr><tr><td class = \"rowNumber\" style = \"font-weight: bold; text-align: right;\">2</td><td style = \"text-align: right;\">1</td><td style = \"text-align: right;\">5</td><td style = \"text-align: right;\">71.417</td></tr><tr><td class = \"rowNumber\" style = \"font-weight: bold; text-align: right;\">3</td><td style = \"text-align: right;\">2</td><td style = \"text-align: right;\">3</td><td style = \"text-align: right;\">70.0</td></tr><tr><td class = \"rowNumber\" style = \"font-weight: bold; text-align: right;\">4</td><td style = \"text-align: right;\">2</td><td style = \"text-align: right;\">4</td><td style = \"text-align: right;\">55.1212</td></tr><tr><td class = \"rowNumber\" style = \"font-weight: bold; text-align: right;\">5</td><td style = \"text-align: right;\">2</td><td style = \"text-align: right;\">5</td><td style = \"text-align: right;\">40.7618</td></tr><tr><td class = \"rowNumber\" style = \"font-weight: bold; text-align: right;\">6</td><td style = \"text-align: right;\">3</td><td style = \"text-align: right;\">4</td><td style = \"text-align: right;\">-24.2</td></tr><tr><td class = \"rowNumber\" style = \"font-weight: bold; text-align: right;\">7</td><td style = \"text-align: right;\">4</td><td style = \"text-align: right;\">5</td><td style = \"text-align: right;\">-62.4868</td></tr><tr><td class = \"rowNumber\" style = \"font-weight: bold; text-align: right;\">8</td><td style = \"text-align: right;\">4</td><td style = \"text-align: right;\">7</td><td style = \"text-align: right;\">28.9798</td></tr><tr><td class = \"rowNumber\" style = \"font-weight: bold; text-align: right;\">9</td><td style = \"text-align: right;\">4</td><td style = \"text-align: right;\">9</td><td style = \"text-align: right;\">16.6283</td></tr><tr><td class = \"rowNumber\" style = \"font-weight: bold; text-align: right;\">10</td><td style = \"text-align: right;\">5</td><td style = \"text-align: right;\">6</td><td style = \"text-align: right;\">42.092</td></tr><tr><td class = \"rowNumber\" style = \"font-weight: bold; text-align: right;\">11</td><td style = \"text-align: right;\">6</td><td style = \"text-align: right;\">11</td><td style = \"text-align: right;\">6.30979</td></tr><tr><td class = \"rowNumber\" style = \"font-weight: bold; text-align: right;\">12</td><td style = \"text-align: right;\">6</td><td style = \"text-align: right;\">12</td><td style = \"text-align: right;\">7.54588</td></tr><tr><td class = \"rowNumber\" style = \"font-weight: bold; text-align: right;\">13</td><td style = \"text-align: right;\">6</td><td style = \"text-align: right;\">13</td><td style = \"text-align: right;\">17.0363</td></tr><tr><td style = \"text-align: right;\">&vellip;</td><td style = \"text-align: right;\">&vellip;</td><td style = \"text-align: right;\">&vellip;</td><td style = \"text-align: right;\">&vellip;</td></tr><tr><td class = \"rowNumber\" style = \"font-weight: bold; text-align: right;\">29</td><td style = \"text-align: right;\">9</td><td style = \"text-align: right;\">4</td><td style = \"text-align: right;\">-16.6283</td></tr><tr><td class = \"rowNumber\" style = \"font-weight: bold; text-align: right;\">30</td><td style = \"text-align: right;\">6</td><td style = \"text-align: right;\">5</td><td style = \"text-align: right;\">-42.092</td></tr><tr><td class = \"rowNumber\" style = \"font-weight: bold; text-align: right;\">31</td><td style = \"text-align: right;\">11</td><td style = \"text-align: right;\">6</td><td style = \"text-align: right;\">-6.30979</td></tr><tr><td class = \"rowNumber\" style = \"font-weight: bold; text-align: right;\">32</td><td style = \"text-align: right;\">12</td><td style = \"text-align: right;\">6</td><td style = \"text-align: right;\">-7.54588</td></tr><tr><td class = \"rowNumber\" style = \"font-weight: bold; text-align: right;\">33</td><td style = \"text-align: right;\">13</td><td style = \"text-align: right;\">6</td><td style = \"text-align: right;\">-17.0363</td></tr><tr><td class = \"rowNumber\" style = \"font-weight: bold; text-align: right;\">34</td><td style = \"text-align: right;\">8</td><td style = \"text-align: right;\">7</td><td style = \"text-align: right;\">-1.57568e-14</td></tr><tr><td class = \"rowNumber\" style = \"font-weight: bold; text-align: right;\">35</td><td style = \"text-align: right;\">9</td><td style = \"text-align: right;\">7</td><td style = \"text-align: right;\">-28.9798</td></tr><tr><td class = \"rowNumber\" style = \"font-weight: bold; text-align: right;\">36</td><td style = \"text-align: right;\">10</td><td style = \"text-align: right;\">9</td><td style = \"text-align: right;\">-6.19021</td></tr><tr><td class = \"rowNumber\" style = \"font-weight: bold; text-align: right;\">37</td><td style = \"text-align: right;\">14</td><td style = \"text-align: right;\">9</td><td style = \"text-align: right;\">-9.91784</td></tr><tr><td class = \"rowNumber\" style = \"font-weight: bold; text-align: right;\">38</td><td style = \"text-align: right;\">11</td><td style = \"text-align: right;\">10</td><td style = \"text-align: right;\">2.80979</td></tr><tr><td class = \"rowNumber\" style = \"font-weight: bold; text-align: right;\">39</td><td style = \"text-align: right;\">13</td><td style = \"text-align: right;\">12</td><td style = \"text-align: right;\">-1.44588</td></tr><tr><td class = \"rowNumber\" style = \"font-weight: bold; text-align: right;\">40</td><td style = \"text-align: right;\">14</td><td style = \"text-align: right;\">13</td><td style = \"text-align: right;\">-4.98216</td></tr></tbody></table></div>"
      ],
      "text/latex": [
       "\\begin{tabular}{r|ccc}\n",
       "\t& fbus & tbus & flow\\\\\n",
       "\t\\hline\n",
       "\t& Int64 & Int64 & Float64\\\\\n",
       "\t\\hline\n",
       "\t1 & 1 & 2 & 149.42 \\\\\n",
       "\t2 & 1 & 5 & 71.417 \\\\\n",
       "\t3 & 2 & 3 & 70.0 \\\\\n",
       "\t4 & 2 & 4 & 55.1212 \\\\\n",
       "\t5 & 2 & 5 & 40.7618 \\\\\n",
       "\t6 & 3 & 4 & -24.2 \\\\\n",
       "\t7 & 4 & 5 & -62.4868 \\\\\n",
       "\t8 & 4 & 7 & 28.9798 \\\\\n",
       "\t9 & 4 & 9 & 16.6283 \\\\\n",
       "\t10 & 5 & 6 & 42.092 \\\\\n",
       "\t11 & 6 & 11 & 6.30979 \\\\\n",
       "\t12 & 6 & 12 & 7.54588 \\\\\n",
       "\t13 & 6 & 13 & 17.0363 \\\\\n",
       "\t14 & 7 & 8 & 1.57568e-14 \\\\\n",
       "\t15 & 7 & 9 & 28.9798 \\\\\n",
       "\t16 & 9 & 10 & 6.19021 \\\\\n",
       "\t17 & 9 & 14 & 9.91784 \\\\\n",
       "\t18 & 10 & 11 & -2.80979 \\\\\n",
       "\t19 & 12 & 13 & 1.44588 \\\\\n",
       "\t20 & 13 & 14 & 4.98216 \\\\\n",
       "\t21 & 2 & 1 & -149.42 \\\\\n",
       "\t22 & 5 & 1 & -71.417 \\\\\n",
       "\t23 & 3 & 2 & -70.0 \\\\\n",
       "\t24 & 4 & 2 & -55.1212 \\\\\n",
       "\t25 & 5 & 2 & -40.7618 \\\\\n",
       "\t26 & 4 & 3 & 24.2 \\\\\n",
       "\t27 & 5 & 4 & 62.4868 \\\\\n",
       "\t28 & 7 & 4 & -28.9798 \\\\\n",
       "\t29 & 9 & 4 & -16.6283 \\\\\n",
       "\t30 & 6 & 5 & -42.092 \\\\\n",
       "\t$\\dots$ & $\\dots$ & $\\dots$ & $\\dots$ \\\\\n",
       "\\end{tabular}\n"
      ],
      "text/plain": [
       "\u001b[1m40×3 DataFrame\u001b[0m\n",
       "\u001b[1m Row \u001b[0m│\u001b[1m fbus  \u001b[0m\u001b[1m tbus  \u001b[0m\u001b[1m flow          \u001b[0m\n",
       "     │\u001b[90m Int64 \u001b[0m\u001b[90m Int64 \u001b[0m\u001b[90m Float64       \u001b[0m\n",
       "─────┼─────────────────────────────\n",
       "   1 │     1      2  149.42\n",
       "   2 │     1      5   71.417\n",
       "   3 │     2      3   70.0\n",
       "   4 │     2      4   55.1212\n",
       "   5 │     2      5   40.7618\n",
       "   6 │     3      4  -24.2\n",
       "   7 │     4      5  -62.4868\n",
       "   8 │     4      7   28.9798\n",
       "   9 │     4      9   16.6283\n",
       "  10 │     5      6   42.092\n",
       "  11 │     6     11    6.30979\n",
       "  ⋮  │   ⋮      ⋮          ⋮\n",
       "  31 │    11      6   -6.30979\n",
       "  32 │    12      6   -7.54588\n",
       "  33 │    13      6  -17.0363\n",
       "  34 │     8      7   -1.57568e-14\n",
       "  35 │     9      7  -28.9798\n",
       "  36 │    10      9   -6.19021\n",
       "  37 │    14      9   -9.91784\n",
       "  38 │    11     10    2.80979\n",
       "  39 │    13     12   -1.44588\n",
       "  40 │    14     13   -4.98216\n",
       "\u001b[36m                    19 rows omitted\u001b[0m"
      ]
     },
     "execution_count": 31,
     "metadata": {},
     "output_type": "execute_result"
    }
   ],
   "source": [
    "solution_constrained_line.flows"
   ]
  },
  {
   "cell_type": "code",
   "execution_count": 32,
   "metadata": {},
   "outputs": [
    {
     "data": {
      "text/html": [
       "<div><div style = \"float: left;\"><span>14×2 DataFrame</span></div><div style = \"clear: both;\"></div></div><div class = \"data-frame\" style = \"overflow-x: scroll;\"><table class = \"data-frame\" style = \"margin-bottom: 6px;\"><thead><tr class = \"header\"><th class = \"rowNumber\" style = \"font-weight: bold; text-align: right;\">Row</th><th style = \"text-align: left;\">node</th><th style = \"text-align: left;\">value</th></tr><tr class = \"subheader headerLastRow\"><th class = \"rowNumber\" style = \"font-weight: bold; text-align: right;\"></th><th title = \"Int64\" style = \"text-align: left;\">Int64</th><th title = \"Float64\" style = \"text-align: left;\">Float64</th></tr></thead><tbody><tr><td class = \"rowNumber\" style = \"font-weight: bold; text-align: right;\">1</td><td style = \"text-align: right;\">1</td><td style = \"text-align: right;\">30.0</td></tr><tr><td class = \"rowNumber\" style = \"font-weight: bold; text-align: right;\">2</td><td style = \"text-align: right;\">2</td><td style = \"text-align: right;\">20.0</td></tr><tr><td class = \"rowNumber\" style = \"font-weight: bold; text-align: right;\">3</td><td style = \"text-align: right;\">3</td><td style = \"text-align: right;\">224.574</td></tr><tr><td class = \"rowNumber\" style = \"font-weight: bold; text-align: right;\">4</td><td style = \"text-align: right;\">4</td><td style = \"text-align: right;\">85.3586</td></tr><tr><td class = \"rowNumber\" style = \"font-weight: bold; text-align: right;\">5</td><td style = \"text-align: right;\">5</td><td style = \"text-align: right;\">67.6948</td></tr><tr><td class = \"rowNumber\" style = \"font-weight: bold; text-align: right;\">6</td><td style = \"text-align: right;\">6</td><td style = \"text-align: right;\">73.7014</td></tr><tr><td class = \"rowNumber\" style = \"font-weight: bold; text-align: right;\">7</td><td style = \"text-align: right;\">7</td><td style = \"text-align: right;\">82.1916</td></tr><tr><td class = \"rowNumber\" style = \"font-weight: bold; text-align: right;\">8</td><td style = \"text-align: right;\">8</td><td style = \"text-align: right;\">82.1916</td></tr><tr><td class = \"rowNumber\" style = \"font-weight: bold; text-align: right;\">9</td><td style = \"text-align: right;\">9</td><td style = \"text-align: right;\">80.5255</td></tr><tr><td class = \"rowNumber\" style = \"font-weight: bold; text-align: right;\">10</td><td style = \"text-align: right;\">10</td><td style = \"text-align: right;\">79.3128</td></tr><tr><td class = \"rowNumber\" style = \"font-weight: bold; text-align: right;\">11</td><td style = \"text-align: right;\">11</td><td style = \"text-align: right;\">76.5561</td></tr><tr><td class = \"rowNumber\" style = \"font-weight: bold; text-align: right;\">12</td><td style = \"text-align: right;\">12</td><td style = \"text-align: right;\">74.2407</td></tr><tr><td class = \"rowNumber\" style = \"font-weight: bold; text-align: right;\">13</td><td style = \"text-align: right;\">13</td><td style = \"text-align: right;\">74.662</td></tr><tr><td class = \"rowNumber\" style = \"font-weight: bold; text-align: right;\">14</td><td style = \"text-align: right;\">14</td><td style = \"text-align: right;\">77.9619</td></tr></tbody></table></div>"
      ],
      "text/latex": [
       "\\begin{tabular}{r|cc}\n",
       "\t& node & value\\\\\n",
       "\t\\hline\n",
       "\t& Int64 & Float64\\\\\n",
       "\t\\hline\n",
       "\t1 & 1 & 30.0 \\\\\n",
       "\t2 & 2 & 20.0 \\\\\n",
       "\t3 & 3 & 224.574 \\\\\n",
       "\t4 & 4 & 85.3586 \\\\\n",
       "\t5 & 5 & 67.6948 \\\\\n",
       "\t6 & 6 & 73.7014 \\\\\n",
       "\t7 & 7 & 82.1916 \\\\\n",
       "\t8 & 8 & 82.1916 \\\\\n",
       "\t9 & 9 & 80.5255 \\\\\n",
       "\t10 & 10 & 79.3128 \\\\\n",
       "\t11 & 11 & 76.5561 \\\\\n",
       "\t12 & 12 & 74.2407 \\\\\n",
       "\t13 & 13 & 74.662 \\\\\n",
       "\t14 & 14 & 77.9619 \\\\\n",
       "\\end{tabular}\n"
      ],
      "text/plain": [
       "\u001b[1m14×2 DataFrame\u001b[0m\n",
       "\u001b[1m Row \u001b[0m│\u001b[1m node  \u001b[0m\u001b[1m value    \u001b[0m\n",
       "     │\u001b[90m Int64 \u001b[0m\u001b[90m Float64  \u001b[0m\n",
       "─────┼─────────────────\n",
       "   1 │     1   30.0\n",
       "   2 │     2   20.0\n",
       "   3 │     3  224.574\n",
       "   4 │     4   85.3586\n",
       "   5 │     5   67.6948\n",
       "   6 │     6   73.7014\n",
       "   7 │     7   82.1916\n",
       "   8 │     8   82.1916\n",
       "   9 │     9   80.5255\n",
       "  10 │    10   79.3128\n",
       "  11 │    11   76.5561\n",
       "  12 │    12   74.2407\n",
       "  13 │    13   74.662\n",
       "  14 │    14   77.9619"
      ]
     },
     "execution_count": 32,
     "metadata": {},
     "output_type": "execute_result"
    }
   ],
   "source": [
    "solution_constrained_line.prices"
   ]
  },
  {
   "cell_type": "markdown",
   "metadata": {},
   "source": [
    "Regarding the above results, answer the following:\n",
    "\n",
    "- Which node has the highest price and why?\n",
    "- What is the difference in prices across $l_{23}$, also known as the congestion rent? How do you interpret this value (what is it's practical meaning?)"
   ]
  },
  {
   "cell_type": "markdown",
   "metadata": {},
   "source": [
    "Node 3 has the highest price at \\$224.57/MWh. "
   ]
  },
  {
   "cell_type": "markdown",
   "metadata": {},
   "source": [
    "**C. Demand increase**\n",
    "\n",
    "Make the following changes to the system:\n",
    "\n",
    "- Increase the variable cost of Generator 1 to \\$30 / MWh\n",
    "- Reduce flow limit on the line connecting 2 and 3 ($l_{23}$) to 70 MW\n",
    "- Increase demands everywhere by 5\\%."
   ]
  },
  {
   "cell_type": "code",
   "execution_count": 33,
   "metadata": {},
   "outputs": [
    {
     "data": {
      "text/html": [
       "<div><div style = \"float: left;\"><span>11×2 DataFrame</span></div><div style = \"clear: both;\"></div></div><div class = \"data-frame\" style = \"overflow-x: scroll;\"><table class = \"data-frame\" style = \"margin-bottom: 6px;\"><thead><tr class = \"header\"><th class = \"rowNumber\" style = \"font-weight: bold; text-align: right;\">Row</th><th style = \"text-align: left;\">connnode</th><th style = \"text-align: left;\">demand</th></tr><tr class = \"subheader headerLastRow\"><th class = \"rowNumber\" style = \"font-weight: bold; text-align: right;\"></th><th title = \"Int64\" style = \"text-align: left;\">Int64</th><th title = \"Float64\" style = \"text-align: left;\">Float64</th></tr></thead><tbody><tr><td class = \"rowNumber\" style = \"font-weight: bold; text-align: right;\">1</td><td style = \"text-align: right;\">2</td><td style = \"text-align: right;\">-22.785</td></tr><tr><td class = \"rowNumber\" style = \"font-weight: bold; text-align: right;\">2</td><td style = \"text-align: right;\">3</td><td style = \"text-align: right;\">-98.91</td></tr><tr><td class = \"rowNumber\" style = \"font-weight: bold; text-align: right;\">3</td><td style = \"text-align: right;\">4</td><td style = \"text-align: right;\">-50.19</td></tr><tr><td class = \"rowNumber\" style = \"font-weight: bold; text-align: right;\">4</td><td style = \"text-align: right;\">5</td><td style = \"text-align: right;\">-7.98</td></tr><tr><td class = \"rowNumber\" style = \"font-weight: bold; text-align: right;\">5</td><td style = \"text-align: right;\">6</td><td style = \"text-align: right;\">-11.76</td></tr><tr><td class = \"rowNumber\" style = \"font-weight: bold; text-align: right;\">6</td><td style = \"text-align: right;\">9</td><td style = \"text-align: right;\">-30.975</td></tr><tr><td class = \"rowNumber\" style = \"font-weight: bold; text-align: right;\">7</td><td style = \"text-align: right;\">10</td><td style = \"text-align: right;\">-9.45</td></tr><tr><td class = \"rowNumber\" style = \"font-weight: bold; text-align: right;\">8</td><td style = \"text-align: right;\">11</td><td style = \"text-align: right;\">-3.675</td></tr><tr><td class = \"rowNumber\" style = \"font-weight: bold; text-align: right;\">9</td><td style = \"text-align: right;\">12</td><td style = \"text-align: right;\">-6.405</td></tr><tr><td class = \"rowNumber\" style = \"font-weight: bold; text-align: right;\">10</td><td style = \"text-align: right;\">13</td><td style = \"text-align: right;\">-14.175</td></tr><tr><td class = \"rowNumber\" style = \"font-weight: bold; text-align: right;\">11</td><td style = \"text-align: right;\">14</td><td style = \"text-align: right;\">-15.645</td></tr></tbody></table></div>"
      ],
      "text/latex": [
       "\\begin{tabular}{r|cc}\n",
       "\t& connnode & demand\\\\\n",
       "\t\\hline\n",
       "\t& Int64 & Float64\\\\\n",
       "\t\\hline\n",
       "\t1 & 2 & -22.785 \\\\\n",
       "\t2 & 3 & -98.91 \\\\\n",
       "\t3 & 4 & -50.19 \\\\\n",
       "\t4 & 5 & -7.98 \\\\\n",
       "\t5 & 6 & -11.76 \\\\\n",
       "\t6 & 9 & -30.975 \\\\\n",
       "\t7 & 10 & -9.45 \\\\\n",
       "\t8 & 11 & -3.675 \\\\\n",
       "\t9 & 12 & -6.405 \\\\\n",
       "\t10 & 13 & -14.175 \\\\\n",
       "\t11 & 14 & -15.645 \\\\\n",
       "\\end{tabular}\n"
      ],
      "text/plain": [
       "\u001b[1m11×2 DataFrame\u001b[0m\n",
       "\u001b[1m Row \u001b[0m│\u001b[1m connnode \u001b[0m\u001b[1m demand  \u001b[0m\n",
       "     │\u001b[90m Int64    \u001b[0m\u001b[90m Float64 \u001b[0m\n",
       "─────┼───────────────────\n",
       "   1 │        2  -22.785\n",
       "   2 │        3  -98.91\n",
       "   3 │        4  -50.19\n",
       "   4 │        5   -7.98\n",
       "   5 │        6  -11.76\n",
       "   6 │        9  -30.975\n",
       "   7 │       10   -9.45\n",
       "   8 │       11   -3.675\n",
       "   9 │       12   -6.405\n",
       "  10 │       13  -14.175\n",
       "  11 │       14  -15.645"
      ]
     },
     "execution_count": 33,
     "metadata": {},
     "output_type": "execute_result"
    }
   ],
   "source": [
    "loads_inc = copy(loads)\n",
    "loads_inc[!,:demand] = loads_inc[!,:demand].*1.05\n",
    "loads_inc"
   ]
  },
  {
   "cell_type": "markdown",
   "metadata": {},
   "source": [
    "Calculate the total available generating capacity:"
   ]
  },
  {
   "cell_type": "code",
   "execution_count": 34,
   "metadata": {},
   "outputs": [
    {
     "data": {
      "text/plain": [
       "472.4"
      ]
     },
     "execution_count": 34,
     "metadata": {},
     "output_type": "execute_result"
    }
   ],
   "source": [
    "total_gen_cap = sum(gens_newcost[!,:pgmax])"
   ]
  },
  {
   "cell_type": "markdown",
   "metadata": {},
   "source": [
    "Calculate the new total demand:"
   ]
  },
  {
   "cell_type": "code",
   "execution_count": 35,
   "metadata": {},
   "outputs": [
    {
     "data": {
      "text/plain": [
       "-271.94999999999993"
      ]
     },
     "execution_count": 35,
     "metadata": {},
     "output_type": "execute_result"
    }
   ],
   "source": [
    "total_demand = sum(loads_inc[!,:demand])"
   ]
  },
  {
   "cell_type": "markdown",
   "metadata": {},
   "source": [
    "Run the DCOPF and show prices."
   ]
  },
  {
   "cell_type": "code",
   "execution_count": 36,
   "metadata": {},
   "outputs": [],
   "source": [
    "solution_inc_demand = dcopf_ieee(gens_newcost, lines_constrained, loads_inc);"
   ]
  },
  {
   "cell_type": "code",
   "execution_count": 37,
   "metadata": {},
   "outputs": [
    {
     "data": {
      "text/html": [
       "<div><div style = \"float: left;\"><span>14×2 DataFrame</span></div><div style = \"clear: both;\"></div></div><div class = \"data-frame\" style = \"overflow-x: scroll;\"><table class = \"data-frame\" style = \"margin-bottom: 6px;\"><thead><tr class = \"header\"><th class = \"rowNumber\" style = \"font-weight: bold; text-align: right;\">Row</th><th style = \"text-align: left;\">node</th><th style = \"text-align: left;\">value</th></tr><tr class = \"subheader headerLastRow\"><th class = \"rowNumber\" style = \"font-weight: bold; text-align: right;\"></th><th title = \"Int64\" style = \"text-align: left;\">Int64</th><th title = \"Float64\" style = \"text-align: left;\">Float64</th></tr></thead><tbody><tr><td class = \"rowNumber\" style = \"font-weight: bold; text-align: right;\">1</td><td style = \"text-align: right;\">1</td><td style = \"text-align: right;\">5.32907e-15</td></tr><tr><td class = \"rowNumber\" style = \"font-weight: bold; text-align: right;\">2</td><td style = \"text-align: right;\">2</td><td style = \"text-align: right;\">-1.0</td></tr><tr><td class = \"rowNumber\" style = \"font-weight: bold; text-align: right;\">3</td><td style = \"text-align: right;\">3</td><td style = \"text-align: right;\">19.4574</td></tr><tr><td class = \"rowNumber\" style = \"font-weight: bold; text-align: right;\">4</td><td style = \"text-align: right;\">4</td><td style = \"text-align: right;\">5.53586</td></tr><tr><td class = \"rowNumber\" style = \"font-weight: bold; text-align: right;\">5</td><td style = \"text-align: right;\">5</td><td style = \"text-align: right;\">3.76948</td></tr><tr><td class = \"rowNumber\" style = \"font-weight: bold; text-align: right;\">6</td><td style = \"text-align: right;\">6</td><td style = \"text-align: right;\">4.37014</td></tr><tr><td class = \"rowNumber\" style = \"font-weight: bold; text-align: right;\">7</td><td style = \"text-align: right;\">7</td><td style = \"text-align: right;\">5.21916</td></tr><tr><td class = \"rowNumber\" style = \"font-weight: bold; text-align: right;\">8</td><td style = \"text-align: right;\">8</td><td style = \"text-align: right;\">5.21916</td></tr><tr><td class = \"rowNumber\" style = \"font-weight: bold; text-align: right;\">9</td><td style = \"text-align: right;\">9</td><td style = \"text-align: right;\">5.05255</td></tr><tr><td class = \"rowNumber\" style = \"font-weight: bold; text-align: right;\">10</td><td style = \"text-align: right;\">10</td><td style = \"text-align: right;\">4.93128</td></tr><tr><td class = \"rowNumber\" style = \"font-weight: bold; text-align: right;\">11</td><td style = \"text-align: right;\">11</td><td style = \"text-align: right;\">4.65561</td></tr><tr><td class = \"rowNumber\" style = \"font-weight: bold; text-align: right;\">12</td><td style = \"text-align: right;\">12</td><td style = \"text-align: right;\">4.42407</td></tr><tr><td class = \"rowNumber\" style = \"font-weight: bold; text-align: right;\">13</td><td style = \"text-align: right;\">13</td><td style = \"text-align: right;\">4.4662</td></tr><tr><td class = \"rowNumber\" style = \"font-weight: bold; text-align: right;\">14</td><td style = \"text-align: right;\">14</td><td style = \"text-align: right;\">4.79619</td></tr></tbody></table></div>"
      ],
      "text/latex": [
       "\\begin{tabular}{r|cc}\n",
       "\t& node & value\\\\\n",
       "\t\\hline\n",
       "\t& Int64 & Float64\\\\\n",
       "\t\\hline\n",
       "\t1 & 1 & 5.32907e-15 \\\\\n",
       "\t2 & 2 & -1.0 \\\\\n",
       "\t3 & 3 & 19.4574 \\\\\n",
       "\t4 & 4 & 5.53586 \\\\\n",
       "\t5 & 5 & 3.76948 \\\\\n",
       "\t6 & 6 & 4.37014 \\\\\n",
       "\t7 & 7 & 5.21916 \\\\\n",
       "\t8 & 8 & 5.21916 \\\\\n",
       "\t9 & 9 & 5.05255 \\\\\n",
       "\t10 & 10 & 4.93128 \\\\\n",
       "\t11 & 11 & 4.65561 \\\\\n",
       "\t12 & 12 & 4.42407 \\\\\n",
       "\t13 & 13 & 4.4662 \\\\\n",
       "\t14 & 14 & 4.79619 \\\\\n",
       "\\end{tabular}\n"
      ],
      "text/plain": [
       "\u001b[1m14×2 DataFrame\u001b[0m\n",
       "\u001b[1m Row \u001b[0m│\u001b[1m node  \u001b[0m\u001b[1m value        \u001b[0m\n",
       "     │\u001b[90m Int64 \u001b[0m\u001b[90m Float64      \u001b[0m\n",
       "─────┼─────────────────────\n",
       "   1 │     1   5.32907e-15\n",
       "   2 │     2  -1.0\n",
       "   3 │     3  19.4574\n",
       "   4 │     4   5.53586\n",
       "   5 │     5   3.76948\n",
       "   6 │     6   4.37014\n",
       "   7 │     7   5.21916\n",
       "   8 │     8   5.21916\n",
       "   9 │     9   5.05255\n",
       "  10 │    10   4.93128\n",
       "  11 │    11   4.65561\n",
       "  12 │    12   4.42407\n",
       "  13 │    13   4.4662\n",
       "  14 │    14   4.79619"
      ]
     },
     "execution_count": 37,
     "metadata": {},
     "output_type": "execute_result"
    }
   ],
   "source": [
    "solution_inc_demand.prices"
   ]
  },
  {
   "cell_type": "code",
   "execution_count": 38,
   "metadata": {},
   "outputs": [
    {
     "data": {
      "text/html": [
       "<div><div style = \"float: left;\"><span>40×3 DataFrame</span></div><div style = \"float: right;\"><span style = \"font-style: italic;\">15 rows omitted</span></div><div style = \"clear: both;\"></div></div><div class = \"data-frame\" style = \"overflow-x: scroll;\"><table class = \"data-frame\" style = \"margin-bottom: 6px;\"><thead><tr class = \"header\"><th class = \"rowNumber\" style = \"font-weight: bold; text-align: right;\">Row</th><th style = \"text-align: left;\">fbus</th><th style = \"text-align: left;\">tbus</th><th style = \"text-align: left;\">flow</th></tr><tr class = \"subheader headerLastRow\"><th class = \"rowNumber\" style = \"font-weight: bold; text-align: right;\"></th><th title = \"Int64\" style = \"text-align: left;\">Int64</th><th title = \"Int64\" style = \"text-align: left;\">Int64</th><th title = \"Float64\" style = \"text-align: left;\">Float64</th></tr></thead><tbody><tr><td class = \"rowNumber\" style = \"font-weight: bold; text-align: right;\">1</td><td style = \"text-align: right;\">1</td><td style = \"text-align: right;\">2</td><td style = \"text-align: right;\">264.16</td></tr><tr><td class = \"rowNumber\" style = \"font-weight: bold; text-align: right;\">2</td><td style = \"text-align: right;\">1</td><td style = \"text-align: right;\">5</td><td style = \"text-align: right;\">95.7207</td></tr><tr><td class = \"rowNumber\" style = \"font-weight: bold; text-align: right;\">3</td><td style = \"text-align: right;\">2</td><td style = \"text-align: right;\">3</td><td style = \"text-align: right;\">70.0</td></tr><tr><td class = \"rowNumber\" style = \"font-weight: bold; text-align: right;\">4</td><td style = \"text-align: right;\">2</td><td style = \"text-align: right;\">4</td><td style = \"text-align: right;\">50.5525</td></tr><tr><td class = \"rowNumber\" style = \"font-weight: bold; text-align: right;\">5</td><td style = \"text-align: right;\">2</td><td style = \"text-align: right;\">5</td><td style = \"text-align: right;\">32.8917</td></tr><tr><td class = \"rowNumber\" style = \"font-weight: bold; text-align: right;\">6</td><td style = \"text-align: right;\">3</td><td style = \"text-align: right;\">4</td><td style = \"text-align: right;\">-28.91</td></tr><tr><td class = \"rowNumber\" style = \"font-weight: bold; text-align: right;\">7</td><td style = \"text-align: right;\">4</td><td style = \"text-align: right;\">5</td><td style = \"text-align: right;\">-75.8539</td></tr><tr><td class = \"rowNumber\" style = \"font-weight: bold; text-align: right;\">8</td><td style = \"text-align: right;\">4</td><td style = \"text-align: right;\">7</td><td style = \"text-align: right;\">30.059</td></tr><tr><td class = \"rowNumber\" style = \"font-weight: bold; text-align: right;\">9</td><td style = \"text-align: right;\">4</td><td style = \"text-align: right;\">9</td><td style = \"text-align: right;\">17.2475</td></tr><tr><td class = \"rowNumber\" style = \"font-weight: bold; text-align: right;\">10</td><td style = \"text-align: right;\">5</td><td style = \"text-align: right;\">6</td><td style = \"text-align: right;\">44.7785</td></tr><tr><td class = \"rowNumber\" style = \"font-weight: bold; text-align: right;\">11</td><td style = \"text-align: right;\">6</td><td style = \"text-align: right;\">11</td><td style = \"text-align: right;\">6.97574</td></tr><tr><td class = \"rowNumber\" style = \"font-weight: bold; text-align: right;\">12</td><td style = \"text-align: right;\">6</td><td style = \"text-align: right;\">12</td><td style = \"text-align: right;\">7.97465</td></tr><tr><td class = \"rowNumber\" style = \"font-weight: bold; text-align: right;\">13</td><td style = \"text-align: right;\">6</td><td style = \"text-align: right;\">13</td><td style = \"text-align: right;\">18.0681</td></tr><tr><td style = \"text-align: right;\">&vellip;</td><td style = \"text-align: right;\">&vellip;</td><td style = \"text-align: right;\">&vellip;</td><td style = \"text-align: right;\">&vellip;</td></tr><tr><td class = \"rowNumber\" style = \"font-weight: bold; text-align: right;\">29</td><td style = \"text-align: right;\">9</td><td style = \"text-align: right;\">4</td><td style = \"text-align: right;\">-17.2475</td></tr><tr><td class = \"rowNumber\" style = \"font-weight: bold; text-align: right;\">30</td><td style = \"text-align: right;\">6</td><td style = \"text-align: right;\">5</td><td style = \"text-align: right;\">-44.7785</td></tr><tr><td class = \"rowNumber\" style = \"font-weight: bold; text-align: right;\">31</td><td style = \"text-align: right;\">11</td><td style = \"text-align: right;\">6</td><td style = \"text-align: right;\">-6.97574</td></tr><tr><td class = \"rowNumber\" style = \"font-weight: bold; text-align: right;\">32</td><td style = \"text-align: right;\">12</td><td style = \"text-align: right;\">6</td><td style = \"text-align: right;\">-7.97465</td></tr><tr><td class = \"rowNumber\" style = \"font-weight: bold; text-align: right;\">33</td><td style = \"text-align: right;\">13</td><td style = \"text-align: right;\">6</td><td style = \"text-align: right;\">-18.0681</td></tr><tr><td class = \"rowNumber\" style = \"font-weight: bold; text-align: right;\">34</td><td style = \"text-align: right;\">8</td><td style = \"text-align: right;\">7</td><td style = \"text-align: right;\">0.0</td></tr><tr><td class = \"rowNumber\" style = \"font-weight: bold; text-align: right;\">35</td><td style = \"text-align: right;\">9</td><td style = \"text-align: right;\">7</td><td style = \"text-align: right;\">-30.059</td></tr><tr><td class = \"rowNumber\" style = \"font-weight: bold; text-align: right;\">36</td><td style = \"text-align: right;\">10</td><td style = \"text-align: right;\">9</td><td style = \"text-align: right;\">-6.14926</td></tr><tr><td class = \"rowNumber\" style = \"font-weight: bold; text-align: right;\">37</td><td style = \"text-align: right;\">14</td><td style = \"text-align: right;\">9</td><td style = \"text-align: right;\">-10.1822</td></tr><tr><td class = \"rowNumber\" style = \"font-weight: bold; text-align: right;\">38</td><td style = \"text-align: right;\">11</td><td style = \"text-align: right;\">10</td><td style = \"text-align: right;\">3.30074</td></tr><tr><td class = \"rowNumber\" style = \"font-weight: bold; text-align: right;\">39</td><td style = \"text-align: right;\">13</td><td style = \"text-align: right;\">12</td><td style = \"text-align: right;\">-1.56965</td></tr><tr><td class = \"rowNumber\" style = \"font-weight: bold; text-align: right;\">40</td><td style = \"text-align: right;\">14</td><td style = \"text-align: right;\">13</td><td style = \"text-align: right;\">-5.4628</td></tr></tbody></table></div>"
      ],
      "text/latex": [
       "\\begin{tabular}{r|ccc}\n",
       "\t& fbus & tbus & flow\\\\\n",
       "\t\\hline\n",
       "\t& Int64 & Int64 & Float64\\\\\n",
       "\t\\hline\n",
       "\t1 & 1 & 2 & 264.16 \\\\\n",
       "\t2 & 1 & 5 & 95.7207 \\\\\n",
       "\t3 & 2 & 3 & 70.0 \\\\\n",
       "\t4 & 2 & 4 & 50.5525 \\\\\n",
       "\t5 & 2 & 5 & 32.8917 \\\\\n",
       "\t6 & 3 & 4 & -28.91 \\\\\n",
       "\t7 & 4 & 5 & -75.8539 \\\\\n",
       "\t8 & 4 & 7 & 30.059 \\\\\n",
       "\t9 & 4 & 9 & 17.2475 \\\\\n",
       "\t10 & 5 & 6 & 44.7785 \\\\\n",
       "\t11 & 6 & 11 & 6.97574 \\\\\n",
       "\t12 & 6 & 12 & 7.97465 \\\\\n",
       "\t13 & 6 & 13 & 18.0681 \\\\\n",
       "\t14 & 7 & 8 & 0.0 \\\\\n",
       "\t15 & 7 & 9 & 30.059 \\\\\n",
       "\t16 & 9 & 10 & 6.14926 \\\\\n",
       "\t17 & 9 & 14 & 10.1822 \\\\\n",
       "\t18 & 10 & 11 & -3.30074 \\\\\n",
       "\t19 & 12 & 13 & 1.56965 \\\\\n",
       "\t20 & 13 & 14 & 5.4628 \\\\\n",
       "\t21 & 2 & 1 & -264.16 \\\\\n",
       "\t22 & 5 & 1 & -95.7207 \\\\\n",
       "\t23 & 3 & 2 & -70.0 \\\\\n",
       "\t24 & 4 & 2 & -50.5525 \\\\\n",
       "\t25 & 5 & 2 & -32.8917 \\\\\n",
       "\t26 & 4 & 3 & 28.91 \\\\\n",
       "\t27 & 5 & 4 & 75.8539 \\\\\n",
       "\t28 & 7 & 4 & -30.059 \\\\\n",
       "\t29 & 9 & 4 & -17.2475 \\\\\n",
       "\t30 & 6 & 5 & -44.7785 \\\\\n",
       "\t$\\dots$ & $\\dots$ & $\\dots$ & $\\dots$ \\\\\n",
       "\\end{tabular}\n"
      ],
      "text/plain": [
       "\u001b[1m40×3 DataFrame\u001b[0m\n",
       "\u001b[1m Row \u001b[0m│\u001b[1m fbus  \u001b[0m\u001b[1m tbus  \u001b[0m\u001b[1m flow      \u001b[0m\n",
       "     │\u001b[90m Int64 \u001b[0m\u001b[90m Int64 \u001b[0m\u001b[90m Float64   \u001b[0m\n",
       "─────┼─────────────────────────\n",
       "   1 │     1      2  264.16\n",
       "   2 │     1      5   95.7207\n",
       "   3 │     2      3   70.0\n",
       "   4 │     2      4   50.5525\n",
       "   5 │     2      5   32.8917\n",
       "   6 │     3      4  -28.91\n",
       "   7 │     4      5  -75.8539\n",
       "   8 │     4      7   30.059\n",
       "   9 │     4      9   17.2475\n",
       "  10 │     5      6   44.7785\n",
       "  11 │     6     11    6.97574\n",
       "  ⋮  │   ⋮      ⋮        ⋮\n",
       "  31 │    11      6   -6.97574\n",
       "  32 │    12      6   -7.97465\n",
       "  33 │    13      6  -18.0681\n",
       "  34 │     8      7    0.0\n",
       "  35 │     9      7  -30.059\n",
       "  36 │    10      9   -6.14926\n",
       "  37 │    14      9  -10.1822\n",
       "  38 │    11     10    3.30074\n",
       "  39 │    13     12   -1.56965\n",
       "  40 │    14     13   -5.4628\n",
       "\u001b[36m                19 rows omitted\u001b[0m"
      ]
     },
     "execution_count": 38,
     "metadata": {},
     "output_type": "execute_result"
    }
   ],
   "source": [
    "solution_inc_demand.flows"
   ]
  },
  {
   "cell_type": "code",
   "execution_count": 39,
   "metadata": {},
   "outputs": [
    {
     "data": {
      "text/html": [
       "<div><div style = \"float: left;\"><span>2×2 DataFrame</span></div><div style = \"clear: both;\"></div></div><div class = \"data-frame\" style = \"overflow-x: scroll;\"><table class = \"data-frame\" style = \"margin-bottom: 6px;\"><thead><tr class = \"header\"><th class = \"rowNumber\" style = \"font-weight: bold; text-align: right;\">Row</th><th style = \"text-align: left;\">node</th><th style = \"text-align: left;\">gen</th></tr><tr class = \"subheader headerLastRow\"><th class = \"rowNumber\" style = \"font-weight: bold; text-align: right;\"></th><th title = \"Int64\" style = \"text-align: left;\">Int64</th><th title = \"Float64\" style = \"text-align: left;\">Float64</th></tr></thead><tbody><tr><td class = \"rowNumber\" style = \"font-weight: bold; text-align: right;\">1</td><td style = \"text-align: right;\">1</td><td style = \"text-align: right;\">359.881</td></tr><tr><td class = \"rowNumber\" style = \"font-weight: bold; text-align: right;\">2</td><td style = \"text-align: right;\">2</td><td style = \"text-align: right;\">-87.9306</td></tr></tbody></table></div>"
      ],
      "text/latex": [
       "\\begin{tabular}{r|cc}\n",
       "\t& node & gen\\\\\n",
       "\t\\hline\n",
       "\t& Int64 & Float64\\\\\n",
       "\t\\hline\n",
       "\t1 & 1 & 359.881 \\\\\n",
       "\t2 & 2 & -87.9306 \\\\\n",
       "\\end{tabular}\n"
      ],
      "text/plain": [
       "\u001b[1m2×2 DataFrame\u001b[0m\n",
       "\u001b[1m Row \u001b[0m│\u001b[1m node  \u001b[0m\u001b[1m gen      \u001b[0m\n",
       "     │\u001b[90m Int64 \u001b[0m\u001b[90m Float64  \u001b[0m\n",
       "─────┼─────────────────\n",
       "   1 │     1  359.881\n",
       "   2 │     2  -87.9306"
      ]
     },
     "execution_count": 39,
     "metadata": {},
     "output_type": "execute_result"
    }
   ],
   "source": [
    "solution_inc_demand.generation"
   ]
  },
  {
   "cell_type": "code",
   "execution_count": 40,
   "metadata": {},
   "outputs": [
    {
     "data": {
      "text/plain": [
       "INFEASIBLE::TerminationStatusCode = 2"
      ]
     },
     "execution_count": 40,
     "metadata": {},
     "output_type": "execute_result"
    }
   ],
   "source": [
    "solution_inc_demand.status"
   ]
  },
  {
   "cell_type": "markdown",
   "metadata": {},
   "source": [
    "**What is happening in this system?** "
   ]
  },
  {
   "cell_type": "markdown",
   "metadata": {},
   "source": [
    "This system results in an infeasible solution"
   ]
  },
  {
   "cell_type": "markdown",
   "metadata": {},
   "source": [
    "## Question 2: Linear losses\n",
    "\n",
    "Up until now, we have ignored transmission losses. A quadratic approximation of losses is given by:\n",
    "\n",
    "\\begin{align}\n",
    "LOSS_{ij} &\\approx \\frac{G_{ij}}{BaseMVA} (\\theta_i-\\theta_j)^2 \\\\\n",
    " & \\approx \\frac{1}{BaseMVA} \\frac{R_{ij}}{R_{ij}^2+X_{ij}^2}(\\theta_i-\\theta_j)^2\n",
    "\\end{align}\n",
    "\n",
    "\n",
    "where $G$ is the line's conductance, $R$ is the line's resistance and $X$ is the line's reactance. See the `lines` data frame for these parameters.\n",
    "\n",
    "For our purposes, we will approximate this quadratic via:\n",
    "\n",
    "\n",
    "$$\n",
    "LOSS_{ij} \\geq \\frac{R_{ij}}{BaseMVA} \\times (MaxFlow_{ij})^2 \n",
    "\\left(\\frac{|FLOW_{ij}|}{MaxFlow_{ij}} - 0.165 \\right)\n",
    "$$\n",
    "\n",
    "where $MaxFlow_{ij}=200 MW$ in this problem. Note the greater than equal sign, as we do not want to have negative losses.\n",
    "\n",
    "This approximation is based on Fitiwi et al. (2016), \"Finding a representative network losses model for large-scale transmission expansion planning with renewable energy sources,\" *Energy* 101: 343-358, https://doi.org/10.1016/j.energy.2016.02.015. \n",
    "\n",
    "Note that this is a linear approximation of transmission losses, which are actually a quadratic function of power flows. Fitiwi et al. 2016 and other papers describe piece-wise or segment-wise linear approximations of the quadratic function which provide a tighter lower bound approximation of losses, but we'll use a single linear term for this assignment. \n",
    "\n",
    "See Jenkins & Sepulveda et al. 2017, \"Enhanced decision support for a changing electricity landscape: the GenX configurable electricity resource capacity expansion model\", MIT Energy Initiative Working Paper 2017-10 http://bit.ly/GenXModel Section 5.8, for an example of a linear segment-wise approximation of quadratic transmission losses. \n",
    "\n",
    "\n",
    "**A. Code linear losses**\n",
    "\n",
    "Reload the original data from Notebook 6 and copy the IEEE 14 bus system and DCOPF solver function from Notebook 6 into a new function `dcopf_ieee_lossy`.\n",
    "\n",
    "Make the following changes:\n",
    "- Increase the variable cost of Generator 1 to \\$30 / MWh\n",
    "- Change all transmission line capacities to 200 MW\n",
    "\n",
    "Implement losses into the supply/demand balance equations. A standard way to implement absolute values in linear programming is by introducing two non-negative auxiliary variables $x^+$, $x^-$ $\\geq 0$:\n",
    "\n",
    "$$\n",
    "x = x^+ - x^-\n",
    "$$\n",
    "\n",
    "and the absolute value can be represented as:\n",
    "\n",
    "$$\n",
    "|x| = x^+ + x^-\n",
    "$$\n",
    "\n",
    "(You should satisfy yourself that this equality holds.)\n",
    "\n",
    "It makes the formulation easier if losses are added to the supply/demand balance constraint in each node by splitting losses in half between the receiving and sending end.\n",
    "\n",
    "Indicate which equations and variables you have added and explain your steps using inline code comments (e.g. `# Comment`).\n",
    "\n",
    "Run the lossy DCOPF and output generation, flows, losses, and prices."
   ]
  },
  {
   "cell_type": "code",
   "execution_count": 48,
   "metadata": {},
   "outputs": [
    {
     "data": {
      "text/plain": [
       "30"
      ]
     },
     "execution_count": 48,
     "metadata": {},
     "output_type": "execute_result"
    }
   ],
   "source": [
    "gens_losses = copy(gens)\n",
    "gens_losses[1,:c1] = 30"
   ]
  },
  {
   "cell_type": "code",
   "execution_count": 55,
   "metadata": {},
   "outputs": [],
   "source": [
    "lines_losses = copy(lines)\n",
    "lines_losses[!,:capacity] .= 200;"
   ]
  },
  {
   "cell_type": "code",
   "execution_count": 99,
   "metadata": {},
   "outputs": [
    {
     "data": {
      "text/plain": [
       "dcopf_ieee_lossy (generic function with 1 method)"
      ]
     },
     "execution_count": 99,
     "metadata": {},
     "output_type": "execute_result"
    }
   ],
   "source": [
    "#=\n",
    "Function to solve DC OPF problem using IEEE test cases\n",
    "Inputs:\n",
    "    gen_info -- dataframe with generator info\n",
    "    line_info -- dataframe with transmission lines info\n",
    "    loads  -- dataframe with load info\n",
    "=#\n",
    "function dcopf_ieee_lossy(gens, lines, loads)\n",
    "    DCOPF = Model(GLPK.Optimizer) \n",
    "    \n",
    "    # Define sets based on data\n",
    "      # Set of generator buses\n",
    "    G = gens.connnode\n",
    "    \n",
    "      # Set of all nodes\n",
    "    N = sort(union(unique(lines.fromnode), \n",
    "            unique(lines.tonode)))\n",
    "    \n",
    "      # sets J_i and G_i will be described using dataframe indexing below\n",
    "\n",
    "    # Define per unit base units for the system \n",
    "    # used to convert from per unit values to standard unit\n",
    "    # values (e.g. p.u. power flows to MW/MVA)\n",
    "    baseMVA = 100 # base MVA is 100 MVA for this system\n",
    "    \n",
    "    # Decision variables   \n",
    "    @variables(DCOPF, begin\n",
    "        GEN[N]  >= 0     # generation        \n",
    "        # Note: we assume Pmin = 0 for all resources for simplicty here\n",
    "        THETA[N]         # voltage phase angle of bus\n",
    "        FLOW[N,N]       # flows between all pairs of nodes\n",
    "        FLOW_PLUS[N,N] >= 0        # auxiliary variable for flow\n",
    "        FLOW_MINUS[N,N] >= 0       # auxiliary variable for flow\n",
    "        LOSS[N,N] # losses in lines\n",
    "    end)\n",
    "    \n",
    "    # Create slack bus with reference angle = 0; use bus 1 with generator\n",
    "    fix(THETA[1],0)\n",
    "                \n",
    "    # Objective function\n",
    "    @objective(DCOPF, Min, \n",
    "        sum( gens[g,:c1] * GEN[g] for g in G)\n",
    "    )\n",
    "    \n",
    "    # Flow auxiliary variables definition constraint\n",
    "    @constraint(DCOPF, cAux[l in 1:nrow(lines)], \n",
    "        FLOW[lines[l,:fromnode],lines[l,:tonode]] == FLOW_PLUS[lines[l,:fromnode],lines[l,:tonode]]-FLOW_MINUS[lines[l,:fromnode],lines[l,:tonode]]\n",
    "    )\n",
    "    \n",
    "    # Losses constraint\n",
    "    cLosses = JuMP.Containers.DenseAxisArray{Any}(undef, 1:nrow(lines))\n",
    "    for l in 1:nrow(lines)\n",
    "        cLosses[l] = @constraint(DCOPF,\n",
    "            LOSS[lines[l,:fromnode],lines[l,:tonode]] >= \n",
    "            (lines[l,:resistance]/baseMVA)*(lines[l,:capacity]*lines[l,:capacity])*(((FLOW_PLUS[lines[l,:fromnode],lines[l,:tonode]]+FLOW_MINUS[lines[l,:fromnode],lines[l,:tonode]])./lines[l,:capacity])-0.165)\n",
    "        )\n",
    "    end\n",
    "    \n",
    "    # Supply demand balances\n",
    "    @constraint(DCOPF, cBalance[i in N], \n",
    "        sum(GEN[g] for g in gens[gens.connnode .== i,:connnode]) \n",
    "            + sum(load for load in loads[loads.connnode .== i,:demand]) \n",
    "        == sum(FLOW[i,j]+LOSS[i,j] for j in lines[lines.fromnode .== i,:tonode]) # losses are now included \n",
    "    )\n",
    "\n",
    "    # Max generation constraint\n",
    "    @constraint(DCOPF, cMaxGen[g in G],\n",
    "                    GEN[g] <= gens[g,:pgmax])\n",
    "\n",
    "    # Flow constraints on each branch; \n",
    "    # In DCOPF, line flow is a function of voltage angles\n",
    "       # Create an array of references to the line constraints, \n",
    "       # which we \"fill\" below in loop\n",
    "    cLineFlows = JuMP.Containers.DenseAxisArray{Any}(undef, 1:nrow(lines)) \n",
    "    for l in 1:nrow(lines)\n",
    "        cLineFlows[l] = @constraint(DCOPF, \n",
    "            FLOW[lines[l,:fromnode],lines[l,:tonode]] == \n",
    "            baseMVA * lines[l,:b] * \n",
    "            (THETA[lines[l,:fromnode]] - THETA[lines[l,:tonode]])\n",
    "        )\n",
    "    end\n",
    "    \n",
    "    # Max line flow limits\n",
    "       # Create an array of references to the line constraints, \n",
    "       # which we \"fill\" below in loop\n",
    "    cLineLimits = JuMP.Containers.DenseAxisArray{Any}(undef, 1:nrow(lines)) \n",
    "    for l in 1:nrow(lines)\n",
    "        cLineLimits[l] = @constraint(DCOPF,\n",
    "            FLOW[lines[l,:fromnode],lines[l,:tonode]] <=\n",
    "            lines[l,:capacity]\n",
    "        ) \n",
    "    end\n",
    "\n",
    "    # Solve statement (! indicates runs in place)\n",
    "    optimize!(DCOPF)\n",
    "\n",
    "    # Output variables\n",
    "    generation = DataFrame(\n",
    "        node = gens.connnode,\n",
    "        gen = value.(GEN).data[gens.connnode]\n",
    "        )\n",
    "    \n",
    "    angles = value.(THETA).data\n",
    "    \n",
    "    flows = DataFrame(\n",
    "        fbus = lines.fromnode,\n",
    "        tbus = lines.tonode,\n",
    "        flow = baseMVA * lines.b .* (angles[lines.fromnode] .- \n",
    "                        angles[lines.tonode]))\n",
    "    \n",
    "    # We output the marginal values of the demand constraints, \n",
    "    # which will in fact be the prices to deliver power at a given bus.\n",
    "    prices = DataFrame(\n",
    "        node = N,\n",
    "        value = dual.(cBalance).data)\n",
    "    \n",
    "    # provide the losses as output\n",
    "    losses = value.(LOSS).data\n",
    "    \n",
    "    # Return the solution and objective as named tuple\n",
    "    return (\n",
    "        generation = generation, \n",
    "        angles,\n",
    "        flows,\n",
    "        prices,\n",
    "        losses,\n",
    "        cost = objective_value(DCOPF),\n",
    "        status = termination_status(DCOPF)\n",
    "    )\n",
    "end"
   ]
  },
  {
   "cell_type": "code",
   "execution_count": 100,
   "metadata": {},
   "outputs": [],
   "source": [
    "solution_losses = dcopf_ieee_lossy(gens_losses, lines_losses, loads);"
   ]
  },
  {
   "cell_type": "code",
   "execution_count": 101,
   "metadata": {},
   "outputs": [
    {
     "data": {
      "text/html": [
       "<div><div style = \"float: left;\"><span>2×2 DataFrame</span></div><div style = \"clear: both;\"></div></div><div class = \"data-frame\" style = \"overflow-x: scroll;\"><table class = \"data-frame\" style = \"margin-bottom: 6px;\"><thead><tr class = \"header\"><th class = \"rowNumber\" style = \"font-weight: bold; text-align: right;\">Row</th><th style = \"text-align: left;\">node</th><th style = \"text-align: left;\">gen</th></tr><tr class = \"subheader headerLastRow\"><th class = \"rowNumber\" style = \"font-weight: bold; text-align: right;\"></th><th title = \"Int64\" style = \"text-align: left;\">Int64</th><th title = \"Float64\" style = \"text-align: left;\">Float64</th></tr></thead><tbody><tr><td class = \"rowNumber\" style = \"font-weight: bold; text-align: right;\">1</td><td style = \"text-align: right;\">1</td><td style = \"text-align: right;\">29.6021</td></tr><tr><td class = \"rowNumber\" style = \"font-weight: bold; text-align: right;\">2</td><td style = \"text-align: right;\">2</td><td style = \"text-align: right;\">140.0</td></tr></tbody></table></div>"
      ],
      "text/latex": [
       "\\begin{tabular}{r|cc}\n",
       "\t& node & gen\\\\\n",
       "\t\\hline\n",
       "\t& Int64 & Float64\\\\\n",
       "\t\\hline\n",
       "\t1 & 1 & 29.6021 \\\\\n",
       "\t2 & 2 & 140.0 \\\\\n",
       "\\end{tabular}\n"
      ],
      "text/plain": [
       "\u001b[1m2×2 DataFrame\u001b[0m\n",
       "\u001b[1m Row \u001b[0m│\u001b[1m node  \u001b[0m\u001b[1m gen      \u001b[0m\n",
       "     │\u001b[90m Int64 \u001b[0m\u001b[90m Float64  \u001b[0m\n",
       "─────┼─────────────────\n",
       "   1 │     1   29.6021\n",
       "   2 │     2  140.0"
      ]
     },
     "execution_count": 101,
     "metadata": {},
     "output_type": "execute_result"
    }
   ],
   "source": [
    "solution_losses.generation"
   ]
  },
  {
   "cell_type": "code",
   "execution_count": 102,
   "metadata": {},
   "outputs": [
    {
     "data": {
      "text/html": [
       "<div><div style = \"float: left;\"><span>40×3 DataFrame</span></div><div style = \"float: right;\"><span style = \"font-style: italic;\">15 rows omitted</span></div><div style = \"clear: both;\"></div></div><div class = \"data-frame\" style = \"overflow-x: scroll;\"><table class = \"data-frame\" style = \"margin-bottom: 6px;\"><thead><tr class = \"header\"><th class = \"rowNumber\" style = \"font-weight: bold; text-align: right;\">Row</th><th style = \"text-align: left;\">fbus</th><th style = \"text-align: left;\">tbus</th><th style = \"text-align: left;\">flow</th></tr><tr class = \"subheader headerLastRow\"><th class = \"rowNumber\" style = \"font-weight: bold; text-align: right;\"></th><th title = \"Int64\" style = \"text-align: left;\">Int64</th><th title = \"Int64\" style = \"text-align: left;\">Int64</th><th title = \"Float64\" style = \"text-align: left;\">Float64</th></tr></thead><tbody><tr><td class = \"rowNumber\" style = \"font-weight: bold; text-align: right;\">1</td><td style = \"text-align: right;\">1</td><td style = \"text-align: right;\">2</td><td style = \"text-align: right;\">9.17622</td></tr><tr><td class = \"rowNumber\" style = \"font-weight: bold; text-align: right;\">2</td><td style = \"text-align: right;\">1</td><td style = \"text-align: right;\">5</td><td style = \"text-align: right;\">22.4855</td></tr><tr><td class = \"rowNumber\" style = \"font-weight: bold; text-align: right;\">3</td><td style = \"text-align: right;\">2</td><td style = \"text-align: right;\">3</td><td style = \"text-align: right;\">62.8772</td></tr><tr><td class = \"rowNumber\" style = \"font-weight: bold; text-align: right;\">4</td><td style = \"text-align: right;\">2</td><td style = \"text-align: right;\">4</td><td style = \"text-align: right;\">37.3214</td></tr><tr><td class = \"rowNumber\" style = \"font-weight: bold; text-align: right;\">5</td><td style = \"text-align: right;\">2</td><td style = \"text-align: right;\">5</td><td style = \"text-align: right;\">25.7201</td></tr><tr><td class = \"rowNumber\" style = \"font-weight: bold; text-align: right;\">6</td><td style = \"text-align: right;\">3</td><td style = \"text-align: right;\">4</td><td style = \"text-align: right;\">-34.3056</td></tr><tr><td class = \"rowNumber\" style = \"font-weight: bold; text-align: right;\">7</td><td style = \"text-align: right;\">4</td><td style = \"text-align: right;\">5</td><td style = \"text-align: right;\">-50.0663</td></tr><tr><td class = \"rowNumber\" style = \"font-weight: bold; text-align: right;\">8</td><td style = \"text-align: right;\">4</td><td style = \"text-align: right;\">7</td><td style = \"text-align: right;\">2.63645</td></tr><tr><td class = \"rowNumber\" style = \"font-weight: bold; text-align: right;\">9</td><td style = \"text-align: right;\">4</td><td style = \"text-align: right;\">9</td><td style = \"text-align: right;\">1.51277</td></tr><tr><td class = \"rowNumber\" style = \"font-weight: bold; text-align: right;\">10</td><td style = \"text-align: right;\">5</td><td style = \"text-align: right;\">6</td><td style = \"text-align: right;\">-7.951</td></tr><tr><td class = \"rowNumber\" style = \"font-weight: bold; text-align: right;\">11</td><td style = \"text-align: right;\">6</td><td style = \"text-align: right;\">11</td><td style = \"text-align: right;\">8.59189</td></tr><tr><td class = \"rowNumber\" style = \"font-weight: bold; text-align: right;\">12</td><td style = \"text-align: right;\">6</td><td style = \"text-align: right;\">12</td><td style = \"text-align: right;\">-7.19141</td></tr><tr><td class = \"rowNumber\" style = \"font-weight: bold; text-align: right;\">13</td><td style = \"text-align: right;\">6</td><td style = \"text-align: right;\">13</td><td style = \"text-align: right;\">-5.99832</td></tr><tr><td style = \"text-align: right;\">&vellip;</td><td style = \"text-align: right;\">&vellip;</td><td style = \"text-align: right;\">&vellip;</td><td style = \"text-align: right;\">&vellip;</td></tr><tr><td class = \"rowNumber\" style = \"font-weight: bold; text-align: right;\">29</td><td style = \"text-align: right;\">9</td><td style = \"text-align: right;\">4</td><td style = \"text-align: right;\">-1.51277</td></tr><tr><td class = \"rowNumber\" style = \"font-weight: bold; text-align: right;\">30</td><td style = \"text-align: right;\">6</td><td style = \"text-align: right;\">5</td><td style = \"text-align: right;\">7.951</td></tr><tr><td class = \"rowNumber\" style = \"font-weight: bold; text-align: right;\">31</td><td style = \"text-align: right;\">11</td><td style = \"text-align: right;\">6</td><td style = \"text-align: right;\">-8.59189</td></tr><tr><td class = \"rowNumber\" style = \"font-weight: bold; text-align: right;\">32</td><td style = \"text-align: right;\">12</td><td style = \"text-align: right;\">6</td><td style = \"text-align: right;\">7.19141</td></tr><tr><td class = \"rowNumber\" style = \"font-weight: bold; text-align: right;\">33</td><td style = \"text-align: right;\">13</td><td style = \"text-align: right;\">6</td><td style = \"text-align: right;\">5.99832</td></tr><tr><td class = \"rowNumber\" style = \"font-weight: bold; text-align: right;\">34</td><td style = \"text-align: right;\">8</td><td style = \"text-align: right;\">7</td><td style = \"text-align: right;\">-1.57568e-14</td></tr><tr><td class = \"rowNumber\" style = \"font-weight: bold; text-align: right;\">35</td><td style = \"text-align: right;\">9</td><td style = \"text-align: right;\">7</td><td style = \"text-align: right;\">-2.63645</td></tr><tr><td class = \"rowNumber\" style = \"font-weight: bold; text-align: right;\">36</td><td style = \"text-align: right;\">10</td><td style = \"text-align: right;\">9</td><td style = \"text-align: right;\">8.82737</td></tr><tr><td class = \"rowNumber\" style = \"font-weight: bold; text-align: right;\">37</td><td style = \"text-align: right;\">14</td><td style = \"text-align: right;\">9</td><td style = \"text-align: right;\">8.84483</td></tr><tr><td class = \"rowNumber\" style = \"font-weight: bold; text-align: right;\">38</td><td style = \"text-align: right;\">11</td><td style = \"text-align: right;\">10</td><td style = \"text-align: right;\">13.009</td></tr><tr><td class = \"rowNumber\" style = \"font-weight: bold; text-align: right;\">39</td><td style = \"text-align: right;\">13</td><td style = \"text-align: right;\">12</td><td style = \"text-align: right;\">-5.29433</td></tr><tr><td class = \"rowNumber\" style = \"font-weight: bold; text-align: right;\">40</td><td style = \"text-align: right;\">14</td><td style = \"text-align: right;\">13</td><td style = \"text-align: right;\">-9.60695</td></tr></tbody></table></div>"
      ],
      "text/latex": [
       "\\begin{tabular}{r|ccc}\n",
       "\t& fbus & tbus & flow\\\\\n",
       "\t\\hline\n",
       "\t& Int64 & Int64 & Float64\\\\\n",
       "\t\\hline\n",
       "\t1 & 1 & 2 & 9.17622 \\\\\n",
       "\t2 & 1 & 5 & 22.4855 \\\\\n",
       "\t3 & 2 & 3 & 62.8772 \\\\\n",
       "\t4 & 2 & 4 & 37.3214 \\\\\n",
       "\t5 & 2 & 5 & 25.7201 \\\\\n",
       "\t6 & 3 & 4 & -34.3056 \\\\\n",
       "\t7 & 4 & 5 & -50.0663 \\\\\n",
       "\t8 & 4 & 7 & 2.63645 \\\\\n",
       "\t9 & 4 & 9 & 1.51277 \\\\\n",
       "\t10 & 5 & 6 & -7.951 \\\\\n",
       "\t11 & 6 & 11 & 8.59189 \\\\\n",
       "\t12 & 6 & 12 & -7.19141 \\\\\n",
       "\t13 & 6 & 13 & -5.99832 \\\\\n",
       "\t14 & 7 & 8 & 1.57568e-14 \\\\\n",
       "\t15 & 7 & 9 & 2.63645 \\\\\n",
       "\t16 & 9 & 10 & -8.82737 \\\\\n",
       "\t17 & 9 & 14 & -8.84483 \\\\\n",
       "\t18 & 10 & 11 & -13.009 \\\\\n",
       "\t19 & 12 & 13 & 5.29433 \\\\\n",
       "\t20 & 13 & 14 & 9.60695 \\\\\n",
       "\t21 & 2 & 1 & -9.17622 \\\\\n",
       "\t22 & 5 & 1 & -22.4855 \\\\\n",
       "\t23 & 3 & 2 & -62.8772 \\\\\n",
       "\t24 & 4 & 2 & -37.3214 \\\\\n",
       "\t25 & 5 & 2 & -25.7201 \\\\\n",
       "\t26 & 4 & 3 & 34.3056 \\\\\n",
       "\t27 & 5 & 4 & 50.0663 \\\\\n",
       "\t28 & 7 & 4 & -2.63645 \\\\\n",
       "\t29 & 9 & 4 & -1.51277 \\\\\n",
       "\t30 & 6 & 5 & 7.951 \\\\\n",
       "\t$\\dots$ & $\\dots$ & $\\dots$ & $\\dots$ \\\\\n",
       "\\end{tabular}\n"
      ],
      "text/plain": [
       "\u001b[1m40×3 DataFrame\u001b[0m\n",
       "\u001b[1m Row \u001b[0m│\u001b[1m fbus  \u001b[0m\u001b[1m tbus  \u001b[0m\u001b[1m flow          \u001b[0m\n",
       "     │\u001b[90m Int64 \u001b[0m\u001b[90m Int64 \u001b[0m\u001b[90m Float64       \u001b[0m\n",
       "─────┼─────────────────────────────\n",
       "   1 │     1      2    9.17622\n",
       "   2 │     1      5   22.4855\n",
       "   3 │     2      3   62.8772\n",
       "   4 │     2      4   37.3214\n",
       "   5 │     2      5   25.7201\n",
       "   6 │     3      4  -34.3056\n",
       "   7 │     4      5  -50.0663\n",
       "   8 │     4      7    2.63645\n",
       "   9 │     4      9    1.51277\n",
       "  10 │     5      6   -7.951\n",
       "  11 │     6     11    8.59189\n",
       "  ⋮  │   ⋮      ⋮          ⋮\n",
       "  31 │    11      6   -8.59189\n",
       "  32 │    12      6    7.19141\n",
       "  33 │    13      6    5.99832\n",
       "  34 │     8      7   -1.57568e-14\n",
       "  35 │     9      7   -2.63645\n",
       "  36 │    10      9    8.82737\n",
       "  37 │    14      9    8.84483\n",
       "  38 │    11     10   13.009\n",
       "  39 │    13     12   -5.29433\n",
       "  40 │    14     13   -9.60695\n",
       "\u001b[36m                    19 rows omitted\u001b[0m"
      ]
     },
     "execution_count": 102,
     "metadata": {},
     "output_type": "execute_result"
    }
   ],
   "source": [
    "solution_losses.flows"
   ]
  },
  {
   "cell_type": "code",
   "execution_count": 103,
   "metadata": {},
   "outputs": [
    {
     "data": {
      "text/plain": [
       "14×14 Matrix{Float64}:\n",
       "  0.0      -0.92341   0.0       0.0       …    0.0        0.0       0.0\n",
       " -0.92341   0.0       2.80786   0.502232       0.0        0.0       0.0\n",
       "  0.0       2.80786   0.0       0.174981       0.0        0.0       0.0\n",
       "  0.0       0.502232  0.174981  0.0            0.0        0.0       0.0\n",
       " -1.13619  -0.829178  0.0       0.455671       0.0        0.0       0.0\n",
       "  0.0       0.0       0.0       0.0       …   -6.34427   -3.57232   0.0\n",
       "  0.0       0.0       0.0       0.0            0.0        0.0       0.0\n",
       "  0.0       0.0       0.0       0.0            0.0        0.0       0.0\n",
       "  0.0       0.0       0.0       0.0            0.0        0.0      -6.14073\n",
       "  0.0       0.0       0.0       0.0            0.0        0.0       0.0\n",
       "  0.0       0.0       0.0       0.0       …    0.0        0.0       0.0\n",
       "  0.0       0.0       0.0       0.0            0.0      -12.2415    0.0\n",
       "  0.0       0.0       0.0       0.0          -12.2415     0.0      -7.99715\n",
       "  0.0       0.0       0.0       0.0            0.0       -7.99715   0.0"
      ]
     },
     "execution_count": 103,
     "metadata": {},
     "output_type": "execute_result"
    }
   ],
   "source": [
    "solution_losses.losses"
   ]
  },
  {
   "cell_type": "code",
   "execution_count": 112,
   "metadata": {},
   "outputs": [
    {
     "data": {
      "text/html": [
       "<div><div style = \"float: left;\"><span>14×2 DataFrame</span></div><div style = \"clear: both;\"></div></div><div class = \"data-frame\" style = \"overflow-x: scroll;\"><table class = \"data-frame\" style = \"margin-bottom: 6px;\"><thead><tr class = \"header\"><th class = \"rowNumber\" style = \"font-weight: bold; text-align: right;\">Row</th><th style = \"text-align: left;\">node</th><th style = \"text-align: left;\">value</th></tr><tr class = \"subheader headerLastRow\"><th class = \"rowNumber\" style = \"font-weight: bold; text-align: right;\"></th><th title = \"Int64\" style = \"text-align: left;\">Int64</th><th title = \"Float64\" style = \"text-align: left;\">Float64</th></tr></thead><tbody><tr><td class = \"rowNumber\" style = \"font-weight: bold; text-align: right;\">1</td><td style = \"text-align: right;\">1</td><td style = \"text-align: right;\">30.0</td></tr><tr><td class = \"rowNumber\" style = \"font-weight: bold; text-align: right;\">2</td><td style = \"text-align: right;\">2</td><td style = \"text-align: right;\">32.5304</td></tr><tr><td class = \"rowNumber\" style = \"font-weight: bold; text-align: right;\">3</td><td style = \"text-align: right;\">3</td><td style = \"text-align: right;\">45.8675</td></tr><tr><td class = \"rowNumber\" style = \"font-weight: bold; text-align: right;\">4</td><td style = \"text-align: right;\">4</td><td style = \"text-align: right;\">39.5736</td></tr><tr><td class = \"rowNumber\" style = \"font-weight: bold; text-align: right;\">5</td><td style = \"text-align: right;\">5</td><td style = \"text-align: right;\">36.8181</td></tr><tr><td class = \"rowNumber\" style = \"font-weight: bold; text-align: right;\">6</td><td style = \"text-align: right;\">6</td><td style = \"text-align: right;\">26.8452</td></tr><tr><td class = \"rowNumber\" style = \"font-weight: bold; text-align: right;\">7</td><td style = \"text-align: right;\">7</td><td style = \"text-align: right;\">44.8318</td></tr><tr><td class = \"rowNumber\" style = \"font-weight: bold; text-align: right;\">8</td><td style = \"text-align: right;\">8</td><td style = \"text-align: right;\">44.8318</td></tr><tr><td class = \"rowNumber\" style = \"font-weight: bold; text-align: right;\">9</td><td style = \"text-align: right;\">9</td><td style = \"text-align: right;\">47.598</td></tr><tr><td class = \"rowNumber\" style = \"font-weight: bold; text-align: right;\">10</td><td style = \"text-align: right;\">10</td><td style = \"text-align: right;\">43.4918</td></tr><tr><td class = \"rowNumber\" style = \"font-weight: bold; text-align: right;\">11</td><td style = \"text-align: right;\">11</td><td style = \"text-align: right;\">34.5279</td></tr><tr><td class = \"rowNumber\" style = \"font-weight: bold; text-align: right;\">12</td><td style = \"text-align: right;\">12</td><td style = \"text-align: right;\">11.41</td></tr><tr><td class = \"rowNumber\" style = \"font-weight: bold; text-align: right;\">13</td><td style = \"text-align: right;\">13</td><td style = \"text-align: right;\">21.0313</td></tr><tr><td class = \"rowNumber\" style = \"font-weight: bold; text-align: right;\">14</td><td style = \"text-align: right;\">14</td><td style = \"text-align: right;\">32.5243</td></tr></tbody></table></div>"
      ],
      "text/latex": [
       "\\begin{tabular}{r|cc}\n",
       "\t& node & value\\\\\n",
       "\t\\hline\n",
       "\t& Int64 & Float64\\\\\n",
       "\t\\hline\n",
       "\t1 & 1 & 30.0 \\\\\n",
       "\t2 & 2 & 32.5304 \\\\\n",
       "\t3 & 3 & 45.8675 \\\\\n",
       "\t4 & 4 & 39.5736 \\\\\n",
       "\t5 & 5 & 36.8181 \\\\\n",
       "\t6 & 6 & 26.8452 \\\\\n",
       "\t7 & 7 & 44.8318 \\\\\n",
       "\t8 & 8 & 44.8318 \\\\\n",
       "\t9 & 9 & 47.598 \\\\\n",
       "\t10 & 10 & 43.4918 \\\\\n",
       "\t11 & 11 & 34.5279 \\\\\n",
       "\t12 & 12 & 11.41 \\\\\n",
       "\t13 & 13 & 21.0313 \\\\\n",
       "\t14 & 14 & 32.5243 \\\\\n",
       "\\end{tabular}\n"
      ],
      "text/plain": [
       "\u001b[1m14×2 DataFrame\u001b[0m\n",
       "\u001b[1m Row \u001b[0m│\u001b[1m node  \u001b[0m\u001b[1m value   \u001b[0m\n",
       "     │\u001b[90m Int64 \u001b[0m\u001b[90m Float64 \u001b[0m\n",
       "─────┼────────────────\n",
       "   1 │     1  30.0\n",
       "   2 │     2  32.5304\n",
       "   3 │     3  45.8675\n",
       "   4 │     4  39.5736\n",
       "   5 │     5  36.8181\n",
       "   6 │     6  26.8452\n",
       "   7 │     7  44.8318\n",
       "   8 │     8  44.8318\n",
       "   9 │     9  47.598\n",
       "  10 │    10  43.4918\n",
       "  11 │    11  34.5279\n",
       "  12 │    12  11.41\n",
       "  13 │    13  21.0313\n",
       "  14 │    14  32.5243"
      ]
     },
     "execution_count": 112,
     "metadata": {},
     "output_type": "execute_result"
    }
   ],
   "source": [
    "solution_losses.prices"
   ]
  },
  {
   "cell_type": "markdown",
   "metadata": {},
   "source": [
    "**B. Interpret results**\n",
    "\n",
    "Run the same parameters in the lossless OPF from problem 1. How do prices and flows change? What is the largest magnitude difference in prices between the solution with losses and the lossless OPF solution?"
   ]
  },
  {
   "cell_type": "code",
   "execution_count": 107,
   "metadata": {},
   "outputs": [],
   "source": [
    "solution_no_losses = dcopf_ieee(gens_losses, lines_losses, loads);"
   ]
  },
  {
   "cell_type": "code",
   "execution_count": 108,
   "metadata": {},
   "outputs": [
    {
     "data": {
      "text/html": [
       "<div><div style = \"float: left;\"><span>2×2 DataFrame</span></div><div style = \"clear: both;\"></div></div><div class = \"data-frame\" style = \"overflow-x: scroll;\"><table class = \"data-frame\" style = \"margin-bottom: 6px;\"><thead><tr class = \"header\"><th class = \"rowNumber\" style = \"font-weight: bold; text-align: right;\">Row</th><th style = \"text-align: left;\">node</th><th style = \"text-align: left;\">gen</th></tr><tr class = \"subheader headerLastRow\"><th class = \"rowNumber\" style = \"font-weight: bold; text-align: right;\"></th><th title = \"Int64\" style = \"text-align: left;\">Int64</th><th title = \"Float64\" style = \"text-align: left;\">Float64</th></tr></thead><tbody><tr><td class = \"rowNumber\" style = \"font-weight: bold; text-align: right;\">1</td><td style = \"text-align: right;\">1</td><td style = \"text-align: right;\">119.0</td></tr><tr><td class = \"rowNumber\" style = \"font-weight: bold; text-align: right;\">2</td><td style = \"text-align: right;\">2</td><td style = \"text-align: right;\">140.0</td></tr></tbody></table></div>"
      ],
      "text/latex": [
       "\\begin{tabular}{r|cc}\n",
       "\t& node & gen\\\\\n",
       "\t\\hline\n",
       "\t& Int64 & Float64\\\\\n",
       "\t\\hline\n",
       "\t1 & 1 & 119.0 \\\\\n",
       "\t2 & 2 & 140.0 \\\\\n",
       "\\end{tabular}\n"
      ],
      "text/plain": [
       "\u001b[1m2×2 DataFrame\u001b[0m\n",
       "\u001b[1m Row \u001b[0m│\u001b[1m node  \u001b[0m\u001b[1m gen     \u001b[0m\n",
       "     │\u001b[90m Int64 \u001b[0m\u001b[90m Float64 \u001b[0m\n",
       "─────┼────────────────\n",
       "   1 │     1    119.0\n",
       "   2 │     2    140.0"
      ]
     },
     "execution_count": 108,
     "metadata": {},
     "output_type": "execute_result"
    }
   ],
   "source": [
    "solution_no_losses.generation"
   ]
  },
  {
   "cell_type": "code",
   "execution_count": 109,
   "metadata": {},
   "outputs": [
    {
     "data": {
      "text/html": [
       "<div><div style = \"float: left;\"><span>40×3 DataFrame</span></div><div style = \"float: right;\"><span style = \"font-style: italic;\">15 rows omitted</span></div><div style = \"clear: both;\"></div></div><div class = \"data-frame\" style = \"overflow-x: scroll;\"><table class = \"data-frame\" style = \"margin-bottom: 6px;\"><thead><tr class = \"header\"><th class = \"rowNumber\" style = \"font-weight: bold; text-align: right;\">Row</th><th style = \"text-align: left;\">fbus</th><th style = \"text-align: left;\">tbus</th><th style = \"text-align: left;\">flow</th></tr><tr class = \"subheader headerLastRow\"><th class = \"rowNumber\" style = \"font-weight: bold; text-align: right;\"></th><th title = \"Int64\" style = \"text-align: left;\">Int64</th><th title = \"Int64\" style = \"text-align: left;\">Int64</th><th title = \"Float64\" style = \"text-align: left;\">Float64</th></tr></thead><tbody><tr><td class = \"rowNumber\" style = \"font-weight: bold; text-align: right;\">1</td><td style = \"text-align: right;\">1</td><td style = \"text-align: right;\">2</td><td style = \"text-align: right;\">64.0779</td></tr><tr><td class = \"rowNumber\" style = \"font-weight: bold; text-align: right;\">2</td><td style = \"text-align: right;\">1</td><td style = \"text-align: right;\">5</td><td style = \"text-align: right;\">54.9221</td></tr><tr><td class = \"rowNumber\" style = \"font-weight: bold; text-align: right;\">3</td><td style = \"text-align: right;\">2</td><td style = \"text-align: right;\">3</td><td style = \"text-align: right;\">72.7846</td></tr><tr><td class = \"rowNumber\" style = \"font-weight: bold; text-align: right;\">4</td><td style = \"text-align: right;\">2</td><td style = \"text-align: right;\">4</td><td style = \"text-align: right;\">60.9488</td></tr><tr><td class = \"rowNumber\" style = \"font-weight: bold; text-align: right;\">5</td><td style = \"text-align: right;\">2</td><td style = \"text-align: right;\">5</td><td style = \"text-align: right;\">48.6446</td></tr><tr><td class = \"rowNumber\" style = \"font-weight: bold; text-align: right;\">6</td><td style = \"text-align: right;\">3</td><td style = \"text-align: right;\">4</td><td style = \"text-align: right;\">-21.4154</td></tr><tr><td class = \"rowNumber\" style = \"font-weight: bold; text-align: right;\">7</td><td style = \"text-align: right;\">4</td><td style = \"text-align: right;\">5</td><td style = \"text-align: right;\">-54.3377</td></tr><tr><td class = \"rowNumber\" style = \"font-weight: bold; text-align: right;\">8</td><td style = \"text-align: right;\">4</td><td style = \"text-align: right;\">7</td><td style = \"text-align: right;\">29.274</td></tr><tr><td class = \"rowNumber\" style = \"font-weight: bold; text-align: right;\">9</td><td style = \"text-align: right;\">4</td><td style = \"text-align: right;\">9</td><td style = \"text-align: right;\">16.7971</td></tr><tr><td class = \"rowNumber\" style = \"font-weight: bold; text-align: right;\">10</td><td style = \"text-align: right;\">5</td><td style = \"text-align: right;\">6</td><td style = \"text-align: right;\">41.6289</td></tr><tr><td class = \"rowNumber\" style = \"font-weight: bold; text-align: right;\">11</td><td style = \"text-align: right;\">6</td><td style = \"text-align: right;\">11</td><td style = \"text-align: right;\">6.03097</td></tr><tr><td class = \"rowNumber\" style = \"font-weight: bold; text-align: right;\">12</td><td style = \"text-align: right;\">6</td><td style = \"text-align: right;\">12</td><td style = \"text-align: right;\">7.50493</td></tr><tr><td class = \"rowNumber\" style = \"font-weight: bold; text-align: right;\">13</td><td style = \"text-align: right;\">6</td><td style = \"text-align: right;\">13</td><td style = \"text-align: right;\">16.893</td></tr><tr><td style = \"text-align: right;\">&vellip;</td><td style = \"text-align: right;\">&vellip;</td><td style = \"text-align: right;\">&vellip;</td><td style = \"text-align: right;\">&vellip;</td></tr><tr><td class = \"rowNumber\" style = \"font-weight: bold; text-align: right;\">29</td><td style = \"text-align: right;\">9</td><td style = \"text-align: right;\">4</td><td style = \"text-align: right;\">-16.7971</td></tr><tr><td class = \"rowNumber\" style = \"font-weight: bold; text-align: right;\">30</td><td style = \"text-align: right;\">6</td><td style = \"text-align: right;\">5</td><td style = \"text-align: right;\">-41.6289</td></tr><tr><td class = \"rowNumber\" style = \"font-weight: bold; text-align: right;\">31</td><td style = \"text-align: right;\">11</td><td style = \"text-align: right;\">6</td><td style = \"text-align: right;\">-6.03097</td></tr><tr><td class = \"rowNumber\" style = \"font-weight: bold; text-align: right;\">32</td><td style = \"text-align: right;\">12</td><td style = \"text-align: right;\">6</td><td style = \"text-align: right;\">-7.50493</td></tr><tr><td class = \"rowNumber\" style = \"font-weight: bold; text-align: right;\">33</td><td style = \"text-align: right;\">13</td><td style = \"text-align: right;\">6</td><td style = \"text-align: right;\">-16.893</td></tr><tr><td class = \"rowNumber\" style = \"font-weight: bold; text-align: right;\">34</td><td style = \"text-align: right;\">8</td><td style = \"text-align: right;\">7</td><td style = \"text-align: right;\">0.0</td></tr><tr><td class = \"rowNumber\" style = \"font-weight: bold; text-align: right;\">35</td><td style = \"text-align: right;\">9</td><td style = \"text-align: right;\">7</td><td style = \"text-align: right;\">-29.274</td></tr><tr><td class = \"rowNumber\" style = \"font-weight: bold; text-align: right;\">36</td><td style = \"text-align: right;\">10</td><td style = \"text-align: right;\">9</td><td style = \"text-align: right;\">-6.46903</td></tr><tr><td class = \"rowNumber\" style = \"font-weight: bold; text-align: right;\">37</td><td style = \"text-align: right;\">14</td><td style = \"text-align: right;\">9</td><td style = \"text-align: right;\">-10.102</td></tr><tr><td class = \"rowNumber\" style = \"font-weight: bold; text-align: right;\">38</td><td style = \"text-align: right;\">11</td><td style = \"text-align: right;\">10</td><td style = \"text-align: right;\">2.53097</td></tr><tr><td class = \"rowNumber\" style = \"font-weight: bold; text-align: right;\">39</td><td style = \"text-align: right;\">13</td><td style = \"text-align: right;\">12</td><td style = \"text-align: right;\">-1.40493</td></tr><tr><td class = \"rowNumber\" style = \"font-weight: bold; text-align: right;\">40</td><td style = \"text-align: right;\">14</td><td style = \"text-align: right;\">13</td><td style = \"text-align: right;\">-4.79796</td></tr></tbody></table></div>"
      ],
      "text/latex": [
       "\\begin{tabular}{r|ccc}\n",
       "\t& fbus & tbus & flow\\\\\n",
       "\t\\hline\n",
       "\t& Int64 & Int64 & Float64\\\\\n",
       "\t\\hline\n",
       "\t1 & 1 & 2 & 64.0779 \\\\\n",
       "\t2 & 1 & 5 & 54.9221 \\\\\n",
       "\t3 & 2 & 3 & 72.7846 \\\\\n",
       "\t4 & 2 & 4 & 60.9488 \\\\\n",
       "\t5 & 2 & 5 & 48.6446 \\\\\n",
       "\t6 & 3 & 4 & -21.4154 \\\\\n",
       "\t7 & 4 & 5 & -54.3377 \\\\\n",
       "\t8 & 4 & 7 & 29.274 \\\\\n",
       "\t9 & 4 & 9 & 16.7971 \\\\\n",
       "\t10 & 5 & 6 & 41.6289 \\\\\n",
       "\t11 & 6 & 11 & 6.03097 \\\\\n",
       "\t12 & 6 & 12 & 7.50493 \\\\\n",
       "\t13 & 6 & 13 & 16.893 \\\\\n",
       "\t14 & 7 & 8 & 0.0 \\\\\n",
       "\t15 & 7 & 9 & 29.274 \\\\\n",
       "\t16 & 9 & 10 & 6.46903 \\\\\n",
       "\t17 & 9 & 14 & 10.102 \\\\\n",
       "\t18 & 10 & 11 & -2.53097 \\\\\n",
       "\t19 & 12 & 13 & 1.40493 \\\\\n",
       "\t20 & 13 & 14 & 4.79796 \\\\\n",
       "\t21 & 2 & 1 & -64.0779 \\\\\n",
       "\t22 & 5 & 1 & -54.9221 \\\\\n",
       "\t23 & 3 & 2 & -72.7846 \\\\\n",
       "\t24 & 4 & 2 & -60.9488 \\\\\n",
       "\t25 & 5 & 2 & -48.6446 \\\\\n",
       "\t26 & 4 & 3 & 21.4154 \\\\\n",
       "\t27 & 5 & 4 & 54.3377 \\\\\n",
       "\t28 & 7 & 4 & -29.274 \\\\\n",
       "\t29 & 9 & 4 & -16.7971 \\\\\n",
       "\t30 & 6 & 5 & -41.6289 \\\\\n",
       "\t$\\dots$ & $\\dots$ & $\\dots$ & $\\dots$ \\\\\n",
       "\\end{tabular}\n"
      ],
      "text/plain": [
       "\u001b[1m40×3 DataFrame\u001b[0m\n",
       "\u001b[1m Row \u001b[0m│\u001b[1m fbus  \u001b[0m\u001b[1m tbus  \u001b[0m\u001b[1m flow      \u001b[0m\n",
       "     │\u001b[90m Int64 \u001b[0m\u001b[90m Int64 \u001b[0m\u001b[90m Float64   \u001b[0m\n",
       "─────┼─────────────────────────\n",
       "   1 │     1      2   64.0779\n",
       "   2 │     1      5   54.9221\n",
       "   3 │     2      3   72.7846\n",
       "   4 │     2      4   60.9488\n",
       "   5 │     2      5   48.6446\n",
       "   6 │     3      4  -21.4154\n",
       "   7 │     4      5  -54.3377\n",
       "   8 │     4      7   29.274\n",
       "   9 │     4      9   16.7971\n",
       "  10 │     5      6   41.6289\n",
       "  11 │     6     11    6.03097\n",
       "  ⋮  │   ⋮      ⋮        ⋮\n",
       "  31 │    11      6   -6.03097\n",
       "  32 │    12      6   -7.50493\n",
       "  33 │    13      6  -16.893\n",
       "  34 │     8      7    0.0\n",
       "  35 │     9      7  -29.274\n",
       "  36 │    10      9   -6.46903\n",
       "  37 │    14      9  -10.102\n",
       "  38 │    11     10    2.53097\n",
       "  39 │    13     12   -1.40493\n",
       "  40 │    14     13   -4.79796\n",
       "\u001b[36m                19 rows omitted\u001b[0m"
      ]
     },
     "execution_count": 109,
     "metadata": {},
     "output_type": "execute_result"
    }
   ],
   "source": [
    "solution_no_losses.flows"
   ]
  },
  {
   "cell_type": "code",
   "execution_count": 110,
   "metadata": {},
   "outputs": [
    {
     "data": {
      "text/html": [
       "<div><div style = \"float: left;\"><span>14×2 DataFrame</span></div><div style = \"clear: both;\"></div></div><div class = \"data-frame\" style = \"overflow-x: scroll;\"><table class = \"data-frame\" style = \"margin-bottom: 6px;\"><thead><tr class = \"header\"><th class = \"rowNumber\" style = \"font-weight: bold; text-align: right;\">Row</th><th style = \"text-align: left;\">node</th><th style = \"text-align: left;\">value</th></tr><tr class = \"subheader headerLastRow\"><th class = \"rowNumber\" style = \"font-weight: bold; text-align: right;\"></th><th title = \"Int64\" style = \"text-align: left;\">Int64</th><th title = \"Float64\" style = \"text-align: left;\">Float64</th></tr></thead><tbody><tr><td class = \"rowNumber\" style = \"font-weight: bold; text-align: right;\">1</td><td style = \"text-align: right;\">1</td><td style = \"text-align: right;\">30.0</td></tr><tr><td class = \"rowNumber\" style = \"font-weight: bold; text-align: right;\">2</td><td style = \"text-align: right;\">2</td><td style = \"text-align: right;\">30.0</td></tr><tr><td class = \"rowNumber\" style = \"font-weight: bold; text-align: right;\">3</td><td style = \"text-align: right;\">3</td><td style = \"text-align: right;\">30.0</td></tr><tr><td class = \"rowNumber\" style = \"font-weight: bold; text-align: right;\">4</td><td style = \"text-align: right;\">4</td><td style = \"text-align: right;\">30.0</td></tr><tr><td class = \"rowNumber\" style = \"font-weight: bold; text-align: right;\">5</td><td style = \"text-align: right;\">5</td><td style = \"text-align: right;\">30.0</td></tr><tr><td class = \"rowNumber\" style = \"font-weight: bold; text-align: right;\">6</td><td style = \"text-align: right;\">6</td><td style = \"text-align: right;\">30.0</td></tr><tr><td class = \"rowNumber\" style = \"font-weight: bold; text-align: right;\">7</td><td style = \"text-align: right;\">7</td><td style = \"text-align: right;\">30.0</td></tr><tr><td class = \"rowNumber\" style = \"font-weight: bold; text-align: right;\">8</td><td style = \"text-align: right;\">8</td><td style = \"text-align: right;\">30.0</td></tr><tr><td class = \"rowNumber\" style = \"font-weight: bold; text-align: right;\">9</td><td style = \"text-align: right;\">9</td><td style = \"text-align: right;\">30.0</td></tr><tr><td class = \"rowNumber\" style = \"font-weight: bold; text-align: right;\">10</td><td style = \"text-align: right;\">10</td><td style = \"text-align: right;\">30.0</td></tr><tr><td class = \"rowNumber\" style = \"font-weight: bold; text-align: right;\">11</td><td style = \"text-align: right;\">11</td><td style = \"text-align: right;\">30.0</td></tr><tr><td class = \"rowNumber\" style = \"font-weight: bold; text-align: right;\">12</td><td style = \"text-align: right;\">12</td><td style = \"text-align: right;\">30.0</td></tr><tr><td class = \"rowNumber\" style = \"font-weight: bold; text-align: right;\">13</td><td style = \"text-align: right;\">13</td><td style = \"text-align: right;\">30.0</td></tr><tr><td class = \"rowNumber\" style = \"font-weight: bold; text-align: right;\">14</td><td style = \"text-align: right;\">14</td><td style = \"text-align: right;\">30.0</td></tr></tbody></table></div>"
      ],
      "text/latex": [
       "\\begin{tabular}{r|cc}\n",
       "\t& node & value\\\\\n",
       "\t\\hline\n",
       "\t& Int64 & Float64\\\\\n",
       "\t\\hline\n",
       "\t1 & 1 & 30.0 \\\\\n",
       "\t2 & 2 & 30.0 \\\\\n",
       "\t3 & 3 & 30.0 \\\\\n",
       "\t4 & 4 & 30.0 \\\\\n",
       "\t5 & 5 & 30.0 \\\\\n",
       "\t6 & 6 & 30.0 \\\\\n",
       "\t7 & 7 & 30.0 \\\\\n",
       "\t8 & 8 & 30.0 \\\\\n",
       "\t9 & 9 & 30.0 \\\\\n",
       "\t10 & 10 & 30.0 \\\\\n",
       "\t11 & 11 & 30.0 \\\\\n",
       "\t12 & 12 & 30.0 \\\\\n",
       "\t13 & 13 & 30.0 \\\\\n",
       "\t14 & 14 & 30.0 \\\\\n",
       "\\end{tabular}\n"
      ],
      "text/plain": [
       "\u001b[1m14×2 DataFrame\u001b[0m\n",
       "\u001b[1m Row \u001b[0m│\u001b[1m node  \u001b[0m\u001b[1m value   \u001b[0m\n",
       "     │\u001b[90m Int64 \u001b[0m\u001b[90m Float64 \u001b[0m\n",
       "─────┼────────────────\n",
       "   1 │     1     30.0\n",
       "   2 │     2     30.0\n",
       "   3 │     3     30.0\n",
       "   4 │     4     30.0\n",
       "   5 │     5     30.0\n",
       "   6 │     6     30.0\n",
       "   7 │     7     30.0\n",
       "   8 │     8     30.0\n",
       "   9 │     9     30.0\n",
       "  10 │    10     30.0\n",
       "  11 │    11     30.0\n",
       "  12 │    12     30.0\n",
       "  13 │    13     30.0\n",
       "  14 │    14     30.0"
      ]
     },
     "execution_count": 110,
     "metadata": {},
     "output_type": "execute_result"
    }
   ],
   "source": [
    "solution_no_losses.prices"
   ]
  },
  {
   "cell_type": "code",
   "execution_count": 113,
   "metadata": {},
   "outputs": [
    {
     "name": "stdout",
     "output_type": "stream",
     "text": [
      "[-3.552713678800501e-14, 2.5303969499254038, 15.867500733381227, 9.573642582083977, 6.818088649773731, -3.1548362317783827, 14.831836379097744, 14.831836379097712, 17.59797017600613, 13.491842434757782, 4.527937482246124, -18.589977508158523, -8.968680650349473, 2.524326160025872]"
     ]
    }
   ],
   "source": [
    "show(solution_losses.prices[!,:value]-solution_no_losses.prices[!,:value])"
   ]
  },
  {
   "cell_type": "markdown",
   "metadata": {},
   "source": [
    "The prices and flows change ...\n",
    "\n",
    "The largest magnitude difference is ..."
   ]
  },
  {
   "cell_type": "markdown",
   "metadata": {},
   "source": [
    "## Question 3 - Security contingencies\n",
    "\n",
    "Power system operators need to ensure that power is delivered reliably even in the event of unexpected outages (**contingencies**). One common contigency that must be planned for is the loss of a transmission line. The security-constrained OPF (SCOPF) run by operators solves for an optimal dispatch that is simultaneously robust (i.e., feasible) to each of the lines failing individually. This is what is known as **N-1 security**, because we assume that at most one component fails in any given scenario.\n",
    "\n",
    "In this problem, we will not code a full SCOPF, but rather investigate what happens to the feasibility of our problem when we remove transmission lines.\n",
    "\n",
    "**A. Setup data**\n",
    "\n",
    "The following code loads the original dataset (with one row per line) and includes a function `format_lines` that converts this to a format that our solver function can use (duplicating rows for both directions, adding susceptance, etc.)."
   ]
  },
  {
   "cell_type": "code",
   "execution_count": 114,
   "metadata": {},
   "outputs": [
    {
     "data": {
      "text/plain": [
       "format_lines (generic function with 1 method)"
      ]
     },
     "execution_count": 114,
     "metadata": {},
     "output_type": "execute_result"
    }
   ],
   "source": [
    "lines = CSV.read(joinpath(datadir,\"Tran14.csv\"), DataFrame);\n",
    "rename!(lines,lowercase.(names(lines)))\n",
    "\n",
    "function format_lines(lines)\n",
    "    # create line ids \n",
    "    lines.id = 1:nrow(lines);\n",
    "    # add set of rows for reverse direction with same parameters\n",
    "    lines2 = copy(lines)\n",
    "    lines2.f = lines2.fromnode\n",
    "    lines2.fromnode = lines.tonode\n",
    "    lines2.tonode = lines2.f\n",
    "    lines2 = lines2[:,names(lines)]\n",
    "    append!(lines,lines2)\n",
    "\n",
    "    # calculate simple susceptance, ignoring resistance as earlier \n",
    "    lines.b = 1 ./ lines.reactance\n",
    "    return(lines)\n",
    "end"
   ]
  },
  {
   "cell_type": "markdown",
   "metadata": {},
   "source": [
    "Next:\n",
    "\n",
    "1. Set the capacity of all lines in the system at 100 MW, except for the line $l_{12}$, which you should set to 200 MW.\n",
    "\n",
    "2. Create a load dataframe `loads_sens` that increases demands everywhere by 10\\%"
   ]
  },
  {
   "cell_type": "code",
   "execution_count": 123,
   "metadata": {},
   "outputs": [],
   "source": [
    "lines_orig = format_lines(lines)\n",
    "lines_new_cap = copy(lines_orig)\n",
    "lines_new_cap[!,:capacity] .= 100\n",
    "lines_new_cap[1,:capacity] = 200;"
   ]
  },
  {
   "cell_type": "code",
   "execution_count": 128,
   "metadata": {},
   "outputs": [],
   "source": [
    "loads_sens = copy(loads)\n",
    "loads_sens[!,:demand] = loads_sens[!,:demand].*1.10;"
   ]
  },
  {
   "cell_type": "markdown",
   "metadata": {},
   "source": [
    "**B. Loop over line contingencies**\n",
    "\n",
    "Create a dataframe `status` with the `fromnode` and `tonode` columns of `lines`.\n",
    "\n",
    "Create a [for loop](https://docs.julialang.org/en/v1/manual/control-flow/#man-loops) that iterates over each line and:\n",
    "- sets the reactance to be a very high value, 1e9 (i.e., no power will be transmitted)\n",
    "- creates a version of the dataframe that our solver function can use via `format_lines`\n",
    "- runs DCOPF\n",
    "- stores the solution status in a `opf` column in the corresponding row of the `status` dataframe\n",
    "\n",
    "Show the `status` results."
   ]
  },
  {
   "cell_type": "code",
   "execution_count": 154,
   "metadata": {},
   "outputs": [],
   "source": [
    "status = DataFrame(\n",
    "    fromnode = lines_new_cap[!,:fromnode],\n",
    "    tonode = lines_new_cap[!,:tonode],\n",
    "    opf = solution.status\n",
    ");"
   ]
  },
  {
   "cell_type": "code",
   "execution_count": 155,
   "metadata": {},
   "outputs": [],
   "source": [
    "for i in 1:nrow(lines_new_cap)\n",
    "    lines_temp = copy(lines_new_cap)\n",
    "    lines_temp[i,:reactance] = 10^9\n",
    "    lines_temp = format_lines(lines_temp)\n",
    "    sol = dcopf_ieee(gens, lines_temp, loads_sens)\n",
    "    status[i,:opf] = sol.status\n",
    "end\n"
   ]
  },
  {
   "cell_type": "code",
   "execution_count": 172,
   "metadata": {},
   "outputs": [
    {
     "name": "stdout",
     "output_type": "stream",
     "text": [
      "Feasible: 256, Infeasible: 4864"
     ]
    }
   ],
   "source": [
    "num_feasible = 0\n",
    "num_infeasible = 0\n",
    "for i in 1:nrow(lines_new_cap)\n",
    "    if status[i,:opf] == OPTIMAL\n",
    "        num_feasible = num_feasible + 1\n",
    "    else status[i,:opf] == INFEASIBLE\n",
    "        num_infeasible = num_infeasible + 1\n",
    "    end\n",
    "end              \n",
    "print(\"Feasible: \", num_feasible, \", Infeasible: \", num_infeasible)"
   ]
  },
  {
   "cell_type": "markdown",
   "metadata": {},
   "source": [
    "**3. Interpret results**\n",
    "\n",
    "Are all of the cases feasible? If not, how many are infeasible? "
   ]
  },
  {
   "cell_type": "code",
   "execution_count": null,
   "metadata": {},
   "outputs": [],
   "source": []
  },
  {
   "cell_type": "markdown",
   "metadata": {},
   "source": [
    "Pick two cases where the solution gives a different status. (For our purposes, dual infeasible and primal infeasible are the same.) What is happening here?\n",
    "\n",
    "Given this, do you conclude that the system with the assumed transmission line ratings is secure as-is, or do we need to add more redundancy to the system?"
   ]
  },
  {
   "cell_type": "code",
   "execution_count": null,
   "metadata": {},
   "outputs": [],
   "source": []
  }
 ],
 "metadata": {
  "@webio": {
   "lastCommId": null,
   "lastKernelId": null
  },
  "kernelspec": {
   "display_name": "Julia 1.8.1",
   "language": "julia",
   "name": "julia-1.8"
  },
  "language_info": {
   "file_extension": ".jl",
   "mimetype": "application/julia",
   "name": "julia",
   "version": "1.8.1"
  }
 },
 "nbformat": 4,
 "nbformat_minor": 4
}
