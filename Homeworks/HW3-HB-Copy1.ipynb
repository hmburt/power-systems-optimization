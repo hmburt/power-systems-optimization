{
 "cells": [
  {
   "cell_type": "markdown",
   "metadata": {},
   "source": [
    "# Homework 3"
   ]
  },
  {
   "cell_type": "markdown",
   "metadata": {},
   "source": [
    "This Notebook builds on the unit commitment model introduced in [Notebook 5](https://github.com/east-winds/power-systems-optimization/tree/master/Notebooks) and the storage model introduced in [Notebook 2](https://github.com/east-winds/power-systems-optimization/tree/master/Notebooks).\n",
    "\n",
    "First, load (or install if necessary) a set of packages you'll need for this assignment..."
   ]
  },
  {
   "cell_type": "code",
   "execution_count": 1,
   "metadata": {},
   "outputs": [
    {
     "name": "stderr",
     "output_type": "stream",
     "text": [
      "\u001b[32m\u001b[1m    Updating\u001b[22m\u001b[39m registry at `~/.julia/registries/General.toml`\n",
      "\u001b[32m\u001b[1m   Resolving\u001b[22m\u001b[39m package versions...\n",
      "\u001b[32m\u001b[1m  No Changes\u001b[22m\u001b[39m to `~/Documents/GitHub/power-systems-optimization/Project.toml`\n",
      "\u001b[32m\u001b[1m  No Changes\u001b[22m\u001b[39m to `~/Documents/GitHub/power-systems-optimization/Manifest.toml`\n",
      "\u001b[32m\u001b[1m   Resolving\u001b[22m\u001b[39m package versions...\n",
      "\u001b[32m\u001b[1m  No Changes\u001b[22m\u001b[39m to `~/Documents/GitHub/power-systems-optimization/Project.toml`\n",
      "\u001b[32m\u001b[1m  No Changes\u001b[22m\u001b[39m to `~/Documents/GitHub/power-systems-optimization/Manifest.toml`\n",
      "\u001b[32m\u001b[1m   Resolving\u001b[22m\u001b[39m package versions...\n",
      "\u001b[32m\u001b[1m  No Changes\u001b[22m\u001b[39m to `~/Documents/GitHub/power-systems-optimization/Project.toml`\n",
      "\u001b[32m\u001b[1m  No Changes\u001b[22m\u001b[39m to `~/Documents/GitHub/power-systems-optimization/Manifest.toml`\n",
      "\u001b[32m\u001b[1m   Resolving\u001b[22m\u001b[39m package versions...\n",
      "\u001b[32m\u001b[1m  No Changes\u001b[22m\u001b[39m to `~/Documents/GitHub/power-systems-optimization/Project.toml`\n",
      "\u001b[32m\u001b[1m  No Changes\u001b[22m\u001b[39m to `~/Documents/GitHub/power-systems-optimization/Manifest.toml`\n",
      "\u001b[32m\u001b[1m   Resolving\u001b[22m\u001b[39m package versions...\n",
      "\u001b[32m\u001b[1m  No Changes\u001b[22m\u001b[39m to `~/Documents/GitHub/power-systems-optimization/Project.toml`\n",
      "\u001b[32m\u001b[1m  No Changes\u001b[22m\u001b[39m to `~/Documents/GitHub/power-systems-optimization/Manifest.toml`\n",
      "\u001b[32m\u001b[1m   Resolving\u001b[22m\u001b[39m package versions...\n",
      "\u001b[32m\u001b[1m  No Changes\u001b[22m\u001b[39m to `~/Documents/GitHub/power-systems-optimization/Project.toml`\n",
      "\u001b[32m\u001b[1m  No Changes\u001b[22m\u001b[39m to `~/Documents/GitHub/power-systems-optimization/Manifest.toml`\n",
      "┌ Info: Precompiling JuMP [4076af6c-e467-56ae-b986-b466b2749572]\n",
      "└ @ Base loading.jl:1662\n",
      "┌ Info: Precompiling HiGHS [87dc4568-4c63-4d18-b0c0-bb2238e4078b]\n",
      "└ @ Base loading.jl:1662\n",
      "┌ Info: Precompiling CSV [336ed68f-0bac-5ca0-87d4-7b16caf5d00b]\n",
      "└ @ Base loading.jl:1662\n",
      "┌ Info: Precompiling Plots [91a5bcdd-55d7-5caf-9e0b-520d859cae80]\n",
      "└ @ Base loading.jl:1662\n",
      "┌ Warning: For saving to png with the `Plotly` backend `PlotlyBase` and `PlotlyKaleido` need to be installed.\n",
      "│   err = ArgumentError(\"Package PlotlyBase not found in current path.\\n- Run `import Pkg; Pkg.add(\\\"PlotlyBase\\\")` to install the PlotlyBase package.\")\n",
      "└ @ Plots /Users/haydenburt/.julia/packages/Plots/4UTBj/src/backends.jl:425\n",
      "┌ Info: Precompiling VegaLite [112f6efa-9a02-5b7d-90c0-432ed331239a]\n",
      "└ @ Base loading.jl:1662\n"
     ]
    },
    {
     "data": {
      "text/plain": [
       "value_to_df_2dim (generic function with 1 method)"
      ]
     },
     "execution_count": 1,
     "metadata": {},
     "output_type": "execute_result"
    }
   ],
   "source": [
    "# Uncomment and run this first line if you need to install or update packages\n",
    "import Pkg; Pkg.add(\"JuMP\"); Pkg.add(\"HiGHS\"); Pkg.add(\"DataFrames\"); Pkg.add(\"CSV\"); Pkg.add(\"Plots\"); Pkg.add(\"VegaLite\")\n",
    "using JuMP\n",
    "using HiGHS\n",
    "using DataFrames\n",
    "using CSV\n",
    "using Plots; plotly();\n",
    "using VegaLite  # to make some nice plots\n",
    "\n",
    "#=\n",
    "Function to convert JuMP outputs (technically, AxisArrays) with two-indexes to a dataframe\n",
    "Inputs:\n",
    "    var -- JuMP AxisArray (e.g., value.(GEN))\n",
    "Reference: https://jump.dev/JuMP.jl/v0.19/containers/\n",
    "=#\n",
    "function value_to_df_2dim(var)\n",
    "    solution = DataFrame(var.data, :auto)\n",
    "    ax1 = var.axes[1]\n",
    "    ax2 = var.axes[2]\n",
    "    cols = names(solution)\n",
    "    insertcols!(solution, 1, :r_id => ax1)\n",
    "    solution = stack(solution, Not(:r_id), variable_name=:hour)\n",
    "    solution.hour = foldl(replace, [cols[i] => ax2[i] for i in 1:length(ax2)], init=solution.hour)\n",
    "    rename!(solution, :value => :gen)\n",
    "    solution.hour = convert.(Int64,solution.hour)\n",
    "    return solution\n",
    "end"
   ]
  },
  {
   "cell_type": "markdown",
   "metadata": {},
   "source": [
    "## Question 1 - Compare startup costs in unit commitment\n",
    "\n",
    "**A. Code and run basic model.**\n",
    "\n",
    "Data for this problem is stored in [`Homeworks/hw3_data`](hw3_data/).\n",
    "\n",
    "Following the `unit_commitment_simple` modeling formulation in [Notebook 5](https://github.com/east-winds/power-systems-optimization/tree/master/Notebooks), load the above data and create a unit commitment solver function with the following set of constraints:\n",
    "\n",
    "- Demand balance\n",
    "- Minimum / maximum generator constraints (non-committed)\n",
    "- Minimum / maximum generator constraints (committed)\n",
    "- Three-variable commitment formulation\n",
    "\n",
    "Note: the data (with hours 1-24) is already in local time. Hence, do not convert from GMT to GMT-8.\n",
    "\n",
    "Run the UC for the given day and plot a stacked area chart of generation using `@vlplot` from the `VegaLite` package.\n",
    "\n",
    "Throughout this assignment, please use a relative MIP gap of 1% for all questions. (If you are having difficulty getting this to solve on your computer in a reasonble amount of time, you can relax the gap but please then specify clearly in your comments that you have done so.)"
   ]
  },
  {
   "cell_type": "code",
   "execution_count": 2,
   "metadata": {},
   "outputs": [],
   "source": [
    "# load data\n",
    "datadir = joinpath(\"hw3_data\")\n",
    "gen_info = CSV.read(joinpath(datadir,\"Generators_data.csv\"), DataFrame);\n",
    "fuels = CSV.read(joinpath(datadir,\"Fuels_data.csv\"), DataFrame);\n",
    "loads = CSV.read(joinpath(datadir,\"Demand.csv\"), DataFrame);\n",
    "gen_variable = CSV.read(joinpath(datadir,\"Generators_variability.csv\"), DataFrame);\n",
    "\n",
    "# Unit commitment notebook suggests renaming all columns to lowercase:\n",
    "for f in [gen_info, fuels, loads, gen_variable]\n",
    "    rename!(f,lowercase.(names(f)))\n",
    "end"
   ]
  },
  {
   "cell_type": "code",
   "execution_count": 3,
   "metadata": {},
   "outputs": [
    {
     "data": {
      "text/html": [
       "<div><div style = \"float: left;\"><span>22×30 DataFrame</span></div><div style = \"clear: both;\"></div></div><div class = \"data-frame\" style = \"overflow-x: scroll;\"><table class = \"data-frame\" style = \"margin-bottom: 6px;\"><thead><tr class = \"header\"><th class = \"rowNumber\" style = \"font-weight: bold; text-align: right;\">Row</th><th style = \"text-align: left;\">r_id</th><th style = \"text-align: left;\">resource</th><th style = \"text-align: left;\">region</th><th style = \"text-align: left;\">existing_cap_mw</th><th style = \"text-align: left;\">num_units</th><th style = \"text-align: left;\">cap_size</th><th style = \"text-align: left;\">var_om_cost_per_mwh</th><th style = \"text-align: left;\">var_om_cost_per_mwh_in</th><th style = \"text-align: left;\">fuel</th><th style = \"text-align: left;\">heat_rate_mmbtu_per_mwh</th><th style = \"text-align: left;\">heat_rate_mmbtu_mwh_iqr</th><th style = \"text-align: left;\">heat_rate_mmbtu_mwh_std</th><th style = \"text-align: left;\">min_power</th><th style = \"text-align: left;\">ramp_up_percentage</th><th style = \"text-align: left;\">ramp_dn_percentage</th><th style = \"text-align: left;\">start_cost_per_mw</th><th style = \"text-align: left;\">start_fuel_mmbtu_per_mw</th><th style = \"text-align: left;\">up_time</th><th style = \"text-align: left;\">down_time</th><th style = \"text-align: left;\">self_disch</th><th style = \"text-align: left;\">eff_up</th><th style = \"text-align: left;\">eff_down</th><th style = \"text-align: left;\">ratio_power_to_energy</th><th style = \"text-align: left;\">min_duration</th><th style = \"text-align: left;\">max_duration</th><th style = \"text-align: left;\">cluster</th><th style = \"text-align: left;\">fuel_cost</th><th style = \"text-align: left;\">co2_content_tons_per_mmbtu</th><th style = \"text-align: left;\">is_variable</th><th style = \"text-align: left;\">gen_full</th></tr><tr class = \"subheader headerLastRow\"><th class = \"rowNumber\" style = \"font-weight: bold; text-align: right;\"></th><th title = \"Union{Missing, Int64}\" style = \"text-align: left;\">Int64?</th><th title = \"Union{Missing, String}\" style = \"text-align: left;\">String?</th><th title = \"Union{Missing, String15}\" style = \"text-align: left;\">String15?</th><th title = \"Union{Missing, Float64}\" style = \"text-align: left;\">Float64?</th><th title = \"Union{Missing, Int64}\" style = \"text-align: left;\">Int64?</th><th title = \"Union{Missing, Float64}\" style = \"text-align: left;\">Float64?</th><th title = \"Union{Missing, Float64}\" style = \"text-align: left;\">Float64?</th><th title = \"Union{Missing, Int64}\" style = \"text-align: left;\">Int64?</th><th title = \"String31\" style = \"text-align: left;\">String31</th><th title = \"Union{Missing, Float64}\" style = \"text-align: left;\">Float64?</th><th title = \"Union{Missing, Float64}\" style = \"text-align: left;\">Float64?</th><th title = \"Union{Missing, Float64}\" style = \"text-align: left;\">Float64?</th><th title = \"Union{Missing, Float64}\" style = \"text-align: left;\">Float64?</th><th title = \"Union{Missing, Float64}\" style = \"text-align: left;\">Float64?</th><th title = \"Union{Missing, Float64}\" style = \"text-align: left;\">Float64?</th><th title = \"Union{Missing, Int64}\" style = \"text-align: left;\">Int64?</th><th title = \"Union{Missing, Float64}\" style = \"text-align: left;\">Float64?</th><th title = \"Union{Missing, Int64}\" style = \"text-align: left;\">Int64?</th><th title = \"Union{Missing, Int64}\" style = \"text-align: left;\">Int64?</th><th title = \"Union{Missing, Int64}\" style = \"text-align: left;\">Int64?</th><th title = \"Union{Missing, Float64}\" style = \"text-align: left;\">Float64?</th><th title = \"Union{Missing, Float64}\" style = \"text-align: left;\">Float64?</th><th title = \"Union{Missing, Float64}\" style = \"text-align: left;\">Float64?</th><th title = \"Union{Missing, Int64}\" style = \"text-align: left;\">Int64?</th><th title = \"Union{Missing, Int64}\" style = \"text-align: left;\">Int64?</th><th title = \"Union{Missing, Int64}\" style = \"text-align: left;\">Int64?</th><th title = \"Union{Missing, Float64}\" style = \"text-align: left;\">Float64?</th><th title = \"Union{Missing, Float64}\" style = \"text-align: left;\">Float64?</th><th title = \"Bool\" style = \"text-align: left;\">Bool</th><th title = \"String\" style = \"text-align: left;\">String</th></tr></thead><tbody><tr><td class = \"rowNumber\" style = \"font-weight: bold; text-align: right;\">1</td><td style = \"text-align: right;\">1</td><td style = \"text-align: left;\">biomass</td><td style = \"text-align: left;\">WEC_SDGE</td><td style = \"text-align: right;\">21.4</td><td style = \"text-align: right;\">20</td><td style = \"text-align: right;\">1.07</td><td style = \"text-align: right;\">5.234</td><td style = \"text-align: right;\">0</td><td style = \"text-align: left;\">None</td><td style = \"text-align: right;\">12.76</td><td style = \"text-align: right;\">1.471</td><td style = \"text-align: right;\">4.147</td><td style = \"text-align: right;\">0.71</td><td style = \"text-align: right;\">1.0</td><td style = \"text-align: right;\">1.0</td><td style = \"text-align: right;\">0</td><td style = \"text-align: right;\">0.0</td><td style = \"text-align: right;\">0</td><td style = \"text-align: right;\">0</td><td style = \"text-align: right;\">0</td><td style = \"text-align: right;\">1.0</td><td style = \"text-align: right;\">1.0</td><td style = \"text-align: right;\">1.0</td><td style = \"text-align: right;\">0</td><td style = \"text-align: right;\">0</td><td style = \"text-align: right;\">1</td><td style = \"text-align: right;\">0.0</td><td style = \"text-align: right;\">0.0</td><td style = \"text-align: right;\">false</td><td style = \"text-align: left;\">wec_sdge_biomass_1.0</td></tr><tr><td class = \"rowNumber\" style = \"font-weight: bold; text-align: right;\">2</td><td style = \"text-align: right;\">2</td><td style = \"text-align: left;\">hydroelectric_pumped_storage</td><td style = \"text-align: left;\">WEC_SDGE</td><td style = \"text-align: right;\">100.0</td><td style = \"text-align: right;\">2</td><td style = \"text-align: right;\">21.0</td><td style = \"text-align: right;\">0.0</td><td style = \"text-align: right;\">0</td><td style = \"text-align: left;\">None</td><td style = \"text-align: right;\">0.0</td><td style = \"text-align: right;\">0.0</td><td style = \"text-align: right;\">0.0</td><td style = \"text-align: right;\">0.0</td><td style = \"text-align: right;\">1.0</td><td style = \"text-align: right;\">1.0</td><td style = \"text-align: right;\">0</td><td style = \"text-align: right;\">0.0</td><td style = \"text-align: right;\">0</td><td style = \"text-align: right;\">0</td><td style = \"text-align: right;\">0</td><td style = \"text-align: right;\">0.866</td><td style = \"text-align: right;\">0.866</td><td style = \"text-align: right;\">0.25</td><td style = \"text-align: right;\">0</td><td style = \"text-align: right;\">0</td><td style = \"text-align: right;\">1</td><td style = \"text-align: right;\">0.0</td><td style = \"text-align: right;\">0.0</td><td style = \"text-align: right;\">false</td><td style = \"text-align: left;\">wec_sdge_hydroelectric_pumped_storage_1.0</td></tr><tr><td class = \"rowNumber\" style = \"font-weight: bold; text-align: right;\">3</td><td style = \"text-align: right;\">3</td><td style = \"text-align: left;\">natural_gas_fired_combined_cycle</td><td style = \"text-align: left;\">WEC_SDGE</td><td style = \"text-align: right;\">600.0</td><td style = \"text-align: right;\">1</td><td style = \"text-align: right;\">607.1</td><td style = \"text-align: right;\">3.4</td><td style = \"text-align: right;\">0</td><td style = \"text-align: left;\">pacific_naturalgas</td><td style = \"text-align: right;\">7.52</td><td style = \"text-align: right;\">0.0</td><td style = \"text-align: right;\">0.0</td><td style = \"text-align: right;\">0.362</td><td style = \"text-align: right;\">0.4</td><td style = \"text-align: right;\">0.4</td><td style = \"text-align: right;\">87</td><td style = \"text-align: right;\">2.0</td><td style = \"text-align: right;\">6</td><td style = \"text-align: right;\">6</td><td style = \"text-align: right;\">0</td><td style = \"text-align: right;\">1.0</td><td style = \"text-align: right;\">1.0</td><td style = \"text-align: right;\">1.0</td><td style = \"text-align: right;\">0</td><td style = \"text-align: right;\">0</td><td style = \"text-align: right;\">1</td><td style = \"text-align: right;\">2.57</td><td style = \"text-align: right;\">0.05306</td><td style = \"text-align: right;\">false</td><td style = \"text-align: left;\">wec_sdge_natural_gas_fired_combined_cycle_1.0</td></tr><tr><td class = \"rowNumber\" style = \"font-weight: bold; text-align: right;\">4</td><td style = \"text-align: right;\">4</td><td style = \"text-align: left;\">natural_gas_fired_combined_cycle</td><td style = \"text-align: left;\">WEC_SDGE</td><td style = \"text-align: right;\">500.0</td><td style = \"text-align: right;\">1</td><td style = \"text-align: right;\">570.0</td><td style = \"text-align: right;\">3.4</td><td style = \"text-align: right;\">0</td><td style = \"text-align: left;\">pacific_naturalgas</td><td style = \"text-align: right;\">7.15</td><td style = \"text-align: right;\">0.0</td><td style = \"text-align: right;\">0.0</td><td style = \"text-align: right;\">0.351</td><td style = \"text-align: right;\">0.4</td><td style = \"text-align: right;\">0.4</td><td style = \"text-align: right;\">87</td><td style = \"text-align: right;\">2.0</td><td style = \"text-align: right;\">6</td><td style = \"text-align: right;\">6</td><td style = \"text-align: right;\">0</td><td style = \"text-align: right;\">1.0</td><td style = \"text-align: right;\">1.0</td><td style = \"text-align: right;\">1.0</td><td style = \"text-align: right;\">0</td><td style = \"text-align: right;\">0</td><td style = \"text-align: right;\">2</td><td style = \"text-align: right;\">2.57</td><td style = \"text-align: right;\">0.05306</td><td style = \"text-align: right;\">false</td><td style = \"text-align: left;\">wec_sdge_natural_gas_fired_combined_cycle_2.0</td></tr><tr><td class = \"rowNumber\" style = \"font-weight: bold; text-align: right;\">5</td><td style = \"text-align: right;\">5</td><td style = \"text-align: left;\">natural_gas_fired_combined_cycle</td><td style = \"text-align: left;\">WEC_SDGE</td><td style = \"text-align: right;\">336.0</td><td style = \"text-align: right;\">3</td><td style = \"text-align: right;\">112.0</td><td style = \"text-align: right;\">10.8</td><td style = \"text-align: right;\">0</td><td style = \"text-align: left;\">pacific_naturalgas</td><td style = \"text-align: right;\">10.03</td><td style = \"text-align: right;\">0.0</td><td style = \"text-align: right;\">0.0</td><td style = \"text-align: right;\">0.446</td><td style = \"text-align: right;\">3.78</td><td style = \"text-align: right;\">3.78</td><td style = \"text-align: right;\">113</td><td style = \"text-align: right;\">3.5</td><td style = \"text-align: right;\">6</td><td style = \"text-align: right;\">6</td><td style = \"text-align: right;\">0</td><td style = \"text-align: right;\">1.0</td><td style = \"text-align: right;\">1.0</td><td style = \"text-align: right;\">1.0</td><td style = \"text-align: right;\">0</td><td style = \"text-align: right;\">0</td><td style = \"text-align: right;\">3</td><td style = \"text-align: right;\">2.57</td><td style = \"text-align: right;\">0.05306</td><td style = \"text-align: right;\">false</td><td style = \"text-align: left;\">wec_sdge_natural_gas_fired_combined_cycle_3.0</td></tr><tr><td class = \"rowNumber\" style = \"font-weight: bold; text-align: right;\">6</td><td style = \"text-align: right;\">6</td><td style = \"text-align: left;\">natural_gas_fired_combustion_turbine</td><td style = \"text-align: left;\">WEC_SDGE</td><td style = \"text-align: right;\">91.6</td><td style = \"text-align: right;\">2</td><td style = \"text-align: right;\">45.8</td><td style = \"text-align: right;\">10.8</td><td style = \"text-align: right;\">0</td><td style = \"text-align: left;\">pacific_naturalgas</td><td style = \"text-align: right;\">10.69</td><td style = \"text-align: right;\">0.0</td><td style = \"text-align: right;\">0.0</td><td style = \"text-align: right;\">0.8</td><td style = \"text-align: right;\">3.78</td><td style = \"text-align: right;\">3.78</td><td style = \"text-align: right;\">113</td><td style = \"text-align: right;\">3.5</td><td style = \"text-align: right;\">1</td><td style = \"text-align: right;\">1</td><td style = \"text-align: right;\">0</td><td style = \"text-align: right;\">1.0</td><td style = \"text-align: right;\">1.0</td><td style = \"text-align: right;\">1.0</td><td style = \"text-align: right;\">0</td><td style = \"text-align: right;\">0</td><td style = \"text-align: right;\">1</td><td style = \"text-align: right;\">2.57</td><td style = \"text-align: right;\">0.05306</td><td style = \"text-align: right;\">false</td><td style = \"text-align: left;\">wec_sdge_natural_gas_fired_combustion_turbine_1.0</td></tr><tr><td class = \"rowNumber\" style = \"font-weight: bold; text-align: right;\">7</td><td style = \"text-align: right;\">7</td><td style = \"text-align: left;\">natural_gas_fired_combustion_turbine</td><td style = \"text-align: left;\">WEC_SDGE</td><td style = \"text-align: right;\">49.9</td><td style = \"text-align: right;\">1</td><td style = \"text-align: right;\">49.9</td><td style = \"text-align: right;\">10.8</td><td style = \"text-align: right;\">0</td><td style = \"text-align: left;\">pacific_naturalgas</td><td style = \"text-align: right;\">10.48</td><td style = \"text-align: right;\">0.0</td><td style = \"text-align: right;\">0.0</td><td style = \"text-align: right;\">0.487</td><td style = \"text-align: right;\">3.78</td><td style = \"text-align: right;\">3.78</td><td style = \"text-align: right;\">113</td><td style = \"text-align: right;\">3.5</td><td style = \"text-align: right;\">1</td><td style = \"text-align: right;\">1</td><td style = \"text-align: right;\">0</td><td style = \"text-align: right;\">1.0</td><td style = \"text-align: right;\">1.0</td><td style = \"text-align: right;\">1.0</td><td style = \"text-align: right;\">0</td><td style = \"text-align: right;\">0</td><td style = \"text-align: right;\">2</td><td style = \"text-align: right;\">2.57</td><td style = \"text-align: right;\">0.05306</td><td style = \"text-align: right;\">false</td><td style = \"text-align: left;\">wec_sdge_natural_gas_fired_combustion_turbine_2.0</td></tr><tr><td class = \"rowNumber\" style = \"font-weight: bold; text-align: right;\">8</td><td style = \"text-align: right;\">8</td><td style = \"text-align: left;\">natural_gas_fired_combustion_turbine</td><td style = \"text-align: left;\">WEC_SDGE</td><td style = \"text-align: right;\">48.1</td><td style = \"text-align: right;\">1</td><td style = \"text-align: right;\">48.1</td><td style = \"text-align: right;\">10.8</td><td style = \"text-align: right;\">0</td><td style = \"text-align: left;\">pacific_naturalgas</td><td style = \"text-align: right;\">11.04</td><td style = \"text-align: right;\">0.0</td><td style = \"text-align: right;\">0.0</td><td style = \"text-align: right;\">0.437</td><td style = \"text-align: right;\">3.78</td><td style = \"text-align: right;\">3.78</td><td style = \"text-align: right;\">113</td><td style = \"text-align: right;\">3.5</td><td style = \"text-align: right;\">1</td><td style = \"text-align: right;\">1</td><td style = \"text-align: right;\">0</td><td style = \"text-align: right;\">1.0</td><td style = \"text-align: right;\">1.0</td><td style = \"text-align: right;\">1.0</td><td style = \"text-align: right;\">0</td><td style = \"text-align: right;\">0</td><td style = \"text-align: right;\">3</td><td style = \"text-align: right;\">2.57</td><td style = \"text-align: right;\">0.05306</td><td style = \"text-align: right;\">false</td><td style = \"text-align: left;\">wec_sdge_natural_gas_fired_combustion_turbine_3.0</td></tr><tr><td class = \"rowNumber\" style = \"font-weight: bold; text-align: right;\">9</td><td style = \"text-align: right;\">9</td><td style = \"text-align: left;\">natural_gas_fired_combustion_turbine</td><td style = \"text-align: left;\">WEC_SDGE</td><td style = \"text-align: right;\">34.6</td><td style = \"text-align: right;\">1</td><td style = \"text-align: right;\">34.6</td><td style = \"text-align: right;\">10.8</td><td style = \"text-align: right;\">0</td><td style = \"text-align: left;\">pacific_naturalgas</td><td style = \"text-align: right;\">16.86</td><td style = \"text-align: right;\">0.0</td><td style = \"text-align: right;\">0.0</td><td style = \"text-align: right;\">0.954</td><td style = \"text-align: right;\">3.78</td><td style = \"text-align: right;\">3.78</td><td style = \"text-align: right;\">113</td><td style = \"text-align: right;\">3.5</td><td style = \"text-align: right;\">1</td><td style = \"text-align: right;\">1</td><td style = \"text-align: right;\">0</td><td style = \"text-align: right;\">1.0</td><td style = \"text-align: right;\">1.0</td><td style = \"text-align: right;\">1.0</td><td style = \"text-align: right;\">0</td><td style = \"text-align: right;\">0</td><td style = \"text-align: right;\">4</td><td style = \"text-align: right;\">2.57</td><td style = \"text-align: right;\">0.05306</td><td style = \"text-align: right;\">false</td><td style = \"text-align: left;\">wec_sdge_natural_gas_fired_combustion_turbine_4.0</td></tr><tr><td class = \"rowNumber\" style = \"font-weight: bold; text-align: right;\">10</td><td style = \"text-align: right;\">10</td><td style = \"text-align: left;\">natural_gas_fired_combustion_turbine</td><td style = \"text-align: left;\">WEC_SDGE</td><td style = \"text-align: right;\">96.6</td><td style = \"text-align: right;\">3</td><td style = \"text-align: right;\">32.2</td><td style = \"text-align: right;\">10.8</td><td style = \"text-align: right;\">0</td><td style = \"text-align: left;\">pacific_naturalgas</td><td style = \"text-align: right;\">10.5</td><td style = \"text-align: right;\">0.0</td><td style = \"text-align: right;\">0.0</td><td style = \"text-align: right;\">0.932</td><td style = \"text-align: right;\">3.78</td><td style = \"text-align: right;\">3.78</td><td style = \"text-align: right;\">113</td><td style = \"text-align: right;\">3.5</td><td style = \"text-align: right;\">1</td><td style = \"text-align: right;\">1</td><td style = \"text-align: right;\">0</td><td style = \"text-align: right;\">1.0</td><td style = \"text-align: right;\">1.0</td><td style = \"text-align: right;\">1.0</td><td style = \"text-align: right;\">0</td><td style = \"text-align: right;\">0</td><td style = \"text-align: right;\">5</td><td style = \"text-align: right;\">2.57</td><td style = \"text-align: right;\">0.05306</td><td style = \"text-align: right;\">false</td><td style = \"text-align: left;\">wec_sdge_natural_gas_fired_combustion_turbine_5.0</td></tr><tr><td class = \"rowNumber\" style = \"font-weight: bold; text-align: right;\">11</td><td style = \"text-align: right;\">11</td><td style = \"text-align: left;\">natural_gas_fired_combustion_turbine</td><td style = \"text-align: left;\">WEC_SDGE</td><td style = \"text-align: right;\">98.2</td><td style = \"text-align: right;\">2</td><td style = \"text-align: right;\">49.1</td><td style = \"text-align: right;\">10.8</td><td style = \"text-align: right;\">0</td><td style = \"text-align: left;\">pacific_naturalgas</td><td style = \"text-align: right;\">11.15</td><td style = \"text-align: right;\">0.0</td><td style = \"text-align: right;\">0.0</td><td style = \"text-align: right;\">0.329</td><td style = \"text-align: right;\">3.78</td><td style = \"text-align: right;\">3.78</td><td style = \"text-align: right;\">113</td><td style = \"text-align: right;\">3.5</td><td style = \"text-align: right;\">1</td><td style = \"text-align: right;\">1</td><td style = \"text-align: right;\">0</td><td style = \"text-align: right;\">1.0</td><td style = \"text-align: right;\">1.0</td><td style = \"text-align: right;\">1.0</td><td style = \"text-align: right;\">0</td><td style = \"text-align: right;\">0</td><td style = \"text-align: right;\">6</td><td style = \"text-align: right;\">2.57</td><td style = \"text-align: right;\">0.05306</td><td style = \"text-align: right;\">false</td><td style = \"text-align: left;\">wec_sdge_natural_gas_fired_combustion_turbine_6.0</td></tr><tr><td class = \"rowNumber\" style = \"font-weight: bold; text-align: right;\">12</td><td style = \"text-align: right;\">12</td><td style = \"text-align: left;\">natural_gas_fired_combustion_turbine</td><td style = \"text-align: left;\">WEC_SDGE</td><td style = \"text-align: right;\">98.2</td><td style = \"text-align: right;\">2</td><td style = \"text-align: right;\">49.1</td><td style = \"text-align: right;\">10.8</td><td style = \"text-align: right;\">0</td><td style = \"text-align: left;\">pacific_naturalgas</td><td style = \"text-align: right;\">11.2</td><td style = \"text-align: right;\">0.0</td><td style = \"text-align: right;\">0.0</td><td style = \"text-align: right;\">0.329</td><td style = \"text-align: right;\">3.78</td><td style = \"text-align: right;\">3.78</td><td style = \"text-align: right;\">113</td><td style = \"text-align: right;\">3.5</td><td style = \"text-align: right;\">1</td><td style = \"text-align: right;\">1</td><td style = \"text-align: right;\">0</td><td style = \"text-align: right;\">1.0</td><td style = \"text-align: right;\">1.0</td><td style = \"text-align: right;\">1.0</td><td style = \"text-align: right;\">0</td><td style = \"text-align: right;\">0</td><td style = \"text-align: right;\">7</td><td style = \"text-align: right;\">2.57</td><td style = \"text-align: right;\">0.05306</td><td style = \"text-align: right;\">false</td><td style = \"text-align: left;\">wec_sdge_natural_gas_fired_combustion_turbine_7.0</td></tr><tr><td class = \"rowNumber\" style = \"font-weight: bold; text-align: right;\">13</td><td style = \"text-align: right;\">13</td><td style = \"text-align: left;\">natural_gas_fired_combustion_turbine</td><td style = \"text-align: left;\">WEC_SDGE</td><td style = \"text-align: right;\">48.9</td><td style = \"text-align: right;\">1</td><td style = \"text-align: right;\">48.9</td><td style = \"text-align: right;\">10.8</td><td style = \"text-align: right;\">0</td><td style = \"text-align: left;\">pacific_naturalgas</td><td style = \"text-align: right;\">11.22</td><td style = \"text-align: right;\">0.0</td><td style = \"text-align: right;\">0.0</td><td style = \"text-align: right;\">0.654</td><td style = \"text-align: right;\">3.78</td><td style = \"text-align: right;\">3.78</td><td style = \"text-align: right;\">113</td><td style = \"text-align: right;\">3.5</td><td style = \"text-align: right;\">1</td><td style = \"text-align: right;\">1</td><td style = \"text-align: right;\">0</td><td style = \"text-align: right;\">1.0</td><td style = \"text-align: right;\">1.0</td><td style = \"text-align: right;\">1.0</td><td style = \"text-align: right;\">0</td><td style = \"text-align: right;\">0</td><td style = \"text-align: right;\">8</td><td style = \"text-align: right;\">2.57</td><td style = \"text-align: right;\">0.05306</td><td style = \"text-align: right;\">false</td><td style = \"text-align: left;\">wec_sdge_natural_gas_fired_combustion_turbine_8.0</td></tr><tr><td class = \"rowNumber\" style = \"font-weight: bold; text-align: right;\">14</td><td style = \"text-align: right;\">14</td><td style = \"text-align: left;\">natural_gas_fired_combustion_turbine</td><td style = \"text-align: left;\">WEC_SDGE</td><td style = \"text-align: right;\">48.9</td><td style = \"text-align: right;\">1</td><td style = \"text-align: right;\">48.9</td><td style = \"text-align: right;\">10.8</td><td style = \"text-align: right;\">0</td><td style = \"text-align: left;\">pacific_naturalgas</td><td style = \"text-align: right;\">11.3</td><td style = \"text-align: right;\">0.0</td><td style = \"text-align: right;\">0.0</td><td style = \"text-align: right;\">0.654</td><td style = \"text-align: right;\">3.78</td><td style = \"text-align: right;\">3.78</td><td style = \"text-align: right;\">113</td><td style = \"text-align: right;\">3.5</td><td style = \"text-align: right;\">1</td><td style = \"text-align: right;\">1</td><td style = \"text-align: right;\">0</td><td style = \"text-align: right;\">1.0</td><td style = \"text-align: right;\">1.0</td><td style = \"text-align: right;\">1.0</td><td style = \"text-align: right;\">0</td><td style = \"text-align: right;\">0</td><td style = \"text-align: right;\">9</td><td style = \"text-align: right;\">2.57</td><td style = \"text-align: right;\">0.05306</td><td style = \"text-align: right;\">false</td><td style = \"text-align: left;\">wec_sdge_natural_gas_fired_combustion_turbine_9.0</td></tr><tr><td class = \"rowNumber\" style = \"font-weight: bold; text-align: right;\">15</td><td style = \"text-align: right;\">15</td><td style = \"text-align: left;\">natural_gas_fired_combustion_turbine</td><td style = \"text-align: left;\">WEC_SDGE</td><td style = \"text-align: right;\">51.3</td><td style = \"text-align: right;\">1</td><td style = \"text-align: right;\">51.3</td><td style = \"text-align: right;\">10.8</td><td style = \"text-align: right;\">0</td><td style = \"text-align: left;\">pacific_naturalgas</td><td style = \"text-align: right;\">11.08</td><td style = \"text-align: right;\">0.0</td><td style = \"text-align: right;\">0.0</td><td style = \"text-align: right;\">0.409</td><td style = \"text-align: right;\">3.78</td><td style = \"text-align: right;\">3.78</td><td style = \"text-align: right;\">113</td><td style = \"text-align: right;\">3.5</td><td style = \"text-align: right;\">1</td><td style = \"text-align: right;\">1</td><td style = \"text-align: right;\">0</td><td style = \"text-align: right;\">1.0</td><td style = \"text-align: right;\">1.0</td><td style = \"text-align: right;\">1.0</td><td style = \"text-align: right;\">0</td><td style = \"text-align: right;\">0</td><td style = \"text-align: right;\">10</td><td style = \"text-align: right;\">2.57</td><td style = \"text-align: right;\">0.05306</td><td style = \"text-align: right;\">false</td><td style = \"text-align: left;\">wec_sdge_natural_gas_fired_combustion_turbine_10.0</td></tr><tr><td class = \"rowNumber\" style = \"font-weight: bold; text-align: right;\">16</td><td style = \"text-align: right;\">16</td><td style = \"text-align: left;\">natural_gas_fired_combustion_turbine</td><td style = \"text-align: left;\">WEC_SDGE</td><td style = \"text-align: right;\">51.3</td><td style = \"text-align: right;\">1</td><td style = \"text-align: right;\">51.3</td><td style = \"text-align: right;\">10.8</td><td style = \"text-align: right;\">0</td><td style = \"text-align: left;\">pacific_naturalgas</td><td style = \"text-align: right;\">11.12</td><td style = \"text-align: right;\">0.0</td><td style = \"text-align: right;\">0.0</td><td style = \"text-align: right;\">0.409</td><td style = \"text-align: right;\">3.78</td><td style = \"text-align: right;\">3.78</td><td style = \"text-align: right;\">113</td><td style = \"text-align: right;\">3.5</td><td style = \"text-align: right;\">1</td><td style = \"text-align: right;\">1</td><td style = \"text-align: right;\">0</td><td style = \"text-align: right;\">1.0</td><td style = \"text-align: right;\">1.0</td><td style = \"text-align: right;\">1.0</td><td style = \"text-align: right;\">0</td><td style = \"text-align: right;\">0</td><td style = \"text-align: right;\">11</td><td style = \"text-align: right;\">2.57</td><td style = \"text-align: right;\">0.05306</td><td style = \"text-align: right;\">false</td><td style = \"text-align: left;\">wec_sdge_natural_gas_fired_combustion_turbine_11.0</td></tr><tr><td class = \"rowNumber\" style = \"font-weight: bold; text-align: right;\">17</td><td style = \"text-align: right;\">17</td><td style = \"text-align: left;\">natural_gas_fired_combustion_turbine</td><td style = \"text-align: left;\">WEC_SDGE</td><td style = \"text-align: right;\">98.2</td><td style = \"text-align: right;\">2</td><td style = \"text-align: right;\">49.1</td><td style = \"text-align: right;\">10.8</td><td style = \"text-align: right;\">0</td><td style = \"text-align: left;\">pacific_naturalgas</td><td style = \"text-align: right;\">10.55</td><td style = \"text-align: right;\">0.0</td><td style = \"text-align: right;\">0.0</td><td style = \"text-align: right;\">0.329</td><td style = \"text-align: right;\">3.78</td><td style = \"text-align: right;\">3.78</td><td style = \"text-align: right;\">113</td><td style = \"text-align: right;\">3.5</td><td style = \"text-align: right;\">1</td><td style = \"text-align: right;\">1</td><td style = \"text-align: right;\">0</td><td style = \"text-align: right;\">1.0</td><td style = \"text-align: right;\">1.0</td><td style = \"text-align: right;\">1.0</td><td style = \"text-align: right;\">0</td><td style = \"text-align: right;\">0</td><td style = \"text-align: right;\">12</td><td style = \"text-align: right;\">2.57</td><td style = \"text-align: right;\">0.05306</td><td style = \"text-align: right;\">false</td><td style = \"text-align: left;\">wec_sdge_natural_gas_fired_combustion_turbine_12.0</td></tr><tr><td class = \"rowNumber\" style = \"font-weight: bold; text-align: right;\">18</td><td style = \"text-align: right;\">18</td><td style = \"text-align: left;\">natural_gas_fired_combustion_turbine</td><td style = \"text-align: left;\">WEC_SDGE</td><td style = \"text-align: right;\">98.2</td><td style = \"text-align: right;\">2</td><td style = \"text-align: right;\">49.1</td><td style = \"text-align: right;\">10.8</td><td style = \"text-align: right;\">0</td><td style = \"text-align: left;\">pacific_naturalgas</td><td style = \"text-align: right;\">10.55</td><td style = \"text-align: right;\">0.0</td><td style = \"text-align: right;\">0.0</td><td style = \"text-align: right;\">0.329</td><td style = \"text-align: right;\">3.78</td><td style = \"text-align: right;\">3.78</td><td style = \"text-align: right;\">113</td><td style = \"text-align: right;\">3.5</td><td style = \"text-align: right;\">1</td><td style = \"text-align: right;\">1</td><td style = \"text-align: right;\">0</td><td style = \"text-align: right;\">1.0</td><td style = \"text-align: right;\">1.0</td><td style = \"text-align: right;\">1.0</td><td style = \"text-align: right;\">0</td><td style = \"text-align: right;\">0</td><td style = \"text-align: right;\">13</td><td style = \"text-align: right;\">2.57</td><td style = \"text-align: right;\">0.05306</td><td style = \"text-align: right;\">false</td><td style = \"text-align: left;\">wec_sdge_natural_gas_fired_combustion_turbine_13.0</td></tr><tr><td class = \"rowNumber\" style = \"font-weight: bold; text-align: right;\">19</td><td style = \"text-align: right;\">19</td><td style = \"text-align: left;\">natural_gas_fired_combustion_turbine</td><td style = \"text-align: left;\">WEC_SDGE</td><td style = \"text-align: right;\">98.2</td><td style = \"text-align: right;\">2</td><td style = \"text-align: right;\">49.1</td><td style = \"text-align: right;\">10.8</td><td style = \"text-align: right;\">0</td><td style = \"text-align: left;\">pacific_naturalgas</td><td style = \"text-align: right;\">10.55</td><td style = \"text-align: right;\">0.0</td><td style = \"text-align: right;\">0.0</td><td style = \"text-align: right;\">0.329</td><td style = \"text-align: right;\">3.78</td><td style = \"text-align: right;\">3.78</td><td style = \"text-align: right;\">113</td><td style = \"text-align: right;\">3.5</td><td style = \"text-align: right;\">1</td><td style = \"text-align: right;\">1</td><td style = \"text-align: right;\">0</td><td style = \"text-align: right;\">1.0</td><td style = \"text-align: right;\">1.0</td><td style = \"text-align: right;\">1.0</td><td style = \"text-align: right;\">0</td><td style = \"text-align: right;\">0</td><td style = \"text-align: right;\">14</td><td style = \"text-align: right;\">2.57</td><td style = \"text-align: right;\">0.05306</td><td style = \"text-align: right;\">false</td><td style = \"text-align: left;\">wec_sdge_natural_gas_fired_combustion_turbine_14.0</td></tr><tr><td class = \"rowNumber\" style = \"font-weight: bold; text-align: right;\">20</td><td style = \"text-align: right;\">20</td><td style = \"text-align: left;\">onshore_wind_turbine</td><td style = \"text-align: left;\">WEC_SDGE</td><td style = \"text-align: right;\">200.0</td><td style = \"text-align: right;\">3</td><td style = \"text-align: right;\">64.67</td><td style = \"text-align: right;\">0.0</td><td style = \"text-align: right;\">0</td><td style = \"text-align: left;\">None</td><td style = \"text-align: right;\">9.12</td><td style = \"text-align: right;\">0.0</td><td style = \"text-align: right;\">0.0</td><td style = \"text-align: right;\">0.0</td><td style = \"text-align: right;\">1.0</td><td style = \"text-align: right;\">1.0</td><td style = \"text-align: right;\">0</td><td style = \"text-align: right;\">0.0</td><td style = \"text-align: right;\">0</td><td style = \"text-align: right;\">0</td><td style = \"text-align: right;\">0</td><td style = \"text-align: right;\">1.0</td><td style = \"text-align: right;\">1.0</td><td style = \"text-align: right;\">1.0</td><td style = \"text-align: right;\">0</td><td style = \"text-align: right;\">0</td><td style = \"text-align: right;\">1</td><td style = \"text-align: right;\">0.0</td><td style = \"text-align: right;\">0.0</td><td style = \"text-align: right;\">true</td><td style = \"text-align: left;\">wec_sdge_onshore_wind_turbine_1.0</td></tr><tr><td class = \"rowNumber\" style = \"font-weight: bold; text-align: right;\">21</td><td style = \"text-align: right;\">21</td><td style = \"text-align: left;\">small_hydroelectric</td><td style = \"text-align: left;\">WEC_SDGE</td><td style = \"text-align: right;\">50.0</td><td style = \"text-align: right;\">6</td><td style = \"text-align: right;\">1.22</td><td style = \"text-align: right;\">0.0</td><td style = \"text-align: right;\">0</td><td style = \"text-align: left;\">None</td><td style = \"text-align: right;\">9.12</td><td style = \"text-align: right;\">0.002</td><td style = \"text-align: right;\">0.001</td><td style = \"text-align: right;\">0.385</td><td style = \"text-align: right;\">1.0</td><td style = \"text-align: right;\">1.0</td><td style = \"text-align: right;\">0</td><td style = \"text-align: right;\">0.0</td><td style = \"text-align: right;\">0</td><td style = \"text-align: right;\">0</td><td style = \"text-align: right;\">0</td><td style = \"text-align: right;\">1.0</td><td style = \"text-align: right;\">1.0</td><td style = \"text-align: right;\">1.0</td><td style = \"text-align: right;\">0</td><td style = \"text-align: right;\">0</td><td style = \"text-align: right;\">1</td><td style = \"text-align: right;\">0.0</td><td style = \"text-align: right;\">0.0</td><td style = \"text-align: right;\">true</td><td style = \"text-align: left;\">wec_sdge_small_hydroelectric_1.0</td></tr><tr><td class = \"rowNumber\" style = \"font-weight: bold; text-align: right;\">22</td><td style = \"text-align: right;\">22</td><td style = \"text-align: left;\">solar_photovoltaic</td><td style = \"text-align: left;\">WEC_SDGE</td><td style = \"text-align: right;\">2500.0</td><td style = \"text-align: right;\">20</td><td style = \"text-align: right;\">8.48</td><td style = \"text-align: right;\">0.0</td><td style = \"text-align: right;\">0</td><td style = \"text-align: left;\">None</td><td style = \"text-align: right;\">9.16</td><td style = \"text-align: right;\">0.0</td><td style = \"text-align: right;\">0.021</td><td style = \"text-align: right;\">0.0</td><td style = \"text-align: right;\">1.0</td><td style = \"text-align: right;\">1.0</td><td style = \"text-align: right;\">0</td><td style = \"text-align: right;\">0.0</td><td style = \"text-align: right;\">0</td><td style = \"text-align: right;\">0</td><td style = \"text-align: right;\">0</td><td style = \"text-align: right;\">1.0</td><td style = \"text-align: right;\">1.0</td><td style = \"text-align: right;\">1.0</td><td style = \"text-align: right;\">0</td><td style = \"text-align: right;\">0</td><td style = \"text-align: right;\">1</td><td style = \"text-align: right;\">0.0</td><td style = \"text-align: right;\">0.0</td><td style = \"text-align: right;\">true</td><td style = \"text-align: left;\">wec_sdge_solar_photovoltaic_1.0</td></tr></tbody></table></div>"
      ],
      "text/latex": [
       "\\begin{tabular}{r|cccccc}\n",
       "\t& r\\_id & resource & region & existing\\_cap\\_mw & num\\_units & \\\\\n",
       "\t\\hline\n",
       "\t& Int64? & String? & String15? & Float64? & Int64? & \\\\\n",
       "\t\\hline\n",
       "\t1 & 1 & biomass & WEC\\_SDGE & 21.4 & 20 & $\\dots$ \\\\\n",
       "\t2 & 2 & hydroelectric\\_pumped\\_storage & WEC\\_SDGE & 100.0 & 2 & $\\dots$ \\\\\n",
       "\t3 & 3 & natural\\_gas\\_fired\\_combined\\_cycle & WEC\\_SDGE & 600.0 & 1 & $\\dots$ \\\\\n",
       "\t4 & 4 & natural\\_gas\\_fired\\_combined\\_cycle & WEC\\_SDGE & 500.0 & 1 & $\\dots$ \\\\\n",
       "\t5 & 5 & natural\\_gas\\_fired\\_combined\\_cycle & WEC\\_SDGE & 336.0 & 3 & $\\dots$ \\\\\n",
       "\t6 & 6 & natural\\_gas\\_fired\\_combustion\\_turbine & WEC\\_SDGE & 91.6 & 2 & $\\dots$ \\\\\n",
       "\t7 & 7 & natural\\_gas\\_fired\\_combustion\\_turbine & WEC\\_SDGE & 49.9 & 1 & $\\dots$ \\\\\n",
       "\t8 & 8 & natural\\_gas\\_fired\\_combustion\\_turbine & WEC\\_SDGE & 48.1 & 1 & $\\dots$ \\\\\n",
       "\t9 & 9 & natural\\_gas\\_fired\\_combustion\\_turbine & WEC\\_SDGE & 34.6 & 1 & $\\dots$ \\\\\n",
       "\t10 & 10 & natural\\_gas\\_fired\\_combustion\\_turbine & WEC\\_SDGE & 96.6 & 3 & $\\dots$ \\\\\n",
       "\t11 & 11 & natural\\_gas\\_fired\\_combustion\\_turbine & WEC\\_SDGE & 98.2 & 2 & $\\dots$ \\\\\n",
       "\t12 & 12 & natural\\_gas\\_fired\\_combustion\\_turbine & WEC\\_SDGE & 98.2 & 2 & $\\dots$ \\\\\n",
       "\t13 & 13 & natural\\_gas\\_fired\\_combustion\\_turbine & WEC\\_SDGE & 48.9 & 1 & $\\dots$ \\\\\n",
       "\t14 & 14 & natural\\_gas\\_fired\\_combustion\\_turbine & WEC\\_SDGE & 48.9 & 1 & $\\dots$ \\\\\n",
       "\t15 & 15 & natural\\_gas\\_fired\\_combustion\\_turbine & WEC\\_SDGE & 51.3 & 1 & $\\dots$ \\\\\n",
       "\t16 & 16 & natural\\_gas\\_fired\\_combustion\\_turbine & WEC\\_SDGE & 51.3 & 1 & $\\dots$ \\\\\n",
       "\t17 & 17 & natural\\_gas\\_fired\\_combustion\\_turbine & WEC\\_SDGE & 98.2 & 2 & $\\dots$ \\\\\n",
       "\t18 & 18 & natural\\_gas\\_fired\\_combustion\\_turbine & WEC\\_SDGE & 98.2 & 2 & $\\dots$ \\\\\n",
       "\t19 & 19 & natural\\_gas\\_fired\\_combustion\\_turbine & WEC\\_SDGE & 98.2 & 2 & $\\dots$ \\\\\n",
       "\t20 & 20 & onshore\\_wind\\_turbine & WEC\\_SDGE & 200.0 & 3 & $\\dots$ \\\\\n",
       "\t21 & 21 & small\\_hydroelectric & WEC\\_SDGE & 50.0 & 6 & $\\dots$ \\\\\n",
       "\t22 & 22 & solar\\_photovoltaic & WEC\\_SDGE & 2500.0 & 20 & $\\dots$ \\\\\n",
       "\\end{tabular}\n"
      ],
      "text/plain": [
       "\u001b[1m22×30 DataFrame\u001b[0m\n",
       "\u001b[1m Row \u001b[0m│\u001b[1m r_id   \u001b[0m\u001b[1m resource                          \u001b[0m\u001b[1m region    \u001b[0m\u001b[1m existing_cap_mw \u001b[0m\u001b[1m \u001b[0m ⋯\n",
       "     │\u001b[90m Int64? \u001b[0m\u001b[90m String?                           \u001b[0m\u001b[90m String15? \u001b[0m\u001b[90m Float64?        \u001b[0m\u001b[90m \u001b[0m ⋯\n",
       "─────┼──────────────────────────────────────────────────────────────────────────\n",
       "   1 │      1  biomass                            WEC_SDGE              21.4   ⋯\n",
       "   2 │      2  hydroelectric_pumped_storage       WEC_SDGE             100.0\n",
       "   3 │      3  natural_gas_fired_combined_cycle   WEC_SDGE             600.0\n",
       "   4 │      4  natural_gas_fired_combined_cycle   WEC_SDGE             500.0\n",
       "   5 │      5  natural_gas_fired_combined_cycle   WEC_SDGE             336.0   ⋯\n",
       "   6 │      6  natural_gas_fired_combustion_tur…  WEC_SDGE              91.6\n",
       "   7 │      7  natural_gas_fired_combustion_tur…  WEC_SDGE              49.9\n",
       "   8 │      8  natural_gas_fired_combustion_tur…  WEC_SDGE              48.1\n",
       "   9 │      9  natural_gas_fired_combustion_tur…  WEC_SDGE              34.6   ⋯\n",
       "  10 │     10  natural_gas_fired_combustion_tur…  WEC_SDGE              96.6\n",
       "  11 │     11  natural_gas_fired_combustion_tur…  WEC_SDGE              98.2\n",
       "  12 │     12  natural_gas_fired_combustion_tur…  WEC_SDGE              98.2\n",
       "  13 │     13  natural_gas_fired_combustion_tur…  WEC_SDGE              48.9   ⋯\n",
       "  14 │     14  natural_gas_fired_combustion_tur…  WEC_SDGE              48.9\n",
       "  15 │     15  natural_gas_fired_combustion_tur…  WEC_SDGE              51.3\n",
       "  16 │     16  natural_gas_fired_combustion_tur…  WEC_SDGE              51.3\n",
       "  17 │     17  natural_gas_fired_combustion_tur…  WEC_SDGE              98.2   ⋯\n",
       "  18 │     18  natural_gas_fired_combustion_tur…  WEC_SDGE              98.2\n",
       "  19 │     19  natural_gas_fired_combustion_tur…  WEC_SDGE              98.2\n",
       "  20 │     20  onshore_wind_turbine               WEC_SDGE             200.0\n",
       "  21 │     21  small_hydroelectric                WEC_SDGE              50.0   ⋯\n",
       "  22 │     22  solar_photovoltaic                 WEC_SDGE            2500.0\n",
       "\u001b[36m                                                              26 columns omitted\u001b[0m"
      ]
     },
     "execution_count": 3,
     "metadata": {},
     "output_type": "execute_result"
    }
   ],
   "source": [
    "# Construct the generator dataframe - using the code from Notebook 5\n",
    "\n",
    "# Keep columns relevant to our UC model \n",
    "select!(gen_info, 1:26) # columns 1:26\n",
    "gen_df = outerjoin(gen_info,  fuels, on = :fuel) # load in fuel costs and add to data frame\n",
    "rename!(gen_df, :cost_per_mmbtu => :fuel_cost)   # rename column for fuel cost\n",
    "gen_df.fuel_cost[ismissing.(gen_df[:,:fuel_cost])] .= 0 # if the cost is missing (i.e. renewables), give it zero instead\n",
    "\n",
    "# create \"is_variable\" column to indicate if this is a variable generation source (e.g. wind, solar):\n",
    "gen_df[!, :is_variable] .= false # start by setting everything to not variable\n",
    "gen_df[in([\"onshore_wind_turbine\",\"small_hydroelectric\",\"solar_photovoltaic\"]).(gen_df.resource),\n",
    "    :is_variable] .= true; # switch flag to \"true\" for all variable sources (wind, small hydro, solar)\n",
    "\n",
    "# create full name of generator (including geographic location and cluster number)\n",
    "#  for use with variable generation dataframe\n",
    "gen_df.gen_full = lowercase.(gen_df.region .* \"_\" .* gen_df.resource .* \"_\" .* string.(gen_df.cluster) .* \".0\");\n",
    "\n",
    "# remove generators with no capacity (e.g. new build options that we'd use if this was capacity expansion problem)\n",
    "gen_df = gen_df[gen_df.existing_cap_mw .> 0,:]"
   ]
  },
  {
   "cell_type": "code",
   "execution_count": 4,
   "metadata": {},
   "outputs": [],
   "source": [
    "# Per Notebook 5, convert to \"long\" format\n",
    "gen_variable_long = stack(gen_variable, \n",
    "                        Not(:hour), \n",
    "                        variable_name=:gen_full,\n",
    "                        value_name=:cf);"
   ]
  },
  {
   "cell_type": "code",
   "execution_count": 5,
   "metadata": {},
   "outputs": [
    {
     "data": {
      "text/plain": [
       "unit_commitment_simple (generic function with 1 method)"
      ]
     },
     "execution_count": 5,
     "metadata": {},
     "output_type": "execute_result"
    }
   ],
   "source": [
    "# create function to solve simple unit commitment problem\n",
    "\n",
    "#= Arguments/inputs to function:\n",
    "    gen_df -- dataframe with generator info\n",
    "    loads  -- load by time\n",
    "    gen_variable -- capacity factors of variable generators (in \"long\" format)\n",
    "    mip_gap -- desired relative MIP gap to pass to solver\n",
    "=#\n",
    "\n",
    "function unit_commitment_simple(gen_df, loads, gen_variable, mip_gap)\n",
    "    UC = Model(HiGHS.Optimizer) \n",
    "    set_optimizer_attribute(UC, \"mip_rel_gap\", mip_gap) # modifying default parameters for solver itself (in this case, setting relative/percentage gap)\n",
    "\n",
    "    # Define sets based on data\n",
    "        # Thermal resources for which unit commitment constraints apply\n",
    "    G_thermal = gen_df[gen_df[!,:up_time] .> 0,:r_id] \n",
    "        # Non-thermal resources for which unit commitment constraints do NOT apply \n",
    "    G_nonthermal = gen_df[gen_df[!,:up_time] .== 0,:r_id]\n",
    "        # Variable renewable resources\n",
    "    G_var = gen_df[gen_df[!,:is_variable] .== 1,:r_id]\n",
    "        # Non-variable (dispatchable) resources\n",
    "    G_nonvar = gen_df[gen_df[!,:is_variable] .== 0,:r_id]\n",
    "        # Non-variable and non-thermal resources\n",
    "    G_nt_nonvar = intersect(G_nonvar, G_nonthermal) # pumped hydro storage \n",
    "        # Set of all generators (above are all subsets of this)\n",
    "    G = gen_df.r_id\n",
    "        # All time periods (hours) over which we are optimizing\n",
    "    T = loads.hour\n",
    "        # A subset of time periods that excludes the last time period\n",
    "    T_red = loads.hour[1:end-1]  # reduced time periods without last one (to avoid indexing problems later)\n",
    "\n",
    "    # Generator capacity factor time series for variable generators\n",
    "    gen_var_cf = innerjoin(gen_variable, \n",
    "                    gen_df[gen_df.is_variable .== 1 , \n",
    "                        [:r_id, :gen_full, :existing_cap_mw]], \n",
    "                    on = :gen_full)\n",
    "        \n",
    "    # Decision variables   \n",
    "    @variables(UC, begin\n",
    "            # Continuous decision variables\n",
    "        GEN[G, T]  >= 0     # generation\n",
    "        COMMIT[G_thermal, T], Bin # commitment status (Bin=binary)\n",
    "        START[G_thermal, T], Bin  # startup decision\n",
    "        SHUT[G_thermal, T], Bin   # shutdown decision\n",
    "    end)\n",
    "                \n",
    "    # Objective function\n",
    "        # Sum of variable costs + start-up costs for all generators and time periods\n",
    "    @objective(UC, Min, \n",
    "        sum( (gen_df[gen_df.r_id .== i,:heat_rate_mmbtu_per_mwh][1] * gen_df[gen_df.r_id .== i,:fuel_cost][1] +\n",
    "            gen_df[gen_df.r_id .== i,:var_om_cost_per_mwh][1]) * GEN[i,t] \n",
    "                        for i in G_nonvar for t in T) + # thermal resources variable cost includes fuel + O&M \n",
    "        sum(gen_df[gen_df.r_id .== i,:var_om_cost_per_mwh][1] * GEN[i,t] \n",
    "                        for i in G_var for t in T)  + # renewables variable cost includes only O&M, no fuel\n",
    "        sum(gen_df[gen_df.r_id .== i,:start_cost_per_mw][1] * \n",
    "            gen_df[gen_df.r_id .== i,:existing_cap_mw][1] *\n",
    "            START[i,t] \n",
    "                        for i in G_thermal for t in T) # only thermal resources have start up cost\n",
    "    )\n",
    "    \n",
    "    # Demand balance constraint (supply must = demand in all time periods)\n",
    "    @constraint(UC, cDemand[t in T], \n",
    "        sum(GEN[i,t] for i in G) == loads[loads.hour .== t,:demand][1])\n",
    "\n",
    "    # Capacity constraints \n",
    "      # 1. thermal generators requiring commitment\n",
    "    @constraint(UC, Cap_thermal_min[i in G_thermal, t in T], \n",
    "        GEN[i,t] >= COMMIT[i, t] * gen_df[gen_df.r_id .== i,:existing_cap_mw][1] *\n",
    "                        gen_df[gen_df.r_id .== i,:min_power][1])\n",
    "    @constraint(UC, Cap_thermal_max[i in G_thermal, t in T], \n",
    "        GEN[i,t] <= COMMIT[i, t] * gen_df[gen_df.r_id .== i,:existing_cap_mw][1])\n",
    "\n",
    "      # 2. non-variable generation not requiring commitment\n",
    "    @constraint(UC, Cap_nt_nonvar[i in G_nt_nonvar, t in T], \n",
    "        GEN[i,t] <= gen_df[gen_df.r_id .== i,:existing_cap_mw][1])\n",
    "    \n",
    "      # 3. variable generation, accounting for hourly capacity factor\n",
    "    @constraint(UC, Cap_var[i in 1:nrow(gen_var_cf)], \n",
    "            GEN[gen_var_cf[i,:r_id], gen_var_cf[i,:hour] ] <= \n",
    "                        gen_var_cf[i,:cf] *\n",
    "                        gen_var_cf[i,:existing_cap_mw])\n",
    "    \n",
    "    # Unit commitment constraints\n",
    "      # 1. Minimum up time\n",
    "    @constraint(UC, Startup[i in G_thermal, t in T],\n",
    "        COMMIT[i, t] >= sum(START[i, tt] \n",
    "                        for tt in intersect(T,\n",
    "                            (t-gen_df[gen_df.r_id .== i,:up_time][1]):t)))\n",
    "\n",
    "      # 2. Minimum down time\n",
    "    @constraint(UC, Shutdown[i in G_thermal, t in T],\n",
    "        1-COMMIT[i, t] >= sum(SHUT[i, tt] \n",
    "                        for tt in intersect(T,\n",
    "                            (t-gen_df[gen_df.r_id .== i,:down_time][1]):t)))\n",
    " \n",
    "      # 3. Commitment state\n",
    "    @constraint(UC, CommitmentStatus[i in G_thermal, t in T_red],\n",
    "        COMMIT[i,t+1] - COMMIT[i,t] == START[i,t+1] - SHUT[i,t+1])\n",
    "    \n",
    "    # Solve statement \n",
    "    optimize!(UC)\n",
    "\n",
    "    # Generation solution and convert to data frame using value_to_df_2dim function\n",
    "    gen = value_to_df_2dim(value.(GEN))\n",
    "\n",
    "    # Commitment status solution and convert to data frame\n",
    "    commit = value_to_df_2dim(value.(COMMIT))\n",
    "\n",
    "    # Calculate curtailment = available wind and/or solar output that had to be wasted due to operating constraints\n",
    "    curtail = innerjoin(gen_var_cf, gen, on = [:r_id, :hour])\n",
    "    curtail.curt = curtail.cf .* curtail.existing_cap_mw - curtail.gen\n",
    "    \n",
    "    # Return the solution parameters and objective\n",
    "    return (\n",
    "        gen,\n",
    "        commit,\n",
    "        curtail,\n",
    "        cost = objective_value(UC),\n",
    "        status = termination_status(UC)\n",
    "    )\n",
    "\n",
    "end"
   ]
  },
  {
   "cell_type": "code",
   "execution_count": 6,
   "metadata": {},
   "outputs": [
    {
     "name": "stdout",
     "output_type": "stream",
     "text": [
      "Presolving model\n",
      "2013 rows, 1707 cols, 6595 nonzeros\n",
      "1791 rows, 1423 cols, 7349 nonzeros\n",
      "\n",
      "Solving MIP model with:\n",
      "   1791 rows\n",
      "   1423 cols (968 binary, 0 integer, 0 implied int., 455 continuous)\n",
      "   7349 nonzeros\n",
      "\n",
      "( 0.0s) Starting symmetry detection\n",
      "( 0.0s) No symmetry present\n",
      "\n",
      "        Nodes      |    B&B Tree     |            Objective Bounds              |  Dynamic Constraints |       Work      \n",
      "     Proc. InQueue |  Leaves   Expl. | BestBound       BestSol              Gap |   Cuts   InLp Confl. | LpIters     Time\n",
      "\n",
      "         0       0         0   0.00%   0               inf                  inf        0      0      0         0     0.0s\n",
      "         0       0         0   0.00%   473023.409268   inf                  inf        0      0     14       504     0.0s\n",
      " R       0       0         0   0.00%   473109.528604   484073.243791      2.26%      112     14     28       528     0.1s\n",
      " C       0       0         0   0.00%   473109.528604   473965.776921      0.18%      112     14     28       528     0.1s\n",
      "\n",
      "Solving report\n",
      "  Status            Optimal\n",
      "  Primal bound      473965.776921\n",
      "  Dual bound        473109.528604\n",
      "  Gap               0.181% (tolerance: 1%)\n",
      "  Solution status   feasible\n",
      "                    473965.776921 (objective)\n",
      "                    0 (bound viol.)\n",
      "                    0 (int. viol.)\n",
      "                    0 (row viol.)\n",
      "  Timing            0.10 (total)\n",
      "                    0.02 (presolve)\n",
      "                    0.00 (postsolve)\n",
      "  Nodes             1\n",
      "  LP iterations     528 (total)\n",
      "                    0 (strong br.)\n",
      "                    24 (separation)\n",
      "                    0 (heuristics)\n"
     ]
    },
    {
     "data": {
      "text/plain": [
       "(gen = \u001b[1m528×3 DataFrame\u001b[0m\n",
       "\u001b[1m Row \u001b[0m│\u001b[1m r_id   \u001b[0m\u001b[1m hour  \u001b[0m\u001b[1m gen     \u001b[0m\n",
       "     │\u001b[90m Int64? \u001b[0m\u001b[90m Int64 \u001b[0m\u001b[90m Float64 \u001b[0m\n",
       "─────┼────────────────────────\n",
       "   1 │      1      1   21.4\n",
       "   2 │      2      1  100.0\n",
       "   3 │      3      1  256.487\n",
       "   4 │      4      1  500.0\n",
       "   5 │      5      1    0.0\n",
       "   6 │      6      1    0.0\n",
       "   7 │      7      1    0.0\n",
       "   8 │      8      1    0.0\n",
       "   9 │      9      1    0.0\n",
       "  10 │     10      1    0.0\n",
       "  11 │     11      1    0.0\n",
       "  ⋮  │   ⋮       ⋮       ⋮\n",
       " 519 │     13     24    0.0\n",
       " 520 │     14     24    0.0\n",
       " 521 │     15     24    0.0\n",
       " 522 │     16     24    0.0\n",
       " 523 │     17     24    0.0\n",
       " 524 │     18     24    0.0\n",
       " 525 │     19     24    0.0\n",
       " 526 │     20     24  134.28\n",
       " 527 │     21     24   21.755\n",
       " 528 │     22     24    0.0\n",
       "\u001b[36m              507 rows omitted\u001b[0m, commit = \u001b[1m408×3 DataFrame\u001b[0m\n",
       "\u001b[1m Row \u001b[0m│\u001b[1m r_id   \u001b[0m\u001b[1m hour  \u001b[0m\u001b[1m gen     \u001b[0m\n",
       "     │\u001b[90m Int64? \u001b[0m\u001b[90m Int64 \u001b[0m\u001b[90m Float64 \u001b[0m\n",
       "─────┼────────────────────────\n",
       "   1 │      3      1      1.0\n",
       "   2 │      4      1      1.0\n",
       "   3 │      5      1      0.0\n",
       "   4 │      6      1      0.0\n",
       "   5 │      7      1      0.0\n",
       "   6 │      8      1      0.0\n",
       "   7 │      9      1      0.0\n",
       "   8 │     10      1      0.0\n",
       "   9 │     11      1      0.0\n",
       "  10 │     12      1      0.0\n",
       "  11 │     13      1      0.0\n",
       "  ⋮  │   ⋮       ⋮       ⋮\n",
       " 399 │     10     24      0.0\n",
       " 400 │     11     24      0.0\n",
       " 401 │     12     24      0.0\n",
       " 402 │     13     24      0.0\n",
       " 403 │     14     24      0.0\n",
       " 404 │     15     24      0.0\n",
       " 405 │     16     24      0.0\n",
       " 406 │     17     24      0.0\n",
       " 407 │     18     24      0.0\n",
       " 408 │     19     24      0.0\n",
       "\u001b[36m              387 rows omitted\u001b[0m, curtail = \u001b[1m72×7 DataFrame\u001b[0m\n",
       "\u001b[1m Row \u001b[0m│\u001b[1m hour  \u001b[0m\u001b[1m gen_full                          \u001b[0m\u001b[1m cf      \u001b[0m\u001b[1m r_id   \u001b[0m\u001b[1m existing_cap\u001b[0m ⋯\n",
       "     │\u001b[90m Int64 \u001b[0m\u001b[90m String                            \u001b[0m\u001b[90m Float64 \u001b[0m\u001b[90m Int64? \u001b[0m\u001b[90m Float64?    \u001b[0m ⋯\n",
       "─────┼──────────────────────────────────────────────────────────────────────────\n",
       "   1 │     1  wec_sdge_onshore_wind_turbine_1.0   0.7505      20            20 ⋯\n",
       "   2 │     1  wec_sdge_small_hydroelectric_1.0    0.4351      21             5\n",
       "   3 │     1  wec_sdge_solar_photovoltaic_1.0     0.0         22           250\n",
       "   4 │     2  wec_sdge_onshore_wind_turbine_1.0   0.7803      20            20\n",
       "   5 │     2  wec_sdge_small_hydroelectric_1.0    0.4351      21             5 ⋯\n",
       "   6 │     2  wec_sdge_solar_photovoltaic_1.0     0.0         22           250\n",
       "   7 │     3  wec_sdge_onshore_wind_turbine_1.0   0.529       20            20\n",
       "   8 │     3  wec_sdge_small_hydroelectric_1.0    0.4351      21             5\n",
       "   9 │     3  wec_sdge_solar_photovoltaic_1.0     0.0         22           250 ⋯\n",
       "  10 │     4  wec_sdge_onshore_wind_turbine_1.0   0.4621      20            20\n",
       "  11 │     4  wec_sdge_small_hydroelectric_1.0    0.4351      21             5\n",
       "  ⋮  │   ⋮                    ⋮                     ⋮       ⋮            ⋮     ⋱\n",
       "  63 │    21  wec_sdge_solar_photovoltaic_1.0     0.0         22           250\n",
       "  64 │    22  wec_sdge_onshore_wind_turbine_1.0   0.6983      20            20 ⋯\n",
       "  65 │    22  wec_sdge_small_hydroelectric_1.0    0.4351      21             5\n",
       "  66 │    22  wec_sdge_solar_photovoltaic_1.0     0.0         22           250\n",
       "  67 │    23  wec_sdge_onshore_wind_turbine_1.0   0.7444      20            20\n",
       "  68 │    23  wec_sdge_small_hydroelectric_1.0    0.4351      21             5 ⋯\n",
       "  69 │    23  wec_sdge_solar_photovoltaic_1.0     0.0         22           250\n",
       "  70 │    24  wec_sdge_onshore_wind_turbine_1.0   0.6714      20            20\n",
       "  71 │    24  wec_sdge_small_hydroelectric_1.0    0.4351      21             5\n",
       "  72 │    24  wec_sdge_solar_photovoltaic_1.0     0.0         22           250 ⋯\n",
       "\u001b[36m                                                   3 columns and 51 rows omitted\u001b[0m, cost = 473965.7769211999, status = MathOptInterface.OPTIMAL)"
      ]
     },
     "execution_count": 6,
     "metadata": {},
     "output_type": "execute_result"
    }
   ],
   "source": [
    "# Use simple unit commitment function from previous cell to solve for given day with MIP gap = 1%\n",
    "UC_solution = unit_commitment_simple(gen_df, loads, gen_variable_long, 0.01)"
   ]
  },
  {
   "cell_type": "code",
   "execution_count": 7,
   "metadata": {},
   "outputs": [
    {
     "data": {
      "application/vnd.vegalite.v4+json": {
       "data": {
        "values": [
         {
          "gen_sum": 21.4,
          "hour": 0,
          "resource": "biomass"
         },
         {
          "gen_sum": 100.00000000000003,
          "hour": 0,
          "resource": "hydroelectric_pumped_storage"
         },
         {
          "gen_sum": 756.4871999999999,
          "hour": 0,
          "resource": "natural_gas_fired_combined_cycle"
         },
         {
          "gen_sum": 32.3078,
          "hour": 0,
          "resource": "natural_gas_fired_combustion_turbine"
         },
         {
          "gen_sum": 150.1,
          "hour": 0,
          "resource": "_onshore_wind_turbine"
         },
         {
          "gen_sum": 21.755,
          "hour": 0,
          "resource": "_small_hydroelectric"
         },
         {
          "gen_sum": 0,
          "hour": 0,
          "resource": "_solar_photovoltaic"
         },
         {
          "gen_sum": 21.4,
          "hour": 1,
          "resource": "biomass"
         },
         {
          "gen_sum": 100,
          "hour": 1,
          "resource": "hydroelectric_pumped_storage"
         },
         {
          "gen_sum": 708.9872,
          "hour": 1,
          "resource": "natural_gas_fired_combined_cycle"
         },
         {
          "gen_sum": 32.3078,
          "hour": 1,
          "resource": "natural_gas_fired_combustion_turbine"
         },
         {
          "gen_sum": 156.06,
          "hour": 1,
          "resource": "_onshore_wind_turbine"
         },
         {
          "gen_sum": 21.755,
          "hour": 1,
          "resource": "_small_hydroelectric"
         },
         {
          "gen_sum": 0,
          "hour": 1,
          "resource": "_solar_photovoltaic"
         },
         {
          "gen_sum": 21.4,
          "hour": 2,
          "resource": "biomass"
         },
         {
          "gen_sum": 100,
          "hour": 2,
          "resource": "hydroelectric_pumped_storage"
         },
         {
          "gen_sum": 735.7971999999999,
          "hour": 2,
          "resource": "natural_gas_fired_combined_cycle"
         },
         {
          "gen_sum": 32.3078,
          "hour": 2,
          "resource": "natural_gas_fired_combustion_turbine"
         },
         {
          "gen_sum": 105.80000000000001,
          "hour": 2,
          "resource": "_onshore_wind_turbine"
         },
         {
          "gen_sum": 21.755,
          "hour": 2,
          "resource": "_small_hydroelectric"
         },
         {
          "gen_sum": 0,
          "hour": 2,
          "resource": "_solar_photovoltaic"
         },
         {
          "gen_sum": 21.4,
          "hour": 3,
          "resource": "biomass"
         },
         {
          "gen_sum": 100.00000000000001,
          "hour": 3,
          "resource": "hydroelectric_pumped_storage"
         },
         {
          "gen_sum": 778.6571999999999,
          "hour": 3,
          "resource": "natural_gas_fired_combined_cycle"
         },
         {
          "gen_sum": 32.3078,
          "hour": 3,
          "resource": "natural_gas_fired_combustion_turbine"
         },
         {
          "gen_sum": 92.42,
          "hour": 3,
          "resource": "_onshore_wind_turbine"
         },
         {
          "gen_sum": 21.755,
          "hour": 3,
          "resource": "_small_hydroelectric"
         },
         {
          "gen_sum": 0,
          "hour": 3,
          "resource": "_solar_photovoltaic"
         },
         {
          "gen_sum": 21.4,
          "hour": 4,
          "resource": "biomass"
         },
         {
          "gen_sum": 100,
          "hour": 4,
          "resource": "hydroelectric_pumped_storage"
         },
         {
          "gen_sum": 911.5871999999998,
          "hour": 4,
          "resource": "natural_gas_fired_combined_cycle"
         },
         {
          "gen_sum": 32.3078,
          "hour": 4,
          "resource": "natural_gas_fired_combustion_turbine"
         },
         {
          "gen_sum": 74.06,
          "hour": 4,
          "resource": "_onshore_wind_turbine"
         },
         {
          "gen_sum": 21.755,
          "hour": 4,
          "resource": "_small_hydroelectric"
         },
         {
          "gen_sum": 0,
          "hour": 4,
          "resource": "_solar_photovoltaic"
         },
         {
          "gen_sum": 21.4,
          "hour": 5,
          "resource": "biomass"
         },
         {
          "gen_sum": 100,
          "hour": 5,
          "resource": "hydroelectric_pumped_storage"
         },
         {
          "gen_sum": 1020.5372,
          "hour": 5,
          "resource": "natural_gas_fired_combined_cycle"
         },
         {
          "gen_sum": 32.3078,
          "hour": 5,
          "resource": "natural_gas_fired_combustion_turbine"
         },
         {
          "gen_sum": 127.91999999999999,
          "hour": 5,
          "resource": "_onshore_wind_turbine"
         },
         {
          "gen_sum": 21.755,
          "hour": 5,
          "resource": "_small_hydroelectric"
         },
         {
          "gen_sum": 0,
          "hour": 5,
          "resource": "_solar_photovoltaic"
         },
         {
          "gen_sum": 21.4,
          "hour": 6,
          "resource": "biomass"
         },
         {
          "gen_sum": 100.00000000000001,
          "hour": 6,
          "resource": "hydroelectric_pumped_storage"
         },
         {
          "gen_sum": 1100,
          "hour": 6,
          "resource": "natural_gas_fired_combined_cycle"
         },
         {
          "gen_sum": 73.99499999999998,
          "hour": 6,
          "resource": "natural_gas_fired_combustion_turbine"
         },
         {
          "gen_sum": 68.17999999999999,
          "hour": 6,
          "resource": "_onshore_wind_turbine"
         },
         {
          "gen_sum": 21.755,
          "hour": 6,
          "resource": "_small_hydroelectric"
         },
         {
          "gen_sum": 138.25,
          "hour": 6,
          "resource": "_solar_photovoltaic"
         },
         {
          "gen_sum": 21.4,
          "hour": 7,
          "resource": "biomass"
         },
         {
          "gen_sum": 100,
          "hour": 7,
          "resource": "hydroelectric_pumped_storage"
         },
         {
          "gen_sum": 998.705,
          "hour": 7,
          "resource": "natural_gas_fired_combined_cycle"
         },
         {
          "gen_sum": 0,
          "hour": 7,
          "resource": "natural_gas_fired_combustion_turbine"
         },
         {
          "gen_sum": 45.379999999999995,
          "hour": 7,
          "resource": "_onshore_wind_turbine"
         },
         {
          "gen_sum": 21.755,
          "hour": 7,
          "resource": "_small_hydroelectric"
         },
         {
          "gen_sum": 552.75,
          "hour": 7,
          "resource": "_solar_photovoltaic"
         },
         {
          "gen_sum": 21.4,
          "hour": 8,
          "resource": "biomass"
         },
         {
          "gen_sum": 100.00000000000006,
          "hour": 8,
          "resource": "hydroelectric_pumped_storage"
         },
         {
          "gen_sum": 410.48499999999984,
          "hour": 8,
          "resource": "natural_gas_fired_combined_cycle"
         },
         {
          "gen_sum": 0,
          "hour": 8,
          "resource": "natural_gas_fired_combustion_turbine"
         },
         {
          "gen_sum": 153.82,
          "hour": 8,
          "resource": "_onshore_wind_turbine"
         },
         {
          "gen_sum": 21.755,
          "hour": 8,
          "resource": "_small_hydroelectric"
         },
         {
          "gen_sum": 1194,
          "hour": 8,
          "resource": "_solar_photovoltaic"
         },
         {
          "gen_sum": 0,
          "hour": 9,
          "resource": "biomass"
         },
         {
          "gen_sum": 50.78500000000004,
          "hour": 9,
          "resource": "hydroelectric_pumped_storage"
         },
         {
          "gen_sum": 392.7,
          "hour": 9,
          "resource": "natural_gas_fired_combined_cycle"
         },
         {
          "gen_sum": 0,
          "hour": 9,
          "resource": "natural_gas_fired_combustion_turbine"
         },
         {
          "gen_sum": 120.92,
          "hour": 9,
          "resource": "_onshore_wind_turbine"
         },
         {
          "gen_sum": 21.755,
          "hour": 9,
          "resource": "_small_hydroelectric"
         },
         {
          "gen_sum": 1439.25,
          "hour": 9,
          "resource": "_solar_photovoltaic"
         },
         {
          "gen_sum": 0,
          "hour": 10,
          "resource": "biomass"
         },
         {
          "gen_sum": 67.34499999999996,
          "hour": 10,
          "resource": "hydroelectric_pumped_storage"
         },
         {
          "gen_sum": 392.7,
          "hour": 10,
          "resource": "natural_gas_fired_combined_cycle"
         },
         {
          "gen_sum": 0,
          "hour": 10,
          "resource": "natural_gas_fired_combustion_turbine"
         },
         {
          "gen_sum": 102.2,
          "hour": 10,
          "resource": "_onshore_wind_turbine"
         },
         {
          "gen_sum": 21.755,
          "hour": 10,
          "resource": "_small_hydroelectric"
         },
         {
          "gen_sum": 1509.75,
          "hour": 10,
          "resource": "_solar_photovoltaic"
         },
         {
          "gen_sum": 0,
          "hour": 11,
          "resource": "biomass"
         },
         {
          "gen_sum": 0,
          "hour": 11,
          "resource": "hydroelectric_pumped_storage"
         },
         {
          "gen_sum": 392.7,
          "hour": 11,
          "resource": "natural_gas_fired_combined_cycle"
         },
         {
          "gen_sum": 0,
          "hour": 11,
          "resource": "natural_gas_fired_combustion_turbine"
         },
         {
          "gen_sum": 36.004999999999995,
          "hour": 11,
          "resource": "_onshore_wind_turbine"
         },
         {
          "gen_sum": 21.755,
          "hour": 11,
          "resource": "_small_hydroelectric"
         },
         {
          "gen_sum": 1534.75,
          "hour": 11,
          "resource": "_solar_photovoltaic"
         },
         {
          "gen_sum": 0,
          "hour": 12,
          "resource": "biomass"
         },
         {
          "gen_sum": 0,
          "hour": 12,
          "resource": "hydroelectric_pumped_storage"
         },
         {
          "gen_sum": 392.7,
          "hour": 12,
          "resource": "natural_gas_fired_combined_cycle"
         },
         {
          "gen_sum": 0,
          "hour": 12,
          "resource": "natural_gas_fired_combustion_turbine"
         },
         {
          "gen_sum": 0,
          "hour": 12,
          "resource": "_onshore_wind_turbine"
         },
         {
          "gen_sum": 0,
          "hour": 12,
          "resource": "_small_hydroelectric"
         },
         {
          "gen_sum": 1445.11,
          "hour": 12,
          "resource": "_solar_photovoltaic"
         },
         {
          "gen_sum": 0,
          "hour": 13,
          "resource": "biomass"
         },
         {
          "gen_sum": 0,
          "hour": 13,
          "resource": "hydroelectric_pumped_storage"
         },
         {
          "gen_sum": 392.7,
          "hour": 13,
          "resource": "natural_gas_fired_combined_cycle"
         },
         {
          "gen_sum": 0,
          "hour": 13,
          "resource": "natural_gas_fired_combustion_turbine"
         },
         {
          "gen_sum": 0,
          "hour": 13,
          "resource": "_onshore_wind_turbine"
         },
         {
          "gen_sum": 0,
          "hour": 13,
          "resource": "_small_hydroelectric"
         },
         {
          "gen_sum": 1393.52,
          "hour": 13,
          "resource": "_solar_photovoltaic"
         },
         {
          "gen_sum": 0,
          "hour": 14,
          "resource": "biomass"
         },
         {
          "gen_sum": 0,
          "hour": 14,
          "resource": "hydroelectric_pumped_storage"
         },
         {
          "gen_sum": 392.7,
          "hour": 14,
          "resource": "natural_gas_fired_combined_cycle"
         },
         {
          "gen_sum": 0,
          "hour": 14,
          "resource": "natural_gas_fired_combustion_turbine"
         },
         {
          "gen_sum": 0,
          "hour": 14,
          "resource": "_onshore_wind_turbine"
         },
         {
          "gen_sum": 0,
          "hour": 14,
          "resource": "_small_hydroelectric"
         },
         {
          "gen_sum": 1334.56,
          "hour": 14,
          "resource": "_solar_photovoltaic"
         },
         {
          "gen_sum": 0,
          "hour": 15,
          "resource": "biomass"
         },
         {
          "gen_sum": 0,
          "hour": 15,
          "resource": "hydroelectric_pumped_storage"
         },
         {
          "gen_sum": 392.7,
          "hour": 15,
          "resource": "natural_gas_fired_combined_cycle"
         },
         {
          "gen_sum": 0,
          "hour": 15,
          "resource": "natural_gas_fired_combustion_turbine"
         },
         {
          "gen_sum": 0,
          "hour": 15,
          "resource": "_onshore_wind_turbine"
         },
         {
          "gen_sum": 0,
          "hour": 15,
          "resource": "_small_hydroelectric"
         },
         {
          "gen_sum": 1270.24,
          "hour": 15,
          "resource": "_solar_photovoltaic"
         },
         {
          "gen_sum": 0,
          "hour": 16,
          "resource": "biomass"
         },
         {
          "gen_sum": 0,
          "hour": 16,
          "resource": "hydroelectric_pumped_storage"
         },
         {
          "gen_sum": 392.7,
          "hour": 16,
          "resource": "natural_gas_fired_combined_cycle"
         },
         {
          "gen_sum": 0,
          "hour": 16,
          "resource": "natural_gas_fired_combustion_turbine"
         },
         {
          "gen_sum": 8.23500000000001,
          "hour": 16,
          "resource": "_onshore_wind_turbine"
         },
         {
          "gen_sum": 21.755,
          "hour": 16,
          "resource": "_small_hydroelectric"
         },
         {
          "gen_sum": 1357.5,
          "hour": 16,
          "resource": "_solar_photovoltaic"
         },
         {
          "gen_sum": 21.4,
          "hour": 17,
          "resource": "biomass"
         },
         {
          "gen_sum": 100.00000000000006,
          "hour": 17,
          "resource": "hydroelectric_pumped_storage"
         },
         {
          "gen_sum": 592.185,
          "hour": 17,
          "resource": "natural_gas_fired_combined_cycle"
         },
         {
          "gen_sum": 0,
          "hour": 17,
          "resource": "natural_gas_fired_combustion_turbine"
         },
         {
          "gen_sum": 117.56,
          "hour": 17,
          "resource": "_onshore_wind_turbine"
         },
         {
          "gen_sum": 21.755,
          "hour": 17,
          "resource": "_small_hydroelectric"
         },
         {
          "gen_sum": 835.5,
          "hour": 17,
          "resource": "_solar_photovoltaic"
         },
         {
          "gen_sum": 21.4,
          "hour": 18,
          "resource": "biomass"
         },
         {
          "gen_sum": 100,
          "hour": 18,
          "resource": "hydroelectric_pumped_storage"
         },
         {
          "gen_sum": 1100,
          "hour": 18,
          "resource": "natural_gas_fired_combined_cycle"
         },
         {
          "gen_sum": 140.10500000000016,
          "hour": 18,
          "resource": "natural_gas_fired_combustion_turbine"
         },
         {
          "gen_sum": 152.89999999999998,
          "hour": 18,
          "resource": "_onshore_wind_turbine"
         },
         {
          "gen_sum": 21.755,
          "hour": 18,
          "resource": "_small_hydroelectric"
         },
         {
          "gen_sum": 137.5,
          "hour": 18,
          "resource": "_solar_photovoltaic"
         },
         {
          "gen_sum": 21.4,
          "hour": 19,
          "resource": "biomass"
         },
         {
          "gen_sum": 100.00000000000003,
          "hour": 19,
          "resource": "hydroelectric_pumped_storage"
         },
         {
          "gen_sum": 1100,
          "hour": 19,
          "resource": "natural_gas_fired_combined_cycle"
         },
         {
          "gen_sum": 341.095,
          "hour": 19,
          "resource": "natural_gas_fired_combustion_turbine"
         },
         {
          "gen_sum": 155.73999999999998,
          "hour": 19,
          "resource": "_onshore_wind_turbine"
         },
         {
          "gen_sum": 21.755,
          "hour": 19,
          "resource": "_small_hydroelectric"
         },
         {
          "gen_sum": 0,
          "hour": 19,
          "resource": "_solar_photovoltaic"
         },
         {
          "gen_sum": 21.4,
          "hour": 20,
          "resource": "biomass"
         },
         {
          "gen_sum": 100,
          "hour": 20,
          "resource": "hydroelectric_pumped_storage"
         },
         {
          "gen_sum": 1100,
          "hour": 20,
          "resource": "natural_gas_fired_combined_cycle"
         },
         {
          "gen_sum": 309.84500000000014,
          "hour": 20,
          "resource": "natural_gas_fired_combustion_turbine"
         },
         {
          "gen_sum": 164.88,
          "hour": 20,
          "resource": "_onshore_wind_turbine"
         },
         {
          "gen_sum": 21.755,
          "hour": 20,
          "resource": "_small_hydroelectric"
         },
         {
          "gen_sum": 0,
          "hour": 20,
          "resource": "_solar_photovoltaic"
         },
         {
          "gen_sum": 21.4,
          "hour": 21,
          "resource": "biomass"
         },
         {
          "gen_sum": 100.00000000000003,
          "hour": 21,
          "resource": "hydroelectric_pumped_storage"
         },
         {
          "gen_sum": 1100,
          "hour": 21,
          "resource": "natural_gas_fired_combined_cycle"
         },
         {
          "gen_sum": 148.13500000000005,
          "hour": 21,
          "resource": "natural_gas_fired_combustion_turbine"
         },
         {
          "gen_sum": 139.66,
          "hour": 21,
          "resource": "_onshore_wind_turbine"
         },
         {
          "gen_sum": 21.755,
          "hour": 21,
          "resource": "_small_hydroelectric"
         },
         {
          "gen_sum": 0,
          "hour": 21,
          "resource": "_solar_photovoltaic"
         },
         {
          "gen_sum": 21.4,
          "hour": 22,
          "resource": "biomass"
         },
         {
          "gen_sum": 100,
          "hour": 22,
          "resource": "hydroelectric_pumped_storage"
         },
         {
          "gen_sum": 1021.8349999999999,
          "hour": 22,
          "resource": "natural_gas_fired_combined_cycle"
         },
         {
          "gen_sum": 0,
          "hour": 22,
          "resource": "natural_gas_fired_combustion_turbine"
         },
         {
          "gen_sum": 148.88,
          "hour": 22,
          "resource": "_onshore_wind_turbine"
         },
         {
          "gen_sum": 21.755,
          "hour": 22,
          "resource": "_small_hydroelectric"
         },
         {
          "gen_sum": 0,
          "hour": 22,
          "resource": "_solar_photovoltaic"
         },
         {
          "gen_sum": 21.4,
          "hour": 23,
          "resource": "biomass"
         },
         {
          "gen_sum": 100.00000000000003,
          "hour": 23,
          "resource": "hydroelectric_pumped_storage"
         },
         {
          "gen_sum": 859.5550000000001,
          "hour": 23,
          "resource": "natural_gas_fired_combined_cycle"
         },
         {
          "gen_sum": 0,
          "hour": 23,
          "resource": "natural_gas_fired_combustion_turbine"
         },
         {
          "gen_sum": 134.28,
          "hour": 23,
          "resource": "_onshore_wind_turbine"
         },
         {
          "gen_sum": 21.755,
          "hour": 23,
          "resource": "_small_hydroelectric"
         },
         {
          "gen_sum": 0,
          "hour": 23,
          "resource": "_solar_photovoltaic"
         },
         {
          "gen_sum": 0,
          "hour": 0,
          "resource": "_solar_photovoltaic_btm"
         },
         {
          "gen_sum": 0,
          "hour": 1,
          "resource": "_solar_photovoltaic_btm"
         },
         {
          "gen_sum": 0,
          "hour": 2,
          "resource": "_solar_photovoltaic_btm"
         },
         {
          "gen_sum": 0,
          "hour": 3,
          "resource": "_solar_photovoltaic_btm"
         },
         {
          "gen_sum": 0,
          "hour": 4,
          "resource": "_solar_photovoltaic_btm"
         },
         {
          "gen_sum": 0,
          "hour": 5,
          "resource": "_solar_photovoltaic_btm"
         },
         {
          "gen_sum": 33.18,
          "hour": 6,
          "resource": "_solar_photovoltaic_btm"
         },
         {
          "gen_sum": 132.66,
          "hour": 7,
          "resource": "_solar_photovoltaic_btm"
         },
         {
          "gen_sum": 286.56,
          "hour": 8,
          "resource": "_solar_photovoltaic_btm"
         },
         {
          "gen_sum": 345.42,
          "hour": 9,
          "resource": "_solar_photovoltaic_btm"
         },
         {
          "gen_sum": 362.34,
          "hour": 10,
          "resource": "_solar_photovoltaic_btm"
         },
         {
          "gen_sum": 368.34,
          "hour": 11,
          "resource": "_solar_photovoltaic_btm"
         },
         {
          "gen_sum": 386.76,
          "hour": 12,
          "resource": "_solar_photovoltaic_btm"
         },
         {
          "gen_sum": 387.29999999999995,
          "hour": 13,
          "resource": "_solar_photovoltaic_btm"
         },
         {
          "gen_sum": 374.46,
          "hour": 14,
          "resource": "_solar_photovoltaic_btm"
         },
         {
          "gen_sum": 341.7,
          "hour": 15,
          "resource": "_solar_photovoltaic_btm"
         },
         {
          "gen_sum": 325.8,
          "hour": 16,
          "resource": "_solar_photovoltaic_btm"
         },
         {
          "gen_sum": 200.52,
          "hour": 17,
          "resource": "_solar_photovoltaic_btm"
         },
         {
          "gen_sum": 33,
          "hour": 18,
          "resource": "_solar_photovoltaic_btm"
         },
         {
          "gen_sum": 0,
          "hour": 19,
          "resource": "_solar_photovoltaic_btm"
         },
         {
          "gen_sum": 0,
          "hour": 20,
          "resource": "_solar_photovoltaic_btm"
         },
         {
          "gen_sum": 0,
          "hour": 21,
          "resource": "_solar_photovoltaic_btm"
         },
         {
          "gen_sum": 0,
          "hour": 22,
          "resource": "_solar_photovoltaic_btm"
         },
         {
          "gen_sum": 0,
          "hour": 23,
          "resource": "_solar_photovoltaic_btm"
         },
         {
          "gen_sum": 0,
          "hour": 0,
          "resource": "_curtailment"
         },
         {
          "gen_sum": 0,
          "hour": 1,
          "resource": "_curtailment"
         },
         {
          "gen_sum": 0,
          "hour": 2,
          "resource": "_curtailment"
         },
         {
          "gen_sum": 0,
          "hour": 3,
          "resource": "_curtailment"
         },
         {
          "gen_sum": 0,
          "hour": 4,
          "resource": "_curtailment"
         },
         {
          "gen_sum": 0,
          "hour": 5,
          "resource": "_curtailment"
         },
         {
          "gen_sum": 0,
          "hour": 6,
          "resource": "_curtailment"
         },
         {
          "gen_sum": 0,
          "hour": 7,
          "resource": "_curtailment"
         },
         {
          "gen_sum": 0,
          "hour": 8,
          "resource": "_curtailment"
         },
         {
          "gen_sum": 0,
          "hour": 9,
          "resource": "_curtailment"
         },
         {
          "gen_sum": 0,
          "hour": 10,
          "resource": "_curtailment"
         },
         {
          "gen_sum": 48.655,
          "hour": 11,
          "resource": "_curtailment"
         },
         {
          "gen_sum": 236.02499999999986,
          "hour": 12,
          "resource": "_curtailment"
         },
         {
          "gen_sum": 301.44500000000005,
          "hour": 13,
          "resource": "_curtailment"
         },
         {
          "gen_sum": 292.68500000000006,
          "hour": 14,
          "resource": "_curtailment"
         },
         {
          "gen_sum": 235.385,
          "hour": 15,
          "resource": "_curtailment"
         },
         {
          "gen_sum": 99.48499999999999,
          "hour": 16,
          "resource": "_curtailment"
         },
         {
          "gen_sum": 0,
          "hour": 17,
          "resource": "_curtailment"
         },
         {
          "gen_sum": 0,
          "hour": 18,
          "resource": "_curtailment"
         },
         {
          "gen_sum": 0,
          "hour": 19,
          "resource": "_curtailment"
         },
         {
          "gen_sum": 0,
          "hour": 20,
          "resource": "_curtailment"
         },
         {
          "gen_sum": 0,
          "hour": 21,
          "resource": "_curtailment"
         },
         {
          "gen_sum": 0,
          "hour": 22,
          "resource": "_curtailment"
         },
         {
          "gen_sum": 0,
          "hour": 23,
          "resource": "_curtailment"
         }
        ]
       },
       "encoding": {
        "color": {
         "field": "resource",
         "scale": {
          "scheme": "category10"
         },
         "type": "nominal"
        },
        "x": {
         "field": "hour",
         "type": "quantitative"
        },
        "y": {
         "field": "gen_sum",
         "stack": "zero",
         "type": "quantitative"
        }
       },
       "mark": "area"
      },
      "image/png": "[encoded data removed]",
      "image/svg+xml": [
       "<?xml version=\"1.0\" encoding=\"utf-8\"?>\n",
       "<!DOCTYPE svg PUBLIC \"-//W3C//DTD SVG 1.1//EN\" \"http://www.w3.org/Graphics/SVG/1.1/DTD/svg11.dtd\">\n",
       "<svg xmlns=\"http://www.w3.org/2000/svg\" xmlns:xlink=\"http://www.w3.org/1999/xlink\" version=\"1.1\" class=\"marks\" width=\"452\" height=\"242\" viewBox=\"0 0 452 242\"><rect width=\"452\" height=\"242\" fill=\"white\"/><g fill=\"none\" stroke-miterlimit=\"10\" transform=\"translate(54,5)\"><g class=\"mark-group role-frame root\" role=\"graphics-object\" aria-roledescription=\"group mark container\"><g transform=\"translate(0,0)\"><path class=\"background\" aria-hidden=\"true\" d=\"M0.5,0.5h200v200h-200Z\" stroke=\"#ddd\"/><g><g class=\"mark-group role-axis\" aria-hidden=\"true\"><g transform=\"translate(0.5,200.5)\"><path class=\"background\" aria-hidden=\"true\" d=\"M0,0h0v0h0Z\" pointer-events=\"none\"/><g><g class=\"mark-rule role-axis-grid\" pointer-events=\"none\"><line transform=\"translate(0,-200)\" x2=\"0\" y2=\"200\" stroke=\"#ddd\" stroke-width=\"1\" opacity=\"1\"/><line transform=\"translate(42,-200)\" x2=\"0\" y2=\"200\" stroke=\"#ddd\" stroke-width=\"1\" opacity=\"1\"/><line transform=\"translate(83,-200)\" x2=\"0\" y2=\"200\" stroke=\"#ddd\" stroke-width=\"1\" opacity=\"1\"/><line transform=\"translate(125,-200)\" x2=\"0\" y2=\"200\" stroke=\"#ddd\" stroke-width=\"1\" opacity=\"1\"/><line transform=\"translate(167,-200)\" x2=\"0\" y2=\"200\" stroke=\"#ddd\" stroke-width=\"1\" opacity=\"1\"/></g></g><path class=\"foreground\" aria-hidden=\"true\" d=\"\" pointer-events=\"none\" display=\"none\"/></g></g><g class=\"mark-group role-axis\" aria-hidden=\"true\"><g transform=\"translate(0.5,0.5)\"><path class=\"background\" aria-hidden=\"true\" d=\"M0,0h0v0h0Z\" pointer-events=\"none\"/><g><g class=\"mark-rule role-axis-grid\" pointer-events=\"none\"><line transform=\"translate(0,200)\" x2=\"200\" y2=\"0\" stroke=\"#ddd\" stroke-width=\"1\" opacity=\"1\"/><line transform=\"translate(0,162)\" x2=\"200\" y2=\"0\" stroke=\"#ddd\" stroke-width=\"1\" opacity=\"1\"/><line transform=\"translate(0,123)\" x2=\"200\" y2=\"0\" stroke=\"#ddd\" stroke-width=\"1\" opacity=\"1\"/><line transform=\"translate(0,85)\" x2=\"200\" y2=\"0\" stroke=\"#ddd\" stroke-width=\"1\" opacity=\"1\"/><line transform=\"translate(0,46)\" x2=\"200\" y2=\"0\" stroke=\"#ddd\" stroke-width=\"1\" opacity=\"1\"/><line transform=\"translate(0,8)\" x2=\"200\" y2=\"0\" stroke=\"#ddd\" stroke-width=\"1\" opacity=\"1\"/></g></g><path class=\"foreground\" aria-hidden=\"true\" d=\"\" pointer-events=\"none\" display=\"none\"/></g></g><g class=\"mark-group role-axis\" role=\"graphics-symbol\" aria-roledescription=\"axis\" aria-label=\"X-axis titled 'hour' for a linear scale with values from 0 to 24\"><g transform=\"translate(0.5,200.5)\"><path class=\"background\" aria-hidden=\"true\" d=\"M0,0h0v0h0Z\" pointer-events=\"none\"/><g><g class=\"mark-rule role-axis-tick\" pointer-events=\"none\"><line transform=\"translate(0,0)\" x2=\"0\" y2=\"5\" stroke=\"#888\" stroke-width=\"1\" opacity=\"1\"/><line transform=\"translate(42,0)\" x2=\"0\" y2=\"5\" stroke=\"#888\" stroke-width=\"1\" opacity=\"1\"/><line transform=\"translate(83,0)\" x2=\"0\" y2=\"5\" stroke=\"#888\" stroke-width=\"1\" opacity=\"1\"/><line transform=\"translate(125,0)\" x2=\"0\" y2=\"5\" stroke=\"#888\" stroke-width=\"1\" opacity=\"1\"/><line transform=\"translate(167,0)\" x2=\"0\" y2=\"5\" stroke=\"#888\" stroke-width=\"1\" opacity=\"1\"/></g><g class=\"mark-text role-axis-label\" pointer-events=\"none\"><text text-anchor=\"start\" transform=\"translate(0,15)\" font-family=\"sans-serif\" font-size=\"10px\" fill=\"#000\" opacity=\"1\">0</text><text text-anchor=\"middle\" transform=\"translate(41.66666666666667,15)\" font-family=\"sans-serif\" font-size=\"10px\" fill=\"#000\" opacity=\"1\">5</text><text text-anchor=\"middle\" transform=\"translate(83.33333333333334,15)\" font-family=\"sans-serif\" font-size=\"10px\" fill=\"#000\" opacity=\"1\">10</text><text text-anchor=\"middle\" transform=\"translate(125,15)\" font-family=\"sans-serif\" font-size=\"10px\" fill=\"#000\" opacity=\"1\">15</text><text text-anchor=\"middle\" transform=\"translate(166.66666666666669,15)\" font-family=\"sans-serif\" font-size=\"10px\" fill=\"#000\" opacity=\"1\">20</text></g><g class=\"mark-rule role-axis-domain\" pointer-events=\"none\"><line transform=\"translate(0,0)\" x2=\"200\" y2=\"0\" stroke=\"#888\" stroke-width=\"1\" opacity=\"1\"/></g><g class=\"mark-text role-axis-title\" pointer-events=\"none\"><text text-anchor=\"middle\" transform=\"translate(100,30)\" font-family=\"sans-serif\" font-size=\"11px\" font-weight=\"bold\" fill=\"#000\" opacity=\"1\">hour</text></g></g><path class=\"foreground\" aria-hidden=\"true\" d=\"\" pointer-events=\"none\" display=\"none\"/></g></g><g class=\"mark-group role-axis\" role=\"graphics-symbol\" aria-roledescription=\"axis\" aria-label=\"Y-axis titled 'gen_sum' for a linear scale with values from 0 to 2,600\"><g transform=\"translate(0.5,0.5)\"><path class=\"background\" aria-hidden=\"true\" d=\"M0,0h0v0h0Z\" pointer-events=\"none\"/><g><g class=\"mark-rule role-axis-tick\" pointer-events=\"none\"><line transform=\"translate(0,200)\" x2=\"-5\" y2=\"0\" stroke=\"#888\" stroke-width=\"1\" opacity=\"1\"/><line transform=\"translate(0,162)\" x2=\"-5\" y2=\"0\" stroke=\"#888\" stroke-width=\"1\" opacity=\"1\"/><line transform=\"translate(0,123)\" x2=\"-5\" y2=\"0\" stroke=\"#888\" stroke-width=\"1\" opacity=\"1\"/><line transform=\"translate(0,85)\" x2=\"-5\" y2=\"0\" stroke=\"#888\" stroke-width=\"1\" opacity=\"1\"/><line transform=\"translate(0,46)\" x2=\"-5\" y2=\"0\" stroke=\"#888\" stroke-width=\"1\" opacity=\"1\"/><line transform=\"translate(0,8)\" x2=\"-5\" y2=\"0\" stroke=\"#888\" stroke-width=\"1\" opacity=\"1\"/></g><g class=\"mark-text role-axis-label\" pointer-events=\"none\"><text text-anchor=\"end\" transform=\"translate(-7,203)\" font-family=\"sans-serif\" font-size=\"10px\" fill=\"#000\" opacity=\"1\">0</text><text text-anchor=\"end\" transform=\"translate(-7,164.53846153846155)\" font-family=\"sans-serif\" font-size=\"10px\" fill=\"#000\" opacity=\"1\">500</text><text text-anchor=\"end\" transform=\"translate(-7,126.07692307692308)\" font-family=\"sans-serif\" font-size=\"10px\" fill=\"#000\" opacity=\"1\">1,000</text><text text-anchor=\"end\" transform=\"translate(-7,87.61538461538463)\" font-family=\"sans-serif\" font-size=\"10px\" fill=\"#000\" opacity=\"1\">1,500</text><text text-anchor=\"end\" transform=\"translate(-7,49.153846153846146)\" font-family=\"sans-serif\" font-size=\"10px\" fill=\"#000\" opacity=\"1\">2,000</text><text text-anchor=\"end\" transform=\"translate(-7,10.692307692307686)\" font-family=\"sans-serif\" font-size=\"10px\" fill=\"#000\" opacity=\"1\">2,500</text></g><g class=\"mark-rule role-axis-domain\" pointer-events=\"none\"><line transform=\"translate(0,200)\" x2=\"0\" y2=\"-200\" stroke=\"#888\" stroke-width=\"1\" opacity=\"1\"/></g><g class=\"mark-text role-axis-title\" pointer-events=\"none\"><text text-anchor=\"middle\" transform=\"translate(-38,100) rotate(-90) translate(0,-2)\" font-family=\"sans-serif\" font-size=\"11px\" font-weight=\"bold\" fill=\"#000\" opacity=\"1\">gen_sum</text></g></g><path class=\"foreground\" aria-hidden=\"true\" d=\"\" pointer-events=\"none\" display=\"none\"/></g></g><g class=\"mark-group role-scope pathgroup\" role=\"graphics-object\" aria-roledescription=\"group mark container\"><g transform=\"translate(0,0)\"><path class=\"background\" aria-hidden=\"true\" d=\"M0,0h200v200h-200Z\"/><g><g class=\"mark-area role-mark marks\" role=\"graphics-object\" aria-roledescription=\"area mark container\"><path aria-label=\"hour: 0; gen_sum: 21.4; resource: biomass\" role=\"graphics-symbol\" aria-roledescription=\"area mark\" d=\"M0,129.985L8.333333333333332,133.63884615384615L16.666666666666664,131.57653846153846L25,128.2796153846154L33.33333333333333,118.05423076923076L41.66666666666667,109.67346153846154L50,100.35423076923075L58.333333333333336,113.83807692307693L66.66666666666666,159.08576923076924L75,165.88576923076923L83.33333333333334,164.61192307692306L91.66666666666666,169.79230769230767L100,169.79230769230767L108.33333333333333,169.79230769230767L116.66666666666667,169.79230769230767L125,169.79230769230767L133.33333333333331,169.79230769230767L141.66666666666669,145.10884615384617L150,95.26884615384613L158.33333333333331,79.80807692307692L166.66666666666669,82.21192307692304L175,94.65115384615383L183.33333333333331,112.05884615384613L191.66666666666669,124.54192307692308L191.66666666666669,126.18807692307692L183.33333333333331,113.70499999999998L175,96.29730769230768L166.66666666666669,83.8580769230769L158.33333333333331,81.45423076923078L150,96.91499999999998L141.66666666666669,146.75500000000002L133.33333333333331,169.79230769230767L125,169.79230769230767L116.66666666666667,169.79230769230767L108.33333333333333,169.79230769230767L100,169.79230769230767L91.66666666666666,169.79230769230767L83.33333333333334,164.61192307692306L75,165.88576923076923L66.66666666666666,160.73192307692307L58.333333333333336,115.48423076923078L50,102.0003846153846L41.66666666666667,111.31961538461539L33.33333333333333,119.70038461538462L25,129.92576923076925L16.666666666666664,133.2226923076923L8.333333333333332,135.28500000000003L0,131.63115384615384Z\" fill=\"#8c564b\"/></g></g><path class=\"foreground\" aria-hidden=\"true\" d=\"\" display=\"none\"/></g><g transform=\"translate(0,0)\"><path class=\"background\" aria-hidden=\"true\" d=\"M0,0h200v200h-200Z\"/><g><g class=\"mark-area role-mark marks\" role=\"graphics-object\" aria-roledescription=\"area mark container\"><path aria-label=\"hour: 0; gen_sum: 100; resource: hydroelectric_pumped_storage\" role=\"graphics-symbol\" aria-roledescription=\"area mark\" d=\"M0,131.63115384615384L8.333333333333332,135.28500000000003L16.666666666666664,133.2226923076923L25,129.92576923076925L33.33333333333333,119.70038461538462L41.66666666666667,111.31961538461539L50,102.0003846153846L58.333333333333336,115.48423076923078L66.66666666666666,160.73192307692307L75,165.88576923076923L83.33333333333334,164.61192307692306L91.66666666666666,169.79230769230767L100,169.79230769230767L108.33333333333333,169.79230769230767L116.66666666666667,169.79230769230767L125,169.79230769230767L133.33333333333331,169.79230769230767L141.66666666666669,146.75500000000002L150,96.91499999999998L158.33333333333331,81.45423076923078L166.66666666666669,83.8580769230769L175,96.29730769230768L183.33333333333331,113.70499999999998L191.66666666666669,126.18807692307692L191.66666666666669,133.8803846153846L183.33333333333331,121.39730769230769L175,103.98961538461538L166.66666666666669,91.5503846153846L158.33333333333331,89.14653846153846L150,104.60730769230766L141.66666666666669,154.4473076923077L133.33333333333331,169.79230769230767L125,169.79230769230767L116.66666666666667,169.79230769230767L108.33333333333333,169.79230769230767L100,169.79230769230767L91.66666666666666,169.79230769230767L83.33333333333334,169.79230769230767L75,169.79230769230767L66.66666666666666,168.42423076923077L58.333333333333336,123.17653846153847L50,109.69269230769231L41.66666666666667,119.01192307692308L33.33333333333333,127.39269230769233L25,137.61807692307693L16.666666666666664,140.91500000000002L8.333333333333332,142.97730769230768L0,139.32346153846154Z\" fill=\"#e377c2\"/></g></g><path class=\"foreground\" aria-hidden=\"true\" d=\"\" display=\"none\"/></g><g transform=\"translate(0,0)\"><path class=\"background\" aria-hidden=\"true\" d=\"M0,0h200v200h-200Z\"/><g><g class=\"mark-area role-mark marks\" role=\"graphics-object\" aria-roledescription=\"area mark container\"><path aria-label=\"hour: 0; gen_sum: 756.4872; resource: natural_gas_fired_combined_cycle\" role=\"graphics-symbol\" aria-roledescription=\"area mark\" d=\"M0,139.32346153846154L8.333333333333332,142.97730769230768L16.666666666666664,140.91500000000002L25,137.61807692307693L33.33333333333333,127.39269230769233L41.66666666666667,119.01192307692308L50,109.69269230769231L58.333333333333336,123.17653846153847L66.66666666666666,168.42423076923077L75,169.79230769230767L83.33333333333334,169.79230769230767L91.66666666666666,169.79230769230767L100,169.79230769230767L108.33333333333333,169.79230769230767L116.66666666666667,169.79230769230767L125,169.79230769230767L133.33333333333331,169.79230769230767L141.66666666666669,154.4473076923077L150,104.60730769230766L158.33333333333331,89.14653846153846L166.66666666666669,91.5503846153846L175,103.98961538461538L183.33333333333331,121.39730769230769L191.66666666666669,133.8803846153846L191.66666666666669,200L183.33333333333331,200L175,188.605L166.66666666666669,176.1657692307692L158.33333333333331,173.7619230769231L150,189.22269230769228L141.66666666666669,200L133.33333333333331,200L125,200L116.66666666666667,200L108.33333333333333,200L100,200L91.66666666666666,200L83.33333333333334,200L75,200L66.66666666666666,200L58.333333333333336,200L50,194.30807692307692L41.66666666666667,197.5147846153846L33.33333333333333,197.5147846153846L25,197.5147846153846L16.666666666666664,197.5147846153846L8.333333333333332,197.5147846153846L0,197.5147846153846Z\" fill=\"#7f7f7f\"/></g></g><path class=\"foreground\" aria-hidden=\"true\" d=\"\" display=\"none\"/></g><g transform=\"translate(0,0)\"><path class=\"background\" aria-hidden=\"true\" d=\"M0,0h200v200h-200Z\"/><g><g class=\"mark-area role-mark marks\" role=\"graphics-object\" aria-roledescription=\"area mark container\"><path aria-label=\"hour: 0; gen_sum: 32.3078; resource: natural_gas_fired_combustion_turbine\" role=\"graphics-symbol\" aria-roledescription=\"area mark\" d=\"M0,197.5147846153846L8.333333333333332,197.5147846153846L16.666666666666664,197.5147846153846L25,197.5147846153846L33.33333333333333,197.5147846153846L41.66666666666667,197.5147846153846L50,194.30807692307692L58.333333333333336,200L66.66666666666666,200L75,200L83.33333333333334,200L91.66666666666666,200L100,200L108.33333333333333,200L116.66666666666667,200L125,200L133.33333333333331,200L141.66666666666669,200L150,189.22269230769228L158.33333333333331,173.7619230769231L166.66666666666669,176.1657692307692L175,188.605L183.33333333333331,200L191.66666666666669,200L191.66666666666669,200L183.33333333333331,200L175,200L166.66666666666669,200L158.33333333333331,200L150,200L141.66666666666669,200L133.33333333333331,200L125,200L116.66666666666667,200L108.33333333333333,200L100,200L91.66666666666666,200L83.33333333333334,200L75,200L66.66666666666666,200L58.333333333333336,200L50,200L41.66666666666667,200L33.33333333333333,200L25,200L16.666666666666664,200L8.333333333333332,200L0,200Z\" fill=\"#bcbd22\"/></g></g><path class=\"foreground\" aria-hidden=\"true\" d=\"\" display=\"none\"/></g><g transform=\"translate(0,0)\"><path class=\"background\" aria-hidden=\"true\" d=\"M0,0h200v200h-200Z\"/><g><g class=\"mark-area role-mark marks\" role=\"graphics-object\" aria-roledescription=\"area mark container\"><path aria-label=\"hour: 0; gen_sum: 150.1; resource: _onshore_wind_turbine\" role=\"graphics-symbol\" aria-roledescription=\"area mark\" d=\"M0,116.76538461538462L8.333333333333332,119.96076923076924L16.666666666666664,121.76461538461538L25,119.49692307692308L33.33333333333333,110.68384615384615L41.66666666666667,98.15999999999998L50,80.24923076923076L58.333333333333336,55.94999999999999L66.66666666666666,31.690769230769234L75,17.628461538461536L83.33333333333334,11.069999999999979L91.66666666666666,18.957692307692287L100,28.8792307692308L108.33333333333333,32.80615384615384L116.66666666666667,38.32923076923078L125,45.79692307692309L133.33333333333331,38.00076923076921L141.66666666666669,54.698461538461544L150,68.71846153846151L158.33333333333331,66.15461538461535L166.66666666666669,67.85538461538457L175,82.23461538461537L183.33333333333331,98.9330769230769L191.66666666666669,112.53923076923078L191.66666666666669,122.86846153846153L183.33333333333331,110.38538461538461L175,92.97769230769228L166.66666666666669,80.53846153846152L158.33333333333331,78.13461538461537L150,80.47999999999998L141.66666666666669,63.74153846153845L133.33333333333331,38.63423076923076L125,45.79692307692309L116.66666666666667,38.32923076923078L108.33333333333333,32.80615384615384L100,28.8792307692308L91.66666666666666,21.727307692307683L83.33333333333334,18.931538461538434L75,26.93000000000001L66.66666666666666,43.52307692307691L58.333333333333336,59.44076923076922L50,85.49384615384614L41.66666666666667,107.99999999999999L33.33333333333333,116.38076923076923L25,126.60615384615386L16.666666666666664,129.90307692307695L8.333333333333332,131.9653846153846L0,128.31153846153848Z\" fill=\"#ff7f0e\"/></g></g><path class=\"foreground\" aria-hidden=\"true\" d=\"\" display=\"none\"/></g><g transform=\"translate(0,0)\"><path class=\"background\" aria-hidden=\"true\" d=\"M0,0h200v200h-200Z\"/><g><g class=\"mark-area role-mark marks\" role=\"graphics-object\" aria-roledescription=\"area mark container\"><path aria-label=\"hour: 0; gen_sum: 21.755; resource: _small_hydroelectric\" role=\"graphics-symbol\" aria-roledescription=\"area mark\" d=\"M0,128.31153846153848L8.333333333333332,131.9653846153846L16.666666666666664,129.90307692307695L25,126.60615384615386L33.33333333333333,116.38076923076923L41.66666666666667,107.99999999999999L50,85.49384615384614L58.333333333333336,59.44076923076922L66.66666666666666,43.52307692307691L75,26.93000000000001L83.33333333333334,18.931538461538434L91.66666666666666,21.727307692307683L100,28.8792307692308L108.33333333333333,32.80615384615384L116.66666666666667,38.32923076923078L125,45.79692307692309L133.33333333333331,38.63423076923076L141.66666666666669,63.74153846153845L150,80.47999999999998L158.33333333333331,78.13461538461537L166.66666666666669,80.53846153846152L175,92.97769230769228L183.33333333333331,110.38538461538461L191.66666666666669,122.86846153846153L191.66666666666669,124.54192307692308L183.33333333333331,112.05884615384613L175,94.65115384615383L166.66666666666669,82.21192307692304L158.33333333333331,79.80807692307692L150,82.1534615384615L141.66666666666669,65.415L133.33333333333331,40.307692307692314L125,45.79692307692309L116.66666666666667,38.32923076923078L108.33333333333333,32.80615384615384L100,28.8792307692308L91.66666666666666,23.400769230769235L83.33333333333334,20.604999999999983L75,28.60346153846156L66.66666666666666,45.19653846153846L58.333333333333336,61.11423076923077L50,87.16730769230769L41.66666666666667,109.67346153846154L33.33333333333333,118.05423076923076L25,128.2796153846154L16.666666666666664,131.57653846153846L8.333333333333332,133.63884615384615L0,129.985Z\" fill=\"#2ca02c\"/></g></g><path class=\"foreground\" aria-hidden=\"true\" d=\"\" display=\"none\"/></g><g transform=\"translate(0,0)\"><path class=\"background\" aria-hidden=\"true\" d=\"M0,0h200v200h-200Z\"/><g><g class=\"mark-area role-mark marks\" role=\"graphics-object\" aria-roledescription=\"area mark container\"><path aria-label=\"hour: 0; gen_sum: 0; resource: _solar_photovoltaic\" role=\"graphics-symbol\" aria-roledescription=\"area mark\" d=\"M0,129.985L8.333333333333332,133.63884615384615L16.666666666666664,131.57653846153846L25,128.2796153846154L33.33333333333333,118.05423076923076L41.66666666666667,109.67346153846154L50,87.16730769230769L58.333333333333336,61.11423076923077L66.66666666666666,45.19653846153846L75,28.60346153846156L83.33333333333334,20.604999999999983L91.66666666666666,23.400769230769235L100,28.8792307692308L108.33333333333333,32.80615384615384L116.66666666666667,38.32923076923078L125,45.79692307692309L133.33333333333331,40.307692307692314L141.66666666666669,65.415L150,82.1534615384615L158.33333333333331,79.80807692307692L166.66666666666669,82.21192307692304L175,94.65115384615383L183.33333333333331,112.05884615384613L191.66666666666669,124.54192307692308L191.66666666666669,124.54192307692308L183.33333333333331,112.05884615384613L175,94.65115384615383L166.66666666666669,82.21192307692304L158.33333333333331,79.80807692307692L150,92.7303846153846L141.66666666666669,129.6842307692308L133.33333333333331,144.73076923076923L125,143.5076923076923L116.66666666666667,140.9876923076923L108.33333333333333,140L100,140.04153846153847L91.66666666666666,141.45846153846153L83.33333333333334,136.73961538461538L75,139.315L66.66666666666666,137.0426923076923L58.333333333333336,103.63346153846153L50,97.80192307692307L41.66666666666667,109.67346153846154L33.33333333333333,118.05423076923076L25,128.2796153846154L16.666666666666664,131.57653846153846L8.333333333333332,133.63884615384615L0,129.985Z\" fill=\"#d62728\"/></g></g><path class=\"foreground\" aria-hidden=\"true\" d=\"\" display=\"none\"/></g><g transform=\"translate(0,0)\"><path class=\"background\" aria-hidden=\"true\" d=\"M0,0h200v200h-200Z\"/><g><g class=\"mark-area role-mark marks\" role=\"graphics-object\" aria-roledescription=\"area mark container\"><path aria-label=\"hour: 0; gen_sum: 0; resource: _solar_photovoltaic_btm\" role=\"graphics-symbol\" aria-roledescription=\"area mark\" d=\"M0,129.985L8.333333333333332,133.63884615384615L16.666666666666664,131.57653846153846L25,128.2796153846154L33.33333333333333,118.05423076923076L41.66666666666667,109.67346153846154L50,97.80192307692307L58.333333333333336,103.63346153846153L66.66666666666666,137.0426923076923L75,139.315L83.33333333333334,136.73961538461538L91.66666666666666,141.45846153846153L100,140.04153846153847L108.33333333333333,140L116.66666666666667,140.9876923076923L125,143.5076923076923L133.33333333333331,144.73076923076923L141.66666666666669,129.6842307692308L150,92.7303846153846L158.33333333333331,79.80807692307692L166.66666666666669,82.21192307692304L175,94.65115384615383L183.33333333333331,112.05884615384613L191.66666666666669,124.54192307692308L191.66666666666669,124.54192307692308L183.33333333333331,112.05884615384613L175,94.65115384615383L166.66666666666669,82.21192307692304L158.33333333333331,79.80807692307692L150,95.26884615384613L141.66666666666669,145.10884615384617L133.33333333333331,169.79230769230767L125,169.79230769230767L116.66666666666667,169.79230769230767L108.33333333333333,169.79230769230767L100,169.79230769230767L91.66666666666666,169.79230769230767L83.33333333333334,164.61192307692306L75,165.88576923076923L66.66666666666666,159.08576923076924L58.333333333333336,113.83807692307693L50,100.35423076923075L41.66666666666667,109.67346153846154L33.33333333333333,118.05423076923076L25,128.2796153846154L16.666666666666664,131.57653846153846L8.333333333333332,133.63884615384615L0,129.985Z\" fill=\"#9467bd\"/></g></g><path class=\"foreground\" aria-hidden=\"true\" d=\"\" display=\"none\"/></g><g transform=\"translate(0,0)\"><path class=\"background\" aria-hidden=\"true\" d=\"M0,0h200v200h-200Z\"/><g><g class=\"mark-area role-mark marks\" role=\"graphics-object\" aria-roledescription=\"area mark container\"><path aria-label=\"hour: 0; gen_sum: 0; resource: _curtailment\" role=\"graphics-symbol\" aria-roledescription=\"area mark\" d=\"M0,116.76538461538462L8.333333333333332,119.96076923076924L16.666666666666664,121.76461538461538L25,119.49692307692308L33.33333333333333,110.68384615384615L41.66666666666667,98.15999999999998L50,80.24923076923076L58.333333333333336,55.94999999999999L66.66666666666666,31.690769230769234L75,17.628461538461536L83.33333333333334,11.069999999999979L91.66666666666666,15.214999999999979L100,10.7234615384616L108.33333333333333,9.618076923076902L116.66666666666667,15.815000000000023L125,27.690384615384644L133.33333333333331,30.348076923076906L141.66666666666669,54.698461538461544L150,68.71846153846151L158.33333333333331,66.15461538461535L166.66666666666669,67.85538461538457L175,82.23461538461537L183.33333333333331,98.9330769230769L191.66666666666669,112.53923076923078L191.66666666666669,112.53923076923078L183.33333333333331,98.9330769230769L175,82.23461538461537L166.66666666666669,67.85538461538457L158.33333333333331,66.15461538461535L150,68.71846153846151L141.66666666666669,54.698461538461544L133.33333333333331,38.00076923076921L125,45.79692307692309L116.66666666666667,38.32923076923078L108.33333333333333,32.80615384615384L100,28.8792307692308L91.66666666666666,18.957692307692287L83.33333333333334,11.069999999999979L75,17.628461538461536L66.66666666666666,31.690769230769234L58.333333333333336,55.94999999999999L50,80.24923076923076L41.66666666666667,98.15999999999998L33.33333333333333,110.68384615384615L25,119.49692307692308L16.666666666666664,121.76461538461538L8.333333333333332,119.96076923076924L0,116.76538461538462Z\" fill=\"#1f77b4\"/></g></g><path class=\"foreground\" aria-hidden=\"true\" d=\"\" display=\"none\"/></g></g><g class=\"mark-group role-legend\" role=\"graphics-symbol\" aria-roledescription=\"legend\" aria-label=\"Symbol legend titled 'resource' for fill color with 9 values: _curtailment, _onshore_wind_turbine, _small_hydroelectric, _solar_photovoltaic, _solar_photovoltaic_btm, ending with natural_gas_fired_combustion_turbine\"><g transform=\"translate(218,0)\"><path class=\"background\" aria-hidden=\"true\" d=\"M0,0h175v131h-175Z\" pointer-events=\"none\"/><g><g class=\"mark-group role-legend-entry\"><g transform=\"translate(0,16)\"><path class=\"background\" aria-hidden=\"true\" d=\"M0,0h0v0h0Z\" pointer-events=\"none\"/><g><g class=\"mark-group role-scope\" role=\"graphics-object\" aria-roledescription=\"group mark container\"><g transform=\"translate(0,0)\"><path class=\"background\" aria-hidden=\"true\" d=\"M0,0h175v11h-175Z\" pointer-events=\"none\" opacity=\"1\"/><g><g class=\"mark-symbol role-legend-symbol\" pointer-events=\"none\"><path transform=\"translate(6,6)\" d=\"M5,0A5,5,0,1,1,-5,0A5,5,0,1,1,5,0\" fill=\"#1f77b4\" stroke-width=\"1.5\" opacity=\"1\"/></g><g class=\"mark-text role-legend-label\" pointer-events=\"none\"><text text-anchor=\"start\" transform=\"translate(16,9)\" font-family=\"sans-serif\" font-size=\"10px\" fill=\"#000\" opacity=\"1\">_curtailment</text></g></g><path class=\"foreground\" aria-hidden=\"true\" d=\"\" pointer-events=\"none\" display=\"none\"/></g><g transform=\"translate(0,13)\"><path class=\"background\" aria-hidden=\"true\" d=\"M0,0h175v11h-175Z\" pointer-events=\"none\" opacity=\"1\"/><g><g class=\"mark-symbol role-legend-symbol\" pointer-events=\"none\"><path transform=\"translate(6,6)\" d=\"M5,0A5,5,0,1,1,-5,0A5,5,0,1,1,5,0\" fill=\"#ff7f0e\" stroke-width=\"1.5\" opacity=\"1\"/></g><g class=\"mark-text role-legend-label\" pointer-events=\"none\"><text text-anchor=\"start\" transform=\"translate(16,9)\" font-family=\"sans-serif\" font-size=\"10px\" fill=\"#000\" opacity=\"1\">_onshore_wind_turbine</text></g></g><path class=\"foreground\" aria-hidden=\"true\" d=\"\" pointer-events=\"none\" display=\"none\"/></g><g transform=\"translate(0,26)\"><path class=\"background\" aria-hidden=\"true\" d=\"M0,0h175v11h-175Z\" pointer-events=\"none\" opacity=\"1\"/><g><g class=\"mark-symbol role-legend-symbol\" pointer-events=\"none\"><path transform=\"translate(6,6)\" d=\"M5,0A5,5,0,1,1,-5,0A5,5,0,1,1,5,0\" fill=\"#2ca02c\" stroke-width=\"1.5\" opacity=\"1\"/></g><g class=\"mark-text role-legend-label\" pointer-events=\"none\"><text text-anchor=\"start\" transform=\"translate(16,9)\" font-family=\"sans-serif\" font-size=\"10px\" fill=\"#000\" opacity=\"1\">_small_hydroelectric</text></g></g><path class=\"foreground\" aria-hidden=\"true\" d=\"\" pointer-events=\"none\" display=\"none\"/></g><g transform=\"translate(0,39)\"><path class=\"background\" aria-hidden=\"true\" d=\"M0,0h175v11h-175Z\" pointer-events=\"none\" opacity=\"1\"/><g><g class=\"mark-symbol role-legend-symbol\" pointer-events=\"none\"><path transform=\"translate(6,6)\" d=\"M5,0A5,5,0,1,1,-5,0A5,5,0,1,1,5,0\" fill=\"#d62728\" stroke-width=\"1.5\" opacity=\"1\"/></g><g class=\"mark-text role-legend-label\" pointer-events=\"none\"><text text-anchor=\"start\" transform=\"translate(16,9)\" font-family=\"sans-serif\" font-size=\"10px\" fill=\"#000\" opacity=\"1\">_solar_photovoltaic</text></g></g><path class=\"foreground\" aria-hidden=\"true\" d=\"\" pointer-events=\"none\" display=\"none\"/></g><g transform=\"translate(0,52)\"><path class=\"background\" aria-hidden=\"true\" d=\"M0,0h175v11h-175Z\" pointer-events=\"none\" opacity=\"1\"/><g><g class=\"mark-symbol role-legend-symbol\" pointer-events=\"none\"><path transform=\"translate(6,6)\" d=\"M5,0A5,5,0,1,1,-5,0A5,5,0,1,1,5,0\" fill=\"#9467bd\" stroke-width=\"1.5\" opacity=\"1\"/></g><g class=\"mark-text role-legend-label\" pointer-events=\"none\"><text text-anchor=\"start\" transform=\"translate(16,9)\" font-family=\"sans-serif\" font-size=\"10px\" fill=\"#000\" opacity=\"1\">_solar_photovoltaic_btm</text></g></g><path class=\"foreground\" aria-hidden=\"true\" d=\"\" pointer-events=\"none\" display=\"none\"/></g><g transform=\"translate(0,65)\"><path class=\"background\" aria-hidden=\"true\" d=\"M0,0h175v11h-175Z\" pointer-events=\"none\" opacity=\"1\"/><g><g class=\"mark-symbol role-legend-symbol\" pointer-events=\"none\"><path transform=\"translate(6,6)\" d=\"M5,0A5,5,0,1,1,-5,0A5,5,0,1,1,5,0\" fill=\"#8c564b\" stroke-width=\"1.5\" opacity=\"1\"/></g><g class=\"mark-text role-legend-label\" pointer-events=\"none\"><text text-anchor=\"start\" transform=\"translate(16,9)\" font-family=\"sans-serif\" font-size=\"10px\" fill=\"#000\" opacity=\"1\">biomass</text></g></g><path class=\"foreground\" aria-hidden=\"true\" d=\"\" pointer-events=\"none\" display=\"none\"/></g><g transform=\"translate(0,78)\"><path class=\"background\" aria-hidden=\"true\" d=\"M0,0h175v11h-175Z\" pointer-events=\"none\" opacity=\"1\"/><g><g class=\"mark-symbol role-legend-symbol\" pointer-events=\"none\"><path transform=\"translate(6,6)\" d=\"M5,0A5,5,0,1,1,-5,0A5,5,0,1,1,5,0\" fill=\"#e377c2\" stroke-width=\"1.5\" opacity=\"1\"/></g><g class=\"mark-text role-legend-label\" pointer-events=\"none\"><text text-anchor=\"start\" transform=\"translate(16,9)\" font-family=\"sans-serif\" font-size=\"10px\" fill=\"#000\" opacity=\"1\">hydroelectric_pumped_storage</text></g></g><path class=\"foreground\" aria-hidden=\"true\" d=\"\" pointer-events=\"none\" display=\"none\"/></g><g transform=\"translate(0,91)\"><path class=\"background\" aria-hidden=\"true\" d=\"M0,0h175v11h-175Z\" pointer-events=\"none\" opacity=\"1\"/><g><g class=\"mark-symbol role-legend-symbol\" pointer-events=\"none\"><path transform=\"translate(6,6)\" d=\"M5,0A5,5,0,1,1,-5,0A5,5,0,1,1,5,0\" fill=\"#7f7f7f\" stroke-width=\"1.5\" opacity=\"1\"/></g><g class=\"mark-text role-legend-label\" pointer-events=\"none\"><text text-anchor=\"start\" transform=\"translate(16,9)\" font-family=\"sans-serif\" font-size=\"10px\" fill=\"#000\" opacity=\"1\">natural_gas_fired_combined_cy…</text></g></g><path class=\"foreground\" aria-hidden=\"true\" d=\"\" pointer-events=\"none\" display=\"none\"/></g><g transform=\"translate(0,104)\"><path class=\"background\" aria-hidden=\"true\" d=\"M0,0h175v11h-175Z\" pointer-events=\"none\" opacity=\"1\"/><g><g class=\"mark-symbol role-legend-symbol\" pointer-events=\"none\"><path transform=\"translate(6,6)\" d=\"M5,0A5,5,0,1,1,-5,0A5,5,0,1,1,5,0\" fill=\"#bcbd22\" stroke-width=\"1.5\" opacity=\"1\"/></g><g class=\"mark-text role-legend-label\" pointer-events=\"none\"><text text-anchor=\"start\" transform=\"translate(16,9)\" font-family=\"sans-serif\" font-size=\"10px\" fill=\"#000\" opacity=\"1\">natural_gas_fired_combustion_t…</text></g></g><path class=\"foreground\" aria-hidden=\"true\" d=\"\" pointer-events=\"none\" display=\"none\"/></g></g></g><path class=\"foreground\" aria-hidden=\"true\" d=\"\" pointer-events=\"none\" display=\"none\"/></g></g><g class=\"mark-text role-legend-title\" pointer-events=\"none\"><text text-anchor=\"start\" transform=\"translate(0,9)\" font-family=\"sans-serif\" font-size=\"11px\" font-weight=\"bold\" fill=\"#000\" opacity=\"1\">resource</text></g></g><path class=\"foreground\" aria-hidden=\"true\" d=\"\" pointer-events=\"none\" display=\"none\"/></g></g></g><path class=\"foreground\" aria-hidden=\"true\" d=\"\" display=\"none\"/></g></g></g></svg>\n"
      ],
      "text/plain": [
       "@vlplot(\n",
       "    mark=\"area\",\n",
       "    encoding={\n",
       "        x={\n",
       "            field=\"hour\"\n",
       "        },\n",
       "        y={\n",
       "            stack=\"zero\",\n",
       "            field=\"gen_sum\"\n",
       "        },\n",
       "        color={\n",
       "            scale={\n",
       "                scheme=\"category10\"\n",
       "            },\n",
       "            field=\"resource\",\n",
       "            type=\"nominal\"\n",
       "        }\n",
       "    },\n",
       "    data={\n",
       "        values=...\n",
       "    }\n",
       ")"
      ]
     },
     "execution_count": 7,
     "metadata": {},
     "output_type": "execute_result"
    }
   ],
   "source": [
    "# Plot stacked area chart of generation for the given day using vegalite\n",
    "\n",
    "# Add in BTM solar and curtailment and plot results\n",
    "\n",
    "# need to define T_period to use the code from Notebook 5\n",
    "T_period = 1:24\n",
    "\n",
    "sol_gen = innerjoin(UC_solution.gen, \n",
    "                    gen_df[!, [:r_id, :resource]], \n",
    "                    on = :r_id)\n",
    "sol_gen = combine(groupby(sol_gen, [:resource, :hour]), \n",
    "            :gen => sum)\n",
    "\n",
    "# Rename generators (for plotting purposes)\n",
    "sol_gen[sol_gen.resource .== \"solar_photovoltaic\", :resource] .= \"_solar_photovoltaic\"\n",
    "sol_gen[sol_gen.resource .== \"onshore_wind_turbine\", :resource] .= \"_onshore_wind_turbine\"\n",
    "sol_gen[sol_gen.resource .== \"small_hydroelectric\", :resource] .= \"_small_hydroelectric\"\n",
    "\n",
    "# BTM solar\n",
    "btm = DataFrame(resource = repeat([\"_solar_photovoltaic_btm\"]; outer=length(T_period)), \n",
    "    hour = T_period,\n",
    "    gen_sum = gen_variable_long[gen_variable_long.gen_full .== \"wec_sdge_solar_photovoltaic_1.0\",:cf] * 600)\n",
    "append!(sol_gen, btm)\n",
    "\n",
    "# Curtailment\n",
    "curtail = combine(groupby(UC_solution.curtail, [:hour]),\n",
    "            :curt => sum)\n",
    "curtail[!, :resource] .= \"_curtailment\"\n",
    "rename!(curtail, :curt_sum => :gen_sum)\n",
    "append!(sol_gen, curtail[:,[:resource, :hour, :gen_sum]])\n",
    "\n",
    "# Rescale hours\n",
    "sol_gen.hour = sol_gen.hour .- T_period[1]\n",
    "\n",
    "sol_gen |>\n",
    "@vlplot(:area, \n",
    "    x=:hour, y={:gen_sum, stack=:zero}, \n",
    "    color={\"resource:n\", scale={scheme=\"category10\"}})"
   ]
  },
  {
   "cell_type": "markdown",
   "metadata": {},
   "source": [
    "**B. Zero startup costs sensitivity**\n",
    "\n",
    "Next, create a modified version of the generator dataframe (`gen_df_sens = copy(gen_df)`) and set the startup costs for all generators to be 0.\n",
    "\n",
    "Rerun the UC and compare with the first solution. What are the main differences and why?"
   ]
  },
  {
   "cell_type": "code",
   "execution_count": 8,
   "metadata": {},
   "outputs": [],
   "source": [
    "# set start-up costs for all generators to be 0\n",
    "gen_df_sens = copy(gen_df)\n",
    "gen_df_sens.start_cost_per_mw .= 0;"
   ]
  },
  {
   "cell_type": "code",
   "execution_count": 9,
   "metadata": {},
   "outputs": [
    {
     "name": "stdout",
     "output_type": "stream",
     "text": [
      "Presolving model\n",
      "2013 rows, 1707 cols, 6595 nonzeros\n",
      "1791 rows, 1423 cols, 7349 nonzeros\n",
      "\n",
      "Solving MIP model with:\n",
      "   1791 rows\n",
      "   1423 cols (968 binary, 0 integer, 0 implied int., 455 continuous)\n",
      "   7349 nonzeros\n",
      "\n",
      "( 0.0s) Starting symmetry detection\n",
      "( 0.0s) No symmetry present\n",
      "\n",
      "        Nodes      |    B&B Tree     |            Objective Bounds              |  Dynamic Constraints |       Work      \n",
      "     Proc. InQueue |  Leaves   Expl. | BestBound       BestSol              Gap |   Cuts   InLp Confl. | LpIters     Time\n",
      "\n",
      "         0       0         0   0.00%   0               inf                  inf        0      0      0         0     0.0s\n",
      "         0       0         0   0.00%   391175.854994   inf                  inf        0      0     13       272     0.0s\n",
      " C       0       0         0   0.00%   394309.521925   500327.056643     21.19%      535     47    119       569     0.1s\n",
      " L       0       0         0   0.00%   394838.169361   395637.968622      0.20%     2763    146    119      1204     0.8s\n",
      "\n",
      "Solving report\n",
      "  Status            Optimal\n",
      "  Primal bound      395637.968622\n",
      "  Dual bound        394838.185184\n",
      "  Gap               0.202% (tolerance: 1%)\n",
      "  Solution status   feasible\n",
      "                    395637.968622 (objective)\n",
      "                    0 (bound viol.)\n",
      "                    3.13665139788e-13 (int. viol.)\n",
      "                    0 (row viol.)\n",
      "  Timing            0.82 (total)\n",
      "                    0.02 (presolve)\n",
      "                    0.00 (postsolve)\n",
      "  Nodes             1\n",
      "  LP iterations     1900 (total)\n",
      "                    0 (strong br.)\n",
      "                    932 (separation)\n",
      "                    695 (heuristics)\n"
     ]
    },
    {
     "data": {
      "text/plain": [
       "(gen = \u001b[1m528×3 DataFrame\u001b[0m\n",
       "\u001b[1m Row \u001b[0m│\u001b[1m r_id   \u001b[0m\u001b[1m hour  \u001b[0m\u001b[1m gen     \u001b[0m\n",
       "     │\u001b[90m Int64? \u001b[0m\u001b[90m Int64 \u001b[0m\u001b[90m Float64 \u001b[0m\n",
       "─────┼────────────────────────\n",
       "   1 │      1      1   21.4\n",
       "   2 │      2      1  100.0\n",
       "   3 │      3      1  288.795\n",
       "   4 │      4      1  500.0\n",
       "   5 │      5      1    0.0\n",
       "   6 │      6      1    0.0\n",
       "   7 │      7      1    0.0\n",
       "   8 │      8      1    0.0\n",
       "   9 │      9      1    0.0\n",
       "  10 │     10      1    0.0\n",
       "  11 │     11      1    0.0\n",
       "  ⋮  │   ⋮       ⋮       ⋮\n",
       " 519 │     13     24    0.0\n",
       " 520 │     14     24    0.0\n",
       " 521 │     15     24    0.0\n",
       " 522 │     16     24    0.0\n",
       " 523 │     17     24    0.0\n",
       " 524 │     18     24    0.0\n",
       " 525 │     19     24    0.0\n",
       " 526 │     20     24  134.28\n",
       " 527 │     21     24   21.755\n",
       " 528 │     22     24    0.0\n",
       "\u001b[36m              507 rows omitted\u001b[0m, commit = \u001b[1m408×3 DataFrame\u001b[0m\n",
       "\u001b[1m Row \u001b[0m│\u001b[1m r_id   \u001b[0m\u001b[1m hour  \u001b[0m\u001b[1m gen          \u001b[0m\n",
       "     │\u001b[90m Int64? \u001b[0m\u001b[90m Int64 \u001b[0m\u001b[90m Float64      \u001b[0m\n",
       "─────┼─────────────────────────────\n",
       "   1 │      3      1   1.0\n",
       "   2 │      4      1   1.0\n",
       "   3 │      5      1   0.0\n",
       "   4 │      6      1   0.0\n",
       "   5 │      7      1   0.0\n",
       "   6 │      8      1   0.0\n",
       "   7 │      9      1   0.0\n",
       "   8 │     10      1   0.0\n",
       "   9 │     11      1   0.0\n",
       "  10 │     12      1   0.0\n",
       "  11 │     13      1   0.0\n",
       "  ⋮  │   ⋮       ⋮         ⋮\n",
       " 399 │     10     24   0.0\n",
       " 400 │     11     24   0.0\n",
       " 401 │     12     24   0.0\n",
       " 402 │     13     24   0.0\n",
       " 403 │     14     24   0.0\n",
       " 404 │     15     24   0.0\n",
       " 405 │     16     24   0.0\n",
       " 406 │     17     24   0.0\n",
       " 407 │     18     24   0.0\n",
       " 408 │     19     24   0.0\n",
       "\u001b[36m                   387 rows omitted\u001b[0m, curtail = \u001b[1m72×7 DataFrame\u001b[0m\n",
       "\u001b[1m Row \u001b[0m│\u001b[1m hour  \u001b[0m\u001b[1m gen_full                          \u001b[0m\u001b[1m cf      \u001b[0m\u001b[1m r_id   \u001b[0m\u001b[1m existing_cap\u001b[0m ⋯\n",
       "     │\u001b[90m Int64 \u001b[0m\u001b[90m String                            \u001b[0m\u001b[90m Float64 \u001b[0m\u001b[90m Int64? \u001b[0m\u001b[90m Float64?    \u001b[0m ⋯\n",
       "─────┼──────────────────────────────────────────────────────────────────────────\n",
       "   1 │     1  wec_sdge_onshore_wind_turbine_1.0   0.7505      20            20 ⋯\n",
       "   2 │     1  wec_sdge_small_hydroelectric_1.0    0.4351      21             5\n",
       "   3 │     1  wec_sdge_solar_photovoltaic_1.0     0.0         22           250\n",
       "   4 │     2  wec_sdge_onshore_wind_turbine_1.0   0.7803      20            20\n",
       "   5 │     2  wec_sdge_small_hydroelectric_1.0    0.4351      21             5 ⋯\n",
       "   6 │     2  wec_sdge_solar_photovoltaic_1.0     0.0         22           250\n",
       "   7 │     3  wec_sdge_onshore_wind_turbine_1.0   0.529       20            20\n",
       "   8 │     3  wec_sdge_small_hydroelectric_1.0    0.4351      21             5\n",
       "   9 │     3  wec_sdge_solar_photovoltaic_1.0     0.0         22           250 ⋯\n",
       "  10 │     4  wec_sdge_onshore_wind_turbine_1.0   0.4621      20            20\n",
       "  11 │     4  wec_sdge_small_hydroelectric_1.0    0.4351      21             5\n",
       "  ⋮  │   ⋮                    ⋮                     ⋮       ⋮            ⋮     ⋱\n",
       "  63 │    21  wec_sdge_solar_photovoltaic_1.0     0.0         22           250\n",
       "  64 │    22  wec_sdge_onshore_wind_turbine_1.0   0.6983      20            20 ⋯\n",
       "  65 │    22  wec_sdge_small_hydroelectric_1.0    0.4351      21             5\n",
       "  66 │    22  wec_sdge_solar_photovoltaic_1.0     0.0         22           250\n",
       "  67 │    23  wec_sdge_onshore_wind_turbine_1.0   0.7444      20            20\n",
       "  68 │    23  wec_sdge_small_hydroelectric_1.0    0.4351      21             5 ⋯\n",
       "  69 │    23  wec_sdge_solar_photovoltaic_1.0     0.0         22           250\n",
       "  70 │    24  wec_sdge_onshore_wind_turbine_1.0   0.6714      20            20\n",
       "  71 │    24  wec_sdge_small_hydroelectric_1.0    0.4351      21             5\n",
       "  72 │    24  wec_sdge_solar_photovoltaic_1.0     0.0         22           250 ⋯\n",
       "\u001b[36m                                                   3 columns and 51 rows omitted\u001b[0m, cost = 395637.9686223689, status = MathOptInterface.OPTIMAL)"
      ]
     },
     "execution_count": 9,
     "metadata": {},
     "output_type": "execute_result"
    }
   ],
   "source": [
    "# find new solution for zero start up cost scenario\n",
    "UC_no_startup_sol = unit_commitment_simple(gen_df_sens, loads, gen_variable_long, 0.01)"
   ]
  },
  {
   "cell_type": "code",
   "execution_count": 10,
   "metadata": {},
   "outputs": [
    {
     "data": {
      "application/vnd.vegalite.v4+json": {
       "data": {
        "values": [
         {
          "gen_sum": 21.4,
          "hour": 0,
          "resource": "biomass"
         },
         {
          "gen_sum": 100.00000000000003,
          "hour": 0,
          "resource": "hydroelectric_pumped_storage"
         },
         {
          "gen_sum": 788.795,
          "hour": 0,
          "resource": "natural_gas_fired_combined_cycle"
         },
         {
          "gen_sum": 0,
          "hour": 0,
          "resource": "natural_gas_fired_combustion_turbine"
         },
         {
          "gen_sum": 150.1,
          "hour": 0,
          "resource": "_onshore_wind_turbine"
         },
         {
          "gen_sum": 21.755,
          "hour": 0,
          "resource": "_small_hydroelectric"
         },
         {
          "gen_sum": 0,
          "hour": 0,
          "resource": "_solar_photovoltaic"
         },
         {
          "gen_sum": 21.4,
          "hour": 1,
          "resource": "biomass"
         },
         {
          "gen_sum": 100,
          "hour": 1,
          "resource": "hydroelectric_pumped_storage"
         },
         {
          "gen_sum": 741.2949999999998,
          "hour": 1,
          "resource": "natural_gas_fired_combined_cycle"
         },
         {
          "gen_sum": 1.2079226507921703e-13,
          "hour": 1,
          "resource": "natural_gas_fired_combustion_turbine"
         },
         {
          "gen_sum": 156.06,
          "hour": 1,
          "resource": "_onshore_wind_turbine"
         },
         {
          "gen_sum": 21.755,
          "hour": 1,
          "resource": "_small_hydroelectric"
         },
         {
          "gen_sum": 0,
          "hour": 1,
          "resource": "_solar_photovoltaic"
         },
         {
          "gen_sum": 21.4,
          "hour": 2,
          "resource": "biomass"
         },
         {
          "gen_sum": 100,
          "hour": 2,
          "resource": "hydroelectric_pumped_storage"
         },
         {
          "gen_sum": 768.1049999999999,
          "hour": 2,
          "resource": "natural_gas_fired_combined_cycle"
         },
         {
          "gen_sum": 3.552713678800501e-14,
          "hour": 2,
          "resource": "natural_gas_fired_combustion_turbine"
         },
         {
          "gen_sum": 105.80000000000001,
          "hour": 2,
          "resource": "_onshore_wind_turbine"
         },
         {
          "gen_sum": 21.755,
          "hour": 2,
          "resource": "_small_hydroelectric"
         },
         {
          "gen_sum": 0,
          "hour": 2,
          "resource": "_solar_photovoltaic"
         },
         {
          "gen_sum": 21.4,
          "hour": 3,
          "resource": "biomass"
         },
         {
          "gen_sum": 100.00000000000001,
          "hour": 3,
          "resource": "hydroelectric_pumped_storage"
         },
         {
          "gen_sum": 810.9649999999999,
          "hour": 3,
          "resource": "natural_gas_fired_combined_cycle"
         },
         {
          "gen_sum": 3.552713678800501e-14,
          "hour": 3,
          "resource": "natural_gas_fired_combustion_turbine"
         },
         {
          "gen_sum": 92.42,
          "hour": 3,
          "resource": "_onshore_wind_turbine"
         },
         {
          "gen_sum": 21.755,
          "hour": 3,
          "resource": "_small_hydroelectric"
         },
         {
          "gen_sum": 0,
          "hour": 3,
          "resource": "_solar_photovoltaic"
         },
         {
          "gen_sum": 21.4,
          "hour": 4,
          "resource": "biomass"
         },
         {
          "gen_sum": 100,
          "hour": 4,
          "resource": "hydroelectric_pumped_storage"
         },
         {
          "gen_sum": 943.8949999999999,
          "hour": 4,
          "resource": "natural_gas_fired_combined_cycle"
         },
         {
          "gen_sum": 3.552713678800501e-14,
          "hour": 4,
          "resource": "natural_gas_fired_combustion_turbine"
         },
         {
          "gen_sum": 74.06,
          "hour": 4,
          "resource": "_onshore_wind_turbine"
         },
         {
          "gen_sum": 21.755,
          "hour": 4,
          "resource": "_small_hydroelectric"
         },
         {
          "gen_sum": 0,
          "hour": 4,
          "resource": "_solar_photovoltaic"
         },
         {
          "gen_sum": 21.4,
          "hour": 5,
          "resource": "biomass"
         },
         {
          "gen_sum": 100,
          "hour": 5,
          "resource": "hydroelectric_pumped_storage"
         },
         {
          "gen_sum": 1052.845,
          "hour": 5,
          "resource": "natural_gas_fired_combined_cycle"
         },
         {
          "gen_sum": 6.394884621840902e-14,
          "hour": 5,
          "resource": "natural_gas_fired_combustion_turbine"
         },
         {
          "gen_sum": 127.91999999999999,
          "hour": 5,
          "resource": "_onshore_wind_turbine"
         },
         {
          "gen_sum": 21.755,
          "hour": 5,
          "resource": "_small_hydroelectric"
         },
         {
          "gen_sum": 0,
          "hour": 5,
          "resource": "_solar_photovoltaic"
         },
         {
          "gen_sum": 21.4,
          "hour": 6,
          "resource": "biomass"
         },
         {
          "gen_sum": 100.00000000000001,
          "hour": 6,
          "resource": "hydroelectric_pumped_storage"
         },
         {
          "gen_sum": 1100,
          "hour": 6,
          "resource": "natural_gas_fired_combined_cycle"
         },
         {
          "gen_sum": 73.99499999999992,
          "hour": 6,
          "resource": "natural_gas_fired_combustion_turbine"
         },
         {
          "gen_sum": 68.17999999999999,
          "hour": 6,
          "resource": "_onshore_wind_turbine"
         },
         {
          "gen_sum": 21.755,
          "hour": 6,
          "resource": "_small_hydroelectric"
         },
         {
          "gen_sum": 138.25,
          "hour": 6,
          "resource": "_solar_photovoltaic"
         },
         {
          "gen_sum": 21.4,
          "hour": 7,
          "resource": "biomass"
         },
         {
          "gen_sum": 100,
          "hour": 7,
          "resource": "hydroelectric_pumped_storage"
         },
         {
          "gen_sum": 966.3972000000001,
          "hour": 7,
          "resource": "natural_gas_fired_combined_cycle"
         },
         {
          "gen_sum": 32.30779999999985,
          "hour": 7,
          "resource": "natural_gas_fired_combustion_turbine"
         },
         {
          "gen_sum": 45.379999999999995,
          "hour": 7,
          "resource": "_onshore_wind_turbine"
         },
         {
          "gen_sum": 21.755,
          "hour": 7,
          "resource": "_small_hydroelectric"
         },
         {
          "gen_sum": 552.75,
          "hour": 7,
          "resource": "_solar_photovoltaic"
         },
         {
          "gen_sum": 21.4,
          "hour": 8,
          "resource": "biomass"
         },
         {
          "gen_sum": 100.00000000000006,
          "hour": 8,
          "resource": "hydroelectric_pumped_storage"
         },
         {
          "gen_sum": 410.4849999999999,
          "hour": 8,
          "resource": "natural_gas_fired_combined_cycle"
         },
         {
          "gen_sum": 9.237055564881302e-14,
          "hour": 8,
          "resource": "natural_gas_fired_combustion_turbine"
         },
         {
          "gen_sum": 153.82,
          "hour": 8,
          "resource": "_onshore_wind_turbine"
         },
         {
          "gen_sum": 21.755,
          "hour": 8,
          "resource": "_small_hydroelectric"
         },
         {
          "gen_sum": 1194,
          "hour": 8,
          "resource": "_solar_photovoltaic"
         },
         {
          "gen_sum": 21.4,
          "hour": 9,
          "resource": "biomass"
         },
         {
          "gen_sum": 99.99999999999996,
          "hour": 9,
          "resource": "hydroelectric_pumped_storage"
         },
         {
          "gen_sum": 322.08500000000004,
          "hour": 9,
          "resource": "natural_gas_fired_combined_cycle"
         },
         {
          "gen_sum": 9.237055564881302e-14,
          "hour": 9,
          "resource": "natural_gas_fired_combustion_turbine"
         },
         {
          "gen_sum": 120.92,
          "hour": 9,
          "resource": "_onshore_wind_turbine"
         },
         {
          "gen_sum": 21.755,
          "hour": 9,
          "resource": "_small_hydroelectric"
         },
         {
          "gen_sum": 1439.25,
          "hour": 9,
          "resource": "_solar_photovoltaic"
         },
         {
          "gen_sum": 21.4,
          "hour": 10,
          "resource": "biomass"
         },
         {
          "gen_sum": 99.99999999999993,
          "hour": 10,
          "resource": "hydroelectric_pumped_storage"
         },
         {
          "gen_sum": 282.03590000000065,
          "hour": 10,
          "resource": "natural_gas_fired_combined_cycle"
         },
         {
          "gen_sum": 56.6090999999994,
          "hour": 10,
          "resource": "natural_gas_fired_combustion_turbine"
         },
         {
          "gen_sum": 102.2,
          "hour": 10,
          "resource": "_onshore_wind_turbine"
         },
         {
          "gen_sum": 21.755,
          "hour": 10,
          "resource": "_small_hydroelectric"
         },
         {
          "gen_sum": 1509.75,
          "hour": 10,
          "resource": "_solar_photovoltaic"
         },
         {
          "gen_sum": 21.399999999999864,
          "hour": 11,
          "resource": "biomass"
         },
         {
          "gen_sum": 99.99999999999997,
          "hour": 11,
          "resource": "hydroelectric_pumped_storage"
         },
         {
          "gen_sum": 1.655668853466783e-13,
          "hour": 11,
          "resource": "natural_gas_fired_combined_cycle"
         },
         {
          "gen_sum": 222.64500000000004,
          "hour": 11,
          "resource": "natural_gas_fired_combustion_turbine"
         },
         {
          "gen_sum": 84.66,
          "hour": 11,
          "resource": "_onshore_wind_turbine"
         },
         {
          "gen_sum": 21.755,
          "hour": 11,
          "resource": "_small_hydroelectric"
         },
         {
          "gen_sum": 1534.75,
          "hour": 11,
          "resource": "_solar_photovoltaic"
         },
         {
          "gen_sum": 21.399999999999995,
          "hour": 12,
          "resource": "biomass"
         },
         {
          "gen_sum": 100,
          "hour": 12,
          "resource": "hydroelectric_pumped_storage"
         },
         {
          "gen_sum": -1.3880120841823018e-13,
          "hour": 12,
          "resource": "natural_gas_fired_combined_cycle"
         },
         {
          "gen_sum": 35.275000000000325,
          "hour": 12,
          "resource": "natural_gas_fired_combustion_turbine"
         },
         {
          "gen_sum": 47.88,
          "hour": 12,
          "resource": "_onshore_wind_turbine"
         },
         {
          "gen_sum": 21.755,
          "hour": 12,
          "resource": "_small_hydroelectric"
         },
         {
          "gen_sum": 1611.4999999999998,
          "hour": 12,
          "resource": "_solar_photovoltaic"
         },
         {
          "gen_sum": 0,
          "hour": 13,
          "resource": "biomass"
         },
         {
          "gen_sum": 91.25500000000002,
          "hour": 13,
          "resource": "hydroelectric_pumped_storage"
         },
         {
          "gen_sum": -4.871922415479879e-14,
          "hour": 13,
          "resource": "natural_gas_fired_combined_cycle"
         },
         {
          "gen_sum": 0,
          "hour": 13,
          "resource": "natural_gas_fired_combustion_turbine"
         },
         {
          "gen_sum": 59.46,
          "hour": 13,
          "resource": "_onshore_wind_turbine"
         },
         {
          "gen_sum": 21.755,
          "hour": 13,
          "resource": "_small_hydroelectric"
         },
         {
          "gen_sum": 1613.75,
          "hour": 13,
          "resource": "_solar_photovoltaic"
         },
         {
          "gen_sum": 0.015000000008350181,
          "hour": 14,
          "resource": "biomass"
         },
         {
          "gen_sum": 99.99999999999989,
          "hour": 14,
          "resource": "hydroelectric_pumped_storage"
         },
         {
          "gen_sum": -6.276660234035249e-13,
          "hour": 14,
          "resource": "natural_gas_fired_combined_cycle"
         },
         {
          "gen_sum": -7.622470661525052e-12,
          "hour": 14,
          "resource": "natural_gas_fired_combustion_turbine"
         },
         {
          "gen_sum": 45.24,
          "hour": 14,
          "resource": "_onshore_wind_turbine"
         },
         {
          "gen_sum": 21.755,
          "hour": 14,
          "resource": "_small_hydroelectric"
         },
         {
          "gen_sum": 1560.25,
          "hour": 14,
          "resource": "_solar_photovoltaic"
         },
         {
          "gen_sum": 21.399999999999945,
          "hour": 15,
          "resource": "biomass"
         },
         {
          "gen_sum": 100,
          "hour": 15,
          "resource": "hydroelectric_pumped_storage"
         },
         {
          "gen_sum": -6.33124273008434e-13,
          "hour": 15,
          "resource": "natural_gas_fired_combined_cycle"
         },
         {
          "gen_sum": 35.91500000000074,
          "hour": 15,
          "resource": "natural_gas_fired_combustion_turbine"
         },
         {
          "gen_sum": 60.12,
          "hour": 15,
          "resource": "_onshore_wind_turbine"
         },
         {
          "gen_sum": 21.755,
          "hour": 15,
          "resource": "_small_hydroelectric"
         },
         {
          "gen_sum": 1423.75,
          "hour": 15,
          "resource": "_solar_photovoltaic"
         },
         {
          "gen_sum": 0,
          "hour": 16,
          "resource": "biomass"
         },
         {
          "gen_sum": 54.99530000002133,
          "hour": 16,
          "resource": "hydroelectric_pumped_storage"
         },
         {
          "gen_sum": 217.19999999999976,
          "hour": 16,
          "resource": "natural_gas_fired_combined_cycle"
         },
         {
          "gen_sum": 21.019699999978968,
          "hour": 16,
          "resource": "natural_gas_fired_combustion_turbine"
         },
         {
          "gen_sum": 107.72,
          "hour": 16,
          "resource": "_onshore_wind_turbine"
         },
         {
          "gen_sum": 21.755,
          "hour": 16,
          "resource": "_small_hydroelectric"
         },
         {
          "gen_sum": 1357.5,
          "hour": 16,
          "resource": "_solar_photovoltaic"
         },
         {
          "gen_sum": 21.4,
          "hour": 17,
          "resource": "biomass"
         },
         {
          "gen_sum": 100.00000000000006,
          "hour": 17,
          "resource": "hydroelectric_pumped_storage"
         },
         {
          "gen_sum": 592.1850000000001,
          "hour": 17,
          "resource": "natural_gas_fired_combined_cycle"
         },
         {
          "gen_sum": -2.1316282072803006e-14,
          "hour": 17,
          "resource": "natural_gas_fired_combustion_turbine"
         },
         {
          "gen_sum": 117.56,
          "hour": 17,
          "resource": "_onshore_wind_turbine"
         },
         {
          "gen_sum": 21.755,
          "hour": 17,
          "resource": "_small_hydroelectric"
         },
         {
          "gen_sum": 835.5,
          "hour": 17,
          "resource": "_solar_photovoltaic"
         },
         {
          "gen_sum": 21.4,
          "hour": 18,
          "resource": "biomass"
         },
         {
          "gen_sum": 100,
          "hour": 18,
          "resource": "hydroelectric_pumped_storage"
         },
         {
          "gen_sum": 1100,
          "hour": 18,
          "resource": "natural_gas_fired_combined_cycle"
         },
         {
          "gen_sum": 140.10500000000022,
          "hour": 18,
          "resource": "natural_gas_fired_combustion_turbine"
         },
         {
          "gen_sum": 152.89999999999998,
          "hour": 18,
          "resource": "_onshore_wind_turbine"
         },
         {
          "gen_sum": 21.755,
          "hour": 18,
          "resource": "_small_hydroelectric"
         },
         {
          "gen_sum": 137.5,
          "hour": 18,
          "resource": "_solar_photovoltaic"
         },
         {
          "gen_sum": 21.4,
          "hour": 19,
          "resource": "biomass"
         },
         {
          "gen_sum": 100.00000000000003,
          "hour": 19,
          "resource": "hydroelectric_pumped_storage"
         },
         {
          "gen_sum": 1100,
          "hour": 19,
          "resource": "natural_gas_fired_combined_cycle"
         },
         {
          "gen_sum": 341.09499999999997,
          "hour": 19,
          "resource": "natural_gas_fired_combustion_turbine"
         },
         {
          "gen_sum": 155.73999999999998,
          "hour": 19,
          "resource": "_onshore_wind_turbine"
         },
         {
          "gen_sum": 21.755,
          "hour": 19,
          "resource": "_small_hydroelectric"
         },
         {
          "gen_sum": 0,
          "hour": 19,
          "resource": "_solar_photovoltaic"
         },
         {
          "gen_sum": 21.4,
          "hour": 20,
          "resource": "biomass"
         },
         {
          "gen_sum": 100,
          "hour": 20,
          "resource": "hydroelectric_pumped_storage"
         },
         {
          "gen_sum": 1100,
          "hour": 20,
          "resource": "natural_gas_fired_combined_cycle"
         },
         {
          "gen_sum": 309.84500000000014,
          "hour": 20,
          "resource": "natural_gas_fired_combustion_turbine"
         },
         {
          "gen_sum": 164.88,
          "hour": 20,
          "resource": "_onshore_wind_turbine"
         },
         {
          "gen_sum": 21.755,
          "hour": 20,
          "resource": "_small_hydroelectric"
         },
         {
          "gen_sum": 0,
          "hour": 20,
          "resource": "_solar_photovoltaic"
         },
         {
          "gen_sum": 21.4,
          "hour": 21,
          "resource": "biomass"
         },
         {
          "gen_sum": 100.00000000000003,
          "hour": 21,
          "resource": "hydroelectric_pumped_storage"
         },
         {
          "gen_sum": 1100,
          "hour": 21,
          "resource": "natural_gas_fired_combined_cycle"
         },
         {
          "gen_sum": 148.13500000000005,
          "hour": 21,
          "resource": "natural_gas_fired_combustion_turbine"
         },
         {
          "gen_sum": 139.66,
          "hour": 21,
          "resource": "_onshore_wind_turbine"
         },
         {
          "gen_sum": 21.755,
          "hour": 21,
          "resource": "_small_hydroelectric"
         },
         {
          "gen_sum": 0,
          "hour": 21,
          "resource": "_solar_photovoltaic"
         },
         {
          "gen_sum": 21.4,
          "hour": 22,
          "resource": "biomass"
         },
         {
          "gen_sum": 100,
          "hour": 22,
          "resource": "hydroelectric_pumped_storage"
         },
         {
          "gen_sum": 1021.8349999999999,
          "hour": 22,
          "resource": "natural_gas_fired_combined_cycle"
         },
         {
          "gen_sum": 0,
          "hour": 22,
          "resource": "natural_gas_fired_combustion_turbine"
         },
         {
          "gen_sum": 148.88,
          "hour": 22,
          "resource": "_onshore_wind_turbine"
         },
         {
          "gen_sum": 21.755,
          "hour": 22,
          "resource": "_small_hydroelectric"
         },
         {
          "gen_sum": 0,
          "hour": 22,
          "resource": "_solar_photovoltaic"
         },
         {
          "gen_sum": 21.4,
          "hour": 23,
          "resource": "biomass"
         },
         {
          "gen_sum": 100.00000000000003,
          "hour": 23,
          "resource": "hydroelectric_pumped_storage"
         },
         {
          "gen_sum": 859.5550000000001,
          "hour": 23,
          "resource": "natural_gas_fired_combined_cycle"
         },
         {
          "gen_sum": 0,
          "hour": 23,
          "resource": "natural_gas_fired_combustion_turbine"
         },
         {
          "gen_sum": 134.28,
          "hour": 23,
          "resource": "_onshore_wind_turbine"
         },
         {
          "gen_sum": 21.755,
          "hour": 23,
          "resource": "_small_hydroelectric"
         },
         {
          "gen_sum": 0,
          "hour": 23,
          "resource": "_solar_photovoltaic"
         },
         {
          "gen_sum": 0,
          "hour": 0,
          "resource": "_solar_photovoltaic_btm"
         },
         {
          "gen_sum": 0,
          "hour": 1,
          "resource": "_solar_photovoltaic_btm"
         },
         {
          "gen_sum": 0,
          "hour": 2,
          "resource": "_solar_photovoltaic_btm"
         },
         {
          "gen_sum": 0,
          "hour": 3,
          "resource": "_solar_photovoltaic_btm"
         },
         {
          "gen_sum": 0,
          "hour": 4,
          "resource": "_solar_photovoltaic_btm"
         },
         {
          "gen_sum": 0,
          "hour": 5,
          "resource": "_solar_photovoltaic_btm"
         },
         {
          "gen_sum": 33.18,
          "hour": 6,
          "resource": "_solar_photovoltaic_btm"
         },
         {
          "gen_sum": 132.66,
          "hour": 7,
          "resource": "_solar_photovoltaic_btm"
         },
         {
          "gen_sum": 286.56,
          "hour": 8,
          "resource": "_solar_photovoltaic_btm"
         },
         {
          "gen_sum": 345.42,
          "hour": 9,
          "resource": "_solar_photovoltaic_btm"
         },
         {
          "gen_sum": 362.34,
          "hour": 10,
          "resource": "_solar_photovoltaic_btm"
         },
         {
          "gen_sum": 368.34,
          "hour": 11,
          "resource": "_solar_photovoltaic_btm"
         },
         {
          "gen_sum": 386.76,
          "hour": 12,
          "resource": "_solar_photovoltaic_btm"
         },
         {
          "gen_sum": 387.29999999999995,
          "hour": 13,
          "resource": "_solar_photovoltaic_btm"
         },
         {
          "gen_sum": 374.46,
          "hour": 14,
          "resource": "_solar_photovoltaic_btm"
         },
         {
          "gen_sum": 341.7,
          "hour": 15,
          "resource": "_solar_photovoltaic_btm"
         },
         {
          "gen_sum": 325.8,
          "hour": 16,
          "resource": "_solar_photovoltaic_btm"
         },
         {
          "gen_sum": 200.52,
          "hour": 17,
          "resource": "_solar_photovoltaic_btm"
         },
         {
          "gen_sum": 33,
          "hour": 18,
          "resource": "_solar_photovoltaic_btm"
         },
         {
          "gen_sum": 0,
          "hour": 19,
          "resource": "_solar_photovoltaic_btm"
         },
         {
          "gen_sum": 0,
          "hour": 20,
          "resource": "_solar_photovoltaic_btm"
         },
         {
          "gen_sum": 0,
          "hour": 21,
          "resource": "_solar_photovoltaic_btm"
         },
         {
          "gen_sum": 0,
          "hour": 22,
          "resource": "_solar_photovoltaic_btm"
         },
         {
          "gen_sum": 0,
          "hour": 23,
          "resource": "_solar_photovoltaic_btm"
         },
         {
          "gen_sum": 0,
          "hour": 0,
          "resource": "_curtailment"
         },
         {
          "gen_sum": 0,
          "hour": 1,
          "resource": "_curtailment"
         },
         {
          "gen_sum": 0,
          "hour": 2,
          "resource": "_curtailment"
         },
         {
          "gen_sum": 0,
          "hour": 3,
          "resource": "_curtailment"
         },
         {
          "gen_sum": 0,
          "hour": 4,
          "resource": "_curtailment"
         },
         {
          "gen_sum": 0,
          "hour": 5,
          "resource": "_curtailment"
         },
         {
          "gen_sum": 0,
          "hour": 6,
          "resource": "_curtailment"
         },
         {
          "gen_sum": 0,
          "hour": 7,
          "resource": "_curtailment"
         },
         {
          "gen_sum": 0,
          "hour": 8,
          "resource": "_curtailment"
         },
         {
          "gen_sum": 0,
          "hour": 9,
          "resource": "_curtailment"
         },
         {
          "gen_sum": 0,
          "hour": 10,
          "resource": "_curtailment"
         },
         {
          "gen_sum": 0,
          "hour": 11,
          "resource": "_curtailment"
         },
         {
          "gen_sum": 0,
          "hour": 12,
          "resource": "_curtailment"
         },
         {
          "gen_sum": 0,
          "hour": 13,
          "resource": "_curtailment"
         },
         {
          "gen_sum": 0,
          "hour": 14,
          "resource": "_curtailment"
         },
         {
          "gen_sum": 0,
          "hour": 15,
          "resource": "_curtailment"
         },
         {
          "gen_sum": 0,
          "hour": 16,
          "resource": "_curtailment"
         },
         {
          "gen_sum": 0,
          "hour": 17,
          "resource": "_curtailment"
         },
         {
          "gen_sum": 0,
          "hour": 18,
          "resource": "_curtailment"
         },
         {
          "gen_sum": 0,
          "hour": 19,
          "resource": "_curtailment"
         },
         {
          "gen_sum": 0,
          "hour": 20,
          "resource": "_curtailment"
         },
         {
          "gen_sum": 0,
          "hour": 21,
          "resource": "_curtailment"
         },
         {
          "gen_sum": 0,
          "hour": 22,
          "resource": "_curtailment"
         },
         {
          "gen_sum": 0,
          "hour": 23,
          "resource": "_curtailment"
         }
        ]
       },
       "encoding": {
        "color": {
         "field": "resource",
         "scale": {
          "scheme": "category10"
         },
         "type": "nominal"
        },
        "x": {
         "field": "hour",
         "type": "quantitative"
        },
        "y": {
         "field": "gen_sum",
         "stack": "zero",
         "type": "quantitative"
        }
       },
       "mark": "area"
      },
      "image/png": "[encoded data removed]",
      "image/svg+xml": [
       "<?xml version=\"1.0\" encoding=\"utf-8\"?>\n",
       "<!DOCTYPE svg PUBLIC \"-//W3C//DTD SVG 1.1//EN\" \"http://www.w3.org/Graphics/SVG/1.1/DTD/svg11.dtd\">\n",
       "<svg xmlns=\"http://www.w3.org/2000/svg\" xmlns:xlink=\"http://www.w3.org/1999/xlink\" version=\"1.1\" class=\"marks\" width=\"452\" height=\"242\" viewBox=\"0 0 452 242\"><rect width=\"452\" height=\"242\" fill=\"white\"/><g fill=\"none\" stroke-miterlimit=\"10\" transform=\"translate(54,5)\"><g class=\"mark-group role-frame root\" role=\"graphics-object\" aria-roledescription=\"group mark container\"><g transform=\"translate(0,0)\"><path class=\"background\" aria-hidden=\"true\" d=\"M0.5,0.5h200v200h-200Z\" stroke=\"#ddd\"/><g><g class=\"mark-group role-axis\" aria-hidden=\"true\"><g transform=\"translate(0.5,200.5)\"><path class=\"background\" aria-hidden=\"true\" d=\"M0,0h0v0h0Z\" pointer-events=\"none\"/><g><g class=\"mark-rule role-axis-grid\" pointer-events=\"none\"><line transform=\"translate(0,-200)\" x2=\"0\" y2=\"200\" stroke=\"#ddd\" stroke-width=\"1\" opacity=\"1\"/><line transform=\"translate(42,-200)\" x2=\"0\" y2=\"200\" stroke=\"#ddd\" stroke-width=\"1\" opacity=\"1\"/><line transform=\"translate(83,-200)\" x2=\"0\" y2=\"200\" stroke=\"#ddd\" stroke-width=\"1\" opacity=\"1\"/><line transform=\"translate(125,-200)\" x2=\"0\" y2=\"200\" stroke=\"#ddd\" stroke-width=\"1\" opacity=\"1\"/><line transform=\"translate(167,-200)\" x2=\"0\" y2=\"200\" stroke=\"#ddd\" stroke-width=\"1\" opacity=\"1\"/></g></g><path class=\"foreground\" aria-hidden=\"true\" d=\"\" pointer-events=\"none\" display=\"none\"/></g></g><g class=\"mark-group role-axis\" aria-hidden=\"true\"><g transform=\"translate(0.5,0.5)\"><path class=\"background\" aria-hidden=\"true\" d=\"M0,0h0v0h0Z\" pointer-events=\"none\"/><g><g class=\"mark-rule role-axis-grid\" pointer-events=\"none\"><line transform=\"translate(0,186)\" x2=\"200\" y2=\"0\" stroke=\"#ddd\" stroke-width=\"1\" opacity=\"1\"/><line transform=\"translate(0,150)\" x2=\"200\" y2=\"0\" stroke=\"#ddd\" stroke-width=\"1\" opacity=\"1\"/><line transform=\"translate(0,114)\" x2=\"200\" y2=\"0\" stroke=\"#ddd\" stroke-width=\"1\" opacity=\"1\"/><line transform=\"translate(0,79)\" x2=\"200\" y2=\"0\" stroke=\"#ddd\" stroke-width=\"1\" opacity=\"1\"/><line transform=\"translate(0,43)\" x2=\"200\" y2=\"0\" stroke=\"#ddd\" stroke-width=\"1\" opacity=\"1\"/><line transform=\"translate(0,7)\" x2=\"200\" y2=\"0\" stroke=\"#ddd\" stroke-width=\"1\" opacity=\"1\"/></g></g><path class=\"foreground\" aria-hidden=\"true\" d=\"\" pointer-events=\"none\" display=\"none\"/></g></g><g class=\"mark-group role-axis\" role=\"graphics-symbol\" aria-roledescription=\"axis\" aria-label=\"X-axis titled 'hour' for a linear scale with values from 0 to 24\"><g transform=\"translate(0.5,200.5)\"><path class=\"background\" aria-hidden=\"true\" d=\"M0,0h0v0h0Z\" pointer-events=\"none\"/><g><g class=\"mark-rule role-axis-tick\" pointer-events=\"none\"><line transform=\"translate(0,0)\" x2=\"0\" y2=\"5\" stroke=\"#888\" stroke-width=\"1\" opacity=\"1\"/><line transform=\"translate(42,0)\" x2=\"0\" y2=\"5\" stroke=\"#888\" stroke-width=\"1\" opacity=\"1\"/><line transform=\"translate(83,0)\" x2=\"0\" y2=\"5\" stroke=\"#888\" stroke-width=\"1\" opacity=\"1\"/><line transform=\"translate(125,0)\" x2=\"0\" y2=\"5\" stroke=\"#888\" stroke-width=\"1\" opacity=\"1\"/><line transform=\"translate(167,0)\" x2=\"0\" y2=\"5\" stroke=\"#888\" stroke-width=\"1\" opacity=\"1\"/></g><g class=\"mark-text role-axis-label\" pointer-events=\"none\"><text text-anchor=\"start\" transform=\"translate(0,15)\" font-family=\"sans-serif\" font-size=\"10px\" fill=\"#000\" opacity=\"1\">0</text><text text-anchor=\"middle\" transform=\"translate(41.66666666666667,15)\" font-family=\"sans-serif\" font-size=\"10px\" fill=\"#000\" opacity=\"1\">5</text><text text-anchor=\"middle\" transform=\"translate(83.33333333333334,15)\" font-family=\"sans-serif\" font-size=\"10px\" fill=\"#000\" opacity=\"1\">10</text><text text-anchor=\"middle\" transform=\"translate(125,15)\" font-family=\"sans-serif\" font-size=\"10px\" fill=\"#000\" opacity=\"1\">15</text><text text-anchor=\"middle\" transform=\"translate(166.66666666666669,15)\" font-family=\"sans-serif\" font-size=\"10px\" fill=\"#000\" opacity=\"1\">20</text></g><g class=\"mark-rule role-axis-domain\" pointer-events=\"none\"><line transform=\"translate(0,0)\" x2=\"200\" y2=\"0\" stroke=\"#888\" stroke-width=\"1\" opacity=\"1\"/></g><g class=\"mark-text role-axis-title\" pointer-events=\"none\"><text text-anchor=\"middle\" transform=\"translate(100,30)\" font-family=\"sans-serif\" font-size=\"11px\" font-weight=\"bold\" fill=\"#000\" opacity=\"1\">hour</text></g></g><path class=\"foreground\" aria-hidden=\"true\" d=\"\" pointer-events=\"none\" display=\"none\"/></g></g><g class=\"mark-group role-axis\" role=\"graphics-symbol\" aria-roledescription=\"axis\" aria-label=\"Y-axis titled 'gen_sum' for a linear scale with values from −200 to 2,600\"><g transform=\"translate(0.5,0.5)\"><path class=\"background\" aria-hidden=\"true\" d=\"M0,0h0v0h0Z\" pointer-events=\"none\"/><g><g class=\"mark-rule role-axis-tick\" pointer-events=\"none\"><line transform=\"translate(0,186)\" x2=\"-5\" y2=\"0\" stroke=\"#888\" stroke-width=\"1\" opacity=\"1\"/><line transform=\"translate(0,150)\" x2=\"-5\" y2=\"0\" stroke=\"#888\" stroke-width=\"1\" opacity=\"1\"/><line transform=\"translate(0,114)\" x2=\"-5\" y2=\"0\" stroke=\"#888\" stroke-width=\"1\" opacity=\"1\"/><line transform=\"translate(0,79)\" x2=\"-5\" y2=\"0\" stroke=\"#888\" stroke-width=\"1\" opacity=\"1\"/><line transform=\"translate(0,43)\" x2=\"-5\" y2=\"0\" stroke=\"#888\" stroke-width=\"1\" opacity=\"1\"/><line transform=\"translate(0,7)\" x2=\"-5\" y2=\"0\" stroke=\"#888\" stroke-width=\"1\" opacity=\"1\"/></g><g class=\"mark-text role-axis-label\" pointer-events=\"none\"><text text-anchor=\"end\" transform=\"translate(-7,188.71428571428572)\" font-family=\"sans-serif\" font-size=\"10px\" fill=\"#000\" opacity=\"1\">0</text><text text-anchor=\"end\" transform=\"translate(-7,153)\" font-family=\"sans-serif\" font-size=\"10px\" fill=\"#000\" opacity=\"1\">500</text><text text-anchor=\"end\" transform=\"translate(-7,117.28571428571428)\" font-family=\"sans-serif\" font-size=\"10px\" fill=\"#000\" opacity=\"1\">1,000</text><text text-anchor=\"end\" transform=\"translate(-7,81.57142857142858)\" font-family=\"sans-serif\" font-size=\"10px\" fill=\"#000\" opacity=\"1\">1,500</text><text text-anchor=\"end\" transform=\"translate(-7,45.85714285714286)\" font-family=\"sans-serif\" font-size=\"10px\" fill=\"#000\" opacity=\"1\">2,000</text><text text-anchor=\"end\" transform=\"translate(-7,10.142857142857139)\" font-family=\"sans-serif\" font-size=\"10px\" fill=\"#000\" opacity=\"1\">2,500</text></g><g class=\"mark-rule role-axis-domain\" pointer-events=\"none\"><line transform=\"translate(0,200)\" x2=\"0\" y2=\"-200\" stroke=\"#888\" stroke-width=\"1\" opacity=\"1\"/></g><g class=\"mark-text role-axis-title\" pointer-events=\"none\"><text text-anchor=\"middle\" transform=\"translate(-38,100) rotate(-90) translate(0,-2)\" font-family=\"sans-serif\" font-size=\"11px\" font-weight=\"bold\" fill=\"#000\" opacity=\"1\">gen_sum</text></g></g><path class=\"foreground\" aria-hidden=\"true\" d=\"\" pointer-events=\"none\" display=\"none\"/></g></g><g class=\"mark-group role-scope pathgroup\" role=\"graphics-object\" aria-roledescription=\"group mark container\"><g transform=\"translate(0,0)\"><path class=\"background\" aria-hidden=\"true\" d=\"M0,0h200v200h-200Z\"/><g><g class=\"mark-area role-mark marks\" role=\"graphics-object\" aria-roledescription=\"area mark container\"><path aria-label=\"hour: 0; gen_sum: 21.4; resource: biomass\" role=\"graphics-symbol\" aria-roledescription=\"area mark\" d=\"M0,120.70035714285714L8.333333333333332,124.0932142857143L16.666666666666664,122.17821428571429L25,119.11678571428573L33.33333333333333,109.6217857142857L41.66666666666667,101.83964285714286L50,93.18607142857142L58.333333333333336,105.70678571428572L66.66666666666666,147.72249999999997L75,154.03678571428568L83.33333333333334,152.85392857142858L91.66666666666666,161.13964285714286L100,174.52321428571426L108.33333333333333,179.19607142857143L116.66666666666667,178.57035714285655L125,174.47749999999996L133.33333333333331,164.77035714285714L141.66666666666669,134.74392857142857L150,88.46392857142855L158.33333333333331,74.10749999999999L166.66666666666669,76.33964285714283L175,87.89035714285714L183.33333333333331,104.05464285714285L191.66666666666669,115.64607142857142L191.66666666666669,117.17464285714286L183.33333333333331,105.58321428571429L175,89.41892857142857L166.66666666666669,77.86821428571426L158.33333333333331,75.63607142857143L150,89.99249999999999L141.66666666666669,136.27249999999998L133.33333333333331,164.77035714285714L125,176.00607142857137L116.66666666666667,178.57142857142858L108.33333333333333,179.19607142857143L100,176.05178571428567L91.66666666666666,162.66821428571427L83.33333333333334,154.3825L75,155.56535714285715L66.66666666666666,149.25107142857144L58.333333333333336,107.23535714285714L50,94.71464285714286L41.66666666666667,103.36821428571427L33.33333333333333,111.15035714285715L25,120.64535714285714L16.666666666666664,123.70678571428573L8.333333333333332,125.6217857142857L0,122.22892857142855Z\" fill=\"#8c564b\"/></g></g><path class=\"foreground\" aria-hidden=\"true\" d=\"\" display=\"none\"/></g><g transform=\"translate(0,0)\"><path class=\"background\" aria-hidden=\"true\" d=\"M0,0h200v200h-200Z\"/><g><g class=\"mark-area role-mark marks\" role=\"graphics-object\" aria-roledescription=\"area mark container\"><path aria-label=\"hour: 0; gen_sum: 100; resource: hydroelectric_pumped_storage\" role=\"graphics-symbol\" aria-roledescription=\"area mark\" d=\"M0,122.22892857142855L8.333333333333332,125.6217857142857L16.666666666666664,123.70678571428573L25,120.64535714285714L33.33333333333333,111.15035714285715L41.66666666666667,103.36821428571427L50,94.71464285714286L58.333333333333336,107.23535714285714L66.66666666666666,149.25107142857144L75,155.56535714285715L83.33333333333334,154.3825L91.66666666666666,162.66821428571427L100,176.05178571428567L108.33333333333333,179.19607142857143L116.66666666666667,178.57142857142858L125,176.00607142857137L133.33333333333331,164.77035714285714L141.66666666666669,136.27249999999998L150,89.99249999999999L158.33333333333331,75.63607142857143L166.66666666666669,77.86821428571426L175,89.41892857142857L183.33333333333331,105.58321428571429L191.66666666666669,117.17464285714286L191.66666666666669,124.3175L183.33333333333331,112.72607142857143L175,96.5617857142857L166.66666666666669,85.0110714285714L158.33333333333331,82.77892857142857L150,97.13535714285713L141.66666666666669,143.41535714285715L133.33333333333331,168.69859285714438L125,183.1489285714285L116.66666666666667,185.71428571428572L108.33333333333333,185.71428571428572L100,183.19464285714284L91.66666666666666,169.8110714285714L83.33333333333334,161.52535714285713L75,162.70821428571426L66.66666666666666,156.39392857142857L58.333333333333336,114.37821428571428L50,101.85750000000002L41.66666666666667,110.51107142857144L33.33333333333333,118.29321428571428L25,127.7882142857143L16.666666666666664,130.84964285714287L8.333333333333332,132.76464285714286L0,129.37178571428572Z\" fill=\"#e377c2\"/></g></g><path class=\"foreground\" aria-hidden=\"true\" d=\"\" display=\"none\"/></g><g transform=\"translate(0,0)\"><path class=\"background\" aria-hidden=\"true\" d=\"M0,0h200v200h-200Z\"/><g><g class=\"mark-area role-mark marks\" role=\"graphics-object\" aria-roledescription=\"area mark container\"><path aria-label=\"hour: 0; gen_sum: 788.795; resource: natural_gas_fired_combined_cycle\" role=\"graphics-symbol\" aria-roledescription=\"area mark\" d=\"M0,129.37178571428572L8.333333333333332,132.76464285714286L16.666666666666664,130.84964285714287L25,127.7882142857143L33.33333333333333,118.29321428571428L41.66666666666667,110.51107142857144L50,101.85750000000002L58.333333333333336,114.37821428571428L66.66666666666666,156.39392857142857L75,162.70821428571426L83.33333333333334,161.52535714285713L91.66666666666666,169.8110714285714L100,185.71428571428572L108.33333333333333,185.71428571428572L116.66666666666667,185.7142857142863L125,185.71428571428578L133.33333333333331,168.69859285714438L141.66666666666669,143.41535714285715L150,97.13535714285713L158.33333333333331,82.77892857142857L166.66666666666669,85.0110714285714L175,96.5617857142857L183.33333333333331,112.72607142857143L191.66666666666669,124.3175L191.66666666666669,185.71428571428572L183.33333333333331,185.71428571428572L175,175.1332142857143L166.66666666666669,163.58249999999998L158.33333333333331,161.35035714285715L150,175.70678571428567L141.66666666666669,185.71428571428572L133.33333333333331,184.21287857143008L125,185.71428571428572L116.66666666666667,185.71428571428626L108.33333333333333,185.71428571428572L100,185.71428571428572L91.66666666666666,169.81107142857144L83.33333333333334,181.67077857142863L75,185.71428571428572L66.66666666666666,185.71428571428572L58.333333333333336,183.4065857142857L50,180.42892857142857L41.66666666666667,185.71428571428572L33.33333333333333,185.71428571428572L25,185.71428571428572L16.666666666666664,185.71428571428572L8.333333333333332,185.7142857142857L0,185.71428571428572Z\" fill=\"#7f7f7f\"/></g></g><path class=\"foreground\" aria-hidden=\"true\" d=\"\" display=\"none\"/></g><g transform=\"translate(0,0)\"><path class=\"background\" aria-hidden=\"true\" d=\"M0,0h200v200h-200Z\"/><g><g class=\"mark-area role-mark marks\" role=\"graphics-object\" aria-roledescription=\"area mark container\"><path aria-label=\"hour: 0; gen_sum: 0; resource: natural_gas_fired_combustion_turbine\" role=\"graphics-symbol\" aria-roledescription=\"area mark\" d=\"M0,185.71428571428572L8.333333333333332,185.7142857142857L16.666666666666664,185.71428571428572L25,185.71428571428572L33.33333333333333,185.71428571428572L41.66666666666667,185.71428571428572L50,180.42892857142857L58.333333333333336,183.4065857142857L66.66666666666666,185.71428571428572L75,185.71428571428572L83.33333333333334,181.67077857142863L91.66666666666666,169.81107142857144L100,183.19464285714284L108.33333333333333,185.71428571428572L116.66666666666667,185.71428571428626L125,183.1489285714285L133.33333333333331,184.21287857143008L141.66666666666669,185.71428571428572L150,175.70678571428567L158.33333333333331,161.35035714285715L166.66666666666669,163.58249999999998L175,175.1332142857143L183.33333333333331,185.71428571428572L191.66666666666669,185.71428571428572L191.66666666666669,185.71428571428572L183.33333333333331,185.71428571428572L175,185.71428571428572L166.66666666666669,185.71428571428572L158.33333333333331,185.71428571428572L150,185.71428571428572L141.66666666666669,185.71428571428572L133.33333333333331,185.71428571428572L125,185.71428571428572L116.66666666666667,185.71428571428572L108.33333333333333,185.71428571428572L100,185.71428571428572L91.66666666666666,185.71428571428572L83.33333333333334,185.71428571428572L75,185.71428571428572L66.66666666666666,185.71428571428572L58.333333333333336,185.71428571428572L50,185.71428571428572L41.66666666666667,185.71428571428572L33.33333333333333,185.71428571428572L25,185.71428571428572L16.666666666666664,185.71428571428572L8.333333333333332,185.71428571428572L0,185.71428571428572Z\" fill=\"#bcbd22\"/></g></g><path class=\"foreground\" aria-hidden=\"true\" d=\"\" display=\"none\"/></g><g transform=\"translate(0,0)\"><path class=\"background\" aria-hidden=\"true\" d=\"M0,0h200v200h-200Z\"/><g><g class=\"mark-area role-mark marks\" role=\"graphics-object\" aria-roledescription=\"area mark container\"><path aria-label=\"hour: 0; gen_sum: 150.1; resource: _onshore_wind_turbine\" role=\"graphics-symbol\" aria-roledescription=\"area mark\" d=\"M0,108.425L8.333333333333332,111.39214285714286L16.666666666666664,113.06714285714285L25,110.96142857142857L33.33333333333333,102.77785714285712L41.66666666666667,91.1485714285714L50,74.51714285714284L58.333333333333336,51.95357142857142L66.66666666666666,29.42714285714283L75,16.369285714285688L83.33333333333334,10.279285714285713L91.66666666666666,17.603571428571406L100,26.816428571428563L108.33333333333333,30.462857142857146L116.66666666666667,35.59142857142801L125,42.52571428571423L133.33333333333331,35.286428571428566L141.66666666666669,50.791428571428575L150,63.80999999999999L158.33333333333331,61.4292857142857L166.66666666666669,63.00857142857139L175,76.36071428571427L183.33333333333331,91.86642857142854L191.66666666666669,104.50071428571428L191.66666666666669,114.09214285714286L183.33333333333331,102.50071428571425L175,86.33642857142856L166.66666666666669,74.78571428571425L158.33333333333331,72.55357142857142L150,74.73142857142854L141.66666666666669,59.188571428571414L133.33333333333331,42.980714285714264L125,46.81999999999993L116.66666666666667,38.82285714285656L108.33333333333333,34.709999999999994L100,30.236428571428565L91.66666666666666,23.65071428571426L83.33333333333334,17.579285714285685L75,25.00642857142854L66.66666666666666,40.41428571428569L58.333333333333336,55.19499999999999L50,79.38714285714286L41.66666666666667,100.28571428571426L33.33333333333333,108.06785714285714L25,117.56285714285714L16.666666666666664,120.62428571428572L8.333333333333332,122.53928571428574L0,119.14642857142859Z\" fill=\"#ff7f0e\"/></g></g><path class=\"foreground\" aria-hidden=\"true\" d=\"\" display=\"none\"/></g><g transform=\"translate(0,0)\"><path class=\"background\" aria-hidden=\"true\" d=\"M0,0h200v200h-200Z\"/><g><g class=\"mark-area role-mark marks\" role=\"graphics-object\" aria-roledescription=\"area mark container\"><path aria-label=\"hour: 0; gen_sum: 21.755; resource: _small_hydroelectric\" role=\"graphics-symbol\" aria-roledescription=\"area mark\" d=\"M0,119.14642857142859L8.333333333333332,122.53928571428574L16.666666666666664,120.62428571428572L25,117.56285714285714L33.33333333333333,108.06785714285714L41.66666666666667,100.28571428571426L50,79.38714285714286L58.333333333333336,55.19499999999999L66.66666666666666,40.41428571428569L75,25.00642857142854L83.33333333333334,17.579285714285685L91.66666666666666,23.65071428571426L100,30.236428571428565L108.33333333333333,34.709999999999994L116.66666666666667,38.82285714285656L125,46.81999999999993L133.33333333333331,42.980714285714264L141.66666666666669,59.188571428571414L150,74.73142857142854L158.33333333333331,72.55357142857142L166.66666666666669,74.78571428571425L175,86.33642857142856L183.33333333333331,102.50071428571425L191.66666666666669,114.09214285714286L191.66666666666669,115.64607142857142L183.33333333333331,104.05464285714285L175,87.89035714285714L166.66666666666669,76.33964285714283L158.33333333333331,74.10749999999999L150,76.28535714285711L141.66666666666669,60.742499999999986L133.33333333333331,44.534642857142835L125,48.37392857142853L116.66666666666667,40.376785714285134L108.33333333333333,36.26392857142859L100,31.79035714285714L91.66666666666666,25.204642857142833L83.33333333333334,19.13321428571426L75,26.56035714285714L66.66666666666666,41.96821428571427L58.333333333333336,56.74892857142857L50,80.94107142857143L41.66666666666667,101.83964285714286L33.33333333333333,109.6217857142857L25,119.11678571428573L16.666666666666664,122.17821428571429L8.333333333333332,124.0932142857143L0,120.70035714285714Z\" fill=\"#2ca02c\"/></g></g><path class=\"foreground\" aria-hidden=\"true\" d=\"\" display=\"none\"/></g><g transform=\"translate(0,0)\"><path class=\"background\" aria-hidden=\"true\" d=\"M0,0h200v200h-200Z\"/><g><g class=\"mark-area role-mark marks\" role=\"graphics-object\" aria-roledescription=\"area mark container\"><path aria-label=\"hour: 0; gen_sum: 0; resource: _solar_photovoltaic\" role=\"graphics-symbol\" aria-roledescription=\"area mark\" d=\"M0,120.70035714285714L8.333333333333332,124.0932142857143L16.666666666666664,122.17821428571429L25,119.11678571428573L33.33333333333333,109.6217857142857L41.66666666666667,101.83964285714286L50,80.94107142857143L58.333333333333336,56.74892857142857L66.66666666666666,41.96821428571427L75,26.56035714285714L83.33333333333334,19.13321428571426L91.66666666666666,25.204642857142833L100,31.79035714285714L108.33333333333333,36.26392857142859L116.66666666666667,40.376785714285134L125,48.37392857142853L133.33333333333331,44.534642857142835L141.66666666666669,60.742499999999986L150,76.28535714285711L158.33333333333331,74.10749999999999L166.66666666666669,76.33964285714283L175,87.89035714285714L183.33333333333331,104.05464285714285L191.66666666666669,115.64607142857142L191.66666666666669,115.64607142857142L183.33333333333331,104.05464285714285L175,87.89035714285714L166.66666666666669,76.33964285714283L158.33333333333331,74.10749999999999L150,86.10678571428569L141.66666666666669,120.42107142857144L133.33333333333331,141.49892857142856L125,150.0703571428571L116.66666666666667,151.8232142857137L108.33333333333333,151.53178571428572L100,146.89749999999998L91.66666666666666,134.82964285714286L83.33333333333334,126.9725L75,129.36392857142857L66.66666666666666,127.25392857142856L58.333333333333336,96.23107142857141L50,90.81607142857142L41.66666666666667,101.83964285714286L33.33333333333333,109.6217857142857L25,119.11678571428573L16.666666666666664,122.17821428571429L8.333333333333332,124.0932142857143L0,120.70035714285714Z\" fill=\"#d62728\"/></g></g><path class=\"foreground\" aria-hidden=\"true\" d=\"\" display=\"none\"/></g><g transform=\"translate(0,0)\"><path class=\"background\" aria-hidden=\"true\" d=\"M0,0h200v200h-200Z\"/><g><g class=\"mark-area role-mark marks\" role=\"graphics-object\" aria-roledescription=\"area mark container\"><path aria-label=\"hour: 0; gen_sum: 0; resource: _solar_photovoltaic_btm\" role=\"graphics-symbol\" aria-roledescription=\"area mark\" d=\"M0,120.70035714285714L8.333333333333332,124.0932142857143L16.666666666666664,122.17821428571429L25,119.11678571428573L33.33333333333333,109.6217857142857L41.66666666666667,101.83964285714286L50,90.81607142857142L58.333333333333336,96.23107142857141L66.66666666666666,127.25392857142856L75,129.36392857142857L83.33333333333334,126.9725L91.66666666666666,134.82964285714286L100,146.89749999999998L108.33333333333333,151.53178571428572L116.66666666666667,151.8232142857137L125,150.0703571428571L133.33333333333331,141.49892857142856L141.66666666666669,120.42107142857144L150,86.10678571428569L158.33333333333331,74.10749999999999L166.66666666666669,76.33964285714283L175,87.89035714285714L183.33333333333331,104.05464285714285L191.66666666666669,115.64607142857142L191.66666666666669,115.64607142857142L183.33333333333331,104.05464285714285L175,87.89035714285714L166.66666666666669,76.33964285714283L158.33333333333331,74.10749999999999L150,88.46392857142855L141.66666666666669,134.74392857142857L133.33333333333331,164.77035714285714L125,174.47749999999996L116.66666666666667,178.57035714285655L108.33333333333333,179.19607142857143L100,174.52321428571426L91.66666666666666,161.13964285714286L83.33333333333334,152.85392857142858L75,154.03678571428568L66.66666666666666,147.72249999999997L58.333333333333336,105.70678571428572L50,93.18607142857142L41.66666666666667,101.83964285714286L33.33333333333333,109.6217857142857L25,119.11678571428573L16.666666666666664,122.17821428571429L8.333333333333332,124.0932142857143L0,120.70035714285714Z\" fill=\"#9467bd\"/></g></g><path class=\"foreground\" aria-hidden=\"true\" d=\"\" display=\"none\"/></g><g transform=\"translate(0,0)\"><path class=\"background\" aria-hidden=\"true\" d=\"M0,0h200v200h-200Z\"/><g><g class=\"mark-area role-mark marks\" role=\"graphics-object\" aria-roledescription=\"area mark container\"><path aria-label=\"hour: 0; gen_sum: 0; resource: _curtailment\" role=\"graphics-symbol\" aria-roledescription=\"area mark\" d=\"M0,108.425L8.333333333333332,111.39214285714286L16.666666666666664,113.06714285714285L25,110.96142857142857L33.33333333333333,102.77785714285712L41.66666666666667,91.1485714285714L50,74.51714285714284L58.333333333333336,51.95357142857142L66.66666666666666,29.42714285714283L75,16.369285714285688L83.33333333333334,10.279285714285713L91.66666666666666,17.603571428571406L100,26.816428571428563L108.33333333333333,30.462857142857146L116.66666666666667,35.59142857142801L125,42.52571428571423L133.33333333333331,35.286428571428566L141.66666666666669,50.791428571428575L150,63.80999999999999L158.33333333333331,61.4292857142857L166.66666666666669,63.00857142857139L175,76.36071428571427L183.33333333333331,91.86642857142854L191.66666666666669,104.50071428571428L191.66666666666669,104.50071428571428L183.33333333333331,91.86642857142854L175,76.36071428571427L166.66666666666669,63.00857142857139L158.33333333333331,61.4292857142857L150,63.80999999999999L141.66666666666669,50.791428571428575L133.33333333333331,35.286428571428566L125,42.52571428571423L116.66666666666667,35.59142857142801L108.33333333333333,30.462857142857146L100,26.816428571428563L91.66666666666666,17.603571428571406L83.33333333333334,10.279285714285713L75,16.369285714285688L66.66666666666666,29.42714285714283L58.333333333333336,51.95357142857142L50,74.51714285714284L41.66666666666667,91.1485714285714L33.33333333333333,102.77785714285712L25,110.96142857142857L16.666666666666664,113.06714285714285L8.333333333333332,111.39214285714286L0,108.425Z\" fill=\"#1f77b4\"/></g></g><path class=\"foreground\" aria-hidden=\"true\" d=\"\" display=\"none\"/></g></g><g class=\"mark-group role-legend\" role=\"graphics-symbol\" aria-roledescription=\"legend\" aria-label=\"Symbol legend titled 'resource' for fill color with 9 values: _curtailment, _onshore_wind_turbine, _small_hydroelectric, _solar_photovoltaic, _solar_photovoltaic_btm, ending with natural_gas_fired_combustion_turbine\"><g transform=\"translate(218,0)\"><path class=\"background\" aria-hidden=\"true\" d=\"M0,0h175v131h-175Z\" pointer-events=\"none\"/><g><g class=\"mark-group role-legend-entry\"><g transform=\"translate(0,16)\"><path class=\"background\" aria-hidden=\"true\" d=\"M0,0h0v0h0Z\" pointer-events=\"none\"/><g><g class=\"mark-group role-scope\" role=\"graphics-object\" aria-roledescription=\"group mark container\"><g transform=\"translate(0,0)\"><path class=\"background\" aria-hidden=\"true\" d=\"M0,0h175v11h-175Z\" pointer-events=\"none\" opacity=\"1\"/><g><g class=\"mark-symbol role-legend-symbol\" pointer-events=\"none\"><path transform=\"translate(6,6)\" d=\"M5,0A5,5,0,1,1,-5,0A5,5,0,1,1,5,0\" fill=\"#1f77b4\" stroke-width=\"1.5\" opacity=\"1\"/></g><g class=\"mark-text role-legend-label\" pointer-events=\"none\"><text text-anchor=\"start\" transform=\"translate(16,9)\" font-family=\"sans-serif\" font-size=\"10px\" fill=\"#000\" opacity=\"1\">_curtailment</text></g></g><path class=\"foreground\" aria-hidden=\"true\" d=\"\" pointer-events=\"none\" display=\"none\"/></g><g transform=\"translate(0,13)\"><path class=\"background\" aria-hidden=\"true\" d=\"M0,0h175v11h-175Z\" pointer-events=\"none\" opacity=\"1\"/><g><g class=\"mark-symbol role-legend-symbol\" pointer-events=\"none\"><path transform=\"translate(6,6)\" d=\"M5,0A5,5,0,1,1,-5,0A5,5,0,1,1,5,0\" fill=\"#ff7f0e\" stroke-width=\"1.5\" opacity=\"1\"/></g><g class=\"mark-text role-legend-label\" pointer-events=\"none\"><text text-anchor=\"start\" transform=\"translate(16,9)\" font-family=\"sans-serif\" font-size=\"10px\" fill=\"#000\" opacity=\"1\">_onshore_wind_turbine</text></g></g><path class=\"foreground\" aria-hidden=\"true\" d=\"\" pointer-events=\"none\" display=\"none\"/></g><g transform=\"translate(0,26)\"><path class=\"background\" aria-hidden=\"true\" d=\"M0,0h175v11h-175Z\" pointer-events=\"none\" opacity=\"1\"/><g><g class=\"mark-symbol role-legend-symbol\" pointer-events=\"none\"><path transform=\"translate(6,6)\" d=\"M5,0A5,5,0,1,1,-5,0A5,5,0,1,1,5,0\" fill=\"#2ca02c\" stroke-width=\"1.5\" opacity=\"1\"/></g><g class=\"mark-text role-legend-label\" pointer-events=\"none\"><text text-anchor=\"start\" transform=\"translate(16,9)\" font-family=\"sans-serif\" font-size=\"10px\" fill=\"#000\" opacity=\"1\">_small_hydroelectric</text></g></g><path class=\"foreground\" aria-hidden=\"true\" d=\"\" pointer-events=\"none\" display=\"none\"/></g><g transform=\"translate(0,39)\"><path class=\"background\" aria-hidden=\"true\" d=\"M0,0h175v11h-175Z\" pointer-events=\"none\" opacity=\"1\"/><g><g class=\"mark-symbol role-legend-symbol\" pointer-events=\"none\"><path transform=\"translate(6,6)\" d=\"M5,0A5,5,0,1,1,-5,0A5,5,0,1,1,5,0\" fill=\"#d62728\" stroke-width=\"1.5\" opacity=\"1\"/></g><g class=\"mark-text role-legend-label\" pointer-events=\"none\"><text text-anchor=\"start\" transform=\"translate(16,9)\" font-family=\"sans-serif\" font-size=\"10px\" fill=\"#000\" opacity=\"1\">_solar_photovoltaic</text></g></g><path class=\"foreground\" aria-hidden=\"true\" d=\"\" pointer-events=\"none\" display=\"none\"/></g><g transform=\"translate(0,52)\"><path class=\"background\" aria-hidden=\"true\" d=\"M0,0h175v11h-175Z\" pointer-events=\"none\" opacity=\"1\"/><g><g class=\"mark-symbol role-legend-symbol\" pointer-events=\"none\"><path transform=\"translate(6,6)\" d=\"M5,0A5,5,0,1,1,-5,0A5,5,0,1,1,5,0\" fill=\"#9467bd\" stroke-width=\"1.5\" opacity=\"1\"/></g><g class=\"mark-text role-legend-label\" pointer-events=\"none\"><text text-anchor=\"start\" transform=\"translate(16,9)\" font-family=\"sans-serif\" font-size=\"10px\" fill=\"#000\" opacity=\"1\">_solar_photovoltaic_btm</text></g></g><path class=\"foreground\" aria-hidden=\"true\" d=\"\" pointer-events=\"none\" display=\"none\"/></g><g transform=\"translate(0,65)\"><path class=\"background\" aria-hidden=\"true\" d=\"M0,0h175v11h-175Z\" pointer-events=\"none\" opacity=\"1\"/><g><g class=\"mark-symbol role-legend-symbol\" pointer-events=\"none\"><path transform=\"translate(6,6)\" d=\"M5,0A5,5,0,1,1,-5,0A5,5,0,1,1,5,0\" fill=\"#8c564b\" stroke-width=\"1.5\" opacity=\"1\"/></g><g class=\"mark-text role-legend-label\" pointer-events=\"none\"><text text-anchor=\"start\" transform=\"translate(16,9)\" font-family=\"sans-serif\" font-size=\"10px\" fill=\"#000\" opacity=\"1\">biomass</text></g></g><path class=\"foreground\" aria-hidden=\"true\" d=\"\" pointer-events=\"none\" display=\"none\"/></g><g transform=\"translate(0,78)\"><path class=\"background\" aria-hidden=\"true\" d=\"M0,0h175v11h-175Z\" pointer-events=\"none\" opacity=\"1\"/><g><g class=\"mark-symbol role-legend-symbol\" pointer-events=\"none\"><path transform=\"translate(6,6)\" d=\"M5,0A5,5,0,1,1,-5,0A5,5,0,1,1,5,0\" fill=\"#e377c2\" stroke-width=\"1.5\" opacity=\"1\"/></g><g class=\"mark-text role-legend-label\" pointer-events=\"none\"><text text-anchor=\"start\" transform=\"translate(16,9)\" font-family=\"sans-serif\" font-size=\"10px\" fill=\"#000\" opacity=\"1\">hydroelectric_pumped_storage</text></g></g><path class=\"foreground\" aria-hidden=\"true\" d=\"\" pointer-events=\"none\" display=\"none\"/></g><g transform=\"translate(0,91)\"><path class=\"background\" aria-hidden=\"true\" d=\"M0,0h175v11h-175Z\" pointer-events=\"none\" opacity=\"1\"/><g><g class=\"mark-symbol role-legend-symbol\" pointer-events=\"none\"><path transform=\"translate(6,6)\" d=\"M5,0A5,5,0,1,1,-5,0A5,5,0,1,1,5,0\" fill=\"#7f7f7f\" stroke-width=\"1.5\" opacity=\"1\"/></g><g class=\"mark-text role-legend-label\" pointer-events=\"none\"><text text-anchor=\"start\" transform=\"translate(16,9)\" font-family=\"sans-serif\" font-size=\"10px\" fill=\"#000\" opacity=\"1\">natural_gas_fired_combined_cy…</text></g></g><path class=\"foreground\" aria-hidden=\"true\" d=\"\" pointer-events=\"none\" display=\"none\"/></g><g transform=\"translate(0,104)\"><path class=\"background\" aria-hidden=\"true\" d=\"M0,0h175v11h-175Z\" pointer-events=\"none\" opacity=\"1\"/><g><g class=\"mark-symbol role-legend-symbol\" pointer-events=\"none\"><path transform=\"translate(6,6)\" d=\"M5,0A5,5,0,1,1,-5,0A5,5,0,1,1,5,0\" fill=\"#bcbd22\" stroke-width=\"1.5\" opacity=\"1\"/></g><g class=\"mark-text role-legend-label\" pointer-events=\"none\"><text text-anchor=\"start\" transform=\"translate(16,9)\" font-family=\"sans-serif\" font-size=\"10px\" fill=\"#000\" opacity=\"1\">natural_gas_fired_combustion_t…</text></g></g><path class=\"foreground\" aria-hidden=\"true\" d=\"\" pointer-events=\"none\" display=\"none\"/></g></g></g><path class=\"foreground\" aria-hidden=\"true\" d=\"\" pointer-events=\"none\" display=\"none\"/></g></g><g class=\"mark-text role-legend-title\" pointer-events=\"none\"><text text-anchor=\"start\" transform=\"translate(0,9)\" font-family=\"sans-serif\" font-size=\"11px\" font-weight=\"bold\" fill=\"#000\" opacity=\"1\">resource</text></g></g><path class=\"foreground\" aria-hidden=\"true\" d=\"\" pointer-events=\"none\" display=\"none\"/></g></g></g><path class=\"foreground\" aria-hidden=\"true\" d=\"\" display=\"none\"/></g></g></g></svg>\n"
      ],
      "text/plain": [
       "@vlplot(\n",
       "    mark=\"area\",\n",
       "    encoding={\n",
       "        x={\n",
       "            field=\"hour\"\n",
       "        },\n",
       "        y={\n",
       "            stack=\"zero\",\n",
       "            field=\"gen_sum\"\n",
       "        },\n",
       "        color={\n",
       "            scale={\n",
       "                scheme=\"category10\"\n",
       "            },\n",
       "            field=\"resource\",\n",
       "            type=\"nominal\"\n",
       "        }\n",
       "    },\n",
       "    data={\n",
       "        values=...\n",
       "    }\n",
       ")"
      ]
     },
     "execution_count": 10,
     "metadata": {},
     "output_type": "execute_result"
    }
   ],
   "source": [
    "# Plot stacked area chart of generation for the given day using vegalite\n",
    "\n",
    "# Add in BTM solar and curtailment and plot results\n",
    "\n",
    "# need to define T_period to use the code from Notebook 5\n",
    "T_period = 1:24\n",
    "\n",
    "sol_gen = innerjoin(UC_no_startup_sol.gen, \n",
    "                    gen_df_sens[!, [:r_id, :resource]], \n",
    "                    on = :r_id)\n",
    "sol_gen = combine(groupby(sol_gen, [:resource, :hour]), \n",
    "            :gen => sum)\n",
    "\n",
    "# Rename generators (for plotting purposes)\n",
    "sol_gen[sol_gen.resource .== \"solar_photovoltaic\", :resource] .= \"_solar_photovoltaic\"\n",
    "sol_gen[sol_gen.resource .== \"onshore_wind_turbine\", :resource] .= \"_onshore_wind_turbine\"\n",
    "sol_gen[sol_gen.resource .== \"small_hydroelectric\", :resource] .= \"_small_hydroelectric\"\n",
    "\n",
    "# BTM solar\n",
    "btm = DataFrame(resource = repeat([\"_solar_photovoltaic_btm\"]; outer=length(T_period)), \n",
    "    hour = T_period,\n",
    "    gen_sum = gen_variable_long[gen_variable_long.gen_full .== \"wec_sdge_solar_photovoltaic_1.0\",:cf] * 600)\n",
    "append!(sol_gen, btm)\n",
    "\n",
    "# Curtailment\n",
    "curtail = combine(groupby(UC_no_startup_sol.curtail, [:hour]),\n",
    "            :curt => sum)\n",
    "curtail[!, :resource] .= \"_curtailment\"\n",
    "rename!(curtail, :curt_sum => :gen_sum)\n",
    "append!(sol_gen, curtail[:,[:resource, :hour, :gen_sum]])\n",
    "\n",
    "# Rescale hours\n",
    "sol_gen.hour = sol_gen.hour .- T_period[1]\n",
    "\n",
    "sol_gen |>\n",
    "@vlplot(:area, \n",
    "    x=:hour, y={:gen_sum, stack=:zero}, \n",
    "    color={\"resource:n\", scale={scheme=\"category10\"}})"
   ]
  },
  {
   "cell_type": "markdown",
   "metadata": {},
   "source": []
  },
  {
   "cell_type": "markdown",
   "metadata": {},
   "source": [
    "## Question 2: Implement pumped hydropower storage\n",
    "\n",
    "In the data, we have a generator `hydroelectric_pumped_storage` which is a pumped hydro storage (PHS) facility. We have been treating it as a free resource, but in fact, it's a battery. \n",
    "\n",
    "The PHS equations for stored water are identical to the state of charge for the battery in Notebook 2:\n",
    "\n",
    "\\begin{align*} \n",
    "SOC_t = SOC_{t-1} + \\big(CHARGE_t * battery\\_eff - \\frac{DISCHARGE_t}{battery\\_eff}\\big)  \\quad \\forall t \\in T\n",
    "\\end{align*}\n",
    "\n",
    "In addition, the PHS has a power capacity constraint given in the dataframe's `existing_cap_mw` variable. You will also need to implement an energy capacity constraint. \n",
    "\n",
    "**A. Code pumped hydropower storage constraints.**\n",
    "\n",
    "Copy the `unit_commitment_simple` code above into a new cell below and rename the function `unit_commitment_storage`.\n",
    "\n",
    "Reviewing [Notebook 2](https://github.com/east-winds/power-systems-optimization/tree/master/Notebooks), add in relevant constraints for charging and discharging pumped hydropower. Assume the following parameters:\n",
    "\n",
    "- One-way efficiency is $battery_{eff} = 0.84$ (i.e., round-trip efficiency = $0.7$)\n",
    "- Energy capacity = 4 x Power capacity\n",
    "- Stored energy starts and ends the day at 50% capacity (you will need to code these constraints)\n",
    "\n",
    "Indicate which equations and variables you have added and explain your steps using inline code comments (e.g. `# Comment`)."
   ]
  },
  {
   "cell_type": "code",
   "execution_count": 67,
   "metadata": {},
   "outputs": [
    {
     "data": {
      "text/html": [
       "<div><div style = \"float: left;\"><span>22×30 DataFrame</span></div><div style = \"clear: both;\"></div></div><div class = \"data-frame\" style = \"overflow-x: scroll;\"><table class = \"data-frame\" style = \"margin-bottom: 6px;\"><thead><tr class = \"header\"><th class = \"rowNumber\" style = \"font-weight: bold; text-align: right;\">Row</th><th style = \"text-align: left;\">r_id</th><th style = \"text-align: left;\">resource</th><th style = \"text-align: left;\">region</th><th style = \"text-align: left;\">existing_cap_mw</th><th style = \"text-align: left;\">num_units</th><th style = \"text-align: left;\">cap_size</th><th style = \"text-align: left;\">var_om_cost_per_mwh</th><th style = \"text-align: left;\">var_om_cost_per_mwh_in</th><th style = \"text-align: left;\">fuel</th><th style = \"text-align: left;\">heat_rate_mmbtu_per_mwh</th><th style = \"text-align: left;\">heat_rate_mmbtu_mwh_iqr</th><th style = \"text-align: left;\">heat_rate_mmbtu_mwh_std</th><th style = \"text-align: left;\">min_power</th><th style = \"text-align: left;\">ramp_up_percentage</th><th style = \"text-align: left;\">ramp_dn_percentage</th><th style = \"text-align: left;\">start_cost_per_mw</th><th style = \"text-align: left;\">start_fuel_mmbtu_per_mw</th><th style = \"text-align: left;\">up_time</th><th style = \"text-align: left;\">down_time</th><th style = \"text-align: left;\">self_disch</th><th style = \"text-align: left;\">eff_up</th><th style = \"text-align: left;\">eff_down</th><th style = \"text-align: left;\">ratio_power_to_energy</th><th style = \"text-align: left;\">min_duration</th><th style = \"text-align: left;\">max_duration</th><th style = \"text-align: left;\">cluster</th><th style = \"text-align: left;\">fuel_cost</th><th style = \"text-align: left;\">co2_content_tons_per_mmbtu</th><th style = \"text-align: left;\">is_variable</th><th style = \"text-align: left;\">gen_full</th></tr><tr class = \"subheader headerLastRow\"><th class = \"rowNumber\" style = \"font-weight: bold; text-align: right;\"></th><th title = \"Union{Missing, Int64}\" style = \"text-align: left;\">Int64?</th><th title = \"Union{Missing, String}\" style = \"text-align: left;\">String?</th><th title = \"Union{Missing, String15}\" style = \"text-align: left;\">String15?</th><th title = \"Union{Missing, Float64}\" style = \"text-align: left;\">Float64?</th><th title = \"Union{Missing, Int64}\" style = \"text-align: left;\">Int64?</th><th title = \"Union{Missing, Float64}\" style = \"text-align: left;\">Float64?</th><th title = \"Union{Missing, Float64}\" style = \"text-align: left;\">Float64?</th><th title = \"Union{Missing, Int64}\" style = \"text-align: left;\">Int64?</th><th title = \"String31\" style = \"text-align: left;\">String31</th><th title = \"Union{Missing, Float64}\" style = \"text-align: left;\">Float64?</th><th title = \"Union{Missing, Float64}\" style = \"text-align: left;\">Float64?</th><th title = \"Union{Missing, Float64}\" style = \"text-align: left;\">Float64?</th><th title = \"Union{Missing, Float64}\" style = \"text-align: left;\">Float64?</th><th title = \"Union{Missing, Float64}\" style = \"text-align: left;\">Float64?</th><th title = \"Union{Missing, Float64}\" style = \"text-align: left;\">Float64?</th><th title = \"Union{Missing, Int64}\" style = \"text-align: left;\">Int64?</th><th title = \"Union{Missing, Float64}\" style = \"text-align: left;\">Float64?</th><th title = \"Union{Missing, Int64}\" style = \"text-align: left;\">Int64?</th><th title = \"Union{Missing, Int64}\" style = \"text-align: left;\">Int64?</th><th title = \"Union{Missing, Int64}\" style = \"text-align: left;\">Int64?</th><th title = \"Union{Missing, Float64}\" style = \"text-align: left;\">Float64?</th><th title = \"Union{Missing, Float64}\" style = \"text-align: left;\">Float64?</th><th title = \"Union{Missing, Float64}\" style = \"text-align: left;\">Float64?</th><th title = \"Union{Missing, Int64}\" style = \"text-align: left;\">Int64?</th><th title = \"Union{Missing, Int64}\" style = \"text-align: left;\">Int64?</th><th title = \"Union{Missing, Int64}\" style = \"text-align: left;\">Int64?</th><th title = \"Union{Missing, Float64}\" style = \"text-align: left;\">Float64?</th><th title = \"Union{Missing, Float64}\" style = \"text-align: left;\">Float64?</th><th title = \"Bool\" style = \"text-align: left;\">Bool</th><th title = \"String\" style = \"text-align: left;\">String</th></tr></thead><tbody><tr><td class = \"rowNumber\" style = \"font-weight: bold; text-align: right;\">1</td><td style = \"text-align: right;\">1</td><td style = \"text-align: left;\">biomass</td><td style = \"text-align: left;\">WEC_SDGE</td><td style = \"text-align: right;\">21.4</td><td style = \"text-align: right;\">20</td><td style = \"text-align: right;\">1.07</td><td style = \"text-align: right;\">5.234</td><td style = \"text-align: right;\">0</td><td style = \"text-align: left;\">None</td><td style = \"text-align: right;\">12.76</td><td style = \"text-align: right;\">1.471</td><td style = \"text-align: right;\">4.147</td><td style = \"text-align: right;\">0.71</td><td style = \"text-align: right;\">1.0</td><td style = \"text-align: right;\">1.0</td><td style = \"text-align: right;\">0</td><td style = \"text-align: right;\">0.0</td><td style = \"text-align: right;\">0</td><td style = \"text-align: right;\">0</td><td style = \"text-align: right;\">0</td><td style = \"text-align: right;\">1.0</td><td style = \"text-align: right;\">1.0</td><td style = \"text-align: right;\">1.0</td><td style = \"text-align: right;\">0</td><td style = \"text-align: right;\">0</td><td style = \"text-align: right;\">1</td><td style = \"text-align: right;\">0.0</td><td style = \"text-align: right;\">0.0</td><td style = \"text-align: right;\">false</td><td style = \"text-align: left;\">wec_sdge_biomass_1.0</td></tr><tr><td class = \"rowNumber\" style = \"font-weight: bold; text-align: right;\">2</td><td style = \"text-align: right;\">2</td><td style = \"text-align: left;\">hydroelectric_pumped_storage</td><td style = \"text-align: left;\">WEC_SDGE</td><td style = \"text-align: right;\">100.0</td><td style = \"text-align: right;\">2</td><td style = \"text-align: right;\">21.0</td><td style = \"text-align: right;\">0.0</td><td style = \"text-align: right;\">0</td><td style = \"text-align: left;\">None</td><td style = \"text-align: right;\">0.0</td><td style = \"text-align: right;\">0.0</td><td style = \"text-align: right;\">0.0</td><td style = \"text-align: right;\">0.0</td><td style = \"text-align: right;\">1.0</td><td style = \"text-align: right;\">1.0</td><td style = \"text-align: right;\">0</td><td style = \"text-align: right;\">0.0</td><td style = \"text-align: right;\">0</td><td style = \"text-align: right;\">0</td><td style = \"text-align: right;\">0</td><td style = \"text-align: right;\">0.866</td><td style = \"text-align: right;\">0.866</td><td style = \"text-align: right;\">0.25</td><td style = \"text-align: right;\">0</td><td style = \"text-align: right;\">0</td><td style = \"text-align: right;\">1</td><td style = \"text-align: right;\">0.0</td><td style = \"text-align: right;\">0.0</td><td style = \"text-align: right;\">false</td><td style = \"text-align: left;\">wec_sdge_hydroelectric_pumped_storage_1.0</td></tr><tr><td class = \"rowNumber\" style = \"font-weight: bold; text-align: right;\">3</td><td style = \"text-align: right;\">3</td><td style = \"text-align: left;\">natural_gas_fired_combined_cycle</td><td style = \"text-align: left;\">WEC_SDGE</td><td style = \"text-align: right;\">600.0</td><td style = \"text-align: right;\">1</td><td style = \"text-align: right;\">607.1</td><td style = \"text-align: right;\">3.4</td><td style = \"text-align: right;\">0</td><td style = \"text-align: left;\">pacific_naturalgas</td><td style = \"text-align: right;\">7.52</td><td style = \"text-align: right;\">0.0</td><td style = \"text-align: right;\">0.0</td><td style = \"text-align: right;\">0.362</td><td style = \"text-align: right;\">0.4</td><td style = \"text-align: right;\">0.4</td><td style = \"text-align: right;\">87</td><td style = \"text-align: right;\">2.0</td><td style = \"text-align: right;\">6</td><td style = \"text-align: right;\">6</td><td style = \"text-align: right;\">0</td><td style = \"text-align: right;\">1.0</td><td style = \"text-align: right;\">1.0</td><td style = \"text-align: right;\">1.0</td><td style = \"text-align: right;\">0</td><td style = \"text-align: right;\">0</td><td style = \"text-align: right;\">1</td><td style = \"text-align: right;\">2.57</td><td style = \"text-align: right;\">0.05306</td><td style = \"text-align: right;\">false</td><td style = \"text-align: left;\">wec_sdge_natural_gas_fired_combined_cycle_1.0</td></tr><tr><td class = \"rowNumber\" style = \"font-weight: bold; text-align: right;\">4</td><td style = \"text-align: right;\">4</td><td style = \"text-align: left;\">natural_gas_fired_combined_cycle</td><td style = \"text-align: left;\">WEC_SDGE</td><td style = \"text-align: right;\">500.0</td><td style = \"text-align: right;\">1</td><td style = \"text-align: right;\">570.0</td><td style = \"text-align: right;\">3.4</td><td style = \"text-align: right;\">0</td><td style = \"text-align: left;\">pacific_naturalgas</td><td style = \"text-align: right;\">7.15</td><td style = \"text-align: right;\">0.0</td><td style = \"text-align: right;\">0.0</td><td style = \"text-align: right;\">0.351</td><td style = \"text-align: right;\">0.4</td><td style = \"text-align: right;\">0.4</td><td style = \"text-align: right;\">87</td><td style = \"text-align: right;\">2.0</td><td style = \"text-align: right;\">6</td><td style = \"text-align: right;\">6</td><td style = \"text-align: right;\">0</td><td style = \"text-align: right;\">1.0</td><td style = \"text-align: right;\">1.0</td><td style = \"text-align: right;\">1.0</td><td style = \"text-align: right;\">0</td><td style = \"text-align: right;\">0</td><td style = \"text-align: right;\">2</td><td style = \"text-align: right;\">2.57</td><td style = \"text-align: right;\">0.05306</td><td style = \"text-align: right;\">false</td><td style = \"text-align: left;\">wec_sdge_natural_gas_fired_combined_cycle_2.0</td></tr><tr><td class = \"rowNumber\" style = \"font-weight: bold; text-align: right;\">5</td><td style = \"text-align: right;\">5</td><td style = \"text-align: left;\">natural_gas_fired_combined_cycle</td><td style = \"text-align: left;\">WEC_SDGE</td><td style = \"text-align: right;\">336.0</td><td style = \"text-align: right;\">3</td><td style = \"text-align: right;\">112.0</td><td style = \"text-align: right;\">10.8</td><td style = \"text-align: right;\">0</td><td style = \"text-align: left;\">pacific_naturalgas</td><td style = \"text-align: right;\">10.03</td><td style = \"text-align: right;\">0.0</td><td style = \"text-align: right;\">0.0</td><td style = \"text-align: right;\">0.446</td><td style = \"text-align: right;\">3.78</td><td style = \"text-align: right;\">3.78</td><td style = \"text-align: right;\">113</td><td style = \"text-align: right;\">3.5</td><td style = \"text-align: right;\">6</td><td style = \"text-align: right;\">6</td><td style = \"text-align: right;\">0</td><td style = \"text-align: right;\">1.0</td><td style = \"text-align: right;\">1.0</td><td style = \"text-align: right;\">1.0</td><td style = \"text-align: right;\">0</td><td style = \"text-align: right;\">0</td><td style = \"text-align: right;\">3</td><td style = \"text-align: right;\">2.57</td><td style = \"text-align: right;\">0.05306</td><td style = \"text-align: right;\">false</td><td style = \"text-align: left;\">wec_sdge_natural_gas_fired_combined_cycle_3.0</td></tr><tr><td class = \"rowNumber\" style = \"font-weight: bold; text-align: right;\">6</td><td style = \"text-align: right;\">6</td><td style = \"text-align: left;\">natural_gas_fired_combustion_turbine</td><td style = \"text-align: left;\">WEC_SDGE</td><td style = \"text-align: right;\">91.6</td><td style = \"text-align: right;\">2</td><td style = \"text-align: right;\">45.8</td><td style = \"text-align: right;\">10.8</td><td style = \"text-align: right;\">0</td><td style = \"text-align: left;\">pacific_naturalgas</td><td style = \"text-align: right;\">10.69</td><td style = \"text-align: right;\">0.0</td><td style = \"text-align: right;\">0.0</td><td style = \"text-align: right;\">0.8</td><td style = \"text-align: right;\">3.78</td><td style = \"text-align: right;\">3.78</td><td style = \"text-align: right;\">113</td><td style = \"text-align: right;\">3.5</td><td style = \"text-align: right;\">1</td><td style = \"text-align: right;\">1</td><td style = \"text-align: right;\">0</td><td style = \"text-align: right;\">1.0</td><td style = \"text-align: right;\">1.0</td><td style = \"text-align: right;\">1.0</td><td style = \"text-align: right;\">0</td><td style = \"text-align: right;\">0</td><td style = \"text-align: right;\">1</td><td style = \"text-align: right;\">2.57</td><td style = \"text-align: right;\">0.05306</td><td style = \"text-align: right;\">false</td><td style = \"text-align: left;\">wec_sdge_natural_gas_fired_combustion_turbine_1.0</td></tr><tr><td class = \"rowNumber\" style = \"font-weight: bold; text-align: right;\">7</td><td style = \"text-align: right;\">7</td><td style = \"text-align: left;\">natural_gas_fired_combustion_turbine</td><td style = \"text-align: left;\">WEC_SDGE</td><td style = \"text-align: right;\">49.9</td><td style = \"text-align: right;\">1</td><td style = \"text-align: right;\">49.9</td><td style = \"text-align: right;\">10.8</td><td style = \"text-align: right;\">0</td><td style = \"text-align: left;\">pacific_naturalgas</td><td style = \"text-align: right;\">10.48</td><td style = \"text-align: right;\">0.0</td><td style = \"text-align: right;\">0.0</td><td style = \"text-align: right;\">0.487</td><td style = \"text-align: right;\">3.78</td><td style = \"text-align: right;\">3.78</td><td style = \"text-align: right;\">113</td><td style = \"text-align: right;\">3.5</td><td style = \"text-align: right;\">1</td><td style = \"text-align: right;\">1</td><td style = \"text-align: right;\">0</td><td style = \"text-align: right;\">1.0</td><td style = \"text-align: right;\">1.0</td><td style = \"text-align: right;\">1.0</td><td style = \"text-align: right;\">0</td><td style = \"text-align: right;\">0</td><td style = \"text-align: right;\">2</td><td style = \"text-align: right;\">2.57</td><td style = \"text-align: right;\">0.05306</td><td style = \"text-align: right;\">false</td><td style = \"text-align: left;\">wec_sdge_natural_gas_fired_combustion_turbine_2.0</td></tr><tr><td class = \"rowNumber\" style = \"font-weight: bold; text-align: right;\">8</td><td style = \"text-align: right;\">8</td><td style = \"text-align: left;\">natural_gas_fired_combustion_turbine</td><td style = \"text-align: left;\">WEC_SDGE</td><td style = \"text-align: right;\">48.1</td><td style = \"text-align: right;\">1</td><td style = \"text-align: right;\">48.1</td><td style = \"text-align: right;\">10.8</td><td style = \"text-align: right;\">0</td><td style = \"text-align: left;\">pacific_naturalgas</td><td style = \"text-align: right;\">11.04</td><td style = \"text-align: right;\">0.0</td><td style = \"text-align: right;\">0.0</td><td style = \"text-align: right;\">0.437</td><td style = \"text-align: right;\">3.78</td><td style = \"text-align: right;\">3.78</td><td style = \"text-align: right;\">113</td><td style = \"text-align: right;\">3.5</td><td style = \"text-align: right;\">1</td><td style = \"text-align: right;\">1</td><td style = \"text-align: right;\">0</td><td style = \"text-align: right;\">1.0</td><td style = \"text-align: right;\">1.0</td><td style = \"text-align: right;\">1.0</td><td style = \"text-align: right;\">0</td><td style = \"text-align: right;\">0</td><td style = \"text-align: right;\">3</td><td style = \"text-align: right;\">2.57</td><td style = \"text-align: right;\">0.05306</td><td style = \"text-align: right;\">false</td><td style = \"text-align: left;\">wec_sdge_natural_gas_fired_combustion_turbine_3.0</td></tr><tr><td class = \"rowNumber\" style = \"font-weight: bold; text-align: right;\">9</td><td style = \"text-align: right;\">9</td><td style = \"text-align: left;\">natural_gas_fired_combustion_turbine</td><td style = \"text-align: left;\">WEC_SDGE</td><td style = \"text-align: right;\">34.6</td><td style = \"text-align: right;\">1</td><td style = \"text-align: right;\">34.6</td><td style = \"text-align: right;\">10.8</td><td style = \"text-align: right;\">0</td><td style = \"text-align: left;\">pacific_naturalgas</td><td style = \"text-align: right;\">16.86</td><td style = \"text-align: right;\">0.0</td><td style = \"text-align: right;\">0.0</td><td style = \"text-align: right;\">0.954</td><td style = \"text-align: right;\">3.78</td><td style = \"text-align: right;\">3.78</td><td style = \"text-align: right;\">113</td><td style = \"text-align: right;\">3.5</td><td style = \"text-align: right;\">1</td><td style = \"text-align: right;\">1</td><td style = \"text-align: right;\">0</td><td style = \"text-align: right;\">1.0</td><td style = \"text-align: right;\">1.0</td><td style = \"text-align: right;\">1.0</td><td style = \"text-align: right;\">0</td><td style = \"text-align: right;\">0</td><td style = \"text-align: right;\">4</td><td style = \"text-align: right;\">2.57</td><td style = \"text-align: right;\">0.05306</td><td style = \"text-align: right;\">false</td><td style = \"text-align: left;\">wec_sdge_natural_gas_fired_combustion_turbine_4.0</td></tr><tr><td class = \"rowNumber\" style = \"font-weight: bold; text-align: right;\">10</td><td style = \"text-align: right;\">10</td><td style = \"text-align: left;\">natural_gas_fired_combustion_turbine</td><td style = \"text-align: left;\">WEC_SDGE</td><td style = \"text-align: right;\">96.6</td><td style = \"text-align: right;\">3</td><td style = \"text-align: right;\">32.2</td><td style = \"text-align: right;\">10.8</td><td style = \"text-align: right;\">0</td><td style = \"text-align: left;\">pacific_naturalgas</td><td style = \"text-align: right;\">10.5</td><td style = \"text-align: right;\">0.0</td><td style = \"text-align: right;\">0.0</td><td style = \"text-align: right;\">0.932</td><td style = \"text-align: right;\">3.78</td><td style = \"text-align: right;\">3.78</td><td style = \"text-align: right;\">113</td><td style = \"text-align: right;\">3.5</td><td style = \"text-align: right;\">1</td><td style = \"text-align: right;\">1</td><td style = \"text-align: right;\">0</td><td style = \"text-align: right;\">1.0</td><td style = \"text-align: right;\">1.0</td><td style = \"text-align: right;\">1.0</td><td style = \"text-align: right;\">0</td><td style = \"text-align: right;\">0</td><td style = \"text-align: right;\">5</td><td style = \"text-align: right;\">2.57</td><td style = \"text-align: right;\">0.05306</td><td style = \"text-align: right;\">false</td><td style = \"text-align: left;\">wec_sdge_natural_gas_fired_combustion_turbine_5.0</td></tr><tr><td class = \"rowNumber\" style = \"font-weight: bold; text-align: right;\">11</td><td style = \"text-align: right;\">11</td><td style = \"text-align: left;\">natural_gas_fired_combustion_turbine</td><td style = \"text-align: left;\">WEC_SDGE</td><td style = \"text-align: right;\">98.2</td><td style = \"text-align: right;\">2</td><td style = \"text-align: right;\">49.1</td><td style = \"text-align: right;\">10.8</td><td style = \"text-align: right;\">0</td><td style = \"text-align: left;\">pacific_naturalgas</td><td style = \"text-align: right;\">11.15</td><td style = \"text-align: right;\">0.0</td><td style = \"text-align: right;\">0.0</td><td style = \"text-align: right;\">0.329</td><td style = \"text-align: right;\">3.78</td><td style = \"text-align: right;\">3.78</td><td style = \"text-align: right;\">113</td><td style = \"text-align: right;\">3.5</td><td style = \"text-align: right;\">1</td><td style = \"text-align: right;\">1</td><td style = \"text-align: right;\">0</td><td style = \"text-align: right;\">1.0</td><td style = \"text-align: right;\">1.0</td><td style = \"text-align: right;\">1.0</td><td style = \"text-align: right;\">0</td><td style = \"text-align: right;\">0</td><td style = \"text-align: right;\">6</td><td style = \"text-align: right;\">2.57</td><td style = \"text-align: right;\">0.05306</td><td style = \"text-align: right;\">false</td><td style = \"text-align: left;\">wec_sdge_natural_gas_fired_combustion_turbine_6.0</td></tr><tr><td class = \"rowNumber\" style = \"font-weight: bold; text-align: right;\">12</td><td style = \"text-align: right;\">12</td><td style = \"text-align: left;\">natural_gas_fired_combustion_turbine</td><td style = \"text-align: left;\">WEC_SDGE</td><td style = \"text-align: right;\">98.2</td><td style = \"text-align: right;\">2</td><td style = \"text-align: right;\">49.1</td><td style = \"text-align: right;\">10.8</td><td style = \"text-align: right;\">0</td><td style = \"text-align: left;\">pacific_naturalgas</td><td style = \"text-align: right;\">11.2</td><td style = \"text-align: right;\">0.0</td><td style = \"text-align: right;\">0.0</td><td style = \"text-align: right;\">0.329</td><td style = \"text-align: right;\">3.78</td><td style = \"text-align: right;\">3.78</td><td style = \"text-align: right;\">113</td><td style = \"text-align: right;\">3.5</td><td style = \"text-align: right;\">1</td><td style = \"text-align: right;\">1</td><td style = \"text-align: right;\">0</td><td style = \"text-align: right;\">1.0</td><td style = \"text-align: right;\">1.0</td><td style = \"text-align: right;\">1.0</td><td style = \"text-align: right;\">0</td><td style = \"text-align: right;\">0</td><td style = \"text-align: right;\">7</td><td style = \"text-align: right;\">2.57</td><td style = \"text-align: right;\">0.05306</td><td style = \"text-align: right;\">false</td><td style = \"text-align: left;\">wec_sdge_natural_gas_fired_combustion_turbine_7.0</td></tr><tr><td class = \"rowNumber\" style = \"font-weight: bold; text-align: right;\">13</td><td style = \"text-align: right;\">13</td><td style = \"text-align: left;\">natural_gas_fired_combustion_turbine</td><td style = \"text-align: left;\">WEC_SDGE</td><td style = \"text-align: right;\">48.9</td><td style = \"text-align: right;\">1</td><td style = \"text-align: right;\">48.9</td><td style = \"text-align: right;\">10.8</td><td style = \"text-align: right;\">0</td><td style = \"text-align: left;\">pacific_naturalgas</td><td style = \"text-align: right;\">11.22</td><td style = \"text-align: right;\">0.0</td><td style = \"text-align: right;\">0.0</td><td style = \"text-align: right;\">0.654</td><td style = \"text-align: right;\">3.78</td><td style = \"text-align: right;\">3.78</td><td style = \"text-align: right;\">113</td><td style = \"text-align: right;\">3.5</td><td style = \"text-align: right;\">1</td><td style = \"text-align: right;\">1</td><td style = \"text-align: right;\">0</td><td style = \"text-align: right;\">1.0</td><td style = \"text-align: right;\">1.0</td><td style = \"text-align: right;\">1.0</td><td style = \"text-align: right;\">0</td><td style = \"text-align: right;\">0</td><td style = \"text-align: right;\">8</td><td style = \"text-align: right;\">2.57</td><td style = \"text-align: right;\">0.05306</td><td style = \"text-align: right;\">false</td><td style = \"text-align: left;\">wec_sdge_natural_gas_fired_combustion_turbine_8.0</td></tr><tr><td class = \"rowNumber\" style = \"font-weight: bold; text-align: right;\">14</td><td style = \"text-align: right;\">14</td><td style = \"text-align: left;\">natural_gas_fired_combustion_turbine</td><td style = \"text-align: left;\">WEC_SDGE</td><td style = \"text-align: right;\">48.9</td><td style = \"text-align: right;\">1</td><td style = \"text-align: right;\">48.9</td><td style = \"text-align: right;\">10.8</td><td style = \"text-align: right;\">0</td><td style = \"text-align: left;\">pacific_naturalgas</td><td style = \"text-align: right;\">11.3</td><td style = \"text-align: right;\">0.0</td><td style = \"text-align: right;\">0.0</td><td style = \"text-align: right;\">0.654</td><td style = \"text-align: right;\">3.78</td><td style = \"text-align: right;\">3.78</td><td style = \"text-align: right;\">113</td><td style = \"text-align: right;\">3.5</td><td style = \"text-align: right;\">1</td><td style = \"text-align: right;\">1</td><td style = \"text-align: right;\">0</td><td style = \"text-align: right;\">1.0</td><td style = \"text-align: right;\">1.0</td><td style = \"text-align: right;\">1.0</td><td style = \"text-align: right;\">0</td><td style = \"text-align: right;\">0</td><td style = \"text-align: right;\">9</td><td style = \"text-align: right;\">2.57</td><td style = \"text-align: right;\">0.05306</td><td style = \"text-align: right;\">false</td><td style = \"text-align: left;\">wec_sdge_natural_gas_fired_combustion_turbine_9.0</td></tr><tr><td class = \"rowNumber\" style = \"font-weight: bold; text-align: right;\">15</td><td style = \"text-align: right;\">15</td><td style = \"text-align: left;\">natural_gas_fired_combustion_turbine</td><td style = \"text-align: left;\">WEC_SDGE</td><td style = \"text-align: right;\">51.3</td><td style = \"text-align: right;\">1</td><td style = \"text-align: right;\">51.3</td><td style = \"text-align: right;\">10.8</td><td style = \"text-align: right;\">0</td><td style = \"text-align: left;\">pacific_naturalgas</td><td style = \"text-align: right;\">11.08</td><td style = \"text-align: right;\">0.0</td><td style = \"text-align: right;\">0.0</td><td style = \"text-align: right;\">0.409</td><td style = \"text-align: right;\">3.78</td><td style = \"text-align: right;\">3.78</td><td style = \"text-align: right;\">113</td><td style = \"text-align: right;\">3.5</td><td style = \"text-align: right;\">1</td><td style = \"text-align: right;\">1</td><td style = \"text-align: right;\">0</td><td style = \"text-align: right;\">1.0</td><td style = \"text-align: right;\">1.0</td><td style = \"text-align: right;\">1.0</td><td style = \"text-align: right;\">0</td><td style = \"text-align: right;\">0</td><td style = \"text-align: right;\">10</td><td style = \"text-align: right;\">2.57</td><td style = \"text-align: right;\">0.05306</td><td style = \"text-align: right;\">false</td><td style = \"text-align: left;\">wec_sdge_natural_gas_fired_combustion_turbine_10.0</td></tr><tr><td class = \"rowNumber\" style = \"font-weight: bold; text-align: right;\">16</td><td style = \"text-align: right;\">16</td><td style = \"text-align: left;\">natural_gas_fired_combustion_turbine</td><td style = \"text-align: left;\">WEC_SDGE</td><td style = \"text-align: right;\">51.3</td><td style = \"text-align: right;\">1</td><td style = \"text-align: right;\">51.3</td><td style = \"text-align: right;\">10.8</td><td style = \"text-align: right;\">0</td><td style = \"text-align: left;\">pacific_naturalgas</td><td style = \"text-align: right;\">11.12</td><td style = \"text-align: right;\">0.0</td><td style = \"text-align: right;\">0.0</td><td style = \"text-align: right;\">0.409</td><td style = \"text-align: right;\">3.78</td><td style = \"text-align: right;\">3.78</td><td style = \"text-align: right;\">113</td><td style = \"text-align: right;\">3.5</td><td style = \"text-align: right;\">1</td><td style = \"text-align: right;\">1</td><td style = \"text-align: right;\">0</td><td style = \"text-align: right;\">1.0</td><td style = \"text-align: right;\">1.0</td><td style = \"text-align: right;\">1.0</td><td style = \"text-align: right;\">0</td><td style = \"text-align: right;\">0</td><td style = \"text-align: right;\">11</td><td style = \"text-align: right;\">2.57</td><td style = \"text-align: right;\">0.05306</td><td style = \"text-align: right;\">false</td><td style = \"text-align: left;\">wec_sdge_natural_gas_fired_combustion_turbine_11.0</td></tr><tr><td class = \"rowNumber\" style = \"font-weight: bold; text-align: right;\">17</td><td style = \"text-align: right;\">17</td><td style = \"text-align: left;\">natural_gas_fired_combustion_turbine</td><td style = \"text-align: left;\">WEC_SDGE</td><td style = \"text-align: right;\">98.2</td><td style = \"text-align: right;\">2</td><td style = \"text-align: right;\">49.1</td><td style = \"text-align: right;\">10.8</td><td style = \"text-align: right;\">0</td><td style = \"text-align: left;\">pacific_naturalgas</td><td style = \"text-align: right;\">10.55</td><td style = \"text-align: right;\">0.0</td><td style = \"text-align: right;\">0.0</td><td style = \"text-align: right;\">0.329</td><td style = \"text-align: right;\">3.78</td><td style = \"text-align: right;\">3.78</td><td style = \"text-align: right;\">113</td><td style = \"text-align: right;\">3.5</td><td style = \"text-align: right;\">1</td><td style = \"text-align: right;\">1</td><td style = \"text-align: right;\">0</td><td style = \"text-align: right;\">1.0</td><td style = \"text-align: right;\">1.0</td><td style = \"text-align: right;\">1.0</td><td style = \"text-align: right;\">0</td><td style = \"text-align: right;\">0</td><td style = \"text-align: right;\">12</td><td style = \"text-align: right;\">2.57</td><td style = \"text-align: right;\">0.05306</td><td style = \"text-align: right;\">false</td><td style = \"text-align: left;\">wec_sdge_natural_gas_fired_combustion_turbine_12.0</td></tr><tr><td class = \"rowNumber\" style = \"font-weight: bold; text-align: right;\">18</td><td style = \"text-align: right;\">18</td><td style = \"text-align: left;\">natural_gas_fired_combustion_turbine</td><td style = \"text-align: left;\">WEC_SDGE</td><td style = \"text-align: right;\">98.2</td><td style = \"text-align: right;\">2</td><td style = \"text-align: right;\">49.1</td><td style = \"text-align: right;\">10.8</td><td style = \"text-align: right;\">0</td><td style = \"text-align: left;\">pacific_naturalgas</td><td style = \"text-align: right;\">10.55</td><td style = \"text-align: right;\">0.0</td><td style = \"text-align: right;\">0.0</td><td style = \"text-align: right;\">0.329</td><td style = \"text-align: right;\">3.78</td><td style = \"text-align: right;\">3.78</td><td style = \"text-align: right;\">113</td><td style = \"text-align: right;\">3.5</td><td style = \"text-align: right;\">1</td><td style = \"text-align: right;\">1</td><td style = \"text-align: right;\">0</td><td style = \"text-align: right;\">1.0</td><td style = \"text-align: right;\">1.0</td><td style = \"text-align: right;\">1.0</td><td style = \"text-align: right;\">0</td><td style = \"text-align: right;\">0</td><td style = \"text-align: right;\">13</td><td style = \"text-align: right;\">2.57</td><td style = \"text-align: right;\">0.05306</td><td style = \"text-align: right;\">false</td><td style = \"text-align: left;\">wec_sdge_natural_gas_fired_combustion_turbine_13.0</td></tr><tr><td class = \"rowNumber\" style = \"font-weight: bold; text-align: right;\">19</td><td style = \"text-align: right;\">19</td><td style = \"text-align: left;\">natural_gas_fired_combustion_turbine</td><td style = \"text-align: left;\">WEC_SDGE</td><td style = \"text-align: right;\">98.2</td><td style = \"text-align: right;\">2</td><td style = \"text-align: right;\">49.1</td><td style = \"text-align: right;\">10.8</td><td style = \"text-align: right;\">0</td><td style = \"text-align: left;\">pacific_naturalgas</td><td style = \"text-align: right;\">10.55</td><td style = \"text-align: right;\">0.0</td><td style = \"text-align: right;\">0.0</td><td style = \"text-align: right;\">0.329</td><td style = \"text-align: right;\">3.78</td><td style = \"text-align: right;\">3.78</td><td style = \"text-align: right;\">113</td><td style = \"text-align: right;\">3.5</td><td style = \"text-align: right;\">1</td><td style = \"text-align: right;\">1</td><td style = \"text-align: right;\">0</td><td style = \"text-align: right;\">1.0</td><td style = \"text-align: right;\">1.0</td><td style = \"text-align: right;\">1.0</td><td style = \"text-align: right;\">0</td><td style = \"text-align: right;\">0</td><td style = \"text-align: right;\">14</td><td style = \"text-align: right;\">2.57</td><td style = \"text-align: right;\">0.05306</td><td style = \"text-align: right;\">false</td><td style = \"text-align: left;\">wec_sdge_natural_gas_fired_combustion_turbine_14.0</td></tr><tr><td class = \"rowNumber\" style = \"font-weight: bold; text-align: right;\">20</td><td style = \"text-align: right;\">20</td><td style = \"text-align: left;\">onshore_wind_turbine</td><td style = \"text-align: left;\">WEC_SDGE</td><td style = \"text-align: right;\">200.0</td><td style = \"text-align: right;\">3</td><td style = \"text-align: right;\">64.67</td><td style = \"text-align: right;\">0.0</td><td style = \"text-align: right;\">0</td><td style = \"text-align: left;\">None</td><td style = \"text-align: right;\">9.12</td><td style = \"text-align: right;\">0.0</td><td style = \"text-align: right;\">0.0</td><td style = \"text-align: right;\">0.0</td><td style = \"text-align: right;\">1.0</td><td style = \"text-align: right;\">1.0</td><td style = \"text-align: right;\">0</td><td style = \"text-align: right;\">0.0</td><td style = \"text-align: right;\">0</td><td style = \"text-align: right;\">0</td><td style = \"text-align: right;\">0</td><td style = \"text-align: right;\">1.0</td><td style = \"text-align: right;\">1.0</td><td style = \"text-align: right;\">1.0</td><td style = \"text-align: right;\">0</td><td style = \"text-align: right;\">0</td><td style = \"text-align: right;\">1</td><td style = \"text-align: right;\">0.0</td><td style = \"text-align: right;\">0.0</td><td style = \"text-align: right;\">true</td><td style = \"text-align: left;\">wec_sdge_onshore_wind_turbine_1.0</td></tr><tr><td class = \"rowNumber\" style = \"font-weight: bold; text-align: right;\">21</td><td style = \"text-align: right;\">21</td><td style = \"text-align: left;\">small_hydroelectric</td><td style = \"text-align: left;\">WEC_SDGE</td><td style = \"text-align: right;\">50.0</td><td style = \"text-align: right;\">6</td><td style = \"text-align: right;\">1.22</td><td style = \"text-align: right;\">0.0</td><td style = \"text-align: right;\">0</td><td style = \"text-align: left;\">None</td><td style = \"text-align: right;\">9.12</td><td style = \"text-align: right;\">0.002</td><td style = \"text-align: right;\">0.001</td><td style = \"text-align: right;\">0.385</td><td style = \"text-align: right;\">1.0</td><td style = \"text-align: right;\">1.0</td><td style = \"text-align: right;\">0</td><td style = \"text-align: right;\">0.0</td><td style = \"text-align: right;\">0</td><td style = \"text-align: right;\">0</td><td style = \"text-align: right;\">0</td><td style = \"text-align: right;\">1.0</td><td style = \"text-align: right;\">1.0</td><td style = \"text-align: right;\">1.0</td><td style = \"text-align: right;\">0</td><td style = \"text-align: right;\">0</td><td style = \"text-align: right;\">1</td><td style = \"text-align: right;\">0.0</td><td style = \"text-align: right;\">0.0</td><td style = \"text-align: right;\">true</td><td style = \"text-align: left;\">wec_sdge_small_hydroelectric_1.0</td></tr><tr><td class = \"rowNumber\" style = \"font-weight: bold; text-align: right;\">22</td><td style = \"text-align: right;\">22</td><td style = \"text-align: left;\">solar_photovoltaic</td><td style = \"text-align: left;\">WEC_SDGE</td><td style = \"text-align: right;\">2500.0</td><td style = \"text-align: right;\">20</td><td style = \"text-align: right;\">8.48</td><td style = \"text-align: right;\">0.0</td><td style = \"text-align: right;\">0</td><td style = \"text-align: left;\">None</td><td style = \"text-align: right;\">9.16</td><td style = \"text-align: right;\">0.0</td><td style = \"text-align: right;\">0.021</td><td style = \"text-align: right;\">0.0</td><td style = \"text-align: right;\">1.0</td><td style = \"text-align: right;\">1.0</td><td style = \"text-align: right;\">0</td><td style = \"text-align: right;\">0.0</td><td style = \"text-align: right;\">0</td><td style = \"text-align: right;\">0</td><td style = \"text-align: right;\">0</td><td style = \"text-align: right;\">1.0</td><td style = \"text-align: right;\">1.0</td><td style = \"text-align: right;\">1.0</td><td style = \"text-align: right;\">0</td><td style = \"text-align: right;\">0</td><td style = \"text-align: right;\">1</td><td style = \"text-align: right;\">0.0</td><td style = \"text-align: right;\">0.0</td><td style = \"text-align: right;\">true</td><td style = \"text-align: left;\">wec_sdge_solar_photovoltaic_1.0</td></tr></tbody></table></div>"
      ],
      "text/latex": [
       "\\begin{tabular}{r|cccccc}\n",
       "\t& r\\_id & resource & region & existing\\_cap\\_mw & num\\_units & \\\\\n",
       "\t\\hline\n",
       "\t& Int64? & String? & String15? & Float64? & Int64? & \\\\\n",
       "\t\\hline\n",
       "\t1 & 1 & biomass & WEC\\_SDGE & 21.4 & 20 & $\\dots$ \\\\\n",
       "\t2 & 2 & hydroelectric\\_pumped\\_storage & WEC\\_SDGE & 100.0 & 2 & $\\dots$ \\\\\n",
       "\t3 & 3 & natural\\_gas\\_fired\\_combined\\_cycle & WEC\\_SDGE & 600.0 & 1 & $\\dots$ \\\\\n",
       "\t4 & 4 & natural\\_gas\\_fired\\_combined\\_cycle & WEC\\_SDGE & 500.0 & 1 & $\\dots$ \\\\\n",
       "\t5 & 5 & natural\\_gas\\_fired\\_combined\\_cycle & WEC\\_SDGE & 336.0 & 3 & $\\dots$ \\\\\n",
       "\t6 & 6 & natural\\_gas\\_fired\\_combustion\\_turbine & WEC\\_SDGE & 91.6 & 2 & $\\dots$ \\\\\n",
       "\t7 & 7 & natural\\_gas\\_fired\\_combustion\\_turbine & WEC\\_SDGE & 49.9 & 1 & $\\dots$ \\\\\n",
       "\t8 & 8 & natural\\_gas\\_fired\\_combustion\\_turbine & WEC\\_SDGE & 48.1 & 1 & $\\dots$ \\\\\n",
       "\t9 & 9 & natural\\_gas\\_fired\\_combustion\\_turbine & WEC\\_SDGE & 34.6 & 1 & $\\dots$ \\\\\n",
       "\t10 & 10 & natural\\_gas\\_fired\\_combustion\\_turbine & WEC\\_SDGE & 96.6 & 3 & $\\dots$ \\\\\n",
       "\t11 & 11 & natural\\_gas\\_fired\\_combustion\\_turbine & WEC\\_SDGE & 98.2 & 2 & $\\dots$ \\\\\n",
       "\t12 & 12 & natural\\_gas\\_fired\\_combustion\\_turbine & WEC\\_SDGE & 98.2 & 2 & $\\dots$ \\\\\n",
       "\t13 & 13 & natural\\_gas\\_fired\\_combustion\\_turbine & WEC\\_SDGE & 48.9 & 1 & $\\dots$ \\\\\n",
       "\t14 & 14 & natural\\_gas\\_fired\\_combustion\\_turbine & WEC\\_SDGE & 48.9 & 1 & $\\dots$ \\\\\n",
       "\t15 & 15 & natural\\_gas\\_fired\\_combustion\\_turbine & WEC\\_SDGE & 51.3 & 1 & $\\dots$ \\\\\n",
       "\t16 & 16 & natural\\_gas\\_fired\\_combustion\\_turbine & WEC\\_SDGE & 51.3 & 1 & $\\dots$ \\\\\n",
       "\t17 & 17 & natural\\_gas\\_fired\\_combustion\\_turbine & WEC\\_SDGE & 98.2 & 2 & $\\dots$ \\\\\n",
       "\t18 & 18 & natural\\_gas\\_fired\\_combustion\\_turbine & WEC\\_SDGE & 98.2 & 2 & $\\dots$ \\\\\n",
       "\t19 & 19 & natural\\_gas\\_fired\\_combustion\\_turbine & WEC\\_SDGE & 98.2 & 2 & $\\dots$ \\\\\n",
       "\t20 & 20 & onshore\\_wind\\_turbine & WEC\\_SDGE & 200.0 & 3 & $\\dots$ \\\\\n",
       "\t21 & 21 & small\\_hydroelectric & WEC\\_SDGE & 50.0 & 6 & $\\dots$ \\\\\n",
       "\t22 & 22 & solar\\_photovoltaic & WEC\\_SDGE & 2500.0 & 20 & $\\dots$ \\\\\n",
       "\\end{tabular}\n"
      ],
      "text/plain": [
       "\u001b[1m22×30 DataFrame\u001b[0m\n",
       "\u001b[1m Row \u001b[0m│\u001b[1m r_id   \u001b[0m\u001b[1m resource                          \u001b[0m\u001b[1m region    \u001b[0m\u001b[1m existing_cap_mw \u001b[0m\u001b[1m \u001b[0m ⋯\n",
       "     │\u001b[90m Int64? \u001b[0m\u001b[90m String?                           \u001b[0m\u001b[90m String15? \u001b[0m\u001b[90m Float64?        \u001b[0m\u001b[90m \u001b[0m ⋯\n",
       "─────┼──────────────────────────────────────────────────────────────────────────\n",
       "   1 │      1  biomass                            WEC_SDGE              21.4   ⋯\n",
       "   2 │      2  hydroelectric_pumped_storage       WEC_SDGE             100.0\n",
       "   3 │      3  natural_gas_fired_combined_cycle   WEC_SDGE             600.0\n",
       "   4 │      4  natural_gas_fired_combined_cycle   WEC_SDGE             500.0\n",
       "   5 │      5  natural_gas_fired_combined_cycle   WEC_SDGE             336.0   ⋯\n",
       "   6 │      6  natural_gas_fired_combustion_tur…  WEC_SDGE              91.6\n",
       "   7 │      7  natural_gas_fired_combustion_tur…  WEC_SDGE              49.9\n",
       "   8 │      8  natural_gas_fired_combustion_tur…  WEC_SDGE              48.1\n",
       "   9 │      9  natural_gas_fired_combustion_tur…  WEC_SDGE              34.6   ⋯\n",
       "  10 │     10  natural_gas_fired_combustion_tur…  WEC_SDGE              96.6\n",
       "  11 │     11  natural_gas_fired_combustion_tur…  WEC_SDGE              98.2\n",
       "  12 │     12  natural_gas_fired_combustion_tur…  WEC_SDGE              98.2\n",
       "  13 │     13  natural_gas_fired_combustion_tur…  WEC_SDGE              48.9   ⋯\n",
       "  14 │     14  natural_gas_fired_combustion_tur…  WEC_SDGE              48.9\n",
       "  15 │     15  natural_gas_fired_combustion_tur…  WEC_SDGE              51.3\n",
       "  16 │     16  natural_gas_fired_combustion_tur…  WEC_SDGE              51.3\n",
       "  17 │     17  natural_gas_fired_combustion_tur…  WEC_SDGE              98.2   ⋯\n",
       "  18 │     18  natural_gas_fired_combustion_tur…  WEC_SDGE              98.2\n",
       "  19 │     19  natural_gas_fired_combustion_tur…  WEC_SDGE              98.2\n",
       "  20 │     20  onshore_wind_turbine               WEC_SDGE             200.0\n",
       "  21 │     21  small_hydroelectric                WEC_SDGE              50.0   ⋯\n",
       "  22 │     22  solar_photovoltaic                 WEC_SDGE            2500.0\n",
       "\u001b[36m                                                              26 columns omitted\u001b[0m"
      ]
     },
     "execution_count": 67,
     "metadata": {},
     "output_type": "execute_result"
    }
   ],
   "source": [
    "gen_df"
   ]
  },
  {
   "cell_type": "code",
   "execution_count": 77,
   "metadata": {},
   "outputs": [
    {
     "data": {
      "text/plain": [
       "unit_commitment_storage (generic function with 1 method)"
      ]
     },
     "execution_count": 77,
     "metadata": {},
     "output_type": "execute_result"
    }
   ],
   "source": [
    "# create function to solve simple unit commitment problem\n",
    "\n",
    "#= Arguments/inputs to function:\n",
    "    gen_df -- dataframe with generator info\n",
    "    loads  -- load by time\n",
    "    gen_variable -- capacity factors of variable generators (in \"long\" format)\n",
    "    mip_gap -- desired relative MIP gap to pass to solver\n",
    "    batt_eff -- battery efficiency; given here as 0.84 for the pumped hydropower \n",
    "    batt_start_charge -- starting charge of the battery for the day (given here as 50% capacity)\n",
    "    batt_end_charge -- ending charge of the battery for the day (given here as 50% capacity)\n",
    "=#\n",
    "\n",
    "function unit_commitment_storage(gen_df, loads, gen_variable, mip_gap, batt_eff, batt_start_charge, batt_end_charge)\n",
    "    UC = Model(HiGHS.Optimizer) \n",
    "    set_optimizer_attribute(UC, \"mip_rel_gap\", mip_gap) # modifying default parameters for solver itself (in this case, setting relative/percentage gap)\n",
    "\n",
    "    # Define sets based on data\n",
    "        # Thermal resources for which unit commitment constraints apply\n",
    "    G_thermal = gen_df[gen_df[!,:up_time] .> 0,:r_id] \n",
    "        # Non-thermal resources for which unit commitment constraints do NOT apply \n",
    "    G_nonthermal = gen_df[gen_df[!,:up_time] .== 0,:r_id]\n",
    "        # Variable renewable resources\n",
    "    G_var = gen_df[gen_df[!,:is_variable] .== 1,:r_id]\n",
    "        # Non-variable (dispatchable) resources\n",
    "    G_nonvar = gen_df[gen_df[!,:is_variable] .== 0,:r_id]\n",
    "        # Non-variable and non-thermal resources\n",
    "    G_nt_nonvar = intersect(G_nonvar, G_nonthermal) # pumped hydro storage \n",
    "        # Set of all generators (above are all subsets of this)\n",
    "    G = gen_df.r_id\n",
    "        # All time periods (hours) over which we are optimizing\n",
    "    T = loads.hour\n",
    "        # A subset of time periods that excludes the last time period\n",
    "    T_red = loads.hour[1:end-1]  # reduced time periods without last one (to avoid indexing problems later)\n",
    "\n",
    "    # Generator capacity factor time series for variable generators\n",
    "    gen_var_cf = innerjoin(gen_variable, \n",
    "                    gen_df[gen_df.is_variable .== 1 , \n",
    "                        [:r_id, :gen_full, :existing_cap_mw]], \n",
    "                    on = :gen_full)\n",
    "    \n",
    "    # energy capacity for pumped hydro battery (4*power capactiy)\n",
    "    batt_cap = gen_df[gen_df.r_id .== 2,:existing_cap_mw][1]\n",
    "    energy_cap_batt = 4 * batt_cap\n",
    "    \n",
    "    # Decision variables   \n",
    "    @variables(UC, begin\n",
    "            # Continuous decision variables\n",
    "        GEN[G, T]  >= 0     # generation\n",
    "        COMMIT[G_thermal, T], Bin # commitment status (Bin=binary)\n",
    "        START[G_thermal, T], Bin  # startup decision\n",
    "        SHUT[G_thermal, T], Bin   # shutdown decision\n",
    "        energy_cap_batt >= SOC[T] >= 0 # state of charge of battery between 0 and energy cap (4*power cap)\n",
    "        batt_cap >= CHARGE[T] >= 0 # how much power to charge the pumped hydro battery\n",
    "        batt_cap >= DISCHARGE[T] >= 0 # how  much power to discharge from the pumped hydro battery\n",
    "    end)\n",
    "                \n",
    "    # Objective function\n",
    "        # Sum of variable costs + start-up costs for all generators and time periods\n",
    "    @objective(UC, Min, \n",
    "        sum( (gen_df[gen_df.r_id .== i,:heat_rate_mmbtu_per_mwh][1] * gen_df[gen_df.r_id .== i,:fuel_cost][1] +\n",
    "            gen_df[gen_df.r_id .== i,:var_om_cost_per_mwh][1]) * GEN[i,t] \n",
    "                        for i in G_nonvar for t in T) + # thermal resources variable cost includes fuel + O&M \n",
    "        sum(gen_df[gen_df.r_id .== i,:var_om_cost_per_mwh][1] * GEN[i,t] \n",
    "                        for i in G_var for t in T)  + # renewables variable cost includes only O&M, no fuel\n",
    "        sum(gen_df[gen_df.r_id .== i,:start_cost_per_mw][1] * \n",
    "            gen_df[gen_df.r_id .== i,:existing_cap_mw][1] *\n",
    "            START[i,t] \n",
    "                        for i in G_thermal for t in T) # only thermal resources have start up cost\n",
    "    )\n",
    "    \n",
    "    # Demand balance constraint (supply must = demand in all time periods)\n",
    "    # supply now also includes discharge from hydro pumped storage battery\n",
    "    @constraint(UC, cDemand[t in T], \n",
    "        sum(GEN[i,t] for i in G) + DISCHARGE[t] == loads[loads.hour .== t,:demand][1])\n",
    "    \n",
    "\n",
    "    # Capacity constraints \n",
    "      # 1. thermal generators requiring commitment\n",
    "    @constraint(UC, Cap_thermal_min[i in G_thermal, t in T], \n",
    "        GEN[i,t] >= COMMIT[i, t] * gen_df[gen_df.r_id .== i,:existing_cap_mw][1] *\n",
    "                        gen_df[gen_df.r_id .== i,:min_power][1])\n",
    "    @constraint(UC, Cap_thermal_max[i in G_thermal, t in T], \n",
    "        GEN[i,t] <= COMMIT[i, t] * gen_df[gen_df.r_id .== i,:existing_cap_mw][1])\n",
    "\n",
    "      # 2. non-variable generation not requiring commitment \n",
    "      # Biomass:\n",
    "    @constraint(UC, Cap_nt_nonvar_biomass[[1], t in T], \n",
    "        GEN[1,t] <= gen_df[gen_df.r_id .== 1,:existing_cap_mw][1])\n",
    "      # Pumped hydro:\n",
    "      # Pumped hydro's 100MW capacity can either go towards direct generation or towards charging the battery\n",
    "    @constraint(UC, Cap_nt_nonvar_pumpedhydro[[2], t in T],\n",
    "        GEN[2,t]+CHARGE[t] <= gen_df[gen_df.r_id .== 1,:existing_cap_mw][1])\n",
    "    \n",
    "        # Pumped storage state of charge constraints:\n",
    "    @constraint(UC, SOC_nt_nonvar_first[[1]], \n",
    "        # First period state of charge:\n",
    "        SOC[1] == batt_start_charge + (CHARGE[1]*batt_eff - DISCHARGE[1]/batt_eff))\n",
    "    \n",
    "    @constraint(UC, SOC_nt_nonvar_middle[t in T[T .>1]], \n",
    "        # All other hours prior to final hour:\n",
    "        SOC[t] == SOC[t-1] + CHARGE[t]*batt_eff - DISCHARGE[t]/batt_eff)\n",
    "        \n",
    "    @constraint(UC, SOC_nt_nonvar_last[[last(T)]], \n",
    "        # Final hour:\n",
    "        SOC[last(T)] == batt_end_charge)\n",
    "            \n",
    "    \n",
    "      # 3. variable generation, accounting for hourly capacity factor\n",
    "    @constraint(UC, Cap_var[i in 1:nrow(gen_var_cf)], \n",
    "            GEN[gen_var_cf[i,:r_id], gen_var_cf[i,:hour] ] <= \n",
    "                        gen_var_cf[i,:cf] *\n",
    "                        gen_var_cf[i,:existing_cap_mw])\n",
    "    \n",
    "    # Unit commitment constraints\n",
    "      # 1. Minimum up time\n",
    "    @constraint(UC, Startup[i in G_thermal, t in T],\n",
    "        COMMIT[i, t] >= sum(START[i, tt] \n",
    "                        for tt in intersect(T,\n",
    "                            (t-gen_df[gen_df.r_id .== i,:up_time][1]):t)))\n",
    "\n",
    "      # 2. Minimum down time\n",
    "    @constraint(UC, Shutdown[i in G_thermal, t in T],\n",
    "        1-COMMIT[i, t] >= sum(SHUT[i, tt] \n",
    "                        for tt in intersect(T,\n",
    "                            (t-gen_df[gen_df.r_id .== i,:down_time][1]):t)))\n",
    " \n",
    "      # 3. Commitment state\n",
    "    @constraint(UC, CommitmentStatus[i in G_thermal, t in T_red],\n",
    "        COMMIT[i,t+1] - COMMIT[i,t] == START[i,t+1] - SHUT[i,t+1])\n",
    "    \n",
    "    # Solve statement \n",
    "    optimize!(UC)\n",
    "\n",
    "    # Generation solution and convert to data frame using value_to_df_2dim function\n",
    "    gen = value_to_df_2dim(value.(GEN))\n",
    "\n",
    "    # Commitment status solution and convert to data frame\n",
    "    commit = value_to_df_2dim(value.(COMMIT))\n",
    "\n",
    "    # Calculate curtailment = available wind and/or solar output that had to be wasted due to operating constraints\n",
    "    curtail = innerjoin(gen_var_cf, gen, on = [:r_id, :hour])\n",
    "    curtail.curt = curtail.cf .* curtail.existing_cap_mw - curtail.gen\n",
    "    \n",
    "    # PHS charge \n",
    "    charge = value.(CHARGE).data\n",
    "    \n",
    "    # PHS discharge\n",
    "    discharge = value.(DISCHARGE).data\n",
    "    \n",
    "    # PHS State of Charge\n",
    "    soc = value.(SOC).data\n",
    "    \n",
    "    # Return the solution parameters and objective\n",
    "    return (\n",
    "        gen,\n",
    "        commit,\n",
    "        curtail, \n",
    "        charge, # return charge for plotting\n",
    "        discharge, # return discharge for plotting\n",
    "        soc, # return state of charge of battery for plotting\n",
    "        cost = objective_value(UC),\n",
    "        status = termination_status(UC)\n",
    "    )\n",
    "\n",
    "end"
   ]
  },
  {
   "cell_type": "markdown",
   "metadata": {},
   "source": [
    "**B. Solve the new UC with PHS and plot.**\n",
    "\n",
    "Using the above formulation, solve for the same parameters in Problem 1 and plot. For the purposes of plotting, you will want to create two resources&mdash;PHS_charge and PHS_discharge. By convention, you could put PHS_charge on top to indicate this is increasing system load."
   ]
  },
  {
   "cell_type": "code",
   "execution_count": 82,
   "metadata": {},
   "outputs": [
    {
     "name": "stdout",
     "output_type": "stream",
     "text": [
      "Presolving model\n",
      "2061 rows, 1778 cols, 6761 nonzeros\n",
      "1836 rows, 1516 cols, 7556 nonzeros\n",
      "\n",
      "Solving MIP model with:\n",
      "   1836 rows\n",
      "   1516 cols (967 binary, 0 integer, 0 implied int., 549 continuous)\n",
      "   7556 nonzeros\n",
      "\n",
      "( 0.0s) Starting symmetry detection\n",
      "( 0.0s) No symmetry present\n",
      "\n",
      "        Nodes      |    B&B Tree     |            Objective Bounds              |  Dynamic Constraints |       Work      \n",
      "     Proc. InQueue |  Leaves   Expl. | BestBound       BestSol              Gap |   Cuts   InLp Confl. | LpIters     Time\n",
      "\n",
      "         0       0         0   0.00%   0               inf                  inf        0      0      0         0     0.0s\n",
      " R       0       0         0   0.00%   500582.203964   528536.837986      5.29%        0      0      0       598     0.0s\n",
      " C       0       0         0   0.00%   501052.436272   503700.698428      0.53%      883     32      0       732     0.1s\n",
      "\n",
      "Solving report\n",
      "  Status            Optimal\n",
      "  Primal bound      503700.698428\n",
      "  Dual bound        501052.436272\n",
      "  Gap               0.526% (tolerance: 1%)\n",
      "  Solution status   feasible\n",
      "                    503700.698428 (objective)\n",
      "                    0 (bound viol.)\n",
      "                    0 (int. viol.)\n",
      "                    0 (row viol.)\n",
      "  Timing            0.15 (total)\n",
      "                    0.02 (presolve)\n",
      "                    0.00 (postsolve)\n",
      "  Nodes             1\n",
      "  LP iterations     732 (total)\n",
      "                    0 (strong br.)\n",
      "                    134 (separation)\n",
      "                    0 (heuristics)\n"
     ]
    },
    {
     "data": {
      "text/plain": [
       "(gen = \u001b[1m528×3 DataFrame\u001b[0m\n",
       "\u001b[1m Row \u001b[0m│\u001b[1m r_id   \u001b[0m\u001b[1m hour  \u001b[0m\u001b[1m gen     \u001b[0m\n",
       "     │\u001b[90m Int64? \u001b[0m\u001b[90m Int64 \u001b[0m\u001b[90m Float64 \u001b[0m\n",
       "─────┼────────────────────────\n",
       "   1 │      1      1   21.4\n",
       "   2 │      2      1   -0.0\n",
       "   3 │      3      1  356.487\n",
       "   4 │      4      1  500.0\n",
       "   5 │      5      1    0.0\n",
       "   6 │      6      1    0.0\n",
       "   7 │      7      1    0.0\n",
       "   8 │      8      1    0.0\n",
       "   9 │      9      1    0.0\n",
       "  10 │     10      1    0.0\n",
       "  11 │     11      1    0.0\n",
       "  ⋮  │   ⋮       ⋮       ⋮\n",
       " 519 │     13     24    0.0\n",
       " 520 │     14     24    0.0\n",
       " 521 │     15     24    0.0\n",
       " 522 │     16     24    0.0\n",
       " 523 │     17     24    0.0\n",
       " 524 │     18     24    0.0\n",
       " 525 │     19     24    0.0\n",
       " 526 │     20     24  134.28\n",
       " 527 │     21     24   21.755\n",
       " 528 │     22     24    0.0\n",
       "\u001b[36m              507 rows omitted\u001b[0m, commit = \u001b[1m408×3 DataFrame\u001b[0m\n",
       "\u001b[1m Row \u001b[0m│\u001b[1m r_id   \u001b[0m\u001b[1m hour  \u001b[0m\u001b[1m gen     \u001b[0m\n",
       "     │\u001b[90m Int64? \u001b[0m\u001b[90m Int64 \u001b[0m\u001b[90m Float64 \u001b[0m\n",
       "─────┼────────────────────────\n",
       "   1 │      3      1      1.0\n",
       "   2 │      4      1      1.0\n",
       "   3 │      5      1      0.0\n",
       "   4 │      6      1      0.0\n",
       "   5 │      7      1      0.0\n",
       "   6 │      8      1      0.0\n",
       "   7 │      9      1      0.0\n",
       "   8 │     10      1      0.0\n",
       "   9 │     11      1      0.0\n",
       "  10 │     12      1      0.0\n",
       "  11 │     13      1      0.0\n",
       "  ⋮  │   ⋮       ⋮       ⋮\n",
       " 399 │     10     24      0.0\n",
       " 400 │     11     24      0.0\n",
       " 401 │     12     24      0.0\n",
       " 402 │     13     24      0.0\n",
       " 403 │     14     24      0.0\n",
       " 404 │     15     24      0.0\n",
       " 405 │     16     24      0.0\n",
       " 406 │     17     24      0.0\n",
       " 407 │     18     24      0.0\n",
       " 408 │     19     24      0.0\n",
       "\u001b[36m              387 rows omitted\u001b[0m, curtail = \u001b[1m72×7 DataFrame\u001b[0m\n",
       "\u001b[1m Row \u001b[0m│\u001b[1m hour  \u001b[0m\u001b[1m gen_full                          \u001b[0m\u001b[1m cf      \u001b[0m\u001b[1m r_id   \u001b[0m\u001b[1m existing_cap\u001b[0m ⋯\n",
       "     │\u001b[90m Int64 \u001b[0m\u001b[90m String                            \u001b[0m\u001b[90m Float64 \u001b[0m\u001b[90m Int64? \u001b[0m\u001b[90m Float64?    \u001b[0m ⋯\n",
       "─────┼──────────────────────────────────────────────────────────────────────────\n",
       "   1 │     1  wec_sdge_onshore_wind_turbine_1.0   0.7505      20            20 ⋯\n",
       "   2 │     1  wec_sdge_small_hydroelectric_1.0    0.4351      21             5\n",
       "   3 │     1  wec_sdge_solar_photovoltaic_1.0     0.0         22           250\n",
       "   4 │     2  wec_sdge_onshore_wind_turbine_1.0   0.7803      20            20\n",
       "   5 │     2  wec_sdge_small_hydroelectric_1.0    0.4351      21             5 ⋯\n",
       "   6 │     2  wec_sdge_solar_photovoltaic_1.0     0.0         22           250\n",
       "   7 │     3  wec_sdge_onshore_wind_turbine_1.0   0.529       20            20\n",
       "   8 │     3  wec_sdge_small_hydroelectric_1.0    0.4351      21             5\n",
       "   9 │     3  wec_sdge_solar_photovoltaic_1.0     0.0         22           250 ⋯\n",
       "  10 │     4  wec_sdge_onshore_wind_turbine_1.0   0.4621      20            20\n",
       "  11 │     4  wec_sdge_small_hydroelectric_1.0    0.4351      21             5\n",
       "  ⋮  │   ⋮                    ⋮                     ⋮       ⋮            ⋮     ⋱\n",
       "  63 │    21  wec_sdge_solar_photovoltaic_1.0     0.0         22           250\n",
       "  64 │    22  wec_sdge_onshore_wind_turbine_1.0   0.6983      20            20 ⋯\n",
       "  65 │    22  wec_sdge_small_hydroelectric_1.0    0.4351      21             5\n",
       "  66 │    22  wec_sdge_solar_photovoltaic_1.0     0.0         22           250\n",
       "  67 │    23  wec_sdge_onshore_wind_turbine_1.0   0.7444      20            20\n",
       "  68 │    23  wec_sdge_small_hydroelectric_1.0    0.4351      21             5 ⋯\n",
       "  69 │    23  wec_sdge_solar_photovoltaic_1.0     0.0         22           250\n",
       "  70 │    24  wec_sdge_onshore_wind_turbine_1.0   0.6714      20            20\n",
       "  71 │    24  wec_sdge_small_hydroelectric_1.0    0.4351      21             5\n",
       "  72 │    24  wec_sdge_solar_photovoltaic_1.0     0.0         22           250 ⋯\n",
       "\u001b[36m                                                   3 columns and 51 rows omitted\u001b[0m, charge = [21.4, 21.4, 21.4, 21.4, 21.4, 0.8628000000000142, -0.0, 21.4, 21.4, 21.4  …  21.4, 21.4, 21.4, 21.4, -0.0, -0.0, -0.0, -0.0, 0.0, 21.4], discharge = [0.0, 0.0, 0.0, 0.0, 0.0, 0.0, 100.0, 0.0, 0.0, 0.0  …  0.0, 0.0, 0.0, 0.0, 34.53107168000007, 76.79500000000004, 45.54500000000012, 0.0, 0.4349999999998104, 0.0], soc = [217.976, 235.952, 253.928, 271.904, 289.88, 290.604752, 171.55713295238098, 189.53313295238098, 207.50913295238098, 225.48513295238098  …  315.365132952381, 333.341132952381, 351.317132952381, 369.293132952381, 328.1847142857142, 236.76209523809516, 182.5418571428569, 182.5418571428569, 182.024, 200.0], cost = 503700.69842754025, status = MathOptInterface.OPTIMAL)"
      ]
     },
     "execution_count": 82,
     "metadata": {},
     "output_type": "execute_result"
    }
   ],
   "source": [
    "# Use simple unit commitment function from previous cell to solve for given day with MIP gap = 1%\n",
    "batt_eff = 0.84\n",
    "batt_cap = 4 * gen_df[gen_df.r_id .== 2,:existing_cap_mw][1]\n",
    "batt_start = 0.5 * batt_cap\n",
    "batt_end = 0.5 * batt_cap\n",
    "UC_solution_batt = unit_commitment_storage(gen_df, loads, gen_variable_long, 0.01, batt_eff, batt_start, batt_end)"
   ]
  },
  {
   "cell_type": "code",
   "execution_count": 83,
   "metadata": {},
   "outputs": [
    {
     "data": {
      "application/vnd.plotly.v1+json": {
       "data": [
        {
         "colorbar": {
          "title": ""
         },
         "legendgroup": "State of charge (MWh)",
         "line": {
          "color": "rgba(0, 154, 250, 1.000)",
          "dash": "solid",
          "shape": "linear",
          "width": 1
         },
         "mode": "lines",
         "name": "State of charge (MWh)",
         "showlegend": true,
         "type": "scatter",
         "x": [
          1,
          2,
          3,
          4,
          5,
          6,
          7,
          8,
          9,
          10,
          11,
          12,
          13,
          14,
          15,
          16,
          17,
          18,
          19,
          20,
          21,
          22,
          23,
          24
         ],
         "xaxis": "x",
         "y": [
          217.976,
          235.952,
          253.928,
          271.904,
          289.88,
          290.604752,
          171.55713295238098,
          189.53313295238098,
          207.50913295238098,
          225.48513295238098,
          243.46113295238098,
          261.437132952381,
          279.413132952381,
          297.389132952381,
          315.365132952381,
          333.341132952381,
          351.317132952381,
          369.293132952381,
          328.1847142857142,
          236.76209523809516,
          182.5418571428569,
          182.5418571428569,
          182.024,
          200
         ],
         "yaxis": "y",
         "zmax": null,
         "zmin": null
        },
        {
         "colorbar": {
          "title": ""
         },
         "legendgroup": "Charge (MW)",
         "line": {
          "color": "rgba(227, 111, 71, 1.000)",
          "dash": "solid",
          "shape": "linear",
          "width": 1
         },
         "mode": "lines",
         "name": "Charge (MW)",
         "showlegend": true,
         "type": "scatter",
         "x": [
          1,
          2,
          3,
          4,
          5,
          6,
          7,
          8,
          9,
          10,
          11,
          12,
          13,
          14,
          15,
          16,
          17,
          18,
          19,
          20,
          21,
          22,
          23,
          24
         ],
         "xaxis": "x",
         "y": [
          21.4,
          21.4,
          21.4,
          21.4,
          21.4,
          0.8628000000000142,
          0,
          21.4,
          21.4,
          21.4,
          21.4,
          21.4,
          21.4,
          21.4,
          21.4,
          21.4,
          21.4,
          21.4,
          0,
          0,
          0,
          0,
          0,
          21.4
         ],
         "yaxis": "y",
         "zmax": null,
         "zmin": null
        },
        {
         "colorbar": {
          "title": ""
         },
         "legendgroup": "Discharge (MW)",
         "line": {
          "color": "rgba(62, 164, 78, 1.000)",
          "dash": "solid",
          "shape": "linear",
          "width": 1
         },
         "mode": "lines",
         "name": "Discharge (MW)",
         "showlegend": true,
         "type": "scatter",
         "x": [
          1,
          2,
          3,
          4,
          5,
          6,
          7,
          8,
          9,
          10,
          11,
          12,
          13,
          14,
          15,
          16,
          17,
          18,
          19,
          20,
          21,
          22,
          23,
          24
         ],
         "xaxis": "x",
         "y": [
          0,
          0,
          0,
          0,
          0,
          0,
          100,
          0,
          0,
          0,
          0,
          0,
          0,
          0,
          0,
          0,
          0,
          0,
          34.53107168000007,
          76.79500000000004,
          45.54500000000012,
          0,
          0.4349999999998104,
          0
         ],
         "yaxis": "y",
         "zmax": null,
         "zmin": null
        }
       ],
       "layout": {
        "annotations": [],
        "height": 400,
        "legend": {
         "bgcolor": "rgba(255, 255, 255, 1.000)",
         "bordercolor": "rgba(0, 0, 0, 1.000)",
         "borderwidth": 1,
         "font": {
          "color": "rgba(0, 0, 0, 1.000)",
          "family": "sans-serif",
          "size": 11
         },
         "title": {
          "font": {
           "color": "rgba(0, 0, 0, 1.000)",
           "family": "sans-serif",
           "size": 15
          },
          "text": ""
         },
         "tracegroupgap": 0,
         "traceorder": "normal",
         "x": 1,
         "xanchor": "auto",
         "y": 1,
         "yanchor": "auto"
        },
        "margin": {
         "b": 20,
         "l": 0,
         "r": 0,
         "t": 20
        },
        "paper_bgcolor": "rgba(255, 255, 255, 1.000)",
        "plot_bgcolor": "rgba(255, 255, 255, 1.000)",
        "showlegend": true,
        "width": 600,
        "xaxis": {
         "anchor": "y",
         "domain": [
          0.05100612423447069,
          0.9934383202099737
         ],
         "gridcolor": "rgba(0, 0, 0, 0.100)",
         "gridwidth": 0.5,
         "linecolor": "rgba(0, 0, 0, 1.000)",
         "mirror": false,
         "range": [
          0.3099999999999987,
          24.69
         ],
         "showgrid": true,
         "showline": true,
         "showticklabels": true,
         "tickangle": 0,
         "tickcolor": "rgb(0, 0, 0)",
         "tickfont": {
          "color": "rgba(0, 0, 0, 1.000)",
          "family": "sans-serif",
          "size": 11
         },
         "tickmode": "array",
         "ticks": "inside",
         "ticktext": [
          "5",
          "10",
          "15",
          "20"
         ],
         "tickvals": [
          5,
          10,
          15,
          20
         ],
         "title": "",
         "titlefont": {
          "color": "rgba(0, 0, 0, 1.000)",
          "family": "sans-serif",
          "size": 15
         },
         "type": "-",
         "visible": true,
         "zeroline": false,
         "zerolinecolor": "rgba(0, 0, 0, 1.000)"
        },
        "yaxis": {
         "anchor": "x",
         "domain": [
          0.03762029746281716,
          0.9901574803149606
         ],
         "gridcolor": "rgba(0, 0, 0, 0.100)",
         "gridwidth": 0.5,
         "linecolor": "rgba(0, 0, 0, 1.000)",
         "mirror": false,
         "range": [
          -11.078793988571448,
          380.37192694095245
         ],
         "showgrid": true,
         "showline": true,
         "showticklabels": true,
         "tickangle": 0,
         "tickcolor": "rgb(0, 0, 0)",
         "tickfont": {
          "color": "rgba(0, 0, 0, 1.000)",
          "family": "sans-serif",
          "size": 11
         },
         "tickmode": "array",
         "ticks": "inside",
         "ticktext": [
          "0",
          "100",
          "200",
          "300"
         ],
         "tickvals": [
          0,
          100,
          200,
          300
         ],
         "title": "",
         "titlefont": {
          "color": "rgba(0, 0, 0, 1.000)",
          "family": "sans-serif",
          "size": 15
         },
         "type": "-",
         "visible": true,
         "zeroline": false,
         "zerolinecolor": "rgba(0, 0, 0, 1.000)"
        }
       }
      },
      "text/html": [
       "    <div id=\"56a3652f-890e-454c-bf92-d63375a93ff9\" style=\"width:600px;height:400px;\"></div>\n",
       "    <script>\n",
       "        requirejs.config({\n",
       "        paths: {\n",
       "            Plotly: 'https://cdn.plot.ly/plotly-2.6.3.min'\n",
       "        }\n",
       "    });\n",
       "    require(['Plotly'], function (Plotly) {\n",
       "\n",
       "    Plotly.newPlot('56a3652f-890e-454c-bf92-d63375a93ff9', [\n",
       "    {\n",
       "        \"xaxis\": \"x\",\n",
       "        \"colorbar\": {\n",
       "            \"title\": \"\"\n",
       "        },\n",
       "        \"yaxis\": \"y\",\n",
       "        \"x\": [\n",
       "            1,\n",
       "            2,\n",
       "            3,\n",
       "            4,\n",
       "            5,\n",
       "            6,\n",
       "            7,\n",
       "            8,\n",
       "            9,\n",
       "            10,\n",
       "            11,\n",
       "            12,\n",
       "            13,\n",
       "            14,\n",
       "            15,\n",
       "            16,\n",
       "            17,\n",
       "            18,\n",
       "            19,\n",
       "            20,\n",
       "            21,\n",
       "            22,\n",
       "            23,\n",
       "            24\n",
       "        ],\n",
       "        \"showlegend\": true,\n",
       "        \"mode\": \"lines\",\n",
       "        \"name\": \"State of charge (MWh)\",\n",
       "        \"zmin\": null,\n",
       "        \"legendgroup\": \"State of charge (MWh)\",\n",
       "        \"zmax\": null,\n",
       "        \"line\": {\n",
       "            \"color\": \"rgba(0, 154, 250, 1.000)\",\n",
       "            \"shape\": \"linear\",\n",
       "            \"dash\": \"solid\",\n",
       "            \"width\": 1\n",
       "        },\n",
       "        \"y\": [\n",
       "            217.976,\n",
       "            235.952,\n",
       "            253.928,\n",
       "            271.904,\n",
       "            289.88,\n",
       "            290.604752,\n",
       "            171.55713295238098,\n",
       "            189.53313295238098,\n",
       "            207.50913295238098,\n",
       "            225.48513295238098,\n",
       "            243.46113295238098,\n",
       "            261.437132952381,\n",
       "            279.413132952381,\n",
       "            297.389132952381,\n",
       "            315.365132952381,\n",
       "            333.341132952381,\n",
       "            351.317132952381,\n",
       "            369.293132952381,\n",
       "            328.1847142857142,\n",
       "            236.76209523809516,\n",
       "            182.5418571428569,\n",
       "            182.5418571428569,\n",
       "            182.024,\n",
       "            200.0\n",
       "        ],\n",
       "        \"type\": \"scatter\"\n",
       "    },\n",
       "    {\n",
       "        \"xaxis\": \"x\",\n",
       "        \"colorbar\": {\n",
       "            \"title\": \"\"\n",
       "        },\n",
       "        \"yaxis\": \"y\",\n",
       "        \"x\": [\n",
       "            1,\n",
       "            2,\n",
       "            3,\n",
       "            4,\n",
       "            5,\n",
       "            6,\n",
       "            7,\n",
       "            8,\n",
       "            9,\n",
       "            10,\n",
       "            11,\n",
       "            12,\n",
       "            13,\n",
       "            14,\n",
       "            15,\n",
       "            16,\n",
       "            17,\n",
       "            18,\n",
       "            19,\n",
       "            20,\n",
       "            21,\n",
       "            22,\n",
       "            23,\n",
       "            24\n",
       "        ],\n",
       "        \"showlegend\": true,\n",
       "        \"mode\": \"lines\",\n",
       "        \"name\": \"Charge (MW)\",\n",
       "        \"zmin\": null,\n",
       "        \"legendgroup\": \"Charge (MW)\",\n",
       "        \"zmax\": null,\n",
       "        \"line\": {\n",
       "            \"color\": \"rgba(227, 111, 71, 1.000)\",\n",
       "            \"shape\": \"linear\",\n",
       "            \"dash\": \"solid\",\n",
       "            \"width\": 1\n",
       "        },\n",
       "        \"y\": [\n",
       "            21.4,\n",
       "            21.4,\n",
       "            21.4,\n",
       "            21.4,\n",
       "            21.4,\n",
       "            0.8628000000000142,\n",
       "            -0.0,\n",
       "            21.4,\n",
       "            21.4,\n",
       "            21.4,\n",
       "            21.4,\n",
       "            21.4,\n",
       "            21.4,\n",
       "            21.4,\n",
       "            21.4,\n",
       "            21.4,\n",
       "            21.4,\n",
       "            21.4,\n",
       "            -0.0,\n",
       "            -0.0,\n",
       "            -0.0,\n",
       "            -0.0,\n",
       "            0.0,\n",
       "            21.4\n",
       "        ],\n",
       "        \"type\": \"scatter\"\n",
       "    },\n",
       "    {\n",
       "        \"xaxis\": \"x\",\n",
       "        \"colorbar\": {\n",
       "            \"title\": \"\"\n",
       "        },\n",
       "        \"yaxis\": \"y\",\n",
       "        \"x\": [\n",
       "            1,\n",
       "            2,\n",
       "            3,\n",
       "            4,\n",
       "            5,\n",
       "            6,\n",
       "            7,\n",
       "            8,\n",
       "            9,\n",
       "            10,\n",
       "            11,\n",
       "            12,\n",
       "            13,\n",
       "            14,\n",
       "            15,\n",
       "            16,\n",
       "            17,\n",
       "            18,\n",
       "            19,\n",
       "            20,\n",
       "            21,\n",
       "            22,\n",
       "            23,\n",
       "            24\n",
       "        ],\n",
       "        \"showlegend\": true,\n",
       "        \"mode\": \"lines\",\n",
       "        \"name\": \"Discharge (MW)\",\n",
       "        \"zmin\": null,\n",
       "        \"legendgroup\": \"Discharge (MW)\",\n",
       "        \"zmax\": null,\n",
       "        \"line\": {\n",
       "            \"color\": \"rgba(62, 164, 78, 1.000)\",\n",
       "            \"shape\": \"linear\",\n",
       "            \"dash\": \"solid\",\n",
       "            \"width\": 1\n",
       "        },\n",
       "        \"y\": [\n",
       "            0.0,\n",
       "            0.0,\n",
       "            0.0,\n",
       "            0.0,\n",
       "            0.0,\n",
       "            0.0,\n",
       "            100.0,\n",
       "            0.0,\n",
       "            0.0,\n",
       "            0.0,\n",
       "            0.0,\n",
       "            0.0,\n",
       "            0.0,\n",
       "            0.0,\n",
       "            0.0,\n",
       "            0.0,\n",
       "            0.0,\n",
       "            0.0,\n",
       "            34.53107168000007,\n",
       "            76.79500000000004,\n",
       "            45.54500000000012,\n",
       "            0.0,\n",
       "            0.4349999999998104,\n",
       "            0.0\n",
       "        ],\n",
       "        \"type\": \"scatter\"\n",
       "    }\n",
       "]\n",
       ", {\n",
       "    \"showlegend\": true,\n",
       "    \"xaxis\": {\n",
       "        \"showticklabels\": true,\n",
       "        \"gridwidth\": 0.5,\n",
       "        \"tickvals\": [\n",
       "            5.0,\n",
       "            10.0,\n",
       "            15.0,\n",
       "            20.0\n",
       "        ],\n",
       "        \"range\": [\n",
       "            0.3099999999999987,\n",
       "            24.69\n",
       "        ],\n",
       "        \"domain\": [\n",
       "            0.05100612423447069,\n",
       "            0.9934383202099737\n",
       "        ],\n",
       "        \"mirror\": false,\n",
       "        \"tickangle\": 0,\n",
       "        \"showline\": true,\n",
       "        \"ticktext\": [\n",
       "            \"5\",\n",
       "            \"10\",\n",
       "            \"15\",\n",
       "            \"20\"\n",
       "        ],\n",
       "        \"zeroline\": false,\n",
       "        \"tickfont\": {\n",
       "            \"color\": \"rgba(0, 0, 0, 1.000)\",\n",
       "            \"family\": \"sans-serif\",\n",
       "            \"size\": 11\n",
       "        },\n",
       "        \"zerolinecolor\": \"rgba(0, 0, 0, 1.000)\",\n",
       "        \"anchor\": \"y\",\n",
       "        \"visible\": true,\n",
       "        \"ticks\": \"inside\",\n",
       "        \"tickmode\": \"array\",\n",
       "        \"linecolor\": \"rgba(0, 0, 0, 1.000)\",\n",
       "        \"showgrid\": true,\n",
       "        \"title\": \"\",\n",
       "        \"gridcolor\": \"rgba(0, 0, 0, 0.100)\",\n",
       "        \"titlefont\": {\n",
       "            \"color\": \"rgba(0, 0, 0, 1.000)\",\n",
       "            \"family\": \"sans-serif\",\n",
       "            \"size\": 15\n",
       "        },\n",
       "        \"tickcolor\": \"rgb(0, 0, 0)\",\n",
       "        \"type\": \"-\"\n",
       "    },\n",
       "    \"paper_bgcolor\": \"rgba(255, 255, 255, 1.000)\",\n",
       "    \"annotations\": [],\n",
       "    \"height\": 400,\n",
       "    \"margin\": {\n",
       "        \"l\": 0,\n",
       "        \"b\": 20,\n",
       "        \"r\": 0,\n",
       "        \"t\": 20\n",
       "    },\n",
       "    \"plot_bgcolor\": \"rgba(255, 255, 255, 1.000)\",\n",
       "    \"yaxis\": {\n",
       "        \"showticklabels\": true,\n",
       "        \"gridwidth\": 0.5,\n",
       "        \"tickvals\": [\n",
       "            0.0,\n",
       "            100.0,\n",
       "            200.0,\n",
       "            300.0\n",
       "        ],\n",
       "        \"range\": [\n",
       "            -11.078793988571448,\n",
       "            380.37192694095245\n",
       "        ],\n",
       "        \"domain\": [\n",
       "            0.03762029746281716,\n",
       "            0.9901574803149606\n",
       "        ],\n",
       "        \"mirror\": false,\n",
       "        \"tickangle\": 0,\n",
       "        \"showline\": true,\n",
       "        \"ticktext\": [\n",
       "            \"0\",\n",
       "            \"100\",\n",
       "            \"200\",\n",
       "            \"300\"\n",
       "        ],\n",
       "        \"zeroline\": false,\n",
       "        \"tickfont\": {\n",
       "            \"color\": \"rgba(0, 0, 0, 1.000)\",\n",
       "            \"family\": \"sans-serif\",\n",
       "            \"size\": 11\n",
       "        },\n",
       "        \"zerolinecolor\": \"rgba(0, 0, 0, 1.000)\",\n",
       "        \"anchor\": \"x\",\n",
       "        \"visible\": true,\n",
       "        \"ticks\": \"inside\",\n",
       "        \"tickmode\": \"array\",\n",
       "        \"linecolor\": \"rgba(0, 0, 0, 1.000)\",\n",
       "        \"showgrid\": true,\n",
       "        \"title\": \"\",\n",
       "        \"gridcolor\": \"rgba(0, 0, 0, 0.100)\",\n",
       "        \"titlefont\": {\n",
       "            \"color\": \"rgba(0, 0, 0, 1.000)\",\n",
       "            \"family\": \"sans-serif\",\n",
       "            \"size\": 15\n",
       "        },\n",
       "        \"tickcolor\": \"rgb(0, 0, 0)\",\n",
       "        \"type\": \"-\"\n",
       "    },\n",
       "    \"legend\": {\n",
       "        \"yanchor\": \"auto\",\n",
       "        \"xanchor\": \"auto\",\n",
       "        \"bordercolor\": \"rgba(0, 0, 0, 1.000)\",\n",
       "        \"bgcolor\": \"rgba(255, 255, 255, 1.000)\",\n",
       "        \"borderwidth\": 1,\n",
       "        \"tracegroupgap\": 0,\n",
       "        \"y\": 1.0,\n",
       "        \"font\": {\n",
       "            \"color\": \"rgba(0, 0, 0, 1.000)\",\n",
       "            \"family\": \"sans-serif\",\n",
       "            \"size\": 11\n",
       "        },\n",
       "        \"title\": {\n",
       "            \"font\": {\n",
       "                \"color\": \"rgba(0, 0, 0, 1.000)\",\n",
       "                \"family\": \"sans-serif\",\n",
       "                \"size\": 15\n",
       "            },\n",
       "            \"text\": \"\"\n",
       "        },\n",
       "        \"traceorder\": \"normal\",\n",
       "        \"x\": 1.0\n",
       "    },\n",
       "    \"width\": 600\n",
       "}\n",
       ");\n",
       "    });\n",
       "    </script>\n"
      ]
     },
     "execution_count": 83,
     "metadata": {},
     "output_type": "execute_result"
    }
   ],
   "source": [
    "# Line plot of battery charge, discharge, and state of charge over time \n",
    "soc = UC_solution_batt.soc\n",
    "charge = UC_solution_batt.charge\n",
    "discharge = UC_solution_batt.discharge\n",
    "\n",
    "plot(soc, label = \"State of charge (MWh)\")\n",
    "plot!(charge, label=\"Charge (MW)\")\n",
    "plot!(discharge, label = \"Discharge (MW)\")"
   ]
  },
  {
   "cell_type": "code",
   "execution_count": 81,
   "metadata": {},
   "outputs": [
    {
     "data": {
      "application/vnd.vegalite.v4+json": {
       "data": {
        "values": [
         {
          "gen_sum": 21.4,
          "hour": 0,
          "resource": "biomass"
         },
         {
          "gen_sum": 0,
          "hour": 0,
          "resource": "hydroelectric_pumped_storage"
         },
         {
          "gen_sum": 856.4871999999999,
          "hour": 0,
          "resource": "natural_gas_fired_combined_cycle"
         },
         {
          "gen_sum": 32.3078,
          "hour": 0,
          "resource": "natural_gas_fired_combustion_turbine"
         },
         {
          "gen_sum": 150.1,
          "hour": 0,
          "resource": "_onshore_wind_turbine"
         },
         {
          "gen_sum": 21.755,
          "hour": 0,
          "resource": "_small_hydroelectric"
         },
         {
          "gen_sum": 0,
          "hour": 0,
          "resource": "_solar_photovoltaic"
         },
         {
          "gen_sum": 21.4,
          "hour": 1,
          "resource": "biomass"
         },
         {
          "gen_sum": 0,
          "hour": 1,
          "resource": "hydroelectric_pumped_storage"
         },
         {
          "gen_sum": 808.9872,
          "hour": 1,
          "resource": "natural_gas_fired_combined_cycle"
         },
         {
          "gen_sum": 32.3078,
          "hour": 1,
          "resource": "natural_gas_fired_combustion_turbine"
         },
         {
          "gen_sum": 156.06,
          "hour": 1,
          "resource": "_onshore_wind_turbine"
         },
         {
          "gen_sum": 21.755,
          "hour": 1,
          "resource": "_small_hydroelectric"
         },
         {
          "gen_sum": 0,
          "hour": 1,
          "resource": "_solar_photovoltaic"
         },
         {
          "gen_sum": 21.4,
          "hour": 2,
          "resource": "biomass"
         },
         {
          "gen_sum": 0,
          "hour": 2,
          "resource": "hydroelectric_pumped_storage"
         },
         {
          "gen_sum": 835.7972,
          "hour": 2,
          "resource": "natural_gas_fired_combined_cycle"
         },
         {
          "gen_sum": 32.3078,
          "hour": 2,
          "resource": "natural_gas_fired_combustion_turbine"
         },
         {
          "gen_sum": 105.80000000000001,
          "hour": 2,
          "resource": "_onshore_wind_turbine"
         },
         {
          "gen_sum": 21.755,
          "hour": 2,
          "resource": "_small_hydroelectric"
         },
         {
          "gen_sum": 0,
          "hour": 2,
          "resource": "_solar_photovoltaic"
         },
         {
          "gen_sum": 21.4,
          "hour": 3,
          "resource": "biomass"
         },
         {
          "gen_sum": 0,
          "hour": 3,
          "resource": "hydroelectric_pumped_storage"
         },
         {
          "gen_sum": 878.6572,
          "hour": 3,
          "resource": "natural_gas_fired_combined_cycle"
         },
         {
          "gen_sum": 32.3078,
          "hour": 3,
          "resource": "natural_gas_fired_combustion_turbine"
         },
         {
          "gen_sum": 92.42,
          "hour": 3,
          "resource": "_onshore_wind_turbine"
         },
         {
          "gen_sum": 21.755,
          "hour": 3,
          "resource": "_small_hydroelectric"
         },
         {
          "gen_sum": 0,
          "hour": 3,
          "resource": "_solar_photovoltaic"
         },
         {
          "gen_sum": 21.4,
          "hour": 4,
          "resource": "biomass"
         },
         {
          "gen_sum": 0,
          "hour": 4,
          "resource": "hydroelectric_pumped_storage"
         },
         {
          "gen_sum": 1011.5871999999999,
          "hour": 4,
          "resource": "natural_gas_fired_combined_cycle"
         },
         {
          "gen_sum": 32.3078,
          "hour": 4,
          "resource": "natural_gas_fired_combustion_turbine"
         },
         {
          "gen_sum": 74.06,
          "hour": 4,
          "resource": "_onshore_wind_turbine"
         },
         {
          "gen_sum": 21.755,
          "hour": 4,
          "resource": "_small_hydroelectric"
         },
         {
          "gen_sum": 0,
          "hour": 4,
          "resource": "_solar_photovoltaic"
         },
         {
          "gen_sum": 21.4,
          "hour": 5,
          "resource": "biomass"
         },
         {
          "gen_sum": 20.537199999999984,
          "hour": 5,
          "resource": "hydroelectric_pumped_storage"
         },
         {
          "gen_sum": 1100,
          "hour": 5,
          "resource": "natural_gas_fired_combined_cycle"
         },
         {
          "gen_sum": 32.3078,
          "hour": 5,
          "resource": "natural_gas_fired_combustion_turbine"
         },
         {
          "gen_sum": 127.91999999999999,
          "hour": 5,
          "resource": "_onshore_wind_turbine"
         },
         {
          "gen_sum": 21.755,
          "hour": 5,
          "resource": "_small_hydroelectric"
         },
         {
          "gen_sum": 0,
          "hour": 5,
          "resource": "_solar_photovoltaic"
         },
         {
          "gen_sum": 21.4,
          "hour": 6,
          "resource": "biomass"
         },
         {
          "gen_sum": 21.4,
          "hour": 6,
          "resource": "hydroelectric_pumped_storage"
         },
         {
          "gen_sum": 1100,
          "hour": 6,
          "resource": "natural_gas_fired_combined_cycle"
         },
         {
          "gen_sum": 52.59499999999993,
          "hour": 6,
          "resource": "natural_gas_fired_combustion_turbine"
         },
         {
          "gen_sum": 68.18,
          "hour": 6,
          "resource": "_onshore_wind_turbine"
         },
         {
          "gen_sum": 21.755,
          "hour": 6,
          "resource": "_small_hydroelectric"
         },
         {
          "gen_sum": 138.25,
          "hour": 6,
          "resource": "_solar_photovoltaic"
         },
         {
          "gen_sum": 21.4,
          "hour": 7,
          "resource": "biomass"
         },
         {
          "gen_sum": 0,
          "hour": 7,
          "resource": "hydroelectric_pumped_storage"
         },
         {
          "gen_sum": 1066.3972,
          "hour": 7,
          "resource": "natural_gas_fired_combined_cycle"
         },
         {
          "gen_sum": 32.3078,
          "hour": 7,
          "resource": "natural_gas_fired_combustion_turbine"
         },
         {
          "gen_sum": 45.379999999999995,
          "hour": 7,
          "resource": "_onshore_wind_turbine"
         },
         {
          "gen_sum": 21.755,
          "hour": 7,
          "resource": "_small_hydroelectric"
         },
         {
          "gen_sum": 552.75,
          "hour": 7,
          "resource": "_solar_photovoltaic"
         },
         {
          "gen_sum": 21.4,
          "hour": 8,
          "resource": "biomass"
         },
         {
          "gen_sum": 0,
          "hour": 8,
          "resource": "hydroelectric_pumped_storage"
         },
         {
          "gen_sum": 478.1772,
          "hour": 8,
          "resource": "natural_gas_fired_combined_cycle"
         },
         {
          "gen_sum": 32.3078,
          "hour": 8,
          "resource": "natural_gas_fired_combustion_turbine"
         },
         {
          "gen_sum": 153.82000000000005,
          "hour": 8,
          "resource": "_onshore_wind_turbine"
         },
         {
          "gen_sum": 21.755,
          "hour": 8,
          "resource": "_small_hydroelectric"
         },
         {
          "gen_sum": 1194,
          "hour": 8,
          "resource": "_solar_photovoltaic"
         },
         {
          "gen_sum": 18.47720000000004,
          "hour": 9,
          "resource": "biomass"
         },
         {
          "gen_sum": 0,
          "hour": 9,
          "resource": "hydroelectric_pumped_storage"
         },
         {
          "gen_sum": 392.7,
          "hour": 9,
          "resource": "natural_gas_fired_combined_cycle"
         },
         {
          "gen_sum": 32.3078,
          "hour": 9,
          "resource": "natural_gas_fired_combustion_turbine"
         },
         {
          "gen_sum": 120.91999999999996,
          "hour": 9,
          "resource": "_onshore_wind_turbine"
         },
         {
          "gen_sum": 21.755,
          "hour": 9,
          "resource": "_small_hydroelectric"
         },
         {
          "gen_sum": 1439.25,
          "hour": 9,
          "resource": "_solar_photovoltaic"
         },
         {
          "gen_sum": 21.4,
          "hour": 10,
          "resource": "biomass"
         },
         {
          "gen_sum": 0,
          "hour": 10,
          "resource": "hydroelectric_pumped_storage"
         },
         {
          "gen_sum": 406.3372000000001,
          "hour": 10,
          "resource": "natural_gas_fired_combined_cycle"
         },
         {
          "gen_sum": 32.3078,
          "hour": 10,
          "resource": "natural_gas_fired_combustion_turbine"
         },
         {
          "gen_sum": 102.19999999999993,
          "hour": 10,
          "resource": "_onshore_wind_turbine"
         },
         {
          "gen_sum": 21.755,
          "hour": 10,
          "resource": "_small_hydroelectric"
         },
         {
          "gen_sum": 1509.75,
          "hour": 10,
          "resource": "_solar_photovoltaic"
         },
         {
          "gen_sum": 0,
          "hour": 11,
          "resource": "biomass"
         },
         {
          "gen_sum": 0,
          "hour": 11,
          "resource": "hydroelectric_pumped_storage"
         },
         {
          "gen_sum": 392.7,
          "hour": 11,
          "resource": "natural_gas_fired_combined_cycle"
         },
         {
          "gen_sum": 32.3078,
          "hour": 11,
          "resource": "natural_gas_fired_combustion_turbine"
         },
         {
          "gen_sum": 3.6972000000001763,
          "hour": 11,
          "resource": "_onshore_wind_turbine"
         },
         {
          "gen_sum": 21.755,
          "hour": 11,
          "resource": "_small_hydroelectric"
         },
         {
          "gen_sum": 1534.75,
          "hour": 11,
          "resource": "_solar_photovoltaic"
         },
         {
          "gen_sum": 0,
          "hour": 12,
          "resource": "biomass"
         },
         {
          "gen_sum": 0,
          "hour": 12,
          "resource": "hydroelectric_pumped_storage"
         },
         {
          "gen_sum": 392.7,
          "hour": 12,
          "resource": "natural_gas_fired_combined_cycle"
         },
         {
          "gen_sum": 32.3078,
          "hour": 12,
          "resource": "natural_gas_fired_combustion_turbine"
         },
         {
          "gen_sum": 0,
          "hour": 12,
          "resource": "_onshore_wind_turbine"
         },
         {
          "gen_sum": 0,
          "hour": 12,
          "resource": "_small_hydroelectric"
         },
         {
          "gen_sum": 1412.8022,
          "hour": 12,
          "resource": "_solar_photovoltaic"
         },
         {
          "gen_sum": 0,
          "hour": 13,
          "resource": "biomass"
         },
         {
          "gen_sum": 0,
          "hour": 13,
          "resource": "hydroelectric_pumped_storage"
         },
         {
          "gen_sum": 392.7,
          "hour": 13,
          "resource": "natural_gas_fired_combined_cycle"
         },
         {
          "gen_sum": 32.3078,
          "hour": 13,
          "resource": "natural_gas_fired_combustion_turbine"
         },
         {
          "gen_sum": 0,
          "hour": 13,
          "resource": "_onshore_wind_turbine"
         },
         {
          "gen_sum": 0,
          "hour": 13,
          "resource": "_small_hydroelectric"
         },
         {
          "gen_sum": 1361.2122,
          "hour": 13,
          "resource": "_solar_photovoltaic"
         },
         {
          "gen_sum": 0,
          "hour": 14,
          "resource": "biomass"
         },
         {
          "gen_sum": 0,
          "hour": 14,
          "resource": "hydroelectric_pumped_storage"
         },
         {
          "gen_sum": 392.7,
          "hour": 14,
          "resource": "natural_gas_fired_combined_cycle"
         },
         {
          "gen_sum": 32.3078,
          "hour": 14,
          "resource": "natural_gas_fired_combustion_turbine"
         },
         {
          "gen_sum": 0,
          "hour": 14,
          "resource": "_onshore_wind_turbine"
         },
         {
          "gen_sum": 0,
          "hour": 14,
          "resource": "_small_hydroelectric"
         },
         {
          "gen_sum": 1302.2522,
          "hour": 14,
          "resource": "_solar_photovoltaic"
         },
         {
          "gen_sum": 0,
          "hour": 15,
          "resource": "biomass"
         },
         {
          "gen_sum": 0,
          "hour": 15,
          "resource": "hydroelectric_pumped_storage"
         },
         {
          "gen_sum": 392.7,
          "hour": 15,
          "resource": "natural_gas_fired_combined_cycle"
         },
         {
          "gen_sum": 32.3078,
          "hour": 15,
          "resource": "natural_gas_fired_combustion_turbine"
         },
         {
          "gen_sum": 0,
          "hour": 15,
          "resource": "_onshore_wind_turbine"
         },
         {
          "gen_sum": 0,
          "hour": 15,
          "resource": "_small_hydroelectric"
         },
         {
          "gen_sum": 1237.9322000000002,
          "hour": 15,
          "resource": "_solar_photovoltaic"
         },
         {
          "gen_sum": 0,
          "hour": 16,
          "resource": "biomass"
         },
         {
          "gen_sum": 0,
          "hour": 16,
          "resource": "hydroelectric_pumped_storage"
         },
         {
          "gen_sum": 392.7,
          "hour": 16,
          "resource": "natural_gas_fired_combined_cycle"
         },
         {
          "gen_sum": 32.3078,
          "hour": 16,
          "resource": "natural_gas_fired_combustion_turbine"
         },
         {
          "gen_sum": 0,
          "hour": 16,
          "resource": "_onshore_wind_turbine"
         },
         {
          "gen_sum": 0,
          "hour": 16,
          "resource": "_small_hydroelectric"
         },
         {
          "gen_sum": 1355.1822000000002,
          "hour": 16,
          "resource": "_solar_photovoltaic"
         },
         {
          "gen_sum": 21.4,
          "hour": 17,
          "resource": "biomass"
         },
         {
          "gen_sum": 0,
          "hour": 17,
          "resource": "hydroelectric_pumped_storage"
         },
         {
          "gen_sum": 659.8772000000001,
          "hour": 17,
          "resource": "natural_gas_fired_combined_cycle"
         },
         {
          "gen_sum": 32.3078,
          "hour": 17,
          "resource": "natural_gas_fired_combustion_turbine"
         },
         {
          "gen_sum": 117.56000000000006,
          "hour": 17,
          "resource": "_onshore_wind_turbine"
         },
         {
          "gen_sum": 21.755,
          "hour": 17,
          "resource": "_small_hydroelectric"
         },
         {
          "gen_sum": 835.5,
          "hour": 17,
          "resource": "_solar_photovoltaic"
         },
         {
          "gen_sum": 21.4,
          "hour": 18,
          "resource": "biomass"
         },
         {
          "gen_sum": 21.4,
          "hour": 18,
          "resource": "hydroelectric_pumped_storage"
         },
         {
          "gen_sum": 1100,
          "hour": 18,
          "resource": "natural_gas_fired_combined_cycle"
         },
         {
          "gen_sum": 184.17392832000007,
          "hour": 18,
          "resource": "natural_gas_fired_combustion_turbine"
         },
         {
          "gen_sum": 152.89999999999998,
          "hour": 18,
          "resource": "_onshore_wind_turbine"
         },
         {
          "gen_sum": 21.755,
          "hour": 18,
          "resource": "_small_hydroelectric"
         },
         {
          "gen_sum": 137.5,
          "hour": 18,
          "resource": "_solar_photovoltaic"
         },
         {
          "gen_sum": 21.4,
          "hour": 19,
          "resource": "biomass"
         },
         {
          "gen_sum": 21.4,
          "hour": 19,
          "resource": "hydroelectric_pumped_storage"
         },
         {
          "gen_sum": 1100,
          "hour": 19,
          "resource": "natural_gas_fired_combined_cycle"
         },
         {
          "gen_sum": 342.90000000000003,
          "hour": 19,
          "resource": "natural_gas_fired_combustion_turbine"
         },
         {
          "gen_sum": 155.73999999999998,
          "hour": 19,
          "resource": "_onshore_wind_turbine"
         },
         {
          "gen_sum": 21.755,
          "hour": 19,
          "resource": "_small_hydroelectric"
         },
         {
          "gen_sum": 0,
          "hour": 19,
          "resource": "_solar_photovoltaic"
         },
         {
          "gen_sum": 21.4,
          "hour": 20,
          "resource": "biomass"
         },
         {
          "gen_sum": 21.4,
          "hour": 20,
          "resource": "hydroelectric_pumped_storage"
         },
         {
          "gen_sum": 1100,
          "hour": 20,
          "resource": "natural_gas_fired_combined_cycle"
         },
         {
          "gen_sum": 342.90000000000003,
          "hour": 20,
          "resource": "natural_gas_fired_combustion_turbine"
         },
         {
          "gen_sum": 164.88,
          "hour": 20,
          "resource": "_onshore_wind_turbine"
         },
         {
          "gen_sum": 21.755,
          "hour": 20,
          "resource": "_small_hydroelectric"
         },
         {
          "gen_sum": 0,
          "hour": 20,
          "resource": "_solar_photovoltaic"
         },
         {
          "gen_sum": 21.4,
          "hour": 21,
          "resource": "biomass"
         },
         {
          "gen_sum": 21.4,
          "hour": 21,
          "resource": "hydroelectric_pumped_storage"
         },
         {
          "gen_sum": 1100,
          "hour": 21,
          "resource": "natural_gas_fired_combined_cycle"
         },
         {
          "gen_sum": 226.73500000000013,
          "hour": 21,
          "resource": "natural_gas_fired_combustion_turbine"
         },
         {
          "gen_sum": 139.66,
          "hour": 21,
          "resource": "_onshore_wind_turbine"
         },
         {
          "gen_sum": 21.755,
          "hour": 21,
          "resource": "_small_hydroelectric"
         },
         {
          "gen_sum": 0,
          "hour": 21,
          "resource": "_solar_photovoltaic"
         },
         {
          "gen_sum": 21.4,
          "hour": 22,
          "resource": "biomass"
         },
         {
          "gen_sum": 21.4,
          "hour": 22,
          "resource": "hydroelectric_pumped_storage"
         },
         {
          "gen_sum": 1100,
          "hour": 22,
          "resource": "natural_gas_fired_combined_cycle"
         },
         {
          "gen_sum": 0,
          "hour": 22,
          "resource": "natural_gas_fired_combustion_turbine"
         },
         {
          "gen_sum": 148.88,
          "hour": 22,
          "resource": "_onshore_wind_turbine"
         },
         {
          "gen_sum": 21.755,
          "hour": 22,
          "resource": "_small_hydroelectric"
         },
         {
          "gen_sum": 0,
          "hour": 22,
          "resource": "_solar_photovoltaic"
         },
         {
          "gen_sum": 21.4,
          "hour": 23,
          "resource": "biomass"
         },
         {
          "gen_sum": 0,
          "hour": 23,
          "resource": "hydroelectric_pumped_storage"
         },
         {
          "gen_sum": 959.5550000000001,
          "hour": 23,
          "resource": "natural_gas_fired_combined_cycle"
         },
         {
          "gen_sum": 0,
          "hour": 23,
          "resource": "natural_gas_fired_combustion_turbine"
         },
         {
          "gen_sum": 134.28,
          "hour": 23,
          "resource": "_onshore_wind_turbine"
         },
         {
          "gen_sum": 21.755,
          "hour": 23,
          "resource": "_small_hydroelectric"
         },
         {
          "gen_sum": 0,
          "hour": 23,
          "resource": "_solar_photovoltaic"
         },
         {
          "gen_sum": 0,
          "hour": 0,
          "resource": "_solar_photovoltaic_btm"
         },
         {
          "gen_sum": 0,
          "hour": 1,
          "resource": "_solar_photovoltaic_btm"
         },
         {
          "gen_sum": 0,
          "hour": 2,
          "resource": "_solar_photovoltaic_btm"
         },
         {
          "gen_sum": 0,
          "hour": 3,
          "resource": "_solar_photovoltaic_btm"
         },
         {
          "gen_sum": 0,
          "hour": 4,
          "resource": "_solar_photovoltaic_btm"
         },
         {
          "gen_sum": 0,
          "hour": 5,
          "resource": "_solar_photovoltaic_btm"
         },
         {
          "gen_sum": 33.18,
          "hour": 6,
          "resource": "_solar_photovoltaic_btm"
         },
         {
          "gen_sum": 132.66,
          "hour": 7,
          "resource": "_solar_photovoltaic_btm"
         },
         {
          "gen_sum": 286.56,
          "hour": 8,
          "resource": "_solar_photovoltaic_btm"
         },
         {
          "gen_sum": 345.42,
          "hour": 9,
          "resource": "_solar_photovoltaic_btm"
         },
         {
          "gen_sum": 362.34,
          "hour": 10,
          "resource": "_solar_photovoltaic_btm"
         },
         {
          "gen_sum": 368.34,
          "hour": 11,
          "resource": "_solar_photovoltaic_btm"
         },
         {
          "gen_sum": 386.76,
          "hour": 12,
          "resource": "_solar_photovoltaic_btm"
         },
         {
          "gen_sum": 387.29999999999995,
          "hour": 13,
          "resource": "_solar_photovoltaic_btm"
         },
         {
          "gen_sum": 374.46,
          "hour": 14,
          "resource": "_solar_photovoltaic_btm"
         },
         {
          "gen_sum": 341.7,
          "hour": 15,
          "resource": "_solar_photovoltaic_btm"
         },
         {
          "gen_sum": 325.8,
          "hour": 16,
          "resource": "_solar_photovoltaic_btm"
         },
         {
          "gen_sum": 200.52,
          "hour": 17,
          "resource": "_solar_photovoltaic_btm"
         },
         {
          "gen_sum": 33,
          "hour": 18,
          "resource": "_solar_photovoltaic_btm"
         },
         {
          "gen_sum": 0,
          "hour": 19,
          "resource": "_solar_photovoltaic_btm"
         },
         {
          "gen_sum": 0,
          "hour": 20,
          "resource": "_solar_photovoltaic_btm"
         },
         {
          "gen_sum": 0,
          "hour": 21,
          "resource": "_solar_photovoltaic_btm"
         },
         {
          "gen_sum": 0,
          "hour": 22,
          "resource": "_solar_photovoltaic_btm"
         },
         {
          "gen_sum": 0,
          "hour": 23,
          "resource": "_solar_photovoltaic_btm"
         },
         {
          "gen_sum": 0,
          "hour": 0,
          "resource": "_curtailment"
         },
         {
          "gen_sum": 0,
          "hour": 1,
          "resource": "_curtailment"
         },
         {
          "gen_sum": 0,
          "hour": 2,
          "resource": "_curtailment"
         },
         {
          "gen_sum": 0,
          "hour": 3,
          "resource": "_curtailment"
         },
         {
          "gen_sum": 0,
          "hour": 4,
          "resource": "_curtailment"
         },
         {
          "gen_sum": 0,
          "hour": 5,
          "resource": "_curtailment"
         },
         {
          "gen_sum": -1.4210854715202004e-14,
          "hour": 6,
          "resource": "_curtailment"
         },
         {
          "gen_sum": 0,
          "hour": 7,
          "resource": "_curtailment"
         },
         {
          "gen_sum": -5.684341886080802e-14,
          "hour": 8,
          "resource": "_curtailment"
         },
         {
          "gen_sum": 4.263256414560601e-14,
          "hour": 9,
          "resource": "_curtailment"
         },
         {
          "gen_sum": 7.105427357601002e-14,
          "hour": 10,
          "resource": "_curtailment"
         },
         {
          "gen_sum": 80.96279999999982,
          "hour": 11,
          "resource": "_curtailment"
         },
         {
          "gen_sum": 268.3327999999997,
          "hour": 12,
          "resource": "_curtailment"
         },
         {
          "gen_sum": 333.7528000000001,
          "hour": 13,
          "resource": "_curtailment"
         },
         {
          "gen_sum": 324.9928000000001,
          "hour": 14,
          "resource": "_curtailment"
         },
         {
          "gen_sum": 267.6927999999998,
          "hour": 15,
          "resource": "_curtailment"
         },
         {
          "gen_sum": 131.7927999999998,
          "hour": 16,
          "resource": "_curtailment"
         },
         {
          "gen_sum": -5.684341886080802e-14,
          "hour": 17,
          "resource": "_curtailment"
         },
         {
          "gen_sum": 0,
          "hour": 18,
          "resource": "_curtailment"
         },
         {
          "gen_sum": 0,
          "hour": 19,
          "resource": "_curtailment"
         },
         {
          "gen_sum": 0,
          "hour": 20,
          "resource": "_curtailment"
         },
         {
          "gen_sum": 0,
          "hour": 21,
          "resource": "_curtailment"
         },
         {
          "gen_sum": 0,
          "hour": 22,
          "resource": "_curtailment"
         },
         {
          "gen_sum": 0,
          "hour": 23,
          "resource": "_curtailment"
         },
         {
          "gen_sum": 21.4,
          "hour": 0,
          "resource": "_PHS_charge"
         },
         {
          "gen_sum": 21.4,
          "hour": 1,
          "resource": "_PHS_charge"
         },
         {
          "gen_sum": 21.4,
          "hour": 2,
          "resource": "_PHS_charge"
         },
         {
          "gen_sum": 21.4,
          "hour": 3,
          "resource": "_PHS_charge"
         },
         {
          "gen_sum": 21.4,
          "hour": 4,
          "resource": "_PHS_charge"
         },
         {
          "gen_sum": 0.8628000000000142,
          "hour": 5,
          "resource": "_PHS_charge"
         },
         {
          "gen_sum": 0,
          "hour": 6,
          "resource": "_PHS_charge"
         },
         {
          "gen_sum": 21.4,
          "hour": 7,
          "resource": "_PHS_charge"
         },
         {
          "gen_sum": 21.4,
          "hour": 8,
          "resource": "_PHS_charge"
         },
         {
          "gen_sum": 21.4,
          "hour": 9,
          "resource": "_PHS_charge"
         },
         {
          "gen_sum": 21.4,
          "hour": 10,
          "resource": "_PHS_charge"
         },
         {
          "gen_sum": 21.4,
          "hour": 11,
          "resource": "_PHS_charge"
         },
         {
          "gen_sum": 21.4,
          "hour": 12,
          "resource": "_PHS_charge"
         },
         {
          "gen_sum": 21.4,
          "hour": 13,
          "resource": "_PHS_charge"
         },
         {
          "gen_sum": 21.4,
          "hour": 14,
          "resource": "_PHS_charge"
         },
         {
          "gen_sum": 21.4,
          "hour": 15,
          "resource": "_PHS_charge"
         },
         {
          "gen_sum": 21.4,
          "hour": 16,
          "resource": "_PHS_charge"
         },
         {
          "gen_sum": 21.4,
          "hour": 17,
          "resource": "_PHS_charge"
         },
         {
          "gen_sum": 0,
          "hour": 18,
          "resource": "_PHS_charge"
         },
         {
          "gen_sum": 0,
          "hour": 19,
          "resource": "_PHS_charge"
         },
         {
          "gen_sum": 0,
          "hour": 20,
          "resource": "_PHS_charge"
         },
         {
          "gen_sum": 0,
          "hour": 21,
          "resource": "_PHS_charge"
         },
         {
          "gen_sum": 0,
          "hour": 22,
          "resource": "_PHS_charge"
         },
         {
          "gen_sum": 21.4,
          "hour": 23,
          "resource": "_PHS_charge"
         },
         {
          "gen_sum": 0,
          "hour": 0,
          "resource": "_PHS_discharge"
         },
         {
          "gen_sum": 0,
          "hour": 1,
          "resource": "_PHS_discharge"
         },
         {
          "gen_sum": 0,
          "hour": 2,
          "resource": "_PHS_discharge"
         },
         {
          "gen_sum": 0,
          "hour": 3,
          "resource": "_PHS_discharge"
         },
         {
          "gen_sum": 0,
          "hour": 4,
          "resource": "_PHS_discharge"
         },
         {
          "gen_sum": 0,
          "hour": 5,
          "resource": "_PHS_discharge"
         },
         {
          "gen_sum": 100,
          "hour": 6,
          "resource": "_PHS_discharge"
         },
         {
          "gen_sum": 0,
          "hour": 7,
          "resource": "_PHS_discharge"
         },
         {
          "gen_sum": 0,
          "hour": 8,
          "resource": "_PHS_discharge"
         },
         {
          "gen_sum": 0,
          "hour": 9,
          "resource": "_PHS_discharge"
         },
         {
          "gen_sum": 0,
          "hour": 10,
          "resource": "_PHS_discharge"
         },
         {
          "gen_sum": 0,
          "hour": 11,
          "resource": "_PHS_discharge"
         },
         {
          "gen_sum": 0,
          "hour": 12,
          "resource": "_PHS_discharge"
         },
         {
          "gen_sum": 0,
          "hour": 13,
          "resource": "_PHS_discharge"
         },
         {
          "gen_sum": 0,
          "hour": 14,
          "resource": "_PHS_discharge"
         },
         {
          "gen_sum": 0,
          "hour": 15,
          "resource": "_PHS_discharge"
         },
         {
          "gen_sum": 0,
          "hour": 16,
          "resource": "_PHS_discharge"
         },
         {
          "gen_sum": 0,
          "hour": 17,
          "resource": "_PHS_discharge"
         },
         {
          "gen_sum": 34.53107168000007,
          "hour": 18,
          "resource": "_PHS_discharge"
         },
         {
          "gen_sum": 76.79500000000004,
          "hour": 19,
          "resource": "_PHS_discharge"
         },
         {
          "gen_sum": 45.54500000000012,
          "hour": 20,
          "resource": "_PHS_discharge"
         },
         {
          "gen_sum": 0,
          "hour": 21,
          "resource": "_PHS_discharge"
         },
         {
          "gen_sum": 0.4349999999998104,
          "hour": 22,
          "resource": "_PHS_discharge"
         },
         {
          "gen_sum": 0,
          "hour": 23,
          "resource": "_PHS_discharge"
         }
        ]
       },
       "encoding": {
        "color": {
         "field": "resource",
         "scale": {
          "scheme": "category10"
         },
         "type": "nominal"
        },
        "x": {
         "field": "hour",
         "type": "quantitative"
        },
        "y": {
         "field": "gen_sum",
         "stack": "zero",
         "type": "quantitative"
        }
       },
       "mark": "area"
      },
      "image/png": "[encoded data removed]",
      "image/svg+xml": [
       "<?xml version=\"1.0\" encoding=\"utf-8\"?>\n",
       "<!DOCTYPE svg PUBLIC \"-//W3C//DTD SVG 1.1//EN\" \"http://www.w3.org/Graphics/SVG/1.1/DTD/svg11.dtd\">\n",
       "<svg xmlns=\"http://www.w3.org/2000/svg\" xmlns:xlink=\"http://www.w3.org/1999/xlink\" version=\"1.1\" class=\"marks\" width=\"452\" height=\"242\" viewBox=\"0 0 452 242\"><rect width=\"452\" height=\"242\" fill=\"white\"/><g fill=\"none\" stroke-miterlimit=\"10\" transform=\"translate(54,5)\"><g class=\"mark-group role-frame root\" role=\"graphics-object\" aria-roledescription=\"group mark container\"><g transform=\"translate(0,0)\"><path class=\"background\" aria-hidden=\"true\" d=\"M0.5,0.5h200v200h-200Z\" stroke=\"#ddd\"/><g><g class=\"mark-group role-axis\" aria-hidden=\"true\"><g transform=\"translate(0.5,200.5)\"><path class=\"background\" aria-hidden=\"true\" d=\"M0,0h0v0h0Z\" pointer-events=\"none\"/><g><g class=\"mark-rule role-axis-grid\" pointer-events=\"none\"><line transform=\"translate(0,-200)\" x2=\"0\" y2=\"200\" stroke=\"#ddd\" stroke-width=\"1\" opacity=\"1\"/><line transform=\"translate(42,-200)\" x2=\"0\" y2=\"200\" stroke=\"#ddd\" stroke-width=\"1\" opacity=\"1\"/><line transform=\"translate(83,-200)\" x2=\"0\" y2=\"200\" stroke=\"#ddd\" stroke-width=\"1\" opacity=\"1\"/><line transform=\"translate(125,-200)\" x2=\"0\" y2=\"200\" stroke=\"#ddd\" stroke-width=\"1\" opacity=\"1\"/><line transform=\"translate(167,-200)\" x2=\"0\" y2=\"200\" stroke=\"#ddd\" stroke-width=\"1\" opacity=\"1\"/></g></g><path class=\"foreground\" aria-hidden=\"true\" d=\"\" pointer-events=\"none\" display=\"none\"/></g></g><g class=\"mark-group role-axis\" aria-hidden=\"true\"><g transform=\"translate(0.5,0.5)\"><path class=\"background\" aria-hidden=\"true\" d=\"M0,0h0v0h0Z\" pointer-events=\"none\"/><g><g class=\"mark-rule role-axis-grid\" pointer-events=\"none\"><line transform=\"translate(0,186)\" x2=\"200\" y2=\"0\" stroke=\"#ddd\" stroke-width=\"1\" opacity=\"1\"/><line transform=\"translate(0,150)\" x2=\"200\" y2=\"0\" stroke=\"#ddd\" stroke-width=\"1\" opacity=\"1\"/><line transform=\"translate(0,114)\" x2=\"200\" y2=\"0\" stroke=\"#ddd\" stroke-width=\"1\" opacity=\"1\"/><line transform=\"translate(0,79)\" x2=\"200\" y2=\"0\" stroke=\"#ddd\" stroke-width=\"1\" opacity=\"1\"/><line transform=\"translate(0,43)\" x2=\"200\" y2=\"0\" stroke=\"#ddd\" stroke-width=\"1\" opacity=\"1\"/><line transform=\"translate(0,7)\" x2=\"200\" y2=\"0\" stroke=\"#ddd\" stroke-width=\"1\" opacity=\"1\"/></g></g><path class=\"foreground\" aria-hidden=\"true\" d=\"\" pointer-events=\"none\" display=\"none\"/></g></g><g class=\"mark-group role-axis\" role=\"graphics-symbol\" aria-roledescription=\"axis\" aria-label=\"X-axis titled 'hour' for a linear scale with values from 0 to 24\"><g transform=\"translate(0.5,200.5)\"><path class=\"background\" aria-hidden=\"true\" d=\"M0,0h0v0h0Z\" pointer-events=\"none\"/><g><g class=\"mark-rule role-axis-tick\" pointer-events=\"none\"><line transform=\"translate(0,0)\" x2=\"0\" y2=\"5\" stroke=\"#888\" stroke-width=\"1\" opacity=\"1\"/><line transform=\"translate(42,0)\" x2=\"0\" y2=\"5\" stroke=\"#888\" stroke-width=\"1\" opacity=\"1\"/><line transform=\"translate(83,0)\" x2=\"0\" y2=\"5\" stroke=\"#888\" stroke-width=\"1\" opacity=\"1\"/><line transform=\"translate(125,0)\" x2=\"0\" y2=\"5\" stroke=\"#888\" stroke-width=\"1\" opacity=\"1\"/><line transform=\"translate(167,0)\" x2=\"0\" y2=\"5\" stroke=\"#888\" stroke-width=\"1\" opacity=\"1\"/></g><g class=\"mark-text role-axis-label\" pointer-events=\"none\"><text text-anchor=\"start\" transform=\"translate(0,15)\" font-family=\"sans-serif\" font-size=\"10px\" fill=\"#000\" opacity=\"1\">0</text><text text-anchor=\"middle\" transform=\"translate(41.66666666666667,15)\" font-family=\"sans-serif\" font-size=\"10px\" fill=\"#000\" opacity=\"1\">5</text><text text-anchor=\"middle\" transform=\"translate(83.33333333333334,15)\" font-family=\"sans-serif\" font-size=\"10px\" fill=\"#000\" opacity=\"1\">10</text><text text-anchor=\"middle\" transform=\"translate(125,15)\" font-family=\"sans-serif\" font-size=\"10px\" fill=\"#000\" opacity=\"1\">15</text><text text-anchor=\"middle\" transform=\"translate(166.66666666666669,15)\" font-family=\"sans-serif\" font-size=\"10px\" fill=\"#000\" opacity=\"1\">20</text></g><g class=\"mark-rule role-axis-domain\" pointer-events=\"none\"><line transform=\"translate(0,0)\" x2=\"200\" y2=\"0\" stroke=\"#888\" stroke-width=\"1\" opacity=\"1\"/></g><g class=\"mark-text role-axis-title\" pointer-events=\"none\"><text text-anchor=\"middle\" transform=\"translate(100,30)\" font-family=\"sans-serif\" font-size=\"11px\" font-weight=\"bold\" fill=\"#000\" opacity=\"1\">hour</text></g></g><path class=\"foreground\" aria-hidden=\"true\" d=\"\" pointer-events=\"none\" display=\"none\"/></g></g><g class=\"mark-group role-axis\" role=\"graphics-symbol\" aria-roledescription=\"axis\" aria-label=\"Y-axis titled 'gen_sum' for a linear scale with values from −200 to 2,600\"><g transform=\"translate(0.5,0.5)\"><path class=\"background\" aria-hidden=\"true\" d=\"M0,0h0v0h0Z\" pointer-events=\"none\"/><g><g class=\"mark-rule role-axis-tick\" pointer-events=\"none\"><line transform=\"translate(0,186)\" x2=\"-5\" y2=\"0\" stroke=\"#888\" stroke-width=\"1\" opacity=\"1\"/><line transform=\"translate(0,150)\" x2=\"-5\" y2=\"0\" stroke=\"#888\" stroke-width=\"1\" opacity=\"1\"/><line transform=\"translate(0,114)\" x2=\"-5\" y2=\"0\" stroke=\"#888\" stroke-width=\"1\" opacity=\"1\"/><line transform=\"translate(0,79)\" x2=\"-5\" y2=\"0\" stroke=\"#888\" stroke-width=\"1\" opacity=\"1\"/><line transform=\"translate(0,43)\" x2=\"-5\" y2=\"0\" stroke=\"#888\" stroke-width=\"1\" opacity=\"1\"/><line transform=\"translate(0,7)\" x2=\"-5\" y2=\"0\" stroke=\"#888\" stroke-width=\"1\" opacity=\"1\"/></g><g class=\"mark-text role-axis-label\" pointer-events=\"none\"><text text-anchor=\"end\" transform=\"translate(-7,188.71428571428572)\" font-family=\"sans-serif\" font-size=\"10px\" fill=\"#000\" opacity=\"1\">0</text><text text-anchor=\"end\" transform=\"translate(-7,153)\" font-family=\"sans-serif\" font-size=\"10px\" fill=\"#000\" opacity=\"1\">500</text><text text-anchor=\"end\" transform=\"translate(-7,117.28571428571428)\" font-family=\"sans-serif\" font-size=\"10px\" fill=\"#000\" opacity=\"1\">1,000</text><text text-anchor=\"end\" transform=\"translate(-7,81.57142857142858)\" font-family=\"sans-serif\" font-size=\"10px\" fill=\"#000\" opacity=\"1\">1,500</text><text text-anchor=\"end\" transform=\"translate(-7,45.85714285714286)\" font-family=\"sans-serif\" font-size=\"10px\" fill=\"#000\" opacity=\"1\">2,000</text><text text-anchor=\"end\" transform=\"translate(-7,10.142857142857139)\" font-family=\"sans-serif\" font-size=\"10px\" fill=\"#000\" opacity=\"1\">2,500</text></g><g class=\"mark-rule role-axis-domain\" pointer-events=\"none\"><line transform=\"translate(0,200)\" x2=\"0\" y2=\"-200\" stroke=\"#888\" stroke-width=\"1\" opacity=\"1\"/></g><g class=\"mark-text role-axis-title\" pointer-events=\"none\"><text text-anchor=\"middle\" transform=\"translate(-38,100) rotate(-90) translate(0,-2)\" font-family=\"sans-serif\" font-size=\"11px\" font-weight=\"bold\" fill=\"#000\" opacity=\"1\">gen_sum</text></g></g><path class=\"foreground\" aria-hidden=\"true\" d=\"\" pointer-events=\"none\" display=\"none\"/></g></g><g class=\"mark-group role-scope pathgroup\" role=\"graphics-object\" aria-roledescription=\"group mark container\"><g transform=\"translate(0,0)\"><path class=\"background\" aria-hidden=\"true\" d=\"M0,0h200v200h-200Z\"/><g><g class=\"mark-area role-mark marks\" role=\"graphics-object\" aria-roledescription=\"area mark container\"><path aria-label=\"hour: 0; gen_sum: 21.4; resource: biomass\" role=\"graphics-symbol\" aria-roledescription=\"area mark\" d=\"M0,120.70035714285714L8.333333333333332,124.09321428571427L16.666666666666664,122.17821428571428L25,119.11678571428573L33.33333333333333,109.6217857142857L41.66666666666667,101.83964285714286L50,100.32892857142856L58.333333333333336,105.70678571428572L66.66666666666666,147.7225L75,154.0367857142857L83.33333333333334,152.85392857142855L91.66666666666666,155.35658571428573L100,155.35658571428573L108.33333333333333,155.35658571428573L116.66666666666667,155.35658571428573L125,155.35658571428573L133.33333333333331,155.35658571428573L141.66666666666669,134.74392857142857L150,90.93043369142858L158.33333333333331,79.59285714285713L166.66666666666669,79.59285714285713L175,87.89035714285711L183.33333333333331,104.08571428571427L191.66666666666669,115.64607142857142L191.66666666666669,117.17464285714286L183.33333333333331,105.6142857142857L175,89.41892857142855L166.66666666666669,81.12142857142857L158.33333333333331,81.12142857142857L150,92.45900512L141.66666666666669,136.27249999999998L133.33333333333331,155.35658571428573L125,155.35658571428573L116.66666666666667,155.35658571428573L108.33333333333333,155.35658571428573L100,155.35658571428573L91.66666666666666,155.35658571428573L83.33333333333334,154.3825L75,155.35658571428573L66.66666666666666,149.25107142857144L58.333333333333336,107.23535714285713L50,101.85749999999997L41.66666666666667,103.36821428571427L33.33333333333333,111.15035714285715L25,120.64535714285714L16.666666666666664,123.70678571428573L8.333333333333332,125.6217857142857L0,122.22892857142855Z\" fill=\"#7f7f7f\"/></g></g><path class=\"foreground\" aria-hidden=\"true\" d=\"\" display=\"none\"/></g><g transform=\"translate(0,0)\"><path class=\"background\" aria-hidden=\"true\" d=\"M0,0h200v200h-200Z\"/><g><g class=\"mark-area role-mark marks\" role=\"graphics-object\" aria-roledescription=\"area mark container\"><path aria-label=\"hour: 0; gen_sum: 0; resource: hydroelectric_pumped_storage\" role=\"graphics-symbol\" aria-roledescription=\"area mark\" d=\"M0,122.22892857142855L8.333333333333332,125.6217857142857L16.666666666666664,123.70678571428573L25,120.64535714285714L33.33333333333333,111.15035714285715L41.66666666666667,103.36821428571427L50,101.85749999999997L58.333333333333336,107.23535714285713L66.66666666666666,149.25107142857144L75,155.35658571428573L83.33333333333334,154.3825L91.66666666666666,155.35658571428573L100,155.35658571428573L108.33333333333333,155.35658571428573L116.66666666666667,155.35658571428573L125,155.35658571428573L133.33333333333331,155.35658571428573L141.66666666666669,136.27249999999998L150,92.45900512L158.33333333333331,81.12142857142857L166.66666666666669,81.12142857142857L175,89.41892857142855L183.33333333333331,105.6142857142857L191.66666666666669,117.17464285714286L191.66666666666669,117.17464285714286L183.33333333333331,107.14285714285714L175,90.94749999999998L166.66666666666669,82.65L158.33333333333331,82.65L150,93.98757654857144L141.66666666666669,136.27249999999998L133.33333333333331,155.35658571428573L125,155.35658571428573L116.66666666666667,155.35658571428573L108.33333333333333,155.35658571428573L100,155.35658571428573L91.66666666666666,155.35658571428573L83.33333333333334,154.3825L75,155.35658571428573L66.66666666666666,149.25107142857144L58.333333333333336,107.23535714285713L50,103.38607142857144L41.66666666666667,104.83515714285714L33.33333333333333,111.15035714285715L25,120.64535714285714L16.666666666666664,123.70678571428573L8.333333333333332,125.6217857142857L0,122.22892857142855Z\" fill=\"#bcbd22\"/></g></g><path class=\"foreground\" aria-hidden=\"true\" d=\"\" display=\"none\"/></g><g transform=\"translate(0,0)\"><path class=\"background\" aria-hidden=\"true\" d=\"M0,0h200v200h-200Z\"/><g><g class=\"mark-area role-mark marks\" role=\"graphics-object\" aria-roledescription=\"area mark container\"><path aria-label=\"hour: 0; gen_sum: 856.4872; resource: natural_gas_fired_combined_cycle\" role=\"graphics-symbol\" aria-roledescription=\"area mark\" d=\"M0,122.22892857142855L8.333333333333332,125.6217857142857L16.666666666666664,123.70678571428573L25,120.64535714285714L33.33333333333333,111.15035714285715L41.66666666666667,104.83515714285714L50,103.38607142857144L58.333333333333336,107.23535714285713L66.66666666666666,149.25107142857144L75,155.35658571428573L83.33333333333334,154.3825L91.66666666666666,155.35658571428573L100,155.35658571428573L108.33333333333333,155.35658571428573L116.66666666666667,155.35658571428573L125,155.35658571428573L133.33333333333331,155.35658571428573L141.66666666666669,136.27249999999998L150,93.98757654857144L158.33333333333331,82.65L166.66666666666669,82.65L175,90.94749999999998L183.33333333333331,107.14285714285714L191.66666666666669,117.17464285714286L191.66666666666669,185.71428571428572L183.33333333333331,185.71428571428572L175,169.51892857142857L166.66666666666669,161.22142857142856L158.33333333333331,161.22142857142856L150,172.55900512L141.66666666666669,183.4065857142857L133.33333333333331,183.4065857142857L125,183.4065857142857L116.66666666666667,183.4065857142857L108.33333333333333,183.4065857142857L100,183.4065857142857L91.66666666666666,183.4065857142857L83.33333333333334,183.4065857142857L75,183.4065857142857L66.66666666666666,183.4065857142857L58.333333333333336,183.4065857142857L50,181.95749999999998L41.66666666666667,183.4065857142857L33.33333333333333,183.4065857142857L25,183.4065857142857L16.666666666666664,183.4065857142857L8.333333333333332,183.4065857142857L0,183.4065857142857Z\" fill=\"#17becf\"/></g></g><path class=\"foreground\" aria-hidden=\"true\" d=\"\" display=\"none\"/></g><g transform=\"translate(0,0)\"><path class=\"background\" aria-hidden=\"true\" d=\"M0,0h200v200h-200Z\"/><g><g class=\"mark-area role-mark marks\" role=\"graphics-object\" aria-roledescription=\"area mark container\"><path aria-label=\"hour: 0; gen_sum: 32.3078; resource: natural_gas_fired_combustion_turbine\" role=\"graphics-symbol\" aria-roledescription=\"area mark\" d=\"M0,183.4065857142857L8.333333333333332,183.4065857142857L16.666666666666664,183.4065857142857L25,183.4065857142857L33.33333333333333,183.4065857142857L41.66666666666667,183.4065857142857L50,181.95749999999998L58.333333333333336,183.4065857142857L66.66666666666666,183.4065857142857L75,183.4065857142857L83.33333333333334,183.4065857142857L91.66666666666666,183.4065857142857L100,183.4065857142857L108.33333333333333,183.4065857142857L116.66666666666667,183.4065857142857L125,183.4065857142857L133.33333333333331,183.4065857142857L141.66666666666669,183.4065857142857L150,172.55900512L158.33333333333331,161.22142857142856L166.66666666666669,161.22142857142856L175,169.51892857142857L183.33333333333331,185.71428571428572L191.66666666666669,185.71428571428572L191.66666666666669,185.71428571428572L183.33333333333331,185.71428571428572L175,185.71428571428572L166.66666666666669,185.71428571428572L158.33333333333331,185.71428571428572L150,185.71428571428572L141.66666666666669,185.71428571428572L133.33333333333331,185.71428571428572L125,185.71428571428572L116.66666666666667,185.71428571428572L108.33333333333333,185.71428571428572L100,185.71428571428572L91.66666666666666,185.71428571428572L83.33333333333334,185.71428571428572L75,185.71428571428572L66.66666666666666,185.71428571428572L58.333333333333336,185.71428571428572L50,185.71428571428572L41.66666666666667,185.71428571428572L33.33333333333333,185.71428571428572L25,185.71428571428572L16.666666666666664,185.71428571428572L8.333333333333332,185.71428571428572L0,185.71428571428572Z\" fill=\"#1f77b4\"/></g></g><path class=\"foreground\" aria-hidden=\"true\" d=\"\" display=\"none\"/></g><g transform=\"translate(0,0)\"><path class=\"background\" aria-hidden=\"true\" d=\"M0,0h200v200h-200Z\"/><g><g class=\"mark-area role-mark marks\" role=\"graphics-object\" aria-roledescription=\"area mark container\"><path aria-label=\"hour: 0; gen_sum: 150.1; resource: _onshore_wind_turbine\" role=\"graphics-symbol\" aria-roledescription=\"area mark\" d=\"M0,108.425L8.333333333333332,111.39214285714286L16.666666666666664,113.06714285714285L25,110.96142857142857L33.33333333333333,102.77785714285712L41.66666666666667,91.1485714285714L50,81.65999999999998L58.333333333333336,51.9535714285714L66.66666666666666,29.42714285714285L75,16.36928571428571L83.33333333333334,10.279285714285713L91.66666666666666,17.603571428571406L100,26.816428571428563L108.33333333333333,30.462857142857146L116.66666666666667,35.59142857142859L125,42.52571428571426L133.33333333333331,35.286428571428566L141.66666666666669,50.791428571428575L150,66.27650511999998L158.33333333333331,66.91464285714284L166.66666666666669,66.26178571428566L175,76.36071428571425L183.33333333333331,91.89749999999997L191.66666666666669,104.50071428571428L191.66666666666669,114.09214285714286L183.33333333333331,102.53178571428569L175,86.33642857142854L166.66666666666669,78.03892857142853L158.33333333333331,78.03892857142853L150,77.19793369142856L141.66666666666669,59.188571428571414L133.33333333333331,35.286428571428566L125,42.52571428571426L116.66666666666667,35.59142857142859L108.33333333333333,30.462857142857146L100,26.816428571428563L91.66666666666666,17.86765714285714L83.33333333333334,17.579285714285685L75,25.006428571428586L66.66666666666666,40.41428571428574L58.333333333333336,55.19499999999997L50,86.52999999999997L41.66666666666667,100.28571428571426L33.33333333333333,108.06785714285714L25,117.56285714285714L16.666666666666664,120.62428571428572L8.333333333333332,122.5392857142857L0,119.14642857142859Z\" fill=\"#d62728\"/></g></g><path class=\"foreground\" aria-hidden=\"true\" d=\"\" display=\"none\"/></g><g transform=\"translate(0,0)\"><path class=\"background\" aria-hidden=\"true\" d=\"M0,0h200v200h-200Z\"/><g><g class=\"mark-area role-mark marks\" role=\"graphics-object\" aria-roledescription=\"area mark container\"><path aria-label=\"hour: 0; gen_sum: 21.755; resource: _small_hydroelectric\" role=\"graphics-symbol\" aria-roledescription=\"area mark\" d=\"M0,119.14642857142859L8.333333333333332,122.5392857142857L16.666666666666664,120.62428571428572L25,117.56285714285714L33.33333333333333,108.06785714285714L41.66666666666667,100.28571428571426L50,86.52999999999997L58.333333333333336,55.19499999999997L66.66666666666666,40.41428571428574L75,25.006428571428586L83.33333333333334,17.579285714285685L91.66666666666666,17.86765714285714L100,26.816428571428563L108.33333333333333,30.462857142857146L116.66666666666667,35.59142857142859L125,42.52571428571426L133.33333333333331,35.286428571428566L141.66666666666669,59.188571428571414L150,77.19793369142856L158.33333333333331,78.03892857142853L166.66666666666669,78.03892857142853L175,86.33642857142854L183.33333333333331,102.53178571428569L191.66666666666669,114.09214285714286L191.66666666666669,115.64607142857142L183.33333333333331,104.08571428571427L175,87.89035714285711L166.66666666666669,79.59285714285713L158.33333333333331,79.59285714285713L150,78.75186226285713L141.66666666666669,60.742499999999986L133.33333333333331,35.286428571428566L125,42.52571428571426L116.66666666666667,35.59142857142859L108.33333333333333,30.462857142857146L100,26.816428571428563L91.66666666666666,19.421585714285715L83.33333333333334,19.13321428571426L75,26.56035714285716L66.66666666666666,41.96821428571431L58.333333333333336,56.74892857142855L50,88.08392857142854L41.66666666666667,101.83964285714286L33.33333333333333,109.6217857142857L25,119.11678571428573L16.666666666666664,122.17821428571428L8.333333333333332,124.09321428571427L0,120.70035714285714Z\" fill=\"#9467bd\"/></g></g><path class=\"foreground\" aria-hidden=\"true\" d=\"\" display=\"none\"/></g><g transform=\"translate(0,0)\"><path class=\"background\" aria-hidden=\"true\" d=\"M0,0h200v200h-200Z\"/><g><g class=\"mark-area role-mark marks\" role=\"graphics-object\" aria-roledescription=\"area mark container\"><path aria-label=\"hour: 0; gen_sum: 0; resource: _solar_photovoltaic\" role=\"graphics-symbol\" aria-roledescription=\"area mark\" d=\"M0,120.70035714285714L8.333333333333332,124.09321428571427L16.666666666666664,122.17821428571428L25,119.11678571428573L33.33333333333333,109.6217857142857L41.66666666666667,101.83964285714286L50,88.08392857142854L58.333333333333336,56.74892857142855L66.66666666666666,41.96821428571431L75,26.56035714285716L83.33333333333334,19.13321428571426L91.66666666666666,19.421585714285715L100,26.816428571428563L108.33333333333333,30.462857142857146L116.66666666666667,35.59142857142859L125,42.52571428571426L133.33333333333331,35.286428571428566L141.66666666666669,60.742499999999986L150,78.75186226285713L158.33333333333331,79.59285714285713L166.66666666666669,79.59285714285713L175,87.89035714285711L183.33333333333331,104.08571428571427L191.66666666666669,115.64607142857142L191.66666666666669,115.64607142857142L183.33333333333331,104.08571428571427L175,87.89035714285711L166.66666666666669,79.59285714285713L158.33333333333331,79.59285714285713L150,88.57329083428571L141.66666666666669,120.42107142857144L133.33333333333331,132.08515714285713L125,130.94944285714286L116.66666666666667,128.60944285714285L108.33333333333333,127.6923L100,127.73087142857142L91.66666666666666,129.0465857142857L83.33333333333334,126.9725L75,129.36392857142857L66.66666666666666,127.25392857142856L58.333333333333336,96.23107142857141L50,97.95892857142856L41.66666666666667,101.83964285714286L33.33333333333333,109.6217857142857L25,119.11678571428573L16.666666666666664,122.17821428571428L8.333333333333332,124.09321428571427L0,120.70035714285714Z\" fill=\"#8c564b\"/></g></g><path class=\"foreground\" aria-hidden=\"true\" d=\"\" display=\"none\"/></g><g transform=\"translate(0,0)\"><path class=\"background\" aria-hidden=\"true\" d=\"M0,0h200v200h-200Z\"/><g><g class=\"mark-area role-mark marks\" role=\"graphics-object\" aria-roledescription=\"area mark container\"><path aria-label=\"hour: 0; gen_sum: 0; resource: _solar_photovoltaic_btm\" role=\"graphics-symbol\" aria-roledescription=\"area mark\" d=\"M0,120.70035714285714L8.333333333333332,124.09321428571427L16.666666666666664,122.17821428571428L25,119.11678571428573L33.33333333333333,109.6217857142857L41.66666666666667,101.83964285714286L50,97.95892857142856L58.333333333333336,96.23107142857141L66.66666666666666,127.25392857142856L75,129.36392857142857L83.33333333333334,126.9725L91.66666666666666,129.0465857142857L100,127.73087142857142L108.33333333333333,127.6923L116.66666666666667,128.60944285714285L125,130.94944285714286L133.33333333333331,132.08515714285713L141.66666666666669,120.42107142857144L150,88.57329083428571L158.33333333333331,79.59285714285713L166.66666666666669,79.59285714285713L175,87.89035714285711L183.33333333333331,104.08571428571427L191.66666666666669,115.64607142857142L191.66666666666669,115.64607142857142L183.33333333333331,104.08571428571427L175,87.89035714285711L166.66666666666669,79.59285714285713L158.33333333333331,79.59285714285713L150,90.93043369142858L141.66666666666669,134.74392857142857L133.33333333333331,155.35658571428573L125,155.35658571428573L116.66666666666667,155.35658571428573L108.33333333333333,155.35658571428573L100,155.35658571428573L91.66666666666666,155.35658571428573L83.33333333333334,152.85392857142855L75,154.0367857142857L66.66666666666666,147.7225L58.333333333333336,105.70678571428572L50,100.32892857142856L41.66666666666667,101.83964285714286L33.33333333333333,109.6217857142857L25,119.11678571428573L16.666666666666664,122.17821428571428L8.333333333333332,124.09321428571427L0,120.70035714285714Z\" fill=\"#e377c2\"/></g></g><path class=\"foreground\" aria-hidden=\"true\" d=\"\" display=\"none\"/></g><g transform=\"translate(0,0)\"><path class=\"background\" aria-hidden=\"true\" d=\"M0,0h200v200h-200Z\"/><g><g class=\"mark-area role-mark marks\" role=\"graphics-object\" aria-roledescription=\"area mark container\"><path aria-label=\"hour: 0; gen_sum: 0; resource: _curtailment\" role=\"graphics-symbol\" aria-roledescription=\"area mark\" d=\"M0,108.425L8.333333333333332,111.39214285714286L16.666666666666664,113.06714285714285L25,110.96142857142857L33.33333333333333,102.77785714285712L41.66666666666667,91.1485714285714L50,185.71428571428572L58.333333333333336,51.9535714285714L66.66666666666666,185.71428571428572L75,16.36928571428571L83.33333333333334,10.279285714285713L91.66666666666666,11.820514285714289L100,7.649800000000018L108.33333333333333,6.623371428571412L116.66666666666667,12.377657142857167L125,23.40479999999998L133.33333333333331,25.872657142857136L141.66666666666669,185.71428571428572L150,66.27650511999998L158.33333333333331,66.91464285714284L166.66666666666669,66.26178571428566L175,76.36071428571425L183.33333333333331,91.89749999999997L191.66666666666669,104.50071428571428L191.66666666666669,104.50071428571428L183.33333333333331,91.89749999999997L175,76.36071428571425L166.66666666666669,66.26178571428566L158.33333333333331,66.91464285714284L150,66.27650511999998L141.66666666666669,185.71428571428572L133.33333333333331,35.286428571428566L125,42.52571428571426L116.66666666666667,35.59142857142859L108.33333333333333,30.462857142857146L100,26.816428571428563L91.66666666666666,17.603571428571406L83.33333333333334,10.279285714285713L75,16.36928571428571L66.66666666666666,185.71428571428572L58.333333333333336,51.9535714285714L50,185.71428571428572L41.66666666666667,91.1485714285714L33.33333333333333,102.77785714285712L25,110.96142857142857L16.666666666666664,113.06714285714285L8.333333333333332,111.39214285714286L0,108.425Z\" fill=\"#2ca02c\"/></g></g><path class=\"foreground\" aria-hidden=\"true\" d=\"\" display=\"none\"/></g><g transform=\"translate(0,0)\"><path class=\"background\" aria-hidden=\"true\" d=\"M0,0h200v200h-200Z\"/><g><g class=\"mark-area role-mark marks\" role=\"graphics-object\" aria-roledescription=\"area mark container\"><path aria-label=\"hour: 0; gen_sum: 21.4; resource: _PHS_charge\" role=\"graphics-symbol\" aria-roledescription=\"area mark\" d=\"M0,106.89642857142859L8.333333333333332,109.86357142857143L16.666666666666664,111.53857142857144L25,109.43285714285716L33.33333333333333,101.2492857142857L41.66666666666667,91.08694285714283L50,74.51714285714282L58.333333333333336,50.42499999999996L66.66666666666666,27.898571428571415L75,14.840714285714274L83.33333333333334,8.750714285714277L91.66666666666666,10.291942857142855L100,6.121228571428583L108.33333333333333,5.094799999999977L116.66666666666667,10.849085714285733L125,21.87622857142855L133.33333333333331,24.3440857142857L141.66666666666669,49.26285714285714L150,63.80999999999999L158.33333333333331,61.429285714285676L166.66666666666669,63.00857142857139L175,76.36071428571425L183.33333333333331,91.86642857142857L191.66666666666669,102.97214285714284L191.66666666666669,104.50071428571428L183.33333333333331,91.86642857142857L175,76.36071428571425L166.66666666666669,63.00857142857139L158.33333333333331,61.429285714285676L150,63.80999999999999L141.66666666666669,50.791428571428575L133.33333333333331,25.872657142857136L125,23.40479999999998L116.66666666666667,12.377657142857167L108.33333333333333,6.623371428571412L100,7.649800000000018L91.66666666666666,11.820514285714289L83.33333333333334,10.279285714285713L75,16.36928571428571L66.66666666666666,29.42714285714285L58.333333333333336,51.9535714285714L50,74.51714285714282L41.66666666666667,91.1485714285714L33.33333333333333,102.77785714285712L25,110.96142857142857L16.666666666666664,113.06714285714285L8.333333333333332,111.39214285714286L0,108.425Z\" fill=\"#1f77b4\"/></g></g><path class=\"foreground\" aria-hidden=\"true\" d=\"\" display=\"none\"/></g><g transform=\"translate(0,0)\"><path class=\"background\" aria-hidden=\"true\" d=\"M0,0h200v200h-200Z\"/><g><g class=\"mark-area role-mark marks\" role=\"graphics-object\" aria-roledescription=\"area mark container\"><path aria-label=\"hour: 0; gen_sum: 0; resource: _PHS_discharge\" role=\"graphics-symbol\" aria-roledescription=\"area mark\" d=\"M0,108.425L8.333333333333332,111.39214285714286L16.666666666666664,113.06714285714285L25,110.96142857142857L33.33333333333333,102.77785714285712L41.66666666666667,91.1485714285714L50,74.51714285714282L58.333333333333336,51.9535714285714L66.66666666666666,29.42714285714285L75,16.36928571428571L83.33333333333334,10.279285714285713L91.66666666666666,11.820514285714289L100,7.649800000000018L108.33333333333333,6.623371428571412L116.66666666666667,12.377657142857167L125,23.40479999999998L133.33333333333331,25.872657142857136L141.66666666666669,50.791428571428575L150,63.80999999999999L158.33333333333331,61.429285714285676L166.66666666666669,63.00857142857139L175,76.36071428571425L183.33333333333331,91.86642857142857L191.66666666666669,104.50071428571428L191.66666666666669,104.50071428571428L183.33333333333331,91.89749999999997L175,76.36071428571425L166.66666666666669,66.26178571428566L158.33333333333331,66.91464285714284L150,66.27650511999998L141.66666666666669,50.791428571428575L133.33333333333331,25.872657142857136L125,23.40479999999998L116.66666666666667,12.377657142857167L108.33333333333333,6.623371428571412L100,7.649800000000018L91.66666666666666,11.820514285714289L83.33333333333334,10.279285714285713L75,16.36928571428571L66.66666666666666,29.42714285714285L58.333333333333336,51.9535714285714L50,81.65999999999998L41.66666666666667,91.1485714285714L33.33333333333333,102.77785714285712L25,110.96142857142857L16.666666666666664,113.06714285714285L8.333333333333332,111.39214285714286L0,108.425Z\" fill=\"#ff7f0e\"/></g></g><path class=\"foreground\" aria-hidden=\"true\" d=\"\" display=\"none\"/></g></g><g class=\"mark-group role-legend\" role=\"graphics-symbol\" aria-roledescription=\"legend\" aria-label=\"Symbol legend titled 'resource' for fill color with 11 values: _PHS_charge, _PHS_discharge, _curtailment, _onshore_wind_turbine, _small_hydroelectric, ending with natural_gas_fired_combustion_turbine\"><g transform=\"translate(218,0)\"><path class=\"background\" aria-hidden=\"true\" d=\"M0,0h175v157h-175Z\" pointer-events=\"none\"/><g><g class=\"mark-group role-legend-entry\"><g transform=\"translate(0,16)\"><path class=\"background\" aria-hidden=\"true\" d=\"M0,0h0v0h0Z\" pointer-events=\"none\"/><g><g class=\"mark-group role-scope\" role=\"graphics-object\" aria-roledescription=\"group mark container\"><g transform=\"translate(0,0)\"><path class=\"background\" aria-hidden=\"true\" d=\"M0,0h175v11h-175Z\" pointer-events=\"none\" opacity=\"1\"/><g><g class=\"mark-symbol role-legend-symbol\" pointer-events=\"none\"><path transform=\"translate(6,6)\" d=\"M5,0A5,5,0,1,1,-5,0A5,5,0,1,1,5,0\" fill=\"#1f77b4\" stroke-width=\"1.5\" opacity=\"1\"/></g><g class=\"mark-text role-legend-label\" pointer-events=\"none\"><text text-anchor=\"start\" transform=\"translate(16,9)\" font-family=\"sans-serif\" font-size=\"10px\" fill=\"#000\" opacity=\"1\">_PHS_charge</text></g></g><path class=\"foreground\" aria-hidden=\"true\" d=\"\" pointer-events=\"none\" display=\"none\"/></g><g transform=\"translate(0,13)\"><path class=\"background\" aria-hidden=\"true\" d=\"M0,0h175v11h-175Z\" pointer-events=\"none\" opacity=\"1\"/><g><g class=\"mark-symbol role-legend-symbol\" pointer-events=\"none\"><path transform=\"translate(6,6)\" d=\"M5,0A5,5,0,1,1,-5,0A5,5,0,1,1,5,0\" fill=\"#ff7f0e\" stroke-width=\"1.5\" opacity=\"1\"/></g><g class=\"mark-text role-legend-label\" pointer-events=\"none\"><text text-anchor=\"start\" transform=\"translate(16,9)\" font-family=\"sans-serif\" font-size=\"10px\" fill=\"#000\" opacity=\"1\">_PHS_discharge</text></g></g><path class=\"foreground\" aria-hidden=\"true\" d=\"\" pointer-events=\"none\" display=\"none\"/></g><g transform=\"translate(0,26)\"><path class=\"background\" aria-hidden=\"true\" d=\"M0,0h175v11h-175Z\" pointer-events=\"none\" opacity=\"1\"/><g><g class=\"mark-symbol role-legend-symbol\" pointer-events=\"none\"><path transform=\"translate(6,6)\" d=\"M5,0A5,5,0,1,1,-5,0A5,5,0,1,1,5,0\" fill=\"#2ca02c\" stroke-width=\"1.5\" opacity=\"1\"/></g><g class=\"mark-text role-legend-label\" pointer-events=\"none\"><text text-anchor=\"start\" transform=\"translate(16,9)\" font-family=\"sans-serif\" font-size=\"10px\" fill=\"#000\" opacity=\"1\">_curtailment</text></g></g><path class=\"foreground\" aria-hidden=\"true\" d=\"\" pointer-events=\"none\" display=\"none\"/></g><g transform=\"translate(0,39)\"><path class=\"background\" aria-hidden=\"true\" d=\"M0,0h175v11h-175Z\" pointer-events=\"none\" opacity=\"1\"/><g><g class=\"mark-symbol role-legend-symbol\" pointer-events=\"none\"><path transform=\"translate(6,6)\" d=\"M5,0A5,5,0,1,1,-5,0A5,5,0,1,1,5,0\" fill=\"#d62728\" stroke-width=\"1.5\" opacity=\"1\"/></g><g class=\"mark-text role-legend-label\" pointer-events=\"none\"><text text-anchor=\"start\" transform=\"translate(16,9)\" font-family=\"sans-serif\" font-size=\"10px\" fill=\"#000\" opacity=\"1\">_onshore_wind_turbine</text></g></g><path class=\"foreground\" aria-hidden=\"true\" d=\"\" pointer-events=\"none\" display=\"none\"/></g><g transform=\"translate(0,52)\"><path class=\"background\" aria-hidden=\"true\" d=\"M0,0h175v11h-175Z\" pointer-events=\"none\" opacity=\"1\"/><g><g class=\"mark-symbol role-legend-symbol\" pointer-events=\"none\"><path transform=\"translate(6,6)\" d=\"M5,0A5,5,0,1,1,-5,0A5,5,0,1,1,5,0\" fill=\"#9467bd\" stroke-width=\"1.5\" opacity=\"1\"/></g><g class=\"mark-text role-legend-label\" pointer-events=\"none\"><text text-anchor=\"start\" transform=\"translate(16,9)\" font-family=\"sans-serif\" font-size=\"10px\" fill=\"#000\" opacity=\"1\">_small_hydroelectric</text></g></g><path class=\"foreground\" aria-hidden=\"true\" d=\"\" pointer-events=\"none\" display=\"none\"/></g><g transform=\"translate(0,65)\"><path class=\"background\" aria-hidden=\"true\" d=\"M0,0h175v11h-175Z\" pointer-events=\"none\" opacity=\"1\"/><g><g class=\"mark-symbol role-legend-symbol\" pointer-events=\"none\"><path transform=\"translate(6,6)\" d=\"M5,0A5,5,0,1,1,-5,0A5,5,0,1,1,5,0\" fill=\"#8c564b\" stroke-width=\"1.5\" opacity=\"1\"/></g><g class=\"mark-text role-legend-label\" pointer-events=\"none\"><text text-anchor=\"start\" transform=\"translate(16,9)\" font-family=\"sans-serif\" font-size=\"10px\" fill=\"#000\" opacity=\"1\">_solar_photovoltaic</text></g></g><path class=\"foreground\" aria-hidden=\"true\" d=\"\" pointer-events=\"none\" display=\"none\"/></g><g transform=\"translate(0,78)\"><path class=\"background\" aria-hidden=\"true\" d=\"M0,0h175v11h-175Z\" pointer-events=\"none\" opacity=\"1\"/><g><g class=\"mark-symbol role-legend-symbol\" pointer-events=\"none\"><path transform=\"translate(6,6)\" d=\"M5,0A5,5,0,1,1,-5,0A5,5,0,1,1,5,0\" fill=\"#e377c2\" stroke-width=\"1.5\" opacity=\"1\"/></g><g class=\"mark-text role-legend-label\" pointer-events=\"none\"><text text-anchor=\"start\" transform=\"translate(16,9)\" font-family=\"sans-serif\" font-size=\"10px\" fill=\"#000\" opacity=\"1\">_solar_photovoltaic_btm</text></g></g><path class=\"foreground\" aria-hidden=\"true\" d=\"\" pointer-events=\"none\" display=\"none\"/></g><g transform=\"translate(0,91)\"><path class=\"background\" aria-hidden=\"true\" d=\"M0,0h175v11h-175Z\" pointer-events=\"none\" opacity=\"1\"/><g><g class=\"mark-symbol role-legend-symbol\" pointer-events=\"none\"><path transform=\"translate(6,6)\" d=\"M5,0A5,5,0,1,1,-5,0A5,5,0,1,1,5,0\" fill=\"#7f7f7f\" stroke-width=\"1.5\" opacity=\"1\"/></g><g class=\"mark-text role-legend-label\" pointer-events=\"none\"><text text-anchor=\"start\" transform=\"translate(16,9)\" font-family=\"sans-serif\" font-size=\"10px\" fill=\"#000\" opacity=\"1\">biomass</text></g></g><path class=\"foreground\" aria-hidden=\"true\" d=\"\" pointer-events=\"none\" display=\"none\"/></g><g transform=\"translate(0,104)\"><path class=\"background\" aria-hidden=\"true\" d=\"M0,0h175v11h-175Z\" pointer-events=\"none\" opacity=\"1\"/><g><g class=\"mark-symbol role-legend-symbol\" pointer-events=\"none\"><path transform=\"translate(6,6)\" d=\"M5,0A5,5,0,1,1,-5,0A5,5,0,1,1,5,0\" fill=\"#bcbd22\" stroke-width=\"1.5\" opacity=\"1\"/></g><g class=\"mark-text role-legend-label\" pointer-events=\"none\"><text text-anchor=\"start\" transform=\"translate(16,9)\" font-family=\"sans-serif\" font-size=\"10px\" fill=\"#000\" opacity=\"1\">hydroelectric_pumped_storage</text></g></g><path class=\"foreground\" aria-hidden=\"true\" d=\"\" pointer-events=\"none\" display=\"none\"/></g><g transform=\"translate(0,117)\"><path class=\"background\" aria-hidden=\"true\" d=\"M0,0h175v11h-175Z\" pointer-events=\"none\" opacity=\"1\"/><g><g class=\"mark-symbol role-legend-symbol\" pointer-events=\"none\"><path transform=\"translate(6,6)\" d=\"M5,0A5,5,0,1,1,-5,0A5,5,0,1,1,5,0\" fill=\"#17becf\" stroke-width=\"1.5\" opacity=\"1\"/></g><g class=\"mark-text role-legend-label\" pointer-events=\"none\"><text text-anchor=\"start\" transform=\"translate(16,9)\" font-family=\"sans-serif\" font-size=\"10px\" fill=\"#000\" opacity=\"1\">natural_gas_fired_combined_cy…</text></g></g><path class=\"foreground\" aria-hidden=\"true\" d=\"\" pointer-events=\"none\" display=\"none\"/></g><g transform=\"translate(0,130)\"><path class=\"background\" aria-hidden=\"true\" d=\"M0,0h175v11h-175Z\" pointer-events=\"none\" opacity=\"1\"/><g><g class=\"mark-symbol role-legend-symbol\" pointer-events=\"none\"><path transform=\"translate(6,6)\" d=\"M5,0A5,5,0,1,1,-5,0A5,5,0,1,1,5,0\" fill=\"#1f77b4\" stroke-width=\"1.5\" opacity=\"1\"/></g><g class=\"mark-text role-legend-label\" pointer-events=\"none\"><text text-anchor=\"start\" transform=\"translate(16,9)\" font-family=\"sans-serif\" font-size=\"10px\" fill=\"#000\" opacity=\"1\">natural_gas_fired_combustion_t…</text></g></g><path class=\"foreground\" aria-hidden=\"true\" d=\"\" pointer-events=\"none\" display=\"none\"/></g></g></g><path class=\"foreground\" aria-hidden=\"true\" d=\"\" pointer-events=\"none\" display=\"none\"/></g></g><g class=\"mark-text role-legend-title\" pointer-events=\"none\"><text text-anchor=\"start\" transform=\"translate(0,9)\" font-family=\"sans-serif\" font-size=\"11px\" font-weight=\"bold\" fill=\"#000\" opacity=\"1\">resource</text></g></g><path class=\"foreground\" aria-hidden=\"true\" d=\"\" pointer-events=\"none\" display=\"none\"/></g></g></g><path class=\"foreground\" aria-hidden=\"true\" d=\"\" display=\"none\"/></g></g></g></svg>\n"
      ],
      "text/plain": [
       "@vlplot(\n",
       "    mark=\"area\",\n",
       "    encoding={\n",
       "        x={\n",
       "            field=\"hour\"\n",
       "        },\n",
       "        y={\n",
       "            stack=\"zero\",\n",
       "            field=\"gen_sum\"\n",
       "        },\n",
       "        color={\n",
       "            scale={\n",
       "                scheme=\"category10\"\n",
       "            },\n",
       "            field=\"resource\",\n",
       "            type=\"nominal\"\n",
       "        }\n",
       "    },\n",
       "    data={\n",
       "        values=...\n",
       "    }\n",
       ")"
      ]
     },
     "execution_count": 81,
     "metadata": {},
     "output_type": "execute_result"
    }
   ],
   "source": [
    "# Plot stacked area chart of generation for the given day using vegalite\n",
    "\n",
    "# Add in BTM solar and curtailment and plot results\n",
    "\n",
    "# need to define T_period to use the code from Notebook 5\n",
    "T_period = 1:24\n",
    "\n",
    "sol_gen = innerjoin(UC_solution_batt.gen, \n",
    "                    gen_df[!, [:r_id, :resource]], \n",
    "                    on = :r_id)\n",
    "sol_gen = combine(groupby(sol_gen, [:resource, :hour]), \n",
    "            :gen => sum)\n",
    "\n",
    "# Rename generators (for plotting purposes)\n",
    "sol_gen[sol_gen.resource .== \"solar_photovoltaic\", :resource] .= \"_solar_photovoltaic\"\n",
    "sol_gen[sol_gen.resource .== \"onshore_wind_turbine\", :resource] .= \"_onshore_wind_turbine\"\n",
    "sol_gen[sol_gen.resource .== \"small_hydroelectric\", :resource] .= \"_small_hydroelectric\"\n",
    "\n",
    "# BTM solar\n",
    "btm = DataFrame(resource = repeat([\"_solar_photovoltaic_btm\"]; outer=length(T_period)), \n",
    "    hour = T_period,\n",
    "    gen_sum = gen_variable_long[gen_variable_long.gen_full .== \"wec_sdge_solar_photovoltaic_1.0\",:cf] * 600)\n",
    "append!(sol_gen, btm)\n",
    "\n",
    "# Curtailment\n",
    "curtail = combine(groupby(UC_solution_batt.curtail, [:hour]),\n",
    "            :curt => sum)\n",
    "curtail[!, :resource] .= \"_curtailment\"\n",
    "rename!(curtail, :curt_sum => :gen_sum)\n",
    "append!(sol_gen, curtail[:,[:resource, :hour, :gen_sum]])\n",
    "\n",
    "# PHS Charge\n",
    "PHS_charge = DataFrame(hour = T_period, charge = UC_solution_batt.charge)\n",
    "PHS_charge[!, :resource] .= \"_PHS_charge\"\n",
    "rename!(PHS_charge, :charge => :gen_sum)\n",
    "append!(sol_gen, PHS_charge[:,[:resource,:hour,:gen_sum]])\n",
    "\n",
    "# PHS Discharge\n",
    "PHS_discharge = DataFrame(hour = T_period, discharge = UC_solution_batt.discharge)\n",
    "PHS_discharge[!, :resource] .= \"_PHS_discharge\"\n",
    "rename!(PHS_discharge, :discharge => :gen_sum)\n",
    "append!(sol_gen, PHS_discharge[:,[:resource,:hour,:gen_sum]])\n",
    "\n",
    "# Rescale hours\n",
    "sol_gen.hour = sol_gen.hour .- T_period[1]\n",
    "\n",
    "sol_gen |>\n",
    "@vlplot(:area, \n",
    "    x=:hour, y={:gen_sum, stack=:zero}, \n",
    "    color={\"resource:n\", scale={scheme=\"category10\"}})\n"
   ]
  },
  {
   "cell_type": "markdown",
   "metadata": {},
   "source": [
    "**C. Interpret results**\n",
    "\n",
    "Answer with a few sentences each of the following:\n",
    "\n",
    "1. Compare your results to `unit_commitment_simple`. Have any commitments changed?\n",
    "\n",
    "2. Interpret what is happening with the PHS facility during the day in terms of charging and discharging.\n",
    "\n",
    "3. Has curtailment reduced? (Explain this in the context of the PHS operation.)"
   ]
  },
  {
   "cell_type": "code",
   "execution_count": null,
   "metadata": {},
   "outputs": [],
   "source": []
  }
 ],
 "metadata": {
  "@webio": {
   "lastCommId": null,
   "lastKernelId": null
  },
  "celltoolbar": "Edit Metadata",
  "kernelspec": {
   "display_name": "Julia 1.8.1",
   "language": "julia",
   "name": "julia-1.8"
  },
  "language_info": {
   "file_extension": ".jl",
   "mimetype": "application/julia",
   "name": "julia",
   "version": "1.8.1"
  }
 },
 "nbformat": 4,
 "nbformat_minor": 4
}
